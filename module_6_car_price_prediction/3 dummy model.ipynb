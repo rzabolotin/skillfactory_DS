{
 "cells": [
  {
   "cell_type": "markdown",
   "metadata": {},
   "source": [
    "# Часть 3. Преобразуем данные для машинного обучения. Построим простую модель"
   ]
  },
  {
   "cell_type": "markdown",
   "metadata": {},
   "source": [
    "У нас теперь есть тренировочный набор, оформленный в таком же формате как и тест.  \n",
    "Сделаем предобработку данных и попробуем сделать простое предсказение (baseline)"
   ]
  },
  {
   "cell_type": "code",
   "execution_count": 1,
   "metadata": {},
   "outputs": [],
   "source": [
    "import numpy as np\n",
    "import pandas as pd\n",
    "from sklearn.model_selection import train_test_split\n",
    "from sklearn.metrics import mean_absolute_error\n",
    "from catboost import CatBoostRegressor"
   ]
  },
  {
   "cell_type": "code",
   "execution_count": 2,
   "metadata": {},
   "outputs": [],
   "source": [
    "train = pd.read_csv('train.csv', index_col=0)\n",
    "test = pd.read_csv('test.csv')"
   ]
  },
  {
   "cell_type": "code",
   "execution_count": 3,
   "metadata": {},
   "outputs": [
    {
     "name": "stdout",
     "output_type": "stream",
     "text": [
      "train.shape=(36210, 35)\n",
      "test.shape=(34686, 32)\n"
     ]
    }
   ],
   "source": [
    "print(f\"{train.shape=}\")\n",
    "print(f\"{test.shape=}\")"
   ]
  },
  {
   "cell_type": "markdown",
   "metadata": {},
   "source": [
    "## Для удобства работы объединим train и test в один набор"
   ]
  },
  {
   "cell_type": "code",
   "execution_count": 4,
   "metadata": {},
   "outputs": [],
   "source": [
    "train.drop(['index',\n",
    "            'location'], axis=1, inplace=True)\n",
    "train['is_train'] = True\n",
    "test['is_train'] = False\n",
    "test['price'] = 0\n",
    "\n",
    "# чтобы индексы теста не потерялись, а в трейне продолжилась нумерация\n",
    "train.index = range(test.shape[0], test.shape[0]+train.shape[0]) \n",
    "\n",
    "df = test.append(train, verify_integrity=True)"
   ]
  },
  {
   "cell_type": "code",
   "execution_count": 5,
   "metadata": {},
   "outputs": [
    {
     "data": {
      "text/plain": [
       "(70896, 34)"
      ]
     },
     "execution_count": 5,
     "metadata": {},
     "output_type": "execute_result"
    }
   ],
   "source": [
    "df.shape"
   ]
  },
  {
   "cell_type": "markdown",
   "metadata": {},
   "source": [
    "## Простая предобработка данных"
   ]
  },
  {
   "cell_type": "code",
   "execution_count": 6,
   "metadata": {},
   "outputs": [],
   "source": [
    "def fill_na(df):\n",
    "    df.loc[df.engineDisplacement == ' LTR', 'engineDisplacement'] = None\n",
    "    df.loc[df.ПТС.isna(),'ПТС'] = 'Оригинал'\n",
    "    df.loc[df.Владельцы.isna(),'Владельцы'] = 'Неизвестно'\n",
    "    \n",
    "def change_column_dtypes(df):\n",
    "    df.engineDisplacement = df.engineDisplacement.str.replace('LTR','').astype(float)\n",
    "    df.enginePower = df.enginePower.str.replace('N12','').astype(float)\n",
    "    "
   ]
  },
  {
   "cell_type": "code",
   "execution_count": 7,
   "metadata": {},
   "outputs": [],
   "source": [
    "fill_na(df)\n",
    "change_column_dtypes(df)"
   ]
  },
  {
   "cell_type": "markdown",
   "metadata": {},
   "source": [
    "## Анализируем полученный набор (еще раз)"
   ]
  },
  {
   "cell_type": "code",
   "execution_count": 8,
   "metadata": {},
   "outputs": [
    {
     "data": {
      "text/html": [
       "<div>\n",
       "<style scoped>\n",
       "    .dataframe tbody tr th:only-of-type {\n",
       "        vertical-align: middle;\n",
       "    }\n",
       "\n",
       "    .dataframe tbody tr th {\n",
       "        vertical-align: top;\n",
       "    }\n",
       "\n",
       "    .dataframe thead th {\n",
       "        text-align: right;\n",
       "    }\n",
       "</style>\n",
       "<table border=\"1\" class=\"dataframe\">\n",
       "  <thead>\n",
       "    <tr style=\"text-align: right;\">\n",
       "      <th></th>\n",
       "      <th>bodyType</th>\n",
       "      <th>brand</th>\n",
       "      <th>car_url</th>\n",
       "      <th>color</th>\n",
       "      <th>complectation_dict</th>\n",
       "      <th>description</th>\n",
       "      <th>engineDisplacement</th>\n",
       "      <th>enginePower</th>\n",
       "      <th>equipment_dict</th>\n",
       "      <th>fuelType</th>\n",
       "      <th>image</th>\n",
       "      <th>mileage</th>\n",
       "      <th>modelDate</th>\n",
       "      <th>model_info</th>\n",
       "      <th>model_name</th>\n",
       "      <th>name</th>\n",
       "      <th>numberOfDoors</th>\n",
       "      <th>parsing_unixtime</th>\n",
       "      <th>priceCurrency</th>\n",
       "      <th>productionDate</th>\n",
       "      <th>sell_id</th>\n",
       "      <th>super_gen</th>\n",
       "      <th>vehicleConfiguration</th>\n",
       "      <th>vehicleTransmission</th>\n",
       "      <th>vendor</th>\n",
       "      <th>Владельцы</th>\n",
       "      <th>Владение</th>\n",
       "      <th>ПТС</th>\n",
       "      <th>Привод</th>\n",
       "      <th>Руль</th>\n",
       "      <th>Состояние</th>\n",
       "      <th>Таможня</th>\n",
       "      <th>is_train</th>\n",
       "      <th>price</th>\n",
       "    </tr>\n",
       "  </thead>\n",
       "  <tbody>\n",
       "    <tr>\n",
       "      <th>0</th>\n",
       "      <td>лифтбек</td>\n",
       "      <td>SKODA</td>\n",
       "      <td>https://auto.ru/cars/used/sale/skoda/octavia/1...</td>\n",
       "      <td>синий</td>\n",
       "      <td>NaN</td>\n",
       "      <td>Все автомобили, представленные в продаже, прох...</td>\n",
       "      <td>1.2</td>\n",
       "      <td>105.0</td>\n",
       "      <td>{\"engine-proof\":true,\"tinted-glass\":true,\"airb...</td>\n",
       "      <td>бензин</td>\n",
       "      <td>https://autoru.naydex.net/o9DBXQ270/5ac010hAY0...</td>\n",
       "      <td>74000</td>\n",
       "      <td>2013.0</td>\n",
       "      <td>{\"code\":\"OCTAVIA\",\"name\":\"Octavia\",\"ru_name\":\"...</td>\n",
       "      <td>OCTAVIA</td>\n",
       "      <td>1.2 AMT (105 л.с.)</td>\n",
       "      <td>5.0</td>\n",
       "      <td>1603226273</td>\n",
       "      <td>RUB</td>\n",
       "      <td>2014</td>\n",
       "      <td>1100575026</td>\n",
       "      <td>{\"id\":\"10373605\",\"displacement\":1197,\"engine_t...</td>\n",
       "      <td>LIFTBACK ROBOT 1.2</td>\n",
       "      <td>роботизированная</td>\n",
       "      <td>EUROPEAN</td>\n",
       "      <td>3 или более</td>\n",
       "      <td>NaN</td>\n",
       "      <td>Оригинал</td>\n",
       "      <td>передний</td>\n",
       "      <td>Левый</td>\n",
       "      <td>Не требует ремонта</td>\n",
       "      <td>Растаможен</td>\n",
       "      <td>False</td>\n",
       "      <td>0</td>\n",
       "    </tr>\n",
       "    <tr>\n",
       "      <th>1</th>\n",
       "      <td>лифтбек</td>\n",
       "      <td>SKODA</td>\n",
       "      <td>https://auto.ru/cars/used/sale/skoda/octavia/1...</td>\n",
       "      <td>чёрный</td>\n",
       "      <td>NaN</td>\n",
       "      <td>ЛОТ: 01217195\\nАвтопрага Север\\nДанный автомоб...</td>\n",
       "      <td>1.6</td>\n",
       "      <td>110.0</td>\n",
       "      <td>{\"cruise-control\":true,\"asr\":true,\"esp\":true,\"...</td>\n",
       "      <td>бензин</td>\n",
       "      <td>https://autoru.naydex.net/o9DBXQ270/5ac010hAY0...</td>\n",
       "      <td>60563</td>\n",
       "      <td>2017.0</td>\n",
       "      <td>{\"code\":\"OCTAVIA\",\"name\":\"Octavia\",\"ru_name\":\"...</td>\n",
       "      <td>OCTAVIA</td>\n",
       "      <td>1.6 MT (110 л.с.)</td>\n",
       "      <td>5.0</td>\n",
       "      <td>1603226277</td>\n",
       "      <td>RUB</td>\n",
       "      <td>2017</td>\n",
       "      <td>1100549428</td>\n",
       "      <td>{\"id\":\"20913311\",\"displacement\":1598,\"engine_t...</td>\n",
       "      <td>LIFTBACK MECHANICAL 1.6</td>\n",
       "      <td>механическая</td>\n",
       "      <td>EUROPEAN</td>\n",
       "      <td>1 владелец</td>\n",
       "      <td>NaN</td>\n",
       "      <td>Оригинал</td>\n",
       "      <td>передний</td>\n",
       "      <td>Левый</td>\n",
       "      <td>Не требует ремонта</td>\n",
       "      <td>Растаможен</td>\n",
       "      <td>False</td>\n",
       "      <td>0</td>\n",
       "    </tr>\n",
       "    <tr>\n",
       "      <th>2</th>\n",
       "      <td>лифтбек</td>\n",
       "      <td>SKODA</td>\n",
       "      <td>https://auto.ru/cars/used/sale/skoda/superb/11...</td>\n",
       "      <td>серый</td>\n",
       "      <td>{\"id\":\"20026336\",\"name\":\"Ambition\",\"available_...</td>\n",
       "      <td>Все автомобили, представленные в продаже, прох...</td>\n",
       "      <td>1.8</td>\n",
       "      <td>152.0</td>\n",
       "      <td>{\"cruise-control\":true,\"tinted-glass\":true,\"es...</td>\n",
       "      <td>бензин</td>\n",
       "      <td>https://avatars.mds.yandex.net/get-autoru-vos/...</td>\n",
       "      <td>88000</td>\n",
       "      <td>2013.0</td>\n",
       "      <td>{\"code\":\"SUPERB\",\"name\":\"Superb\",\"ru_name\":\"Су...</td>\n",
       "      <td>SUPERB</td>\n",
       "      <td>DSG 1.8 AMT (152 л.с.)</td>\n",
       "      <td>5.0</td>\n",
       "      <td>1603226280</td>\n",
       "      <td>RUB</td>\n",
       "      <td>2014</td>\n",
       "      <td>1100658222</td>\n",
       "      <td>{\"id\":\"20026323\",\"nameplate\":\"DSG\",\"displaceme...</td>\n",
       "      <td>LIFTBACK ROBOT 1.8</td>\n",
       "      <td>роботизированная</td>\n",
       "      <td>EUROPEAN</td>\n",
       "      <td>1 владелец</td>\n",
       "      <td>NaN</td>\n",
       "      <td>Оригинал</td>\n",
       "      <td>передний</td>\n",
       "      <td>Левый</td>\n",
       "      <td>Не требует ремонта</td>\n",
       "      <td>Растаможен</td>\n",
       "      <td>False</td>\n",
       "      <td>0</td>\n",
       "    </tr>\n",
       "  </tbody>\n",
       "</table>\n",
       "</div>"
      ],
      "text/plain": [
       "  bodyType  brand                                            car_url   color  \\\n",
       "0  лифтбек  SKODA  https://auto.ru/cars/used/sale/skoda/octavia/1...   синий   \n",
       "1  лифтбек  SKODA  https://auto.ru/cars/used/sale/skoda/octavia/1...  чёрный   \n",
       "2  лифтбек  SKODA  https://auto.ru/cars/used/sale/skoda/superb/11...   серый   \n",
       "\n",
       "                                  complectation_dict  \\\n",
       "0                                                NaN   \n",
       "1                                                NaN   \n",
       "2  {\"id\":\"20026336\",\"name\":\"Ambition\",\"available_...   \n",
       "\n",
       "                                         description  engineDisplacement  \\\n",
       "0  Все автомобили, представленные в продаже, прох...                 1.2   \n",
       "1  ЛОТ: 01217195\\nАвтопрага Север\\nДанный автомоб...                 1.6   \n",
       "2  Все автомобили, представленные в продаже, прох...                 1.8   \n",
       "\n",
       "   enginePower                                     equipment_dict fuelType  \\\n",
       "0        105.0  {\"engine-proof\":true,\"tinted-glass\":true,\"airb...   бензин   \n",
       "1        110.0  {\"cruise-control\":true,\"asr\":true,\"esp\":true,\"...   бензин   \n",
       "2        152.0  {\"cruise-control\":true,\"tinted-glass\":true,\"es...   бензин   \n",
       "\n",
       "                                               image  mileage  modelDate  \\\n",
       "0  https://autoru.naydex.net/o9DBXQ270/5ac010hAY0...    74000     2013.0   \n",
       "1  https://autoru.naydex.net/o9DBXQ270/5ac010hAY0...    60563     2017.0   \n",
       "2  https://avatars.mds.yandex.net/get-autoru-vos/...    88000     2013.0   \n",
       "\n",
       "                                          model_info model_name  \\\n",
       "0  {\"code\":\"OCTAVIA\",\"name\":\"Octavia\",\"ru_name\":\"...    OCTAVIA   \n",
       "1  {\"code\":\"OCTAVIA\",\"name\":\"Octavia\",\"ru_name\":\"...    OCTAVIA   \n",
       "2  {\"code\":\"SUPERB\",\"name\":\"Superb\",\"ru_name\":\"Су...     SUPERB   \n",
       "\n",
       "                     name  numberOfDoors  parsing_unixtime priceCurrency  \\\n",
       "0      1.2 AMT (105 л.с.)            5.0        1603226273           RUB   \n",
       "1       1.6 MT (110 л.с.)            5.0        1603226277           RUB   \n",
       "2  DSG 1.8 AMT (152 л.с.)            5.0        1603226280           RUB   \n",
       "\n",
       "   productionDate     sell_id  \\\n",
       "0            2014  1100575026   \n",
       "1            2017  1100549428   \n",
       "2            2014  1100658222   \n",
       "\n",
       "                                           super_gen     vehicleConfiguration  \\\n",
       "0  {\"id\":\"10373605\",\"displacement\":1197,\"engine_t...       LIFTBACK ROBOT 1.2   \n",
       "1  {\"id\":\"20913311\",\"displacement\":1598,\"engine_t...  LIFTBACK MECHANICAL 1.6   \n",
       "2  {\"id\":\"20026323\",\"nameplate\":\"DSG\",\"displaceme...       LIFTBACK ROBOT 1.8   \n",
       "\n",
       "  vehicleTransmission    vendor    Владельцы Владение       ПТС    Привод  \\\n",
       "0    роботизированная  EUROPEAN  3 или более      NaN  Оригинал  передний   \n",
       "1        механическая  EUROPEAN   1 владелец      NaN  Оригинал  передний   \n",
       "2    роботизированная  EUROPEAN   1 владелец      NaN  Оригинал  передний   \n",
       "\n",
       "    Руль           Состояние     Таможня  is_train  price  \n",
       "0  Левый  Не требует ремонта  Растаможен     False      0  \n",
       "1  Левый  Не требует ремонта  Растаможен     False      0  \n",
       "2  Левый  Не требует ремонта  Растаможен     False      0  "
      ]
     },
     "metadata": {},
     "output_type": "display_data"
    }
   ],
   "source": [
    "with pd.option_context('display.max_rows', None, 'display.max_columns', None):\n",
    "    display(df.head(3))"
   ]
  },
  {
   "cell_type": "code",
   "execution_count": 9,
   "metadata": {},
   "outputs": [
    {
     "name": "stdout",
     "output_type": "stream",
     "text": [
      "<class 'pandas.core.frame.DataFrame'>\n",
      "RangeIndex: 70896 entries, 0 to 70895\n",
      "Data columns (total 34 columns):\n",
      " #   Column                Non-Null Count  Dtype  \n",
      "---  ------                --------------  -----  \n",
      " 0   bodyType              70896 non-null  object \n",
      " 1   brand                 70896 non-null  object \n",
      " 2   car_url               70896 non-null  object \n",
      " 3   color                 70896 non-null  object \n",
      " 4   complectation_dict    42628 non-null  object \n",
      " 5   description           69896 non-null  object \n",
      " 6   engineDisplacement    70841 non-null  float64\n",
      " 7   enginePower           70896 non-null  float64\n",
      " 8   equipment_dict        60900 non-null  object \n",
      " 9   fuelType              70896 non-null  object \n",
      " 10  image                 70896 non-null  object \n",
      " 11  mileage               70896 non-null  int64  \n",
      " 12  modelDate             70896 non-null  float64\n",
      " 13  model_info            70896 non-null  object \n",
      " 14  model_name            70896 non-null  object \n",
      " 15  name                  70896 non-null  object \n",
      " 16  numberOfDoors         70896 non-null  float64\n",
      " 17  parsing_unixtime      70896 non-null  int64  \n",
      " 18  priceCurrency         70896 non-null  object \n",
      " 19  productionDate        70896 non-null  int64  \n",
      " 20  sell_id               70896 non-null  object \n",
      " 21  super_gen             70896 non-null  object \n",
      " 22  vehicleConfiguration  70896 non-null  object \n",
      " 23  vehicleTransmission   70896 non-null  object \n",
      " 24  vendor                70896 non-null  object \n",
      " 25  Владельцы             70896 non-null  object \n",
      " 26  Владение              21319 non-null  object \n",
      " 27  ПТС                   70896 non-null  object \n",
      " 28  Привод                70896 non-null  object \n",
      " 29  Руль                  70896 non-null  object \n",
      " 30  Состояние             70896 non-null  object \n",
      " 31  Таможня               70896 non-null  object \n",
      " 32  is_train              70896 non-null  bool   \n",
      " 33  price                 70896 non-null  int64  \n",
      "dtypes: bool(1), float64(4), int64(4), object(25)\n",
      "memory usage: 17.9+ MB\n"
     ]
    }
   ],
   "source": [
    "df.info()"
   ]
  },
  {
   "cell_type": "code",
   "execution_count": 10,
   "metadata": {},
   "outputs": [
    {
     "data": {
      "text/plain": [
       "bodyType                    0\n",
       "brand                       0\n",
       "car_url                     0\n",
       "color                       0\n",
       "complectation_dict      28268\n",
       "description              1000\n",
       "engineDisplacement         55\n",
       "enginePower                 0\n",
       "equipment_dict           9996\n",
       "fuelType                    0\n",
       "image                       0\n",
       "mileage                     0\n",
       "modelDate                   0\n",
       "model_info                  0\n",
       "model_name                  0\n",
       "name                        0\n",
       "numberOfDoors               0\n",
       "parsing_unixtime            0\n",
       "priceCurrency               0\n",
       "productionDate              0\n",
       "sell_id                     0\n",
       "super_gen                   0\n",
       "vehicleConfiguration        0\n",
       "vehicleTransmission         0\n",
       "vendor                      0\n",
       "Владельцы                   0\n",
       "Владение                49577\n",
       "ПТС                         0\n",
       "Привод                      0\n",
       "Руль                        0\n",
       "Состояние                   0\n",
       "Таможня                     0\n",
       "is_train                    0\n",
       "price                       0\n",
       "dtype: int64"
      ]
     },
     "execution_count": 10,
     "metadata": {},
     "output_type": "execute_result"
    }
   ],
   "source": [
    "df.isna().sum()"
   ]
  },
  {
   "cell_type": "markdown",
   "metadata": {},
   "source": [
    "### bodyType"
   ]
  },
  {
   "cell_type": "code",
   "execution_count": 11,
   "metadata": {},
   "outputs": [
    {
     "data": {
      "text/plain": [
       "внедорожник 5 дв.          28277\n",
       "седан                      24621\n",
       "лифтбек                     4924\n",
       "хэтчбек 5 дв.               3884\n",
       "универсал 5 дв.             2490\n",
       "минивэн                     1754\n",
       "купе                        1578\n",
       "компактвэн                   928\n",
       "хэтчбек 3 дв.                855\n",
       "пикап двойная кабина         569\n",
       "внедорожник 3 дв.            248\n",
       "купе-хардтоп                 217\n",
       "кабриолет                    170\n",
       "родстер                      150\n",
       "фургон                       144\n",
       "микровэн                      22\n",
       "седан-хардтоп                 15\n",
       "седан 2 дв.                   12\n",
       "пикап одинарная кабина        11\n",
       "лимузин                        9\n",
       "пикап полуторная кабина        7\n",
       "тарга                          4\n",
       "внедорожник открытый           4\n",
       "фастбек                        2\n",
       "универсал 3 дв.1               1\n",
       "Name: bodyType, dtype: int64"
      ]
     },
     "execution_count": 11,
     "metadata": {},
     "output_type": "execute_result"
    }
   ],
   "source": [
    "df.bodyType.value_counts()"
   ]
  },
  {
   "cell_type": "markdown",
   "metadata": {},
   "source": [
    "### brand"
   ]
  },
  {
   "cell_type": "code",
   "execution_count": 12,
   "metadata": {},
   "outputs": [
    {
     "data": {
      "text/plain": [
       "BMW           8203\n",
       "VOLKSWAGEN    8173\n",
       "NISSAN        8014\n",
       "MERCEDES      7918\n",
       "TOYOTA        7430\n",
       "AUDI          6878\n",
       "MITSUBISHI    6232\n",
       "SKODA         6163\n",
       "VOLVO         4259\n",
       "HONDA         3148\n",
       "LEXUS         2387\n",
       "INFINITI      2091\n",
       "Name: brand, dtype: int64"
      ]
     },
     "execution_count": 12,
     "metadata": {},
     "output_type": "execute_result"
    }
   ],
   "source": [
    "df.brand.value_counts()"
   ]
  },
  {
   "cell_type": "markdown",
   "metadata": {},
   "source": [
    "### color"
   ]
  },
  {
   "cell_type": "code",
   "execution_count": 13,
   "metadata": {},
   "outputs": [
    {
     "data": {
      "text/plain": [
       "чёрный         23823\n",
       "белый          13183\n",
       "серый          12174\n",
       "синий           6932\n",
       "серебристый     4113\n",
       "красный         3061\n",
       "зелёный         1833\n",
       "коричневый      1501\n",
       "золотистый      1157\n",
       "голубой          874\n",
       "фиолетовый       639\n",
       "бежевый          639\n",
       "жёлтый           397\n",
       "оранжевый        294\n",
       "пурпурный        254\n",
       "розовый           22\n",
       "Name: color, dtype: int64"
      ]
     },
     "execution_count": 13,
     "metadata": {},
     "output_type": "execute_result"
    }
   ],
   "source": [
    "df.color.value_counts()"
   ]
  },
  {
   "cell_type": "markdown",
   "metadata": {},
   "source": [
    "### engineDisplacement"
   ]
  },
  {
   "cell_type": "code",
   "execution_count": 14,
   "metadata": {},
   "outputs": [
    {
     "data": {
      "image/png": "[encoded data removed]",
      "text/plain": [
       "<Figure size 432x288 with 1 Axes>"
      ]
     },
     "metadata": {
      "needs_background": "light"
     },
     "output_type": "display_data"
    }
   ],
   "source": [
    "df.engineDisplacement.hist();"
   ]
  },
  {
   "cell_type": "markdown",
   "metadata": {},
   "source": [
    "### enginePower"
   ]
  },
  {
   "cell_type": "code",
   "execution_count": 15,
   "metadata": {},
   "outputs": [
    {
     "data": {
      "image/png": "[encoded data removed]",
      "text/plain": [
       "<Figure size 432x288 with 1 Axes>"
      ]
     },
     "metadata": {
      "needs_background": "light"
     },
     "output_type": "display_data"
    }
   ],
   "source": [
    "df.enginePower.hist();"
   ]
  },
  {
   "cell_type": "markdown",
   "metadata": {},
   "source": [
    "### fuelType"
   ]
  },
  {
   "cell_type": "code",
   "execution_count": 16,
   "metadata": {},
   "outputs": [
    {
     "data": {
      "text/plain": [
       "бензин     58030\n",
       "дизель     12211\n",
       "гибрид       529\n",
       "электро      114\n",
       "газ           12\n",
       "Name: fuelType, dtype: int64"
      ]
     },
     "execution_count": 16,
     "metadata": {},
     "output_type": "execute_result"
    }
   ],
   "source": [
    "df.fuelType.value_counts()"
   ]
  },
  {
   "cell_type": "markdown",
   "metadata": {},
   "source": [
    "### mileage"
   ]
  },
  {
   "cell_type": "code",
   "execution_count": 17,
   "metadata": {},
   "outputs": [
    {
     "data": {
      "image/png": "[encoded data removed]",
      "text/plain": [
       "<Figure size 432x288 with 1 Axes>"
      ]
     },
     "metadata": {
      "needs_background": "light"
     },
     "output_type": "display_data"
    }
   ],
   "source": [
    "df.mileage.hist();"
   ]
  },
  {
   "cell_type": "markdown",
   "metadata": {},
   "source": [
    "### modelDate"
   ]
  },
  {
   "cell_type": "code",
   "execution_count": 18,
   "metadata": {},
   "outputs": [
    {
     "data": {
      "image/png": "[encoded data removed]",
      "text/plain": [
       "<Figure size 432x288 with 1 Axes>"
      ]
     },
     "metadata": {
      "needs_background": "light"
     },
     "output_type": "display_data"
    }
   ],
   "source": [
    "df.modelDate.hist();"
   ]
  },
  {
   "cell_type": "markdown",
   "metadata": {},
   "source": [
    "### model_name"
   ]
  },
  {
   "cell_type": "code",
   "execution_count": 19,
   "metadata": {},
   "outputs": [
    {
     "data": {
      "text/plain": [
       "OCTAVIA       2835\n",
       "OUTLANDER     1604\n",
       "LANCER        1544\n",
       "POLO          1457\n",
       "A6            1360\n",
       "              ... \n",
       "FAIRLADY Z       1\n",
       "ARTEON           1\n",
       "RNESSA           1\n",
       "SAPPORO          1\n",
       "LC               1\n",
       "Name: model_name, Length: 733, dtype: int64"
      ]
     },
     "execution_count": 19,
     "metadata": {},
     "output_type": "execute_result"
    }
   ],
   "source": [
    "df.model_name.value_counts()"
   ]
  },
  {
   "cell_type": "markdown",
   "metadata": {},
   "source": [
    "### number of doors"
   ]
  },
  {
   "cell_type": "code",
   "execution_count": 20,
   "metadata": {},
   "outputs": [
    {
     "data": {
      "text/plain": [
       "5.0    41152\n",
       "4.0    26389\n",
       "2.0     2167\n",
       "3.0     1186\n",
       "0.0        2\n",
       "Name: numberOfDoors, dtype: int64"
      ]
     },
     "execution_count": 20,
     "metadata": {},
     "output_type": "execute_result"
    }
   ],
   "source": [
    "df.numberOfDoors.value_counts()"
   ]
  },
  {
   "cell_type": "code",
   "execution_count": 21,
   "metadata": {},
   "outputs": [
    {
     "data": {
      "text/html": [
       "<div>\n",
       "<style scoped>\n",
       "    .dataframe tbody tr th:only-of-type {\n",
       "        vertical-align: middle;\n",
       "    }\n",
       "\n",
       "    .dataframe tbody tr th {\n",
       "        vertical-align: top;\n",
       "    }\n",
       "\n",
       "    .dataframe thead th {\n",
       "        text-align: right;\n",
       "    }\n",
       "</style>\n",
       "<table border=\"1\" class=\"dataframe\">\n",
       "  <thead>\n",
       "    <tr style=\"text-align: right;\">\n",
       "      <th></th>\n",
       "      <th>bodyType</th>\n",
       "      <th>brand</th>\n",
       "      <th>car_url</th>\n",
       "      <th>color</th>\n",
       "      <th>complectation_dict</th>\n",
       "      <th>description</th>\n",
       "      <th>engineDisplacement</th>\n",
       "      <th>enginePower</th>\n",
       "      <th>equipment_dict</th>\n",
       "      <th>fuelType</th>\n",
       "      <th>...</th>\n",
       "      <th>vendor</th>\n",
       "      <th>Владельцы</th>\n",
       "      <th>Владение</th>\n",
       "      <th>ПТС</th>\n",
       "      <th>Привод</th>\n",
       "      <th>Руль</th>\n",
       "      <th>Состояние</th>\n",
       "      <th>Таможня</th>\n",
       "      <th>is_train</th>\n",
       "      <th>price</th>\n",
       "    </tr>\n",
       "  </thead>\n",
       "  <tbody>\n",
       "    <tr>\n",
       "      <th>16944</th>\n",
       "      <td>кабриолет</td>\n",
       "      <td>MERCEDES</td>\n",
       "      <td>https://auto.ru/cars/used/sale/mercedes/simple...</td>\n",
       "      <td>белый</td>\n",
       "      <td>NaN</td>\n",
       "      <td>на ходу. 1904 год. стоит в гараже, пылится.Кат...</td>\n",
       "      <td>5.3</td>\n",
       "      <td>32.0</td>\n",
       "      <td>NaN</td>\n",
       "      <td>бензин</td>\n",
       "      <td>...</td>\n",
       "      <td>EUROPEAN</td>\n",
       "      <td>1 владелец</td>\n",
       "      <td>6 лет и 8 месяцев</td>\n",
       "      <td>Оригинал</td>\n",
       "      <td>задний</td>\n",
       "      <td>Правый</td>\n",
       "      <td>Не требует ремонта</td>\n",
       "      <td>Растаможен</td>\n",
       "      <td>False</td>\n",
       "      <td>0</td>\n",
       "    </tr>\n",
       "    <tr>\n",
       "      <th>63781</th>\n",
       "      <td>кабриолет</td>\n",
       "      <td>MERCEDES</td>\n",
       "      <td>https://auto.ru/cars/used/sale/mercedes-benz/s...</td>\n",
       "      <td>белый</td>\n",
       "      <td>{'id': '0'}</td>\n",
       "      <td>на ходу. 1904 год. стоит в гараже, пылится.Кат...</td>\n",
       "      <td>5.3</td>\n",
       "      <td>32.0</td>\n",
       "      <td>{}</td>\n",
       "      <td>бензин</td>\n",
       "      <td>...</td>\n",
       "      <td>EUROPEAN</td>\n",
       "      <td>1 владелец</td>\n",
       "      <td>{'year': 2014, 'month': 2}</td>\n",
       "      <td>Оригинал</td>\n",
       "      <td>задний</td>\n",
       "      <td>Правый</td>\n",
       "      <td>Не требует ремонта</td>\n",
       "      <td>Растаможен</td>\n",
       "      <td>True</td>\n",
       "      <td>12000000</td>\n",
       "    </tr>\n",
       "  </tbody>\n",
       "</table>\n",
       "<p>2 rows × 34 columns</p>\n",
       "</div>"
      ],
      "text/plain": [
       "        bodyType     brand                                            car_url  \\\n",
       "16944  кабриолет  MERCEDES  https://auto.ru/cars/used/sale/mercedes/simple...   \n",
       "63781  кабриолет  MERCEDES  https://auto.ru/cars/used/sale/mercedes-benz/s...   \n",
       "\n",
       "       color complectation_dict  \\\n",
       "16944  белый                NaN   \n",
       "63781  белый        {'id': '0'}   \n",
       "\n",
       "                                             description  engineDisplacement  \\\n",
       "16944  на ходу. 1904 год. стоит в гараже, пылится.Кат...                 5.3   \n",
       "63781  на ходу. 1904 год. стоит в гараже, пылится.Кат...                 5.3   \n",
       "\n",
       "       enginePower equipment_dict fuelType  ...    vendor   Владельцы  \\\n",
       "16944         32.0            NaN   бензин  ...  EUROPEAN  1 владелец   \n",
       "63781         32.0             {}   бензин  ...  EUROPEAN  1 владелец   \n",
       "\n",
       "                         Владение       ПТС  Привод    Руль  \\\n",
       "16944           6 лет и 8 месяцев  Оригинал  задний  Правый   \n",
       "63781  {'year': 2014, 'month': 2}  Оригинал  задний  Правый   \n",
       "\n",
       "                Состояние     Таможня is_train     price  \n",
       "16944  Не требует ремонта  Растаможен    False         0  \n",
       "63781  Не требует ремонта  Растаможен     True  12000000  \n",
       "\n",
       "[2 rows x 34 columns]"
      ]
     },
     "execution_count": 21,
     "metadata": {},
     "output_type": "execute_result"
    }
   ],
   "source": [
    "df[df.numberOfDoors == 0]"
   ]
  },
  {
   "cell_type": "markdown",
   "metadata": {},
   "source": [
    "### transmission"
   ]
  },
  {
   "cell_type": "code",
   "execution_count": 22,
   "metadata": {},
   "outputs": [
    {
     "data": {
      "text/plain": [
       "автоматическая      39222\n",
       "механическая        14094\n",
       "вариатор             8832\n",
       "роботизированная     8748\n",
       "Name: vehicleTransmission, dtype: int64"
      ]
     },
     "execution_count": 22,
     "metadata": {},
     "output_type": "execute_result"
    }
   ],
   "source": [
    "df.vehicleTransmission.value_counts()"
   ]
  },
  {
   "cell_type": "markdown",
   "metadata": {},
   "source": [
    "### vendor"
   ]
  },
  {
   "cell_type": "code",
   "execution_count": 23,
   "metadata": {},
   "outputs": [
    {
     "data": {
      "text/plain": [
       "EUROPEAN    41594\n",
       "JAPANESE    29302\n",
       "Name: vendor, dtype: int64"
      ]
     },
     "execution_count": 23,
     "metadata": {},
     "output_type": "execute_result"
    }
   ],
   "source": [
    "df.vendor.value_counts()"
   ]
  },
  {
   "cell_type": "markdown",
   "metadata": {},
   "source": [
    "### Руль"
   ]
  },
  {
   "cell_type": "code",
   "execution_count": 24,
   "metadata": {},
   "outputs": [
    {
     "data": {
      "text/plain": [
       "Левый     68327\n",
       "Правый     2569\n",
       "Name: Руль, dtype: int64"
      ]
     },
     "execution_count": 24,
     "metadata": {},
     "output_type": "execute_result"
    }
   ],
   "source": [
    "df['Руль'].value_counts()"
   ]
  },
  {
   "cell_type": "markdown",
   "metadata": {},
   "source": [
    "### Привод"
   ]
  },
  {
   "cell_type": "code",
   "execution_count": 25,
   "metadata": {},
   "outputs": [
    {
     "data": {
      "text/plain": [
       "полный      33294\n",
       "передний    30737\n",
       "задний       6865\n",
       "Name: Привод, dtype: int64"
      ]
     },
     "execution_count": 25,
     "metadata": {},
     "output_type": "execute_result"
    }
   ],
   "source": [
    "df['Привод'].value_counts()"
   ]
  },
  {
   "cell_type": "markdown",
   "metadata": {},
   "source": [
    "### Владельцы"
   ]
  },
  {
   "cell_type": "code",
   "execution_count": 26,
   "metadata": {},
   "outputs": [
    {
     "data": {
      "text/plain": [
       "3 или более    29078\n",
       "1 владелец     18197\n",
       "2 владельца    17001\n",
       "Неизвестно      6620\n",
       "Name: Владельцы, dtype: int64"
      ]
     },
     "execution_count": 26,
     "metadata": {},
     "output_type": "execute_result"
    }
   ],
   "source": [
    "df['Владельцы'].value_counts()"
   ]
  },
  {
   "cell_type": "markdown",
   "metadata": {},
   "source": [
    "### ПТС"
   ]
  },
  {
   "cell_type": "code",
   "execution_count": 27,
   "metadata": {},
   "outputs": [
    {
     "data": {
      "text/plain": [
       "Оригинал    62254\n",
       "Дубликат     8642\n",
       "Name: ПТС, dtype: int64"
      ]
     },
     "execution_count": 27,
     "metadata": {},
     "output_type": "execute_result"
    }
   ],
   "source": [
    "df['ПТС'].value_counts()"
   ]
  },
  {
   "cell_type": "markdown",
   "metadata": {},
   "source": [
    "## Сохраняем данные после обработки"
   ]
  },
  {
   "cell_type": "code",
   "execution_count": 28,
   "metadata": {},
   "outputs": [],
   "source": [
    "df.to_csv('data1.csv', index=False)"
   ]
  },
  {
   "cell_type": "markdown",
   "metadata": {},
   "source": [
    "## Отбираем признаки для модели"
   ]
  },
  {
   "cell_type": "markdown",
   "metadata": {},
   "source": [
    "Первая модель будет очень простая, поэтому выберем прмзнаки, которые не требуют предобработки"
   ]
  },
  {
   "cell_type": "code",
   "execution_count": 29,
   "metadata": {},
   "outputs": [],
   "source": [
    "cat_cols = ['bodyType', 'brand', 'fuelType', 'color', 'model_name', 'vehicleTransmission', 'vendor', 'ПТС', 'Владельцы', 'Привод', 'Руль']\n",
    "num_cols = ['productionDate', 'numberOfDoors', 'engineDisplacement', 'enginePower', 'mileage', ]"
   ]
  },
  {
   "cell_type": "markdown",
   "metadata": {},
   "source": [
    "## Обучаем первую модель"
   ]
  },
  {
   "cell_type": "code",
   "execution_count": 30,
   "metadata": {},
   "outputs": [],
   "source": [
    "X = df[df.is_train].drop('price', axis=1).loc[:, cat_cols+num_cols]\n",
    "y = df[df.is_train].price"
   ]
  },
  {
   "cell_type": "code",
   "execution_count": 31,
   "metadata": {},
   "outputs": [
    {
     "data": {
      "text/plain": [
       "bodyType               0\n",
       "brand                  0\n",
       "fuelType               0\n",
       "color                  0\n",
       "model_name             0\n",
       "vehicleTransmission    0\n",
       "vendor                 0\n",
       "ПТС                    0\n",
       "Владельцы              0\n",
       "Привод                 0\n",
       "Руль                   0\n",
       "productionDate         0\n",
       "numberOfDoors          0\n",
       "engineDisplacement     0\n",
       "enginePower            0\n",
       "mileage                0\n",
       "dtype: int64"
      ]
     },
     "execution_count": 31,
     "metadata": {},
     "output_type": "execute_result"
    }
   ],
   "source": [
    "X.isna().sum()"
   ]
  },
  {
   "cell_type": "code",
   "execution_count": 32,
   "metadata": {},
   "outputs": [
    {
     "name": "stdout",
     "output_type": "stream",
     "text": [
      "Learning rate set to 0.073939\n",
      "0:\tlearn: 2218555.7490826\ttotal: 130ms\tremaining: 2m 9s\n",
      "1:\tlearn: 2103308.4957258\ttotal: 198ms\tremaining: 1m 39s\n",
      "2:\tlearn: 1996756.6744303\ttotal: 279ms\tremaining: 1m 32s\n",
      "3:\tlearn: 1897559.8410884\ttotal: 354ms\tremaining: 1m 28s\n",
      "4:\tlearn: 1805530.5207517\ttotal: 440ms\tremaining: 1m 27s\n",
      "5:\tlearn: 1721635.1888356\ttotal: 519ms\tremaining: 1m 25s\n",
      "6:\tlearn: 1644991.9871962\ttotal: 589ms\tremaining: 1m 23s\n",
      "7:\tlearn: 1573994.3503350\ttotal: 668ms\tremaining: 1m 22s\n",
      "8:\tlearn: 1508068.6362676\ttotal: 743ms\tremaining: 1m 21s\n",
      "9:\tlearn: 1445350.6665958\ttotal: 832ms\tremaining: 1m 22s\n",
      "10:\tlearn: 1389612.1006850\ttotal: 907ms\tremaining: 1m 21s\n",
      "11:\tlearn: 1332476.6156228\ttotal: 980ms\tremaining: 1m 20s\n",
      "12:\tlearn: 1280350.6785417\ttotal: 1.05s\tremaining: 1m 19s\n",
      "13:\tlearn: 1234431.2309873\ttotal: 1.13s\tremaining: 1m 19s\n",
      "14:\tlearn: 1190563.7167437\ttotal: 1.21s\tremaining: 1m 19s\n",
      "15:\tlearn: 1151921.4822695\ttotal: 1.29s\tremaining: 1m 19s\n",
      "16:\tlearn: 1116973.3105222\ttotal: 1.37s\tremaining: 1m 19s\n",
      "17:\tlearn: 1086586.6514110\ttotal: 1.44s\tremaining: 1m 18s\n",
      "18:\tlearn: 1056641.8777720\ttotal: 1.51s\tremaining: 1m 17s\n",
      "19:\tlearn: 1030571.1286203\ttotal: 1.58s\tremaining: 1m 17s\n",
      "20:\tlearn: 1006347.7727399\ttotal: 1.66s\tremaining: 1m 17s\n",
      "21:\tlearn: 982582.8645833\ttotal: 1.75s\tremaining: 1m 17s\n",
      "22:\tlearn: 960384.7298354\ttotal: 1.83s\tremaining: 1m 17s\n",
      "23:\tlearn: 940141.9313063\ttotal: 1.91s\tremaining: 1m 17s\n",
      "24:\tlearn: 922978.6767159\ttotal: 1.98s\tremaining: 1m 17s\n",
      "25:\tlearn: 907227.1819181\ttotal: 2.08s\tremaining: 1m 17s\n",
      "26:\tlearn: 890664.4991546\ttotal: 2.16s\tremaining: 1m 17s\n",
      "27:\tlearn: 876573.0962352\ttotal: 2.24s\tremaining: 1m 17s\n",
      "28:\tlearn: 864366.0606808\ttotal: 2.31s\tremaining: 1m 17s\n",
      "29:\tlearn: 852239.9834863\ttotal: 2.39s\tremaining: 1m 17s\n",
      "30:\tlearn: 840135.0309066\ttotal: 2.46s\tremaining: 1m 17s\n",
      "31:\tlearn: 830794.9850017\ttotal: 2.54s\tremaining: 1m 16s\n",
      "32:\tlearn: 818954.5961377\ttotal: 2.62s\tremaining: 1m 16s\n",
      "33:\tlearn: 806951.7286166\ttotal: 2.69s\tremaining: 1m 16s\n",
      "34:\tlearn: 797018.5003466\ttotal: 2.78s\tremaining: 1m 16s\n",
      "35:\tlearn: 790270.4958747\ttotal: 2.85s\tremaining: 1m 16s\n",
      "36:\tlearn: 782701.9837965\ttotal: 2.92s\tremaining: 1m 16s\n",
      "37:\tlearn: 775452.9975985\ttotal: 3.01s\tremaining: 1m 16s\n",
      "38:\tlearn: 767828.0414035\ttotal: 3.09s\tremaining: 1m 16s\n",
      "39:\tlearn: 760569.6673721\ttotal: 3.17s\tremaining: 1m 16s\n",
      "40:\tlearn: 754218.6544896\ttotal: 3.24s\tremaining: 1m 15s\n",
      "41:\tlearn: 748085.2627205\ttotal: 3.31s\tremaining: 1m 15s\n",
      "42:\tlearn: 741863.6138007\ttotal: 3.39s\tremaining: 1m 15s\n",
      "43:\tlearn: 736690.4078663\ttotal: 3.48s\tremaining: 1m 15s\n",
      "44:\tlearn: 734978.9615357\ttotal: 3.56s\tremaining: 1m 15s\n",
      "45:\tlearn: 733454.7462019\ttotal: 3.62s\tremaining: 1m 15s\n",
      "46:\tlearn: 729252.7672906\ttotal: 3.69s\tremaining: 1m 14s\n",
      "47:\tlearn: 723669.4440453\ttotal: 3.77s\tremaining: 1m 14s\n",
      "48:\tlearn: 719091.1049703\ttotal: 3.85s\tremaining: 1m 14s\n",
      "49:\tlearn: 715259.6718538\ttotal: 3.93s\tremaining: 1m 14s\n",
      "50:\tlearn: 714116.9666987\ttotal: 4s\tremaining: 1m 14s\n",
      "51:\tlearn: 713560.3210237\ttotal: 4.06s\tremaining: 1m 13s\n",
      "52:\tlearn: 712877.2612982\ttotal: 4.13s\tremaining: 1m 13s\n",
      "53:\tlearn: 712372.9049259\ttotal: 4.2s\tremaining: 1m 13s\n",
      "54:\tlearn: 706537.4480943\ttotal: 4.28s\tremaining: 1m 13s\n",
      "55:\tlearn: 702369.7818527\ttotal: 4.36s\tremaining: 1m 13s\n",
      "56:\tlearn: 699480.0324176\ttotal: 4.44s\tremaining: 1m 13s\n",
      "57:\tlearn: 694030.2574935\ttotal: 4.51s\tremaining: 1m 13s\n",
      "58:\tlearn: 693570.8937333\ttotal: 4.65s\tremaining: 1m 14s\n",
      "59:\tlearn: 693022.6662480\ttotal: 4.77s\tremaining: 1m 14s\n",
      "60:\tlearn: 692354.0854249\ttotal: 4.81s\tremaining: 1m 13s\n",
      "61:\tlearn: 691577.5483064\ttotal: 4.84s\tremaining: 1m 13s\n",
      "62:\tlearn: 686976.8081564\ttotal: 4.93s\tremaining: 1m 13s\n",
      "63:\tlearn: 686453.2914517\ttotal: 4.96s\tremaining: 1m 12s\n",
      "64:\tlearn: 685767.1340737\ttotal: 5.03s\tremaining: 1m 12s\n",
      "65:\tlearn: 682047.3585569\ttotal: 5.12s\tremaining: 1m 12s\n",
      "66:\tlearn: 681522.9020564\ttotal: 5.16s\tremaining: 1m 11s\n",
      "67:\tlearn: 675516.5316140\ttotal: 5.24s\tremaining: 1m 11s\n",
      "68:\tlearn: 672246.2179244\ttotal: 5.32s\tremaining: 1m 11s\n",
      "69:\tlearn: 669164.3842707\ttotal: 5.4s\tremaining: 1m 11s\n",
      "70:\tlearn: 668589.8497108\ttotal: 5.46s\tremaining: 1m 11s\n",
      "71:\tlearn: 665246.4973837\ttotal: 5.56s\tremaining: 1m 11s\n",
      "72:\tlearn: 660179.9172345\ttotal: 5.63s\tremaining: 1m 11s\n",
      "73:\tlearn: 659901.9203032\ttotal: 5.7s\tremaining: 1m 11s\n",
      "74:\tlearn: 656648.7441450\ttotal: 5.77s\tremaining: 1m 11s\n",
      "75:\tlearn: 656250.3657250\ttotal: 5.82s\tremaining: 1m 10s\n",
      "76:\tlearn: 655509.2678562\ttotal: 5.89s\tremaining: 1m 10s\n",
      "77:\tlearn: 655185.6773789\ttotal: 5.92s\tremaining: 1m 9s\n",
      "78:\tlearn: 654914.0410792\ttotal: 6s\tremaining: 1m 9s\n",
      "79:\tlearn: 652371.5016905\ttotal: 6.08s\tremaining: 1m 9s\n",
      "80:\tlearn: 651675.8469528\ttotal: 6.14s\tremaining: 1m 9s\n",
      "81:\tlearn: 649710.0165620\ttotal: 6.24s\tremaining: 1m 9s\n",
      "82:\tlearn: 646306.8892900\ttotal: 6.32s\tremaining: 1m 9s\n",
      "83:\tlearn: 643586.9809649\ttotal: 6.39s\tremaining: 1m 9s\n",
      "84:\tlearn: 634972.0003836\ttotal: 6.48s\tremaining: 1m 9s\n",
      "85:\tlearn: 630033.7289967\ttotal: 6.55s\tremaining: 1m 9s\n",
      "86:\tlearn: 624669.7364121\ttotal: 6.6s\tremaining: 1m 9s\n",
      "87:\tlearn: 619754.5105021\ttotal: 6.67s\tremaining: 1m 9s\n",
      "88:\tlearn: 617680.0961222\ttotal: 6.76s\tremaining: 1m 9s\n",
      "89:\tlearn: 616117.4935581\ttotal: 6.85s\tremaining: 1m 9s\n",
      "90:\tlearn: 610194.2953019\ttotal: 6.94s\tremaining: 1m 9s\n",
      "91:\tlearn: 608510.2498167\ttotal: 7.01s\tremaining: 1m 9s\n",
      "92:\tlearn: 606693.5412374\ttotal: 7.11s\tremaining: 1m 9s\n",
      "93:\tlearn: 603576.0934046\ttotal: 7.18s\tremaining: 1m 9s\n",
      "94:\tlearn: 600881.5742787\ttotal: 7.26s\tremaining: 1m 9s\n",
      "95:\tlearn: 599892.3630475\ttotal: 7.33s\tremaining: 1m 8s\n",
      "96:\tlearn: 599684.8593665\ttotal: 7.37s\tremaining: 1m 8s\n",
      "97:\tlearn: 599490.4018458\ttotal: 7.41s\tremaining: 1m 8s\n",
      "98:\tlearn: 596787.2950470\ttotal: 7.49s\tremaining: 1m 8s\n",
      "99:\tlearn: 596617.7124762\ttotal: 7.51s\tremaining: 1m 7s\n",
      "100:\tlearn: 595897.2373871\ttotal: 7.61s\tremaining: 1m 7s\n",
      "101:\tlearn: 592820.9819235\ttotal: 7.69s\tremaining: 1m 7s\n",
      "102:\tlearn: 592256.0806207\ttotal: 7.75s\tremaining: 1m 7s\n",
      "103:\tlearn: 588997.9956925\ttotal: 7.83s\tremaining: 1m 7s\n",
      "104:\tlearn: 588232.4308466\ttotal: 7.91s\tremaining: 1m 7s\n",
      "105:\tlearn: 587131.9452157\ttotal: 8.01s\tremaining: 1m 7s\n",
      "106:\tlearn: 586157.2164959\ttotal: 8.09s\tremaining: 1m 7s\n",
      "107:\tlearn: 584583.1934162\ttotal: 8.16s\tremaining: 1m 7s\n",
      "108:\tlearn: 581564.6267443\ttotal: 8.26s\tremaining: 1m 7s\n",
      "109:\tlearn: 579558.1789164\ttotal: 8.33s\tremaining: 1m 7s\n",
      "110:\tlearn: 578792.2830659\ttotal: 8.4s\tremaining: 1m 7s\n",
      "111:\tlearn: 578462.9876848\ttotal: 8.47s\tremaining: 1m 7s\n",
      "112:\tlearn: 578112.6784317\ttotal: 8.55s\tremaining: 1m 7s\n",
      "113:\tlearn: 577192.1763909\ttotal: 8.62s\tremaining: 1m 6s\n",
      "114:\tlearn: 576862.2412364\ttotal: 8.66s\tremaining: 1m 6s\n",
      "115:\tlearn: 576764.3152866\ttotal: 8.73s\tremaining: 1m 6s\n",
      "116:\tlearn: 575365.5164962\ttotal: 8.81s\tremaining: 1m 6s\n",
      "117:\tlearn: 574586.6178567\ttotal: 8.89s\tremaining: 1m 6s\n",
      "118:\tlearn: 573726.4408200\ttotal: 8.97s\tremaining: 1m 6s\n",
      "119:\tlearn: 571101.2653553\ttotal: 9.05s\tremaining: 1m 6s\n",
      "120:\tlearn: 570103.3218486\ttotal: 9.13s\tremaining: 1m 6s\n",
      "121:\tlearn: 569919.6986760\ttotal: 9.2s\tremaining: 1m 6s\n",
      "122:\tlearn: 568999.8501225\ttotal: 9.28s\tremaining: 1m 6s\n",
      "123:\tlearn: 568926.0092190\ttotal: 9.31s\tremaining: 1m 5s\n",
      "124:\tlearn: 568855.7107294\ttotal: 9.37s\tremaining: 1m 5s\n",
      "125:\tlearn: 568234.3089059\ttotal: 9.45s\tremaining: 1m 5s\n",
      "126:\tlearn: 568174.9180272\ttotal: 9.48s\tremaining: 1m 5s\n",
      "127:\tlearn: 567742.6995038\ttotal: 9.55s\tremaining: 1m 5s\n",
      "128:\tlearn: 567687.9460920\ttotal: 9.58s\tremaining: 1m 4s\n",
      "129:\tlearn: 565010.4753124\ttotal: 9.66s\tremaining: 1m 4s\n",
      "130:\tlearn: 562802.8747112\ttotal: 9.73s\tremaining: 1m 4s\n",
      "131:\tlearn: 561501.3305476\ttotal: 9.81s\tremaining: 1m 4s\n",
      "132:\tlearn: 561160.2728795\ttotal: 9.86s\tremaining: 1m 4s\n",
      "133:\tlearn: 560660.2563032\ttotal: 9.93s\tremaining: 1m 4s\n",
      "134:\tlearn: 559965.2912670\ttotal: 10s\tremaining: 1m 4s\n",
      "135:\tlearn: 557912.4052849\ttotal: 10.1s\tremaining: 1m 4s\n",
      "136:\tlearn: 557865.7008875\ttotal: 10.1s\tremaining: 1m 3s\n",
      "137:\tlearn: 557525.5011659\ttotal: 10.2s\tremaining: 1m 3s\n",
      "138:\tlearn: 557195.3030183\ttotal: 10.2s\tremaining: 1m 3s\n",
      "139:\tlearn: 556983.6306818\ttotal: 10.3s\tremaining: 1m 3s\n",
      "140:\tlearn: 556903.3112150\ttotal: 10.4s\tremaining: 1m 3s\n",
      "141:\tlearn: 556703.4752239\ttotal: 10.4s\tremaining: 1m 2s\n",
      "142:\tlearn: 555937.0095175\ttotal: 10.5s\tremaining: 1m 2s\n",
      "143:\tlearn: 555911.6677968\ttotal: 10.5s\tremaining: 1m 2s\n",
      "144:\tlearn: 555403.6982548\ttotal: 10.6s\tremaining: 1m 2s\n",
      "145:\tlearn: 554958.2994499\ttotal: 10.7s\tremaining: 1m 2s\n"
     ]
    },
    {
     "name": "stdout",
     "output_type": "stream",
     "text": [
      "146:\tlearn: 554684.5511436\ttotal: 10.8s\tremaining: 1m 2s\n",
      "147:\tlearn: 554415.2347683\ttotal: 10.8s\tremaining: 1m 2s\n",
      "148:\tlearn: 552683.4043186\ttotal: 10.9s\tremaining: 1m 2s\n",
      "149:\tlearn: 552403.3592952\ttotal: 11s\tremaining: 1m 2s\n",
      "150:\tlearn: 552153.8888106\ttotal: 11.1s\tremaining: 1m 2s\n",
      "151:\tlearn: 549871.2804139\ttotal: 11.1s\tremaining: 1m 2s\n",
      "152:\tlearn: 549853.0136612\ttotal: 11.2s\tremaining: 1m 1s\n",
      "153:\tlearn: 549173.3800843\ttotal: 11.2s\tremaining: 1m 1s\n",
      "154:\tlearn: 548585.0877672\ttotal: 11.3s\tremaining: 1m 1s\n",
      "155:\tlearn: 546378.2498270\ttotal: 11.4s\tremaining: 1m 1s\n",
      "156:\tlearn: 545810.4541297\ttotal: 11.5s\tremaining: 1m 1s\n",
      "157:\tlearn: 545566.6932641\ttotal: 11.6s\tremaining: 1m 1s\n",
      "158:\tlearn: 545354.5345173\ttotal: 11.6s\tremaining: 1m 1s\n",
      "159:\tlearn: 545342.4352261\ttotal: 11.7s\tremaining: 1m 1s\n",
      "160:\tlearn: 544825.9164472\ttotal: 11.8s\tremaining: 1m 1s\n",
      "161:\tlearn: 542921.6627461\ttotal: 11.9s\tremaining: 1m 1s\n",
      "162:\tlearn: 541693.9479337\ttotal: 11.9s\tremaining: 1m 1s\n",
      "163:\tlearn: 541166.0951173\ttotal: 12s\tremaining: 1m 1s\n",
      "164:\tlearn: 540984.2875152\ttotal: 12.1s\tremaining: 1m 1s\n",
      "165:\tlearn: 539247.2472673\ttotal: 12.2s\tremaining: 1m 1s\n",
      "166:\tlearn: 539078.6018570\ttotal: 12.2s\tremaining: 1m 1s\n",
      "167:\tlearn: 538012.2671414\ttotal: 12.3s\tremaining: 1m\n",
      "168:\tlearn: 537837.9660697\ttotal: 12.4s\tremaining: 1m\n",
      "169:\tlearn: 535651.6513905\ttotal: 12.5s\tremaining: 1m\n",
      "170:\tlearn: 534534.7951210\ttotal: 12.5s\tremaining: 1m\n",
      "171:\tlearn: 533580.1591298\ttotal: 12.6s\tremaining: 1m\n",
      "172:\tlearn: 532432.8219008\ttotal: 12.7s\tremaining: 1m\n",
      "173:\tlearn: 530601.9557502\ttotal: 12.8s\tremaining: 1m\n",
      "174:\tlearn: 529699.5630308\ttotal: 12.8s\tremaining: 1m\n",
      "175:\tlearn: 529676.4144648\ttotal: 12.9s\tremaining: 1m\n",
      "176:\tlearn: 528223.8705482\ttotal: 13s\tremaining: 1m\n",
      "177:\tlearn: 527606.0855058\ttotal: 13.1s\tremaining: 1m\n",
      "178:\tlearn: 526453.4753529\ttotal: 13.1s\tremaining: 1m\n",
      "179:\tlearn: 524755.4867985\ttotal: 13.2s\tremaining: 1m\n",
      "180:\tlearn: 524112.2248340\ttotal: 13.3s\tremaining: 1m\n",
      "181:\tlearn: 523690.2712845\ttotal: 13.4s\tremaining: 1m\n",
      "182:\tlearn: 523069.3435584\ttotal: 13.5s\tremaining: 1m\n",
      "183:\tlearn: 522012.8123282\ttotal: 13.5s\tremaining: 1m\n",
      "184:\tlearn: 521290.3128165\ttotal: 13.6s\tremaining: 1m\n",
      "185:\tlearn: 519249.8980182\ttotal: 13.7s\tremaining: 60s\n",
      "186:\tlearn: 517372.8175893\ttotal: 13.8s\tremaining: 59.9s\n",
      "187:\tlearn: 515746.4980322\ttotal: 13.9s\tremaining: 59.9s\n",
      "188:\tlearn: 514846.7438055\ttotal: 13.9s\tremaining: 59.8s\n",
      "189:\tlearn: 513866.7212047\ttotal: 14s\tremaining: 59.7s\n",
      "190:\tlearn: 512999.7044507\ttotal: 14.1s\tremaining: 59.6s\n",
      "191:\tlearn: 512981.3487890\ttotal: 14.1s\tremaining: 59.5s\n",
      "192:\tlearn: 512618.6697859\ttotal: 14.2s\tremaining: 59.5s\n",
      "193:\tlearn: 512119.5139260\ttotal: 14.3s\tremaining: 59.4s\n",
      "194:\tlearn: 511531.7271709\ttotal: 14.4s\tremaining: 59.4s\n",
      "195:\tlearn: 509971.6310061\ttotal: 14.5s\tremaining: 59.3s\n",
      "196:\tlearn: 509480.3298855\ttotal: 14.5s\tremaining: 59.3s\n",
      "197:\tlearn: 509072.5326001\ttotal: 14.6s\tremaining: 59.2s\n",
      "198:\tlearn: 508156.4399617\ttotal: 14.7s\tremaining: 59.2s\n",
      "199:\tlearn: 505163.6236644\ttotal: 14.8s\tremaining: 59.2s\n",
      "200:\tlearn: 504409.6600959\ttotal: 14.9s\tremaining: 59.1s\n",
      "201:\tlearn: 504072.2858615\ttotal: 14.9s\tremaining: 59s\n",
      "202:\tlearn: 502445.2191468\ttotal: 15s\tremaining: 59s\n",
      "203:\tlearn: 501393.7382081\ttotal: 15.1s\tremaining: 58.9s\n",
      "204:\tlearn: 501029.4319053\ttotal: 15.2s\tremaining: 58.8s\n",
      "205:\tlearn: 499636.7940602\ttotal: 15.2s\tremaining: 58.7s\n",
      "206:\tlearn: 498982.9035144\ttotal: 15.3s\tremaining: 58.7s\n",
      "207:\tlearn: 498752.5292907\ttotal: 15.4s\tremaining: 58.6s\n",
      "208:\tlearn: 497463.5897312\ttotal: 15.5s\tremaining: 58.5s\n",
      "209:\tlearn: 496175.4312831\ttotal: 15.5s\tremaining: 58.5s\n",
      "210:\tlearn: 495896.6952884\ttotal: 15.6s\tremaining: 58.3s\n",
      "211:\tlearn: 495435.2704326\ttotal: 15.7s\tremaining: 58.2s\n",
      "212:\tlearn: 492578.2754988\ttotal: 15.7s\tremaining: 58.2s\n",
      "213:\tlearn: 492071.5966711\ttotal: 15.8s\tremaining: 58.1s\n",
      "214:\tlearn: 491629.2173328\ttotal: 15.9s\tremaining: 58.1s\n",
      "215:\tlearn: 491614.9429717\ttotal: 16s\tremaining: 58s\n",
      "216:\tlearn: 489318.9609473\ttotal: 16.1s\tremaining: 58s\n",
      "217:\tlearn: 488772.9143408\ttotal: 16.1s\tremaining: 57.9s\n",
      "218:\tlearn: 488052.3043383\ttotal: 16.2s\tremaining: 57.8s\n",
      "219:\tlearn: 487542.5440671\ttotal: 16.3s\tremaining: 57.7s\n",
      "220:\tlearn: 487015.6223960\ttotal: 16.4s\tremaining: 57.8s\n",
      "221:\tlearn: 484988.8199216\ttotal: 16.5s\tremaining: 57.7s\n",
      "222:\tlearn: 483057.9232195\ttotal: 16.6s\tremaining: 57.7s\n",
      "223:\tlearn: 483045.6601000\ttotal: 16.7s\tremaining: 57.7s\n",
      "224:\tlearn: 482905.4808677\ttotal: 16.7s\tremaining: 57.6s\n",
      "225:\tlearn: 482685.9489001\ttotal: 16.8s\tremaining: 57.6s\n",
      "226:\tlearn: 481639.7217582\ttotal: 16.9s\tremaining: 57.6s\n",
      "227:\tlearn: 481538.6614107\ttotal: 17s\tremaining: 57.5s\n",
      "228:\tlearn: 480168.3223105\ttotal: 17.1s\tremaining: 57.5s\n",
      "229:\tlearn: 479096.1358231\ttotal: 17.1s\tremaining: 57.4s\n",
      "230:\tlearn: 478457.5443619\ttotal: 17.2s\tremaining: 57.3s\n",
      "231:\tlearn: 477199.9787448\ttotal: 17.3s\tremaining: 57.3s\n",
      "232:\tlearn: 476624.2162230\ttotal: 17.4s\tremaining: 57.2s\n",
      "233:\tlearn: 475567.3091043\ttotal: 17.5s\tremaining: 57.2s\n",
      "234:\tlearn: 474252.4122684\ttotal: 17.5s\tremaining: 57.1s\n",
      "235:\tlearn: 473284.2065150\ttotal: 17.6s\tremaining: 57s\n",
      "236:\tlearn: 473135.5449064\ttotal: 17.7s\tremaining: 57s\n",
      "237:\tlearn: 471396.2783864\ttotal: 17.8s\tremaining: 56.9s\n",
      "238:\tlearn: 470630.8757918\ttotal: 17.8s\tremaining: 56.8s\n",
      "239:\tlearn: 470176.6985358\ttotal: 17.9s\tremaining: 56.7s\n",
      "240:\tlearn: 468897.9225954\ttotal: 18s\tremaining: 56.6s\n",
      "241:\tlearn: 467370.6111306\ttotal: 18.1s\tremaining: 56.6s\n",
      "242:\tlearn: 466924.4568793\ttotal: 18.1s\tremaining: 56.5s\n",
      "243:\tlearn: 466654.3933699\ttotal: 18.2s\tremaining: 56.4s\n",
      "244:\tlearn: 466165.7451418\ttotal: 18.3s\tremaining: 56.3s\n",
      "245:\tlearn: 465316.9146427\ttotal: 18.3s\tremaining: 56.2s\n",
      "246:\tlearn: 465120.3978149\ttotal: 18.4s\tremaining: 56.2s\n",
      "247:\tlearn: 464991.9437595\ttotal: 18.5s\tremaining: 56.1s\n",
      "248:\tlearn: 464876.3445779\ttotal: 18.5s\tremaining: 55.9s\n",
      "249:\tlearn: 464766.3509254\ttotal: 18.6s\tremaining: 55.8s\n",
      "250:\tlearn: 464254.2156459\ttotal: 18.7s\tremaining: 55.7s\n",
      "251:\tlearn: 464018.5434424\ttotal: 18.7s\tremaining: 55.6s\n",
      "252:\tlearn: 462358.9406371\ttotal: 18.8s\tremaining: 55.5s\n",
      "253:\tlearn: 462108.6922289\ttotal: 18.9s\tremaining: 55.4s\n",
      "254:\tlearn: 460328.9501804\ttotal: 18.9s\tremaining: 55.3s\n",
      "255:\tlearn: 459964.5767744\ttotal: 19s\tremaining: 55.2s\n",
      "256:\tlearn: 459665.3687740\ttotal: 19.1s\tremaining: 55.1s\n",
      "257:\tlearn: 459074.6665460\ttotal: 19.2s\tremaining: 55.1s\n",
      "258:\tlearn: 458253.6722104\ttotal: 19.2s\tremaining: 55s\n",
      "259:\tlearn: 456242.3012774\ttotal: 19.3s\tremaining: 55s\n",
      "260:\tlearn: 455325.3542897\ttotal: 19.4s\tremaining: 54.9s\n",
      "261:\tlearn: 454594.3979949\ttotal: 19.5s\tremaining: 54.8s\n",
      "262:\tlearn: 453914.6366732\ttotal: 19.5s\tremaining: 54.7s\n",
      "263:\tlearn: 453069.8003934\ttotal: 19.6s\tremaining: 54.7s\n",
      "264:\tlearn: 452514.4604531\ttotal: 19.7s\tremaining: 54.6s\n",
      "265:\tlearn: 451700.4457422\ttotal: 19.8s\tremaining: 54.5s\n",
      "266:\tlearn: 451263.9265237\ttotal: 19.8s\tremaining: 54.4s\n",
      "267:\tlearn: 450383.9962384\ttotal: 19.9s\tremaining: 54.4s\n",
      "268:\tlearn: 450030.1819704\ttotal: 20s\tremaining: 54.3s\n",
      "269:\tlearn: 449663.8462886\ttotal: 20.1s\tremaining: 54.3s\n",
      "270:\tlearn: 448972.0747633\ttotal: 20.1s\tremaining: 54.2s\n",
      "271:\tlearn: 448883.1500217\ttotal: 20.2s\tremaining: 54.1s\n",
      "272:\tlearn: 448551.9255243\ttotal: 20.3s\tremaining: 54s\n",
      "273:\tlearn: 448471.0302574\ttotal: 20.4s\tremaining: 53.9s\n",
      "274:\tlearn: 447174.6428737\ttotal: 20.4s\tremaining: 53.9s\n",
      "275:\tlearn: 447056.3923824\ttotal: 20.5s\tremaining: 53.7s\n",
      "276:\tlearn: 446560.6648410\ttotal: 20.6s\tremaining: 53.7s\n",
      "277:\tlearn: 446496.6400755\ttotal: 20.7s\tremaining: 53.7s\n",
      "278:\tlearn: 445766.8315663\ttotal: 20.8s\tremaining: 53.6s\n",
      "279:\tlearn: 445484.8152368\ttotal: 20.8s\tremaining: 53.6s\n",
      "280:\tlearn: 445379.9837270\ttotal: 20.9s\tremaining: 53.4s\n",
      "281:\tlearn: 444485.5826924\ttotal: 21s\tremaining: 53.4s\n",
      "282:\tlearn: 444087.2857760\ttotal: 21s\tremaining: 53.3s\n",
      "283:\tlearn: 443444.8180176\ttotal: 21.1s\tremaining: 53.3s\n",
      "284:\tlearn: 443187.8349045\ttotal: 21.2s\tremaining: 53.3s\n",
      "285:\tlearn: 442291.6739798\ttotal: 21.3s\tremaining: 53.2s\n",
      "286:\tlearn: 442236.1547643\ttotal: 21.4s\tremaining: 53.1s\n",
      "287:\tlearn: 440610.0231108\ttotal: 21.5s\tremaining: 53.1s\n",
      "288:\tlearn: 440549.0290683\ttotal: 21.5s\tremaining: 53s\n",
      "289:\tlearn: 439617.0488690\ttotal: 21.6s\tremaining: 52.9s\n",
      "290:\tlearn: 439338.1753126\ttotal: 21.7s\tremaining: 52.9s\n",
      "291:\tlearn: 438748.8555823\ttotal: 21.8s\tremaining: 52.8s\n",
      "292:\tlearn: 438440.1081290\ttotal: 21.9s\tremaining: 52.7s\n"
     ]
    },
    {
     "name": "stdout",
     "output_type": "stream",
     "text": [
      "293:\tlearn: 437663.2450081\ttotal: 21.9s\tremaining: 52.7s\n",
      "294:\tlearn: 437035.1918619\ttotal: 22s\tremaining: 52.6s\n",
      "295:\tlearn: 436618.8589808\ttotal: 22.1s\tremaining: 52.5s\n",
      "296:\tlearn: 436561.8200303\ttotal: 22.1s\tremaining: 52.4s\n",
      "297:\tlearn: 436507.3388372\ttotal: 22.2s\tremaining: 52.3s\n",
      "298:\tlearn: 435817.6851489\ttotal: 22.3s\tremaining: 52.2s\n",
      "299:\tlearn: 435765.3186650\ttotal: 22.3s\tremaining: 52.1s\n",
      "300:\tlearn: 434704.1130104\ttotal: 22.4s\tremaining: 52s\n",
      "301:\tlearn: 434562.9068026\ttotal: 22.5s\tremaining: 52s\n",
      "302:\tlearn: 434512.8123189\ttotal: 22.5s\tremaining: 51.8s\n",
      "303:\tlearn: 434388.1994778\ttotal: 22.6s\tremaining: 51.8s\n",
      "304:\tlearn: 434340.3935679\ttotal: 22.7s\tremaining: 51.6s\n",
      "305:\tlearn: 433790.8700433\ttotal: 22.7s\tremaining: 51.6s\n",
      "306:\tlearn: 433241.3825201\ttotal: 22.8s\tremaining: 51.5s\n",
      "307:\tlearn: 433123.7630233\ttotal: 22.8s\tremaining: 51.3s\n",
      "308:\tlearn: 432480.1381663\ttotal: 22.9s\tremaining: 51.3s\n",
      "309:\tlearn: 432244.6387903\ttotal: 23s\tremaining: 51.2s\n",
      "310:\tlearn: 432198.7578753\ttotal: 23s\tremaining: 51s\n",
      "311:\tlearn: 432154.8576561\ttotal: 23.1s\tremaining: 50.9s\n",
      "312:\tlearn: 432112.8400485\ttotal: 23.1s\tremaining: 50.8s\n",
      "313:\tlearn: 431929.8988021\ttotal: 23.2s\tremaining: 50.7s\n",
      "314:\tlearn: 431356.0671218\ttotal: 23.3s\tremaining: 50.6s\n",
      "315:\tlearn: 431315.8960438\ttotal: 23.4s\tremaining: 50.5s\n",
      "316:\tlearn: 431277.4198786\ttotal: 23.4s\tremaining: 50.4s\n",
      "317:\tlearn: 430701.2281869\ttotal: 23.5s\tremaining: 50.3s\n",
      "318:\tlearn: 430467.6227916\ttotal: 23.5s\tremaining: 50.3s\n",
      "319:\tlearn: 429858.2670059\ttotal: 23.6s\tremaining: 50.2s\n",
      "320:\tlearn: 429478.8129782\ttotal: 23.7s\tremaining: 50.1s\n",
      "321:\tlearn: 429304.7691048\ttotal: 23.8s\tremaining: 50s\n",
      "322:\tlearn: 428972.0210863\ttotal: 23.8s\tremaining: 49.9s\n",
      "323:\tlearn: 427854.3969865\ttotal: 23.9s\tremaining: 49.9s\n",
      "324:\tlearn: 427655.4250942\ttotal: 24s\tremaining: 49.8s\n",
      "325:\tlearn: 427522.4537840\ttotal: 24s\tremaining: 49.7s\n",
      "326:\tlearn: 427324.2480944\ttotal: 24.1s\tremaining: 49.6s\n",
      "327:\tlearn: 426809.4881093\ttotal: 24.2s\tremaining: 49.5s\n",
      "328:\tlearn: 426641.3393212\ttotal: 24.2s\tremaining: 49.5s\n",
      "329:\tlearn: 426240.9800282\ttotal: 24.3s\tremaining: 49.4s\n",
      "330:\tlearn: 426205.1794009\ttotal: 24.4s\tremaining: 49.3s\n",
      "331:\tlearn: 424882.8888856\ttotal: 24.5s\tremaining: 49.2s\n",
      "332:\tlearn: 424739.1253874\ttotal: 24.5s\tremaining: 49.2s\n",
      "333:\tlearn: 424283.4841446\ttotal: 24.6s\tremaining: 49.1s\n",
      "334:\tlearn: 423992.8597195\ttotal: 24.7s\tremaining: 49s\n",
      "335:\tlearn: 423669.9433457\ttotal: 24.8s\tremaining: 49s\n",
      "336:\tlearn: 423014.3288351\ttotal: 24.8s\tremaining: 48.9s\n",
      "337:\tlearn: 422905.5093938\ttotal: 24.9s\tremaining: 48.8s\n",
      "338:\tlearn: 422808.1686187\ttotal: 25s\tremaining: 48.8s\n",
      "339:\tlearn: 422307.2687781\ttotal: 25.1s\tremaining: 48.7s\n",
      "340:\tlearn: 422119.0809533\ttotal: 25.2s\tremaining: 48.6s\n",
      "341:\tlearn: 422086.9916275\ttotal: 25.2s\tremaining: 48.5s\n",
      "342:\tlearn: 420321.2158357\ttotal: 25.3s\tremaining: 48.4s\n",
      "343:\tlearn: 420290.1098523\ttotal: 25.3s\tremaining: 48.3s\n",
      "344:\tlearn: 419275.6730369\ttotal: 25.4s\tremaining: 48.3s\n",
      "345:\tlearn: 418750.1225937\ttotal: 25.5s\tremaining: 48.2s\n",
      "346:\tlearn: 418656.6359040\ttotal: 25.6s\tremaining: 48.1s\n",
      "347:\tlearn: 418381.0551283\ttotal: 25.7s\tremaining: 48.1s\n",
      "348:\tlearn: 418155.4290925\ttotal: 25.7s\tremaining: 48s\n",
      "349:\tlearn: 418047.2967843\ttotal: 25.8s\tremaining: 47.9s\n",
      "350:\tlearn: 417819.7906018\ttotal: 25.9s\tremaining: 47.9s\n",
      "351:\tlearn: 416848.0020050\ttotal: 26s\tremaining: 47.8s\n",
      "352:\tlearn: 416685.2475425\ttotal: 26s\tremaining: 47.7s\n",
      "353:\tlearn: 416494.4337534\ttotal: 26.1s\tremaining: 47.6s\n",
      "354:\tlearn: 416232.9768795\ttotal: 26.2s\tremaining: 47.6s\n",
      "355:\tlearn: 416153.2637140\ttotal: 26.2s\tremaining: 47.4s\n",
      "356:\tlearn: 415847.7066396\ttotal: 26.3s\tremaining: 47.4s\n",
      "357:\tlearn: 415770.2410647\ttotal: 26.4s\tremaining: 47.3s\n",
      "358:\tlearn: 415701.0328293\ttotal: 26.4s\tremaining: 47.2s\n",
      "359:\tlearn: 415675.2467028\ttotal: 26.5s\tremaining: 47.1s\n",
      "360:\tlearn: 415612.1991905\ttotal: 26.5s\tremaining: 46.9s\n",
      "361:\tlearn: 415056.1954623\ttotal: 26.6s\tremaining: 46.9s\n",
      "362:\tlearn: 414916.6900832\ttotal: 26.7s\tremaining: 46.8s\n",
      "363:\tlearn: 414701.7901329\ttotal: 26.7s\tremaining: 46.7s\n",
      "364:\tlearn: 413831.5308018\ttotal: 26.8s\tremaining: 46.7s\n",
      "365:\tlearn: 413443.4848663\ttotal: 26.9s\tremaining: 46.6s\n",
      "366:\tlearn: 413104.5606037\ttotal: 27s\tremaining: 46.5s\n",
      "367:\tlearn: 412257.8687821\ttotal: 27s\tremaining: 46.4s\n",
      "368:\tlearn: 411711.5136953\ttotal: 27.1s\tremaining: 46.4s\n",
      "369:\tlearn: 411556.1489326\ttotal: 27.2s\tremaining: 46.3s\n",
      "370:\tlearn: 411326.1020746\ttotal: 27.3s\tremaining: 46.2s\n",
      "371:\tlearn: 410532.2858236\ttotal: 27.3s\tremaining: 46.2s\n",
      "372:\tlearn: 410470.6402578\ttotal: 27.4s\tremaining: 46.1s\n",
      "373:\tlearn: 409486.2878307\ttotal: 27.5s\tremaining: 46s\n",
      "374:\tlearn: 409328.6089825\ttotal: 27.6s\tremaining: 45.9s\n",
      "375:\tlearn: 409137.1290593\ttotal: 27.6s\tremaining: 45.9s\n",
      "376:\tlearn: 408645.6530604\ttotal: 27.7s\tremaining: 45.8s\n",
      "377:\tlearn: 408574.2810276\ttotal: 27.8s\tremaining: 45.7s\n",
      "378:\tlearn: 408336.4446769\ttotal: 27.9s\tremaining: 45.7s\n",
      "379:\tlearn: 407497.2636397\ttotal: 27.9s\tremaining: 45.6s\n",
      "380:\tlearn: 407470.0832229\ttotal: 28s\tremaining: 45.5s\n",
      "381:\tlearn: 407335.6235170\ttotal: 28.1s\tremaining: 45.4s\n",
      "382:\tlearn: 406915.7800926\ttotal: 28.2s\tremaining: 45.4s\n",
      "383:\tlearn: 406894.5216672\ttotal: 28.2s\tremaining: 45.3s\n",
      "384:\tlearn: 406638.5036362\ttotal: 28.3s\tremaining: 45.2s\n",
      "385:\tlearn: 406416.8451810\ttotal: 28.4s\tremaining: 45.1s\n",
      "386:\tlearn: 405568.5592666\ttotal: 28.5s\tremaining: 45.1s\n",
      "387:\tlearn: 405380.7857172\ttotal: 28.5s\tremaining: 45s\n",
      "388:\tlearn: 405010.2794133\ttotal: 28.6s\tremaining: 45s\n",
      "389:\tlearn: 404551.8415421\ttotal: 28.7s\tremaining: 44.9s\n",
      "390:\tlearn: 403994.3233255\ttotal: 28.8s\tremaining: 44.8s\n",
      "391:\tlearn: 403717.1957926\ttotal: 28.8s\tremaining: 44.7s\n",
      "392:\tlearn: 403264.0016345\ttotal: 28.9s\tremaining: 44.6s\n",
      "393:\tlearn: 403172.6120643\ttotal: 29s\tremaining: 44.6s\n",
      "394:\tlearn: 402772.3347393\ttotal: 29.1s\tremaining: 44.5s\n",
      "395:\tlearn: 402226.1720503\ttotal: 29.1s\tremaining: 44.4s\n",
      "396:\tlearn: 401515.8228528\ttotal: 29.2s\tremaining: 44.4s\n",
      "397:\tlearn: 401329.5525625\ttotal: 29.3s\tremaining: 44.3s\n",
      "398:\tlearn: 401209.8162050\ttotal: 29.4s\tremaining: 44.2s\n",
      "399:\tlearn: 400496.8029513\ttotal: 29.5s\tremaining: 44.3s\n",
      "400:\tlearn: 399915.1238819\ttotal: 29.6s\tremaining: 44.2s\n",
      "401:\tlearn: 399804.1851736\ttotal: 29.7s\tremaining: 44.1s\n",
      "402:\tlearn: 399620.2112349\ttotal: 29.7s\tremaining: 44s\n",
      "403:\tlearn: 399109.4423791\ttotal: 29.8s\tremaining: 44s\n",
      "404:\tlearn: 399086.1876254\ttotal: 29.9s\tremaining: 43.9s\n",
      "405:\tlearn: 398714.4725407\ttotal: 30s\tremaining: 43.8s\n",
      "406:\tlearn: 398374.3518762\ttotal: 30s\tremaining: 43.8s\n",
      "407:\tlearn: 397995.8201382\ttotal: 30.1s\tremaining: 43.7s\n",
      "408:\tlearn: 397966.3994537\ttotal: 30.2s\tremaining: 43.6s\n",
      "409:\tlearn: 397661.3035858\ttotal: 30.3s\tremaining: 43.6s\n",
      "410:\tlearn: 396765.2742725\ttotal: 30.3s\tremaining: 43.5s\n",
      "411:\tlearn: 396465.1105773\ttotal: 30.4s\tremaining: 43.4s\n",
      "412:\tlearn: 396251.6801304\ttotal: 30.5s\tremaining: 43.4s\n",
      "413:\tlearn: 396175.5053570\ttotal: 30.6s\tremaining: 43.3s\n",
      "414:\tlearn: 395670.2089222\ttotal: 30.7s\tremaining: 43.2s\n",
      "415:\tlearn: 395138.8252065\ttotal: 30.7s\tremaining: 43.2s\n",
      "416:\tlearn: 394825.1777330\ttotal: 30.8s\tremaining: 43.1s\n",
      "417:\tlearn: 394750.4313995\ttotal: 30.9s\tremaining: 43s\n",
      "418:\tlearn: 393094.2442322\ttotal: 31s\tremaining: 42.9s\n",
      "419:\tlearn: 392723.2153908\ttotal: 31s\tremaining: 42.9s\n",
      "420:\tlearn: 392394.3922496\ttotal: 31.1s\tremaining: 42.8s\n",
      "421:\tlearn: 392323.7973724\ttotal: 31.2s\tremaining: 42.7s\n",
      "422:\tlearn: 392045.9536129\ttotal: 31.3s\tremaining: 42.6s\n",
      "423:\tlearn: 391735.5767399\ttotal: 31.3s\tremaining: 42.6s\n",
      "424:\tlearn: 391541.5354156\ttotal: 31.4s\tremaining: 42.5s\n",
      "425:\tlearn: 391395.1225498\ttotal: 31.5s\tremaining: 42.4s\n",
      "426:\tlearn: 391203.0015424\ttotal: 31.6s\tremaining: 42.3s\n",
      "427:\tlearn: 390712.1095729\ttotal: 31.6s\tremaining: 42.3s\n",
      "428:\tlearn: 390564.0704530\ttotal: 31.7s\tremaining: 42.2s\n",
      "429:\tlearn: 390442.5631631\ttotal: 31.8s\tremaining: 42.1s\n",
      "430:\tlearn: 390074.4967815\ttotal: 31.8s\tremaining: 42s\n",
      "431:\tlearn: 389539.3490083\ttotal: 31.9s\tremaining: 42s\n",
      "432:\tlearn: 389266.1666020\ttotal: 32s\tremaining: 41.9s\n",
      "433:\tlearn: 388881.9493757\ttotal: 32.1s\tremaining: 41.8s\n",
      "434:\tlearn: 388314.2979656\ttotal: 32.2s\tremaining: 41.8s\n",
      "435:\tlearn: 388238.8650624\ttotal: 32.3s\tremaining: 41.7s\n",
      "436:\tlearn: 388060.8810778\ttotal: 32.3s\tremaining: 41.6s\n",
      "437:\tlearn: 387907.8840088\ttotal: 32.4s\tremaining: 41.6s\n"
     ]
    },
    {
     "name": "stdout",
     "output_type": "stream",
     "text": [
      "438:\tlearn: 387698.6656438\ttotal: 32.5s\tremaining: 41.5s\n",
      "439:\tlearn: 387431.4939605\ttotal: 32.6s\tremaining: 41.5s\n",
      "440:\tlearn: 387235.6442831\ttotal: 32.6s\tremaining: 41.4s\n",
      "441:\tlearn: 386875.6141190\ttotal: 32.7s\tremaining: 41.3s\n",
      "442:\tlearn: 386796.4128323\ttotal: 32.8s\tremaining: 41.2s\n",
      "443:\tlearn: 386699.9070821\ttotal: 32.9s\tremaining: 41.2s\n",
      "444:\tlearn: 386420.9403037\ttotal: 33s\tremaining: 41.1s\n",
      "445:\tlearn: 386344.1773662\ttotal: 33s\tremaining: 41s\n",
      "446:\tlearn: 386291.2856063\ttotal: 33.1s\tremaining: 41s\n",
      "447:\tlearn: 385934.1742712\ttotal: 33.2s\tremaining: 40.9s\n",
      "448:\tlearn: 385866.8686238\ttotal: 33.3s\tremaining: 40.8s\n",
      "449:\tlearn: 385552.9726173\ttotal: 33.3s\tremaining: 40.8s\n",
      "450:\tlearn: 385249.9818389\ttotal: 33.4s\tremaining: 40.7s\n",
      "451:\tlearn: 385013.9273517\ttotal: 33.5s\tremaining: 40.6s\n",
      "452:\tlearn: 384744.3923241\ttotal: 33.6s\tremaining: 40.5s\n",
      "453:\tlearn: 384558.2896836\ttotal: 33.7s\tremaining: 40.5s\n",
      "454:\tlearn: 384403.9490462\ttotal: 33.7s\tremaining: 40.4s\n",
      "455:\tlearn: 384362.4643794\ttotal: 33.8s\tremaining: 40.3s\n",
      "456:\tlearn: 383930.0096883\ttotal: 33.9s\tremaining: 40.3s\n",
      "457:\tlearn: 383461.2340044\ttotal: 34s\tremaining: 40.2s\n",
      "458:\tlearn: 383255.5022771\ttotal: 34s\tremaining: 40.1s\n",
      "459:\tlearn: 383008.4992681\ttotal: 34.1s\tremaining: 40s\n",
      "460:\tlearn: 382826.4821817\ttotal: 34.2s\tremaining: 40s\n",
      "461:\tlearn: 382556.0163673\ttotal: 34.2s\tremaining: 39.9s\n",
      "462:\tlearn: 382421.6446977\ttotal: 34.3s\tremaining: 39.8s\n",
      "463:\tlearn: 382263.9216128\ttotal: 34.4s\tremaining: 39.7s\n",
      "464:\tlearn: 382128.8489053\ttotal: 34.5s\tremaining: 39.6s\n",
      "465:\tlearn: 382102.8861635\ttotal: 34.5s\tremaining: 39.6s\n",
      "466:\tlearn: 381764.4800575\ttotal: 34.6s\tremaining: 39.5s\n",
      "467:\tlearn: 381740.2921138\ttotal: 34.7s\tremaining: 39.4s\n",
      "468:\tlearn: 381382.4826553\ttotal: 34.8s\tremaining: 39.4s\n",
      "469:\tlearn: 381293.6905432\ttotal: 34.9s\tremaining: 39.3s\n",
      "470:\tlearn: 380903.8993163\ttotal: 34.9s\tremaining: 39.2s\n",
      "471:\tlearn: 380680.5886284\ttotal: 35s\tremaining: 39.2s\n",
      "472:\tlearn: 380436.2034924\ttotal: 35.1s\tremaining: 39.1s\n",
      "473:\tlearn: 379612.7547513\ttotal: 35.2s\tremaining: 39s\n",
      "474:\tlearn: 379268.1538384\ttotal: 35.2s\tremaining: 39s\n",
      "475:\tlearn: 379146.6399095\ttotal: 35.3s\tremaining: 38.9s\n",
      "476:\tlearn: 379115.8650498\ttotal: 35.4s\tremaining: 38.8s\n",
      "477:\tlearn: 378761.3463429\ttotal: 35.5s\tremaining: 38.8s\n",
      "478:\tlearn: 378464.6119219\ttotal: 35.6s\tremaining: 38.7s\n",
      "479:\tlearn: 378303.1797619\ttotal: 35.6s\tremaining: 38.6s\n",
      "480:\tlearn: 378030.8579358\ttotal: 35.7s\tremaining: 38.5s\n",
      "481:\tlearn: 377866.1810794\ttotal: 35.8s\tremaining: 38.4s\n",
      "482:\tlearn: 377607.1380637\ttotal: 35.8s\tremaining: 38.3s\n",
      "483:\tlearn: 377296.6101492\ttotal: 35.9s\tremaining: 38.3s\n",
      "484:\tlearn: 377217.3770060\ttotal: 36s\tremaining: 38.2s\n",
      "485:\tlearn: 376868.3521324\ttotal: 36.1s\tremaining: 38.1s\n",
      "486:\tlearn: 376682.0408756\ttotal: 36.1s\tremaining: 38.1s\n",
      "487:\tlearn: 376542.6602357\ttotal: 36.2s\tremaining: 38s\n",
      "488:\tlearn: 376357.4028663\ttotal: 36.3s\tremaining: 37.9s\n",
      "489:\tlearn: 376154.7307511\ttotal: 36.4s\tremaining: 37.8s\n",
      "490:\tlearn: 376061.7131659\ttotal: 36.4s\tremaining: 37.8s\n",
      "491:\tlearn: 375672.2909523\ttotal: 36.5s\tremaining: 37.7s\n",
      "492:\tlearn: 375467.0218155\ttotal: 36.6s\tremaining: 37.6s\n",
      "493:\tlearn: 375347.9148183\ttotal: 36.7s\tremaining: 37.6s\n",
      "494:\tlearn: 375235.2231174\ttotal: 36.8s\tremaining: 37.5s\n",
      "495:\tlearn: 373974.3538772\ttotal: 36.8s\tremaining: 37.4s\n",
      "496:\tlearn: 373937.9300893\ttotal: 36.9s\tremaining: 37.4s\n",
      "497:\tlearn: 373738.5175193\ttotal: 37s\tremaining: 37.3s\n",
      "498:\tlearn: 373535.3550847\ttotal: 37.1s\tremaining: 37.2s\n",
      "499:\tlearn: 373433.1828652\ttotal: 37.1s\tremaining: 37.1s\n",
      "500:\tlearn: 373110.9975220\ttotal: 37.2s\tremaining: 37.1s\n",
      "501:\tlearn: 373033.3777510\ttotal: 37.3s\tremaining: 37s\n",
      "502:\tlearn: 372792.1453083\ttotal: 37.4s\tremaining: 36.9s\n",
      "503:\tlearn: 372357.7923750\ttotal: 37.5s\tremaining: 36.9s\n",
      "504:\tlearn: 372012.5878351\ttotal: 37.6s\tremaining: 36.8s\n",
      "505:\tlearn: 371918.0882916\ttotal: 37.6s\tremaining: 36.7s\n",
      "506:\tlearn: 371619.5632812\ttotal: 37.7s\tremaining: 36.7s\n",
      "507:\tlearn: 371269.6096924\ttotal: 37.8s\tremaining: 36.6s\n",
      "508:\tlearn: 371236.5372418\ttotal: 37.9s\tremaining: 36.5s\n",
      "509:\tlearn: 370997.9836984\ttotal: 37.9s\tremaining: 36.5s\n",
      "510:\tlearn: 370844.7530283\ttotal: 38s\tremaining: 36.4s\n",
      "511:\tlearn: 370598.0790661\ttotal: 38.1s\tremaining: 36.3s\n",
      "512:\tlearn: 370376.1122011\ttotal: 38.2s\tremaining: 36.2s\n",
      "513:\tlearn: 370172.0878114\ttotal: 38.2s\tremaining: 36.1s\n",
      "514:\tlearn: 369873.7025673\ttotal: 38.3s\tremaining: 36.1s\n",
      "515:\tlearn: 369462.6298608\ttotal: 38.4s\tremaining: 36s\n",
      "516:\tlearn: 368935.6922129\ttotal: 38.5s\tremaining: 35.9s\n",
      "517:\tlearn: 368910.7965665\ttotal: 38.5s\tremaining: 35.8s\n",
      "518:\tlearn: 368678.3998353\ttotal: 38.6s\tremaining: 35.7s\n",
      "519:\tlearn: 368404.3706060\ttotal: 38.6s\tremaining: 35.7s\n",
      "520:\tlearn: 368206.6550047\ttotal: 38.7s\tremaining: 35.6s\n",
      "521:\tlearn: 368170.4662442\ttotal: 38.8s\tremaining: 35.5s\n",
      "522:\tlearn: 367873.6371573\ttotal: 38.9s\tremaining: 35.4s\n",
      "523:\tlearn: 367859.6951562\ttotal: 38.9s\tremaining: 35.4s\n",
      "524:\tlearn: 367743.7412019\ttotal: 39s\tremaining: 35.3s\n",
      "525:\tlearn: 366671.1998206\ttotal: 39.1s\tremaining: 35.2s\n",
      "526:\tlearn: 366529.6480726\ttotal: 39.2s\tremaining: 35.2s\n",
      "527:\tlearn: 366298.1170071\ttotal: 39.3s\tremaining: 35.1s\n",
      "528:\tlearn: 366081.5485279\ttotal: 39.3s\tremaining: 35s\n",
      "529:\tlearn: 365919.5440175\ttotal: 39.4s\tremaining: 35s\n",
      "530:\tlearn: 365581.5250401\ttotal: 39.5s\tremaining: 34.9s\n",
      "531:\tlearn: 365378.3937042\ttotal: 39.6s\tremaining: 34.8s\n",
      "532:\tlearn: 365310.0016472\ttotal: 39.6s\tremaining: 34.7s\n",
      "533:\tlearn: 365004.6036887\ttotal: 39.7s\tremaining: 34.6s\n",
      "534:\tlearn: 364798.5369009\ttotal: 39.8s\tremaining: 34.6s\n",
      "535:\tlearn: 364673.1180697\ttotal: 39.9s\tremaining: 34.5s\n",
      "536:\tlearn: 364502.3682820\ttotal: 39.9s\tremaining: 34.4s\n",
      "537:\tlearn: 364421.5402147\ttotal: 40s\tremaining: 34.4s\n",
      "538:\tlearn: 364336.4009076\ttotal: 40.1s\tremaining: 34.3s\n",
      "539:\tlearn: 364099.6280447\ttotal: 40.1s\tremaining: 34.2s\n",
      "540:\tlearn: 364001.0190041\ttotal: 40.2s\tremaining: 34.1s\n",
      "541:\tlearn: 363674.9065288\ttotal: 40.3s\tremaining: 34.1s\n",
      "542:\tlearn: 363434.1888524\ttotal: 40.4s\tremaining: 34s\n",
      "543:\tlearn: 363211.4958967\ttotal: 40.5s\tremaining: 33.9s\n",
      "544:\tlearn: 362905.9774977\ttotal: 40.5s\tremaining: 33.8s\n",
      "545:\tlearn: 362825.3912203\ttotal: 40.6s\tremaining: 33.8s\n",
      "546:\tlearn: 361904.4941399\ttotal: 40.7s\tremaining: 33.7s\n",
      "547:\tlearn: 361611.9883747\ttotal: 40.8s\tremaining: 33.6s\n",
      "548:\tlearn: 361568.8002336\ttotal: 40.8s\tremaining: 33.5s\n",
      "549:\tlearn: 361172.8703335\ttotal: 40.9s\tremaining: 33.5s\n",
      "550:\tlearn: 361059.8971421\ttotal: 41s\tremaining: 33.4s\n",
      "551:\tlearn: 360936.3281667\ttotal: 41.1s\tremaining: 33.3s\n",
      "552:\tlearn: 360862.1596399\ttotal: 41.1s\tremaining: 33.2s\n",
      "553:\tlearn: 360713.8048476\ttotal: 41.2s\tremaining: 33.2s\n",
      "554:\tlearn: 360580.6195681\ttotal: 41.3s\tremaining: 33.1s\n",
      "555:\tlearn: 360361.5203831\ttotal: 41.3s\tremaining: 33s\n",
      "556:\tlearn: 359520.4998811\ttotal: 41.4s\tremaining: 32.9s\n",
      "557:\tlearn: 359419.9458216\ttotal: 41.5s\tremaining: 32.9s\n",
      "558:\tlearn: 359288.4912480\ttotal: 41.6s\tremaining: 32.8s\n",
      "559:\tlearn: 359259.2949850\ttotal: 41.6s\tremaining: 32.7s\n",
      "560:\tlearn: 359079.7190540\ttotal: 41.7s\tremaining: 32.6s\n",
      "561:\tlearn: 358781.7557976\ttotal: 41.8s\tremaining: 32.6s\n",
      "562:\tlearn: 358044.6677131\ttotal: 41.9s\tremaining: 32.5s\n",
      "563:\tlearn: 357862.7244331\ttotal: 42s\tremaining: 32.4s\n",
      "564:\tlearn: 357790.2849060\ttotal: 42s\tremaining: 32.4s\n",
      "565:\tlearn: 357761.1476651\ttotal: 42.1s\tremaining: 32.3s\n",
      "566:\tlearn: 357690.4947854\ttotal: 42.2s\tremaining: 32.2s\n",
      "567:\tlearn: 357671.1261458\ttotal: 42.3s\tremaining: 32.1s\n",
      "568:\tlearn: 357494.8452343\ttotal: 42.3s\tremaining: 32.1s\n",
      "569:\tlearn: 357368.8443877\ttotal: 42.4s\tremaining: 32s\n",
      "570:\tlearn: 357342.5092269\ttotal: 42.5s\tremaining: 31.9s\n",
      "571:\tlearn: 357210.8823578\ttotal: 42.6s\tremaining: 31.9s\n",
      "572:\tlearn: 356585.4456402\ttotal: 42.7s\tremaining: 31.8s\n",
      "573:\tlearn: 356355.1008403\ttotal: 42.7s\tremaining: 31.7s\n",
      "574:\tlearn: 356217.4221776\ttotal: 42.8s\tremaining: 31.6s\n",
      "575:\tlearn: 356163.4490131\ttotal: 42.9s\tremaining: 31.6s\n",
      "576:\tlearn: 356059.4823261\ttotal: 43s\tremaining: 31.5s\n",
      "577:\tlearn: 356024.0786478\ttotal: 43s\tremaining: 31.4s\n",
      "578:\tlearn: 355890.5578523\ttotal: 43.1s\tremaining: 31.3s\n",
      "579:\tlearn: 355866.2823139\ttotal: 43.2s\tremaining: 31.3s\n",
      "580:\tlearn: 355624.7229889\ttotal: 43.2s\tremaining: 31.2s\n",
      "581:\tlearn: 355402.7359987\ttotal: 43.3s\tremaining: 31.1s\n",
      "582:\tlearn: 355272.7452237\ttotal: 43.4s\tremaining: 31s\n",
      "583:\tlearn: 355252.5744773\ttotal: 43.5s\tremaining: 31s\n"
     ]
    },
    {
     "name": "stdout",
     "output_type": "stream",
     "text": [
      "584:\tlearn: 355192.4286182\ttotal: 43.5s\tremaining: 30.9s\n",
      "585:\tlearn: 355170.0125077\ttotal: 43.6s\tremaining: 30.8s\n",
      "586:\tlearn: 355010.0374331\ttotal: 43.7s\tremaining: 30.7s\n",
      "587:\tlearn: 354772.7436313\ttotal: 43.8s\tremaining: 30.7s\n",
      "588:\tlearn: 354697.5797087\ttotal: 43.8s\tremaining: 30.6s\n",
      "589:\tlearn: 354509.4991446\ttotal: 43.9s\tremaining: 30.5s\n",
      "590:\tlearn: 354492.0647379\ttotal: 44s\tremaining: 30.4s\n",
      "591:\tlearn: 354391.4150687\ttotal: 44.1s\tremaining: 30.4s\n",
      "592:\tlearn: 354293.9319252\ttotal: 44.1s\tremaining: 30.3s\n",
      "593:\tlearn: 354268.5252469\ttotal: 44.2s\tremaining: 30.2s\n",
      "594:\tlearn: 353988.5954910\ttotal: 44.3s\tremaining: 30.2s\n",
      "595:\tlearn: 353965.6981108\ttotal: 44.4s\tremaining: 30.1s\n",
      "596:\tlearn: 353854.2068668\ttotal: 44.5s\tremaining: 30s\n",
      "597:\tlearn: 353752.1354371\ttotal: 44.5s\tremaining: 29.9s\n",
      "598:\tlearn: 353741.7922248\ttotal: 44.6s\tremaining: 29.9s\n",
      "599:\tlearn: 353588.3394227\ttotal: 44.7s\tremaining: 29.8s\n",
      "600:\tlearn: 353319.3525837\ttotal: 44.8s\tremaining: 29.7s\n",
      "601:\tlearn: 352850.5056784\ttotal: 44.9s\tremaining: 29.7s\n",
      "602:\tlearn: 352717.8177616\ttotal: 45s\tremaining: 29.6s\n",
      "603:\tlearn: 352664.2695072\ttotal: 45.1s\tremaining: 29.5s\n",
      "604:\tlearn: 352465.1987230\ttotal: 45.2s\tremaining: 29.5s\n",
      "605:\tlearn: 352268.8852475\ttotal: 45.3s\tremaining: 29.4s\n",
      "606:\tlearn: 352133.3706842\ttotal: 45.3s\tremaining: 29.4s\n",
      "607:\tlearn: 352069.9706682\ttotal: 45.4s\tremaining: 29.3s\n",
      "608:\tlearn: 351888.0156818\ttotal: 45.5s\tremaining: 29.2s\n",
      "609:\tlearn: 351724.3191415\ttotal: 45.6s\tremaining: 29.1s\n",
      "610:\tlearn: 351473.5559312\ttotal: 45.7s\tremaining: 29.1s\n",
      "611:\tlearn: 351387.0684557\ttotal: 45.9s\tremaining: 29.1s\n",
      "612:\tlearn: 351225.5228229\ttotal: 46.2s\tremaining: 29.2s\n",
      "613:\tlearn: 351206.8855567\ttotal: 46.4s\tremaining: 29.2s\n",
      "614:\tlearn: 350925.4437317\ttotal: 46.5s\tremaining: 29.1s\n",
      "615:\tlearn: 350837.9688679\ttotal: 46.6s\tremaining: 29.1s\n",
      "616:\tlearn: 350763.2161550\ttotal: 46.7s\tremaining: 29s\n",
      "617:\tlearn: 350570.2712908\ttotal: 46.8s\tremaining: 28.9s\n",
      "618:\tlearn: 350489.9616677\ttotal: 46.9s\tremaining: 28.9s\n",
      "619:\tlearn: 350396.3045580\ttotal: 47s\tremaining: 28.8s\n",
      "620:\tlearn: 350149.3625469\ttotal: 47.1s\tremaining: 28.8s\n",
      "621:\tlearn: 350112.2346261\ttotal: 47.3s\tremaining: 28.7s\n",
      "622:\tlearn: 350062.4180146\ttotal: 47.4s\tremaining: 28.7s\n",
      "623:\tlearn: 349822.9943306\ttotal: 47.5s\tremaining: 28.6s\n",
      "624:\tlearn: 349755.6162780\ttotal: 47.6s\tremaining: 28.6s\n",
      "625:\tlearn: 349563.1748819\ttotal: 47.8s\tremaining: 28.5s\n",
      "626:\tlearn: 349373.1172990\ttotal: 47.9s\tremaining: 28.5s\n",
      "627:\tlearn: 349121.3662262\ttotal: 48.1s\tremaining: 28.5s\n",
      "628:\tlearn: 348965.7043032\ttotal: 48.2s\tremaining: 28.5s\n",
      "629:\tlearn: 348890.0029738\ttotal: 48.4s\tremaining: 28.4s\n",
      "630:\tlearn: 348881.9307237\ttotal: 48.5s\tremaining: 28.4s\n",
      "631:\tlearn: 348498.6680234\ttotal: 48.6s\tremaining: 28.3s\n",
      "632:\tlearn: 348292.5015032\ttotal: 48.7s\tremaining: 28.3s\n",
      "633:\tlearn: 347763.6946254\ttotal: 48.8s\tremaining: 28.2s\n",
      "634:\tlearn: 347559.6998269\ttotal: 49s\tremaining: 28.1s\n",
      "635:\tlearn: 347456.0851469\ttotal: 49.1s\tremaining: 28.1s\n",
      "636:\tlearn: 347279.3009247\ttotal: 49.2s\tremaining: 28s\n",
      "637:\tlearn: 347263.3908923\ttotal: 49.2s\tremaining: 27.9s\n",
      "638:\tlearn: 347240.1848945\ttotal: 49.3s\tremaining: 27.9s\n",
      "639:\tlearn: 347115.0462077\ttotal: 49.5s\tremaining: 27.8s\n",
      "640:\tlearn: 346954.4315836\ttotal: 49.5s\tremaining: 27.7s\n",
      "641:\tlearn: 346822.5779699\ttotal: 49.6s\tremaining: 27.7s\n",
      "642:\tlearn: 346342.8715852\ttotal: 49.7s\tremaining: 27.6s\n",
      "643:\tlearn: 346256.2953179\ttotal: 49.8s\tremaining: 27.5s\n",
      "644:\tlearn: 346041.9591590\ttotal: 49.8s\tremaining: 27.4s\n",
      "645:\tlearn: 345925.9719611\ttotal: 49.9s\tremaining: 27.4s\n",
      "646:\tlearn: 345729.1483979\ttotal: 50s\tremaining: 27.3s\n",
      "647:\tlearn: 345647.6162326\ttotal: 50.1s\tremaining: 27.2s\n",
      "648:\tlearn: 345576.3674241\ttotal: 50.2s\tremaining: 27.1s\n",
      "649:\tlearn: 345457.3675837\ttotal: 50.2s\tremaining: 27s\n",
      "650:\tlearn: 345431.2099106\ttotal: 50.3s\tremaining: 27s\n",
      "651:\tlearn: 345293.9961837\ttotal: 50.4s\tremaining: 26.9s\n",
      "652:\tlearn: 345137.2468794\ttotal: 50.5s\tremaining: 26.8s\n",
      "653:\tlearn: 344998.3352514\ttotal: 50.5s\tremaining: 26.7s\n",
      "654:\tlearn: 344801.4780748\ttotal: 50.6s\tremaining: 26.7s\n",
      "655:\tlearn: 344381.6035512\ttotal: 50.7s\tremaining: 26.6s\n",
      "656:\tlearn: 344285.6946526\ttotal: 50.8s\tremaining: 26.5s\n",
      "657:\tlearn: 344260.1598653\ttotal: 50.9s\tremaining: 26.4s\n",
      "658:\tlearn: 344072.2883162\ttotal: 50.9s\tremaining: 26.4s\n",
      "659:\tlearn: 343925.2072156\ttotal: 51s\tremaining: 26.3s\n",
      "660:\tlearn: 343924.4467476\ttotal: 51.1s\tremaining: 26.2s\n",
      "661:\tlearn: 343724.4951847\ttotal: 51.2s\tremaining: 26.1s\n",
      "662:\tlearn: 343618.7472280\ttotal: 51.2s\tremaining: 26.1s\n",
      "663:\tlearn: 343505.7950972\ttotal: 51.3s\tremaining: 26s\n",
      "664:\tlearn: 343479.2227892\ttotal: 51.4s\tremaining: 25.9s\n",
      "665:\tlearn: 343466.7726339\ttotal: 51.5s\tremaining: 25.8s\n",
      "666:\tlearn: 343287.0273287\ttotal: 51.6s\tremaining: 25.8s\n",
      "667:\tlearn: 343246.2403621\ttotal: 51.7s\tremaining: 25.7s\n",
      "668:\tlearn: 343054.9322297\ttotal: 51.7s\tremaining: 25.6s\n",
      "669:\tlearn: 343008.3227431\ttotal: 51.8s\tremaining: 25.5s\n",
      "670:\tlearn: 342901.3739759\ttotal: 51.9s\tremaining: 25.4s\n",
      "671:\tlearn: 342787.8873947\ttotal: 52s\tremaining: 25.4s\n",
      "672:\tlearn: 342776.1386872\ttotal: 52.1s\tremaining: 25.3s\n",
      "673:\tlearn: 342529.6457705\ttotal: 52.1s\tremaining: 25.2s\n",
      "674:\tlearn: 342455.7641983\ttotal: 52.3s\tremaining: 25.2s\n",
      "675:\tlearn: 342429.5432086\ttotal: 52.4s\tremaining: 25.1s\n",
      "676:\tlearn: 342287.1286107\ttotal: 52.5s\tremaining: 25s\n",
      "677:\tlearn: 342168.4627134\ttotal: 52.6s\tremaining: 25s\n",
      "678:\tlearn: 342009.5019207\ttotal: 52.7s\tremaining: 24.9s\n",
      "679:\tlearn: 341968.8414703\ttotal: 52.8s\tremaining: 24.8s\n",
      "680:\tlearn: 341836.1590240\ttotal: 52.9s\tremaining: 24.8s\n",
      "681:\tlearn: 341738.0349744\ttotal: 53s\tremaining: 24.7s\n",
      "682:\tlearn: 341626.4060021\ttotal: 53.1s\tremaining: 24.6s\n",
      "683:\tlearn: 341325.4579577\ttotal: 53.2s\tremaining: 24.6s\n",
      "684:\tlearn: 341209.4759661\ttotal: 53.2s\tremaining: 24.5s\n",
      "685:\tlearn: 341019.8090147\ttotal: 53.3s\tremaining: 24.4s\n",
      "686:\tlearn: 340905.3036296\ttotal: 53.4s\tremaining: 24.3s\n",
      "687:\tlearn: 340825.4606776\ttotal: 53.5s\tremaining: 24.2s\n",
      "688:\tlearn: 340783.7250513\ttotal: 53.5s\tremaining: 24.2s\n",
      "689:\tlearn: 340694.3212459\ttotal: 53.6s\tremaining: 24.1s\n",
      "690:\tlearn: 340632.5377030\ttotal: 53.7s\tremaining: 24s\n",
      "691:\tlearn: 340487.2108851\ttotal: 53.8s\tremaining: 23.9s\n",
      "692:\tlearn: 340386.4199473\ttotal: 53.9s\tremaining: 23.9s\n",
      "693:\tlearn: 340276.2662250\ttotal: 53.9s\tremaining: 23.8s\n",
      "694:\tlearn: 340198.4145095\ttotal: 54s\tremaining: 23.7s\n",
      "695:\tlearn: 340102.5235656\ttotal: 54.1s\tremaining: 23.6s\n",
      "696:\tlearn: 339917.2387660\ttotal: 54.2s\tremaining: 23.6s\n",
      "697:\tlearn: 339357.5227979\ttotal: 54.3s\tremaining: 23.5s\n",
      "698:\tlearn: 339269.4503024\ttotal: 54.3s\tremaining: 23.4s\n",
      "699:\tlearn: 339177.1782275\ttotal: 54.4s\tremaining: 23.3s\n",
      "700:\tlearn: 339124.3575436\ttotal: 54.5s\tremaining: 23.2s\n",
      "701:\tlearn: 338943.5604809\ttotal: 54.6s\tremaining: 23.2s\n",
      "702:\tlearn: 338859.6543845\ttotal: 54.7s\tremaining: 23.1s\n",
      "703:\tlearn: 338837.1767492\ttotal: 54.7s\tremaining: 23s\n",
      "704:\tlearn: 338784.6842663\ttotal: 54.8s\tremaining: 22.9s\n",
      "705:\tlearn: 338606.4626733\ttotal: 54.9s\tremaining: 22.9s\n",
      "706:\tlearn: 338373.3935946\ttotal: 55s\tremaining: 22.8s\n",
      "707:\tlearn: 338349.5467889\ttotal: 55s\tremaining: 22.7s\n",
      "708:\tlearn: 338329.2461197\ttotal: 55.1s\tremaining: 22.6s\n",
      "709:\tlearn: 338259.0830445\ttotal: 55.2s\tremaining: 22.6s\n",
      "710:\tlearn: 338210.9672568\ttotal: 55.3s\tremaining: 22.5s\n",
      "711:\tlearn: 338113.5474833\ttotal: 55.4s\tremaining: 22.4s\n",
      "712:\tlearn: 337975.5446606\ttotal: 55.4s\tremaining: 22.3s\n",
      "713:\tlearn: 337856.3020033\ttotal: 55.5s\tremaining: 22.2s\n",
      "714:\tlearn: 337838.7228341\ttotal: 55.6s\tremaining: 22.2s\n",
      "715:\tlearn: 337656.5136581\ttotal: 55.7s\tremaining: 22.1s\n",
      "716:\tlearn: 337582.0487806\ttotal: 55.8s\tremaining: 22s\n",
      "717:\tlearn: 337568.7385190\ttotal: 55.9s\tremaining: 21.9s\n",
      "718:\tlearn: 337331.2714192\ttotal: 56.1s\tremaining: 21.9s\n",
      "719:\tlearn: 337217.3393060\ttotal: 56.2s\tremaining: 21.9s\n",
      "720:\tlearn: 337057.4043943\ttotal: 56.3s\tremaining: 21.8s\n",
      "721:\tlearn: 336922.8701070\ttotal: 56.4s\tremaining: 21.7s\n",
      "722:\tlearn: 336753.1644403\ttotal: 56.6s\tremaining: 21.7s\n",
      "723:\tlearn: 336678.6500188\ttotal: 56.8s\tremaining: 21.6s\n",
      "724:\tlearn: 336556.0065193\ttotal: 56.9s\tremaining: 21.6s\n",
      "725:\tlearn: 336512.1101889\ttotal: 57.1s\tremaining: 21.5s\n",
      "726:\tlearn: 336299.5320367\ttotal: 57.2s\tremaining: 21.5s\n",
      "727:\tlearn: 336219.4461948\ttotal: 57.3s\tremaining: 21.4s\n",
      "728:\tlearn: 336050.2121106\ttotal: 57.4s\tremaining: 21.3s\n",
      "729:\tlearn: 335873.3332685\ttotal: 57.5s\tremaining: 21.3s\n"
     ]
    },
    {
     "name": "stdout",
     "output_type": "stream",
     "text": [
      "730:\tlearn: 335714.7129241\ttotal: 57.6s\tremaining: 21.2s\n",
      "731:\tlearn: 335639.4627370\ttotal: 57.7s\tremaining: 21.1s\n",
      "732:\tlearn: 335158.5146247\ttotal: 57.7s\tremaining: 21s\n",
      "733:\tlearn: 335088.7936167\ttotal: 57.8s\tremaining: 20.9s\n",
      "734:\tlearn: 334927.0466109\ttotal: 57.9s\tremaining: 20.9s\n",
      "735:\tlearn: 334891.5063528\ttotal: 58s\tremaining: 20.8s\n",
      "736:\tlearn: 334730.9668690\ttotal: 58.1s\tremaining: 20.7s\n",
      "737:\tlearn: 334612.7861193\ttotal: 58.3s\tremaining: 20.7s\n",
      "738:\tlearn: 334491.1567465\ttotal: 58.4s\tremaining: 20.6s\n",
      "739:\tlearn: 334409.0944356\ttotal: 58.5s\tremaining: 20.6s\n",
      "740:\tlearn: 334304.7262839\ttotal: 58.7s\tremaining: 20.5s\n",
      "741:\tlearn: 334148.1690255\ttotal: 58.9s\tremaining: 20.5s\n",
      "742:\tlearn: 333885.2867160\ttotal: 59.1s\tremaining: 20.4s\n",
      "743:\tlearn: 333833.7988905\ttotal: 59.3s\tremaining: 20.4s\n",
      "744:\tlearn: 333743.6453526\ttotal: 59.4s\tremaining: 20.3s\n",
      "745:\tlearn: 333715.5202627\ttotal: 59.6s\tremaining: 20.3s\n",
      "746:\tlearn: 333600.6931448\ttotal: 59.7s\tremaining: 20.2s\n",
      "747:\tlearn: 333520.1404006\ttotal: 59.9s\tremaining: 20.2s\n",
      "748:\tlearn: 333320.6039783\ttotal: 1m\tremaining: 20.1s\n",
      "749:\tlearn: 333095.1379183\ttotal: 1m\tremaining: 20.1s\n",
      "750:\tlearn: 332987.4361758\ttotal: 1m\tremaining: 20s\n",
      "751:\tlearn: 332964.5751399\ttotal: 1m\tremaining: 19.9s\n",
      "752:\tlearn: 332795.5648604\ttotal: 1m\tremaining: 19.9s\n",
      "753:\tlearn: 332744.8388415\ttotal: 1m\tremaining: 19.8s\n",
      "754:\tlearn: 332501.9150112\ttotal: 1m\tremaining: 19.7s\n",
      "755:\tlearn: 332435.7074607\ttotal: 1m\tremaining: 19.7s\n",
      "756:\tlearn: 332431.5924562\ttotal: 1m 1s\tremaining: 19.6s\n",
      "757:\tlearn: 332349.4643516\ttotal: 1m 1s\tremaining: 19.6s\n",
      "758:\tlearn: 332291.6662015\ttotal: 1m 1s\tremaining: 19.5s\n",
      "759:\tlearn: 332243.0762254\ttotal: 1m 1s\tremaining: 19.5s\n",
      "760:\tlearn: 332172.1593900\ttotal: 1m 1s\tremaining: 19.4s\n",
      "761:\tlearn: 332118.2942529\ttotal: 1m 2s\tremaining: 19.4s\n",
      "762:\tlearn: 332104.0023029\ttotal: 1m 2s\tremaining: 19.3s\n",
      "763:\tlearn: 332096.8769670\ttotal: 1m 2s\tremaining: 19.3s\n",
      "764:\tlearn: 332026.8451366\ttotal: 1m 2s\tremaining: 19.2s\n",
      "765:\tlearn: 331987.1878466\ttotal: 1m 2s\tremaining: 19.2s\n",
      "766:\tlearn: 331843.6259080\ttotal: 1m 2s\tremaining: 19.1s\n",
      "767:\tlearn: 331805.2069120\ttotal: 1m 3s\tremaining: 19.1s\n",
      "768:\tlearn: 331788.2833659\ttotal: 1m 3s\tremaining: 19s\n",
      "769:\tlearn: 331737.7114083\ttotal: 1m 3s\tremaining: 19s\n",
      "770:\tlearn: 331644.7826168\ttotal: 1m 3s\tremaining: 18.9s\n",
      "771:\tlearn: 331504.4698385\ttotal: 1m 3s\tremaining: 18.8s\n",
      "772:\tlearn: 331498.2055595\ttotal: 1m 3s\tremaining: 18.8s\n",
      "773:\tlearn: 331400.9017827\ttotal: 1m 4s\tremaining: 18.7s\n",
      "774:\tlearn: 331357.8412614\ttotal: 1m 4s\tremaining: 18.7s\n",
      "775:\tlearn: 331349.5884491\ttotal: 1m 4s\tremaining: 18.6s\n",
      "776:\tlearn: 331329.0811683\ttotal: 1m 4s\tremaining: 18.5s\n",
      "777:\tlearn: 331167.8067664\ttotal: 1m 4s\tremaining: 18.4s\n",
      "778:\tlearn: 331056.1351399\ttotal: 1m 4s\tremaining: 18.4s\n",
      "779:\tlearn: 331032.7353760\ttotal: 1m 4s\tremaining: 18.3s\n",
      "780:\tlearn: 330848.9953127\ttotal: 1m 4s\tremaining: 18.2s\n",
      "781:\tlearn: 330744.9198833\ttotal: 1m 5s\tremaining: 18.2s\n",
      "782:\tlearn: 330624.6016333\ttotal: 1m 5s\tremaining: 18.1s\n",
      "783:\tlearn: 330584.6603385\ttotal: 1m 5s\tremaining: 18s\n",
      "784:\tlearn: 330542.4159979\ttotal: 1m 5s\tremaining: 18s\n",
      "785:\tlearn: 330425.0125472\ttotal: 1m 5s\tremaining: 17.9s\n",
      "786:\tlearn: 330390.6921290\ttotal: 1m 5s\tremaining: 17.8s\n",
      "787:\tlearn: 330157.2384438\ttotal: 1m 5s\tremaining: 17.7s\n",
      "788:\tlearn: 329932.6518570\ttotal: 1m 6s\tremaining: 17.7s\n",
      "789:\tlearn: 329923.9297170\ttotal: 1m 6s\tremaining: 17.6s\n",
      "790:\tlearn: 329768.2601667\ttotal: 1m 6s\tremaining: 17.5s\n",
      "791:\tlearn: 329714.0139075\ttotal: 1m 6s\tremaining: 17.4s\n",
      "792:\tlearn: 329689.2315492\ttotal: 1m 6s\tremaining: 17.4s\n",
      "793:\tlearn: 329620.6644949\ttotal: 1m 6s\tremaining: 17.3s\n",
      "794:\tlearn: 329587.4914543\ttotal: 1m 6s\tremaining: 17.2s\n",
      "795:\tlearn: 329572.7769707\ttotal: 1m 6s\tremaining: 17.1s\n",
      "796:\tlearn: 329543.6270752\ttotal: 1m 6s\tremaining: 17.1s\n",
      "797:\tlearn: 329445.2064581\ttotal: 1m 7s\tremaining: 17s\n",
      "798:\tlearn: 329393.7625453\ttotal: 1m 7s\tremaining: 16.9s\n",
      "799:\tlearn: 329337.2865510\ttotal: 1m 7s\tremaining: 16.9s\n",
      "800:\tlearn: 329274.2510675\ttotal: 1m 7s\tremaining: 16.8s\n",
      "801:\tlearn: 329198.7556769\ttotal: 1m 7s\tremaining: 16.7s\n",
      "802:\tlearn: 329110.7627836\ttotal: 1m 7s\tremaining: 16.7s\n",
      "803:\tlearn: 329105.3943609\ttotal: 1m 8s\tremaining: 16.6s\n",
      "804:\tlearn: 329087.7110699\ttotal: 1m 8s\tremaining: 16.5s\n",
      "805:\tlearn: 329010.9213498\ttotal: 1m 8s\tremaining: 16.5s\n",
      "806:\tlearn: 328886.7657219\ttotal: 1m 8s\tremaining: 16.4s\n",
      "807:\tlearn: 328531.8146962\ttotal: 1m 8s\tremaining: 16.3s\n",
      "808:\tlearn: 328463.9080669\ttotal: 1m 8s\tremaining: 16.3s\n",
      "809:\tlearn: 328456.4752091\ttotal: 1m 8s\tremaining: 16.2s\n",
      "810:\tlearn: 328397.3049055\ttotal: 1m 9s\tremaining: 16.1s\n",
      "811:\tlearn: 328323.1865695\ttotal: 1m 9s\tremaining: 16s\n",
      "812:\tlearn: 328277.1273423\ttotal: 1m 9s\tremaining: 15.9s\n",
      "813:\tlearn: 328236.6118682\ttotal: 1m 9s\tremaining: 15.9s\n",
      "814:\tlearn: 328176.3505580\ttotal: 1m 9s\tremaining: 15.8s\n",
      "815:\tlearn: 328132.7693522\ttotal: 1m 9s\tremaining: 15.7s\n",
      "816:\tlearn: 328007.3329665\ttotal: 1m 9s\tremaining: 15.6s\n",
      "817:\tlearn: 327972.7061258\ttotal: 1m 9s\tremaining: 15.5s\n",
      "818:\tlearn: 327946.1701612\ttotal: 1m 9s\tremaining: 15.5s\n",
      "819:\tlearn: 327860.6413902\ttotal: 1m 10s\tremaining: 15.4s\n",
      "820:\tlearn: 327858.7078141\ttotal: 1m 10s\tremaining: 15.3s\n",
      "821:\tlearn: 327722.5036736\ttotal: 1m 10s\tremaining: 15.2s\n",
      "822:\tlearn: 327598.6108527\ttotal: 1m 10s\tremaining: 15.1s\n",
      "823:\tlearn: 327462.1620861\ttotal: 1m 10s\tremaining: 15.1s\n",
      "824:\tlearn: 327311.6899228\ttotal: 1m 10s\tremaining: 15s\n",
      "825:\tlearn: 327279.8571525\ttotal: 1m 11s\tremaining: 15s\n",
      "826:\tlearn: 327127.8231382\ttotal: 1m 11s\tremaining: 14.9s\n",
      "827:\tlearn: 327088.2389986\ttotal: 1m 11s\tremaining: 14.8s\n",
      "828:\tlearn: 327065.3340453\ttotal: 1m 11s\tremaining: 14.8s\n",
      "829:\tlearn: 327055.0485503\ttotal: 1m 11s\tremaining: 14.7s\n",
      "830:\tlearn: 327053.1982761\ttotal: 1m 11s\tremaining: 14.6s\n",
      "831:\tlearn: 327001.0482526\ttotal: 1m 11s\tremaining: 14.5s\n",
      "832:\tlearn: 326930.7636513\ttotal: 1m 12s\tremaining: 14.5s\n",
      "833:\tlearn: 326745.4330073\ttotal: 1m 12s\tremaining: 14.4s\n",
      "834:\tlearn: 326551.9457407\ttotal: 1m 12s\tremaining: 14.3s\n",
      "835:\tlearn: 326435.1378809\ttotal: 1m 12s\tremaining: 14.2s\n",
      "836:\tlearn: 326170.6358875\ttotal: 1m 12s\tremaining: 14.2s\n",
      "837:\tlearn: 326099.6173092\ttotal: 1m 12s\tremaining: 14.1s\n",
      "838:\tlearn: 325878.0420816\ttotal: 1m 13s\tremaining: 14s\n",
      "839:\tlearn: 325713.5785929\ttotal: 1m 13s\tremaining: 13.9s\n",
      "840:\tlearn: 325682.4467038\ttotal: 1m 13s\tremaining: 13.9s\n",
      "841:\tlearn: 325655.4542728\ttotal: 1m 13s\tremaining: 13.8s\n",
      "842:\tlearn: 325628.3179623\ttotal: 1m 13s\tremaining: 13.7s\n",
      "843:\tlearn: 325542.4918260\ttotal: 1m 13s\tremaining: 13.6s\n",
      "844:\tlearn: 325515.1957843\ttotal: 1m 13s\tremaining: 13.5s\n",
      "845:\tlearn: 325343.6855576\ttotal: 1m 13s\tremaining: 13.4s\n",
      "846:\tlearn: 325222.8663609\ttotal: 1m 13s\tremaining: 13.4s\n",
      "847:\tlearn: 325163.9983752\ttotal: 1m 14s\tremaining: 13.3s\n",
      "848:\tlearn: 325129.4350497\ttotal: 1m 14s\tremaining: 13.2s\n",
      "849:\tlearn: 325088.7805437\ttotal: 1m 14s\tremaining: 13.1s\n",
      "850:\tlearn: 325050.0086551\ttotal: 1m 14s\tremaining: 13.1s\n",
      "851:\tlearn: 325021.2928590\ttotal: 1m 14s\tremaining: 13s\n",
      "852:\tlearn: 324926.9781146\ttotal: 1m 14s\tremaining: 12.9s\n",
      "853:\tlearn: 324917.4315974\ttotal: 1m 14s\tremaining: 12.8s\n",
      "854:\tlearn: 324912.4675298\ttotal: 1m 15s\tremaining: 12.7s\n",
      "855:\tlearn: 324907.3906619\ttotal: 1m 15s\tremaining: 12.6s\n",
      "856:\tlearn: 324898.6386684\ttotal: 1m 15s\tremaining: 12.6s\n",
      "857:\tlearn: 324867.2855805\ttotal: 1m 15s\tremaining: 12.5s\n",
      "858:\tlearn: 324730.8732968\ttotal: 1m 15s\tremaining: 12.4s\n",
      "859:\tlearn: 324659.5535238\ttotal: 1m 15s\tremaining: 12.3s\n",
      "860:\tlearn: 324481.4225046\ttotal: 1m 15s\tremaining: 12.3s\n",
      "861:\tlearn: 324411.6126791\ttotal: 1m 16s\tremaining: 12.2s\n",
      "862:\tlearn: 324362.4543359\ttotal: 1m 16s\tremaining: 12.1s\n",
      "863:\tlearn: 324212.6865966\ttotal: 1m 16s\tremaining: 12s\n",
      "864:\tlearn: 324048.0403971\ttotal: 1m 16s\tremaining: 11.9s\n",
      "865:\tlearn: 323909.2251224\ttotal: 1m 16s\tremaining: 11.8s\n",
      "866:\tlearn: 323789.1766897\ttotal: 1m 16s\tremaining: 11.8s\n",
      "867:\tlearn: 323639.8735783\ttotal: 1m 16s\tremaining: 11.7s\n",
      "868:\tlearn: 323575.1150490\ttotal: 1m 16s\tremaining: 11.6s\n",
      "869:\tlearn: 323322.2926909\ttotal: 1m 16s\tremaining: 11.5s\n",
      "870:\tlearn: 323230.5676366\ttotal: 1m 16s\tremaining: 11.4s\n",
      "871:\tlearn: 323200.7323138\ttotal: 1m 17s\tremaining: 11.3s\n",
      "872:\tlearn: 323155.6160610\ttotal: 1m 17s\tremaining: 11.2s\n",
      "873:\tlearn: 323146.5323411\ttotal: 1m 17s\tremaining: 11.1s\n"
     ]
    },
    {
     "name": "stdout",
     "output_type": "stream",
     "text": [
      "874:\tlearn: 323118.2588008\ttotal: 1m 17s\tremaining: 11.1s\n",
      "875:\tlearn: 323114.7712841\ttotal: 1m 17s\tremaining: 11s\n",
      "876:\tlearn: 323027.4385824\ttotal: 1m 17s\tremaining: 10.9s\n",
      "877:\tlearn: 322908.0621965\ttotal: 1m 17s\tremaining: 10.8s\n",
      "878:\tlearn: 322882.8049134\ttotal: 1m 17s\tremaining: 10.7s\n",
      "879:\tlearn: 322836.1905379\ttotal: 1m 17s\tremaining: 10.6s\n",
      "880:\tlearn: 322773.1514278\ttotal: 1m 17s\tremaining: 10.5s\n",
      "881:\tlearn: 322655.6566322\ttotal: 1m 17s\tremaining: 10.4s\n",
      "882:\tlearn: 322629.8834916\ttotal: 1m 18s\tremaining: 10.3s\n",
      "883:\tlearn: 322476.8738527\ttotal: 1m 18s\tremaining: 10.3s\n",
      "884:\tlearn: 322446.4527938\ttotal: 1m 18s\tremaining: 10.2s\n",
      "885:\tlearn: 322403.6563990\ttotal: 1m 18s\tremaining: 10.1s\n",
      "886:\tlearn: 322345.5150023\ttotal: 1m 18s\tremaining: 9.98s\n",
      "887:\tlearn: 322340.3719438\ttotal: 1m 18s\tremaining: 9.89s\n",
      "888:\tlearn: 322132.1407829\ttotal: 1m 18s\tremaining: 9.81s\n",
      "889:\tlearn: 321964.8412277\ttotal: 1m 18s\tremaining: 9.72s\n",
      "890:\tlearn: 321929.8329435\ttotal: 1m 18s\tremaining: 9.63s\n",
      "891:\tlearn: 321849.6578150\ttotal: 1m 18s\tremaining: 9.54s\n",
      "892:\tlearn: 321810.2832239\ttotal: 1m 18s\tremaining: 9.45s\n",
      "893:\tlearn: 321782.8378668\ttotal: 1m 18s\tremaining: 9.36s\n",
      "894:\tlearn: 321745.0647573\ttotal: 1m 19s\tremaining: 9.28s\n",
      "895:\tlearn: 321449.6416357\ttotal: 1m 19s\tremaining: 9.19s\n",
      "896:\tlearn: 321407.7004088\ttotal: 1m 19s\tremaining: 9.1s\n",
      "897:\tlearn: 321344.4466963\ttotal: 1m 19s\tremaining: 9.01s\n",
      "898:\tlearn: 321282.8221037\ttotal: 1m 19s\tremaining: 8.91s\n",
      "899:\tlearn: 321229.3495395\ttotal: 1m 19s\tremaining: 8.83s\n",
      "900:\tlearn: 321220.2171848\ttotal: 1m 19s\tremaining: 8.74s\n",
      "901:\tlearn: 321216.7694408\ttotal: 1m 19s\tremaining: 8.66s\n",
      "902:\tlearn: 321208.8183222\ttotal: 1m 19s\tremaining: 8.58s\n",
      "903:\tlearn: 321133.7277049\ttotal: 1m 20s\tremaining: 8.49s\n",
      "904:\tlearn: 321130.9731775\ttotal: 1m 20s\tremaining: 8.41s\n",
      "905:\tlearn: 320993.6248173\ttotal: 1m 20s\tremaining: 8.33s\n",
      "906:\tlearn: 320981.3994037\ttotal: 1m 20s\tremaining: 8.26s\n",
      "907:\tlearn: 320896.8734391\ttotal: 1m 20s\tremaining: 8.18s\n",
      "908:\tlearn: 320829.1796472\ttotal: 1m 21s\tremaining: 8.11s\n",
      "909:\tlearn: 320781.6472435\ttotal: 1m 21s\tremaining: 8.04s\n",
      "910:\tlearn: 320763.5237808\ttotal: 1m 21s\tremaining: 7.96s\n",
      "911:\tlearn: 320712.9354496\ttotal: 1m 21s\tremaining: 7.88s\n",
      "912:\tlearn: 320472.5935819\ttotal: 1m 21s\tremaining: 7.81s\n",
      "913:\tlearn: 320363.1479015\ttotal: 1m 22s\tremaining: 7.74s\n",
      "914:\tlearn: 320256.5783621\ttotal: 1m 22s\tremaining: 7.67s\n",
      "915:\tlearn: 320206.7254195\ttotal: 1m 22s\tremaining: 7.6s\n",
      "916:\tlearn: 320138.1931153\ttotal: 1m 23s\tremaining: 7.53s\n",
      "917:\tlearn: 320131.6408047\ttotal: 1m 23s\tremaining: 7.46s\n",
      "918:\tlearn: 320109.7102963\ttotal: 1m 23s\tremaining: 7.38s\n",
      "919:\tlearn: 319830.7880835\ttotal: 1m 24s\tremaining: 7.31s\n",
      "920:\tlearn: 319615.2801703\ttotal: 1m 24s\tremaining: 7.23s\n",
      "921:\tlearn: 319506.1888242\ttotal: 1m 24s\tremaining: 7.16s\n",
      "922:\tlearn: 319452.6887536\ttotal: 1m 24s\tremaining: 7.08s\n",
      "923:\tlearn: 319385.7496606\ttotal: 1m 25s\tremaining: 6.99s\n",
      "924:\tlearn: 319325.6101762\ttotal: 1m 25s\tremaining: 6.92s\n",
      "925:\tlearn: 319201.3542730\ttotal: 1m 25s\tremaining: 6.84s\n",
      "926:\tlearn: 319098.2297439\ttotal: 1m 25s\tremaining: 6.76s\n",
      "927:\tlearn: 319040.3896661\ttotal: 1m 26s\tremaining: 6.68s\n",
      "928:\tlearn: 319012.8507192\ttotal: 1m 26s\tremaining: 6.6s\n",
      "929:\tlearn: 318957.1688213\ttotal: 1m 26s\tremaining: 6.51s\n",
      "930:\tlearn: 318850.0455786\ttotal: 1m 26s\tremaining: 6.42s\n",
      "931:\tlearn: 318826.5503404\ttotal: 1m 26s\tremaining: 6.33s\n",
      "932:\tlearn: 318799.6645106\ttotal: 1m 26s\tremaining: 6.24s\n",
      "933:\tlearn: 318782.0925191\ttotal: 1m 26s\tremaining: 6.15s\n",
      "934:\tlearn: 318743.4620660\ttotal: 1m 27s\tremaining: 6.05s\n",
      "935:\tlearn: 318723.3201100\ttotal: 1m 27s\tremaining: 5.96s\n",
      "936:\tlearn: 318626.4206860\ttotal: 1m 27s\tremaining: 5.87s\n",
      "937:\tlearn: 318568.4233251\ttotal: 1m 27s\tremaining: 5.77s\n",
      "938:\tlearn: 318526.5417106\ttotal: 1m 27s\tremaining: 5.68s\n",
      "939:\tlearn: 318417.0345438\ttotal: 1m 27s\tremaining: 5.59s\n",
      "940:\tlearn: 318392.1774006\ttotal: 1m 27s\tremaining: 5.5s\n",
      "941:\tlearn: 318206.2855192\ttotal: 1m 27s\tremaining: 5.41s\n",
      "942:\tlearn: 318098.8806043\ttotal: 1m 27s\tremaining: 5.31s\n",
      "943:\tlearn: 318040.3162466\ttotal: 1m 28s\tremaining: 5.22s\n",
      "944:\tlearn: 318010.6046278\ttotal: 1m 28s\tremaining: 5.13s\n",
      "945:\tlearn: 317916.2960149\ttotal: 1m 28s\tremaining: 5.04s\n",
      "946:\tlearn: 317879.5403426\ttotal: 1m 28s\tremaining: 4.94s\n",
      "947:\tlearn: 317838.6102309\ttotal: 1m 28s\tremaining: 4.85s\n",
      "948:\tlearn: 317834.0408618\ttotal: 1m 28s\tremaining: 4.76s\n",
      "949:\tlearn: 317706.1529865\ttotal: 1m 28s\tremaining: 4.67s\n",
      "950:\tlearn: 317688.7760516\ttotal: 1m 28s\tremaining: 4.57s\n",
      "951:\tlearn: 317684.5428617\ttotal: 1m 28s\tremaining: 4.48s\n",
      "952:\tlearn: 317654.0306717\ttotal: 1m 29s\tremaining: 4.39s\n",
      "953:\tlearn: 317561.6150044\ttotal: 1m 29s\tremaining: 4.3s\n",
      "954:\tlearn: 317495.1437632\ttotal: 1m 29s\tremaining: 4.21s\n",
      "955:\tlearn: 317142.4124053\ttotal: 1m 29s\tremaining: 4.11s\n",
      "956:\tlearn: 317137.0237977\ttotal: 1m 29s\tremaining: 4.02s\n",
      "957:\tlearn: 316961.4284833\ttotal: 1m 29s\tremaining: 3.93s\n",
      "958:\tlearn: 316879.2513445\ttotal: 1m 29s\tremaining: 3.84s\n",
      "959:\tlearn: 316852.2206664\ttotal: 1m 29s\tremaining: 3.74s\n",
      "960:\tlearn: 316777.4189016\ttotal: 1m 29s\tremaining: 3.65s\n",
      "961:\tlearn: 316772.5834799\ttotal: 1m 30s\tremaining: 3.56s\n",
      "962:\tlearn: 316723.1149286\ttotal: 1m 30s\tremaining: 3.47s\n",
      "963:\tlearn: 316682.8405418\ttotal: 1m 30s\tremaining: 3.38s\n",
      "964:\tlearn: 316650.3358709\ttotal: 1m 30s\tremaining: 3.29s\n",
      "965:\tlearn: 316635.5689792\ttotal: 1m 30s\tremaining: 3.19s\n",
      "966:\tlearn: 316612.6858161\ttotal: 1m 30s\tremaining: 3.1s\n",
      "967:\tlearn: 316608.3089851\ttotal: 1m 30s\tremaining: 3s\n",
      "968:\tlearn: 316546.7436189\ttotal: 1m 31s\tremaining: 2.91s\n",
      "969:\tlearn: 316534.9060814\ttotal: 1m 31s\tremaining: 2.82s\n",
      "970:\tlearn: 316461.0187018\ttotal: 1m 31s\tremaining: 2.72s\n",
      "971:\tlearn: 316449.1156199\ttotal: 1m 31s\tremaining: 2.63s\n",
      "972:\tlearn: 316404.7426202\ttotal: 1m 31s\tremaining: 2.54s\n",
      "973:\tlearn: 316341.6742481\ttotal: 1m 31s\tremaining: 2.44s\n",
      "974:\tlearn: 316319.9002146\ttotal: 1m 31s\tremaining: 2.35s\n",
      "975:\tlearn: 316308.0073361\ttotal: 1m 31s\tremaining: 2.25s\n",
      "976:\tlearn: 316151.0264247\ttotal: 1m 31s\tremaining: 2.16s\n",
      "977:\tlearn: 316147.5370563\ttotal: 1m 31s\tremaining: 2.07s\n",
      "978:\tlearn: 315964.6121037\ttotal: 1m 32s\tremaining: 1.97s\n",
      "979:\tlearn: 315914.4244220\ttotal: 1m 32s\tremaining: 1.88s\n",
      "980:\tlearn: 315904.5689759\ttotal: 1m 32s\tremaining: 1.78s\n",
      "981:\tlearn: 315861.5675636\ttotal: 1m 32s\tremaining: 1.69s\n",
      "982:\tlearn: 315801.7614143\ttotal: 1m 32s\tremaining: 1.6s\n",
      "983:\tlearn: 315662.5025693\ttotal: 1m 32s\tremaining: 1.5s\n",
      "984:\tlearn: 315535.9660820\ttotal: 1m 32s\tremaining: 1.41s\n",
      "985:\tlearn: 315364.1581529\ttotal: 1m 32s\tremaining: 1.31s\n",
      "986:\tlearn: 315313.9366305\ttotal: 1m 32s\tremaining: 1.22s\n",
      "987:\tlearn: 315195.2367901\ttotal: 1m 32s\tremaining: 1.13s\n",
      "988:\tlearn: 314954.2744066\ttotal: 1m 32s\tremaining: 1.03s\n",
      "989:\tlearn: 314795.7697897\ttotal: 1m 33s\tremaining: 940ms\n",
      "990:\tlearn: 314572.9688769\ttotal: 1m 33s\tremaining: 846ms\n",
      "991:\tlearn: 314554.6634066\ttotal: 1m 33s\tremaining: 752ms\n",
      "992:\tlearn: 314521.7071925\ttotal: 1m 33s\tremaining: 658ms\n",
      "993:\tlearn: 314463.8912752\ttotal: 1m 33s\tremaining: 564ms\n",
      "994:\tlearn: 314339.3602582\ttotal: 1m 33s\tremaining: 470ms\n",
      "995:\tlearn: 314275.7604246\ttotal: 1m 33s\tremaining: 376ms\n",
      "996:\tlearn: 314271.9660228\ttotal: 1m 33s\tremaining: 282ms\n",
      "997:\tlearn: 314254.8120547\ttotal: 1m 33s\tremaining: 188ms\n",
      "998:\tlearn: 314174.5264248\ttotal: 1m 33s\tremaining: 94ms\n",
      "999:\tlearn: 314071.1410558\ttotal: 1m 34s\tremaining: 0us\n"
     ]
    },
    {
     "data": {
      "text/plain": [
       "<catboost.core.CatBoostRegressor at 0x1b7d81bffa0>"
      ]
     },
     "execution_count": 32,
     "metadata": {},
     "output_type": "execute_result"
    }
   ],
   "source": [
    "model = CatBoostRegressor(cat_features=cat_cols)\n",
    "model.fit(X, y)"
   ]
  },
  {
   "cell_type": "markdown",
   "metadata": {},
   "source": [
    "### Анализируем результат модели на обучении"
   ]
  },
  {
   "cell_type": "code",
   "execution_count": 33,
   "metadata": {},
   "outputs": [
    {
     "data": {
      "text/plain": [
       "{'learn': {'RMSE': 314071.1410558236}}"
      ]
     },
     "execution_count": 33,
     "metadata": {},
     "output_type": "execute_result"
    }
   ],
   "source": [
    "model.get_best_score()"
   ]
  },
  {
   "cell_type": "markdown",
   "metadata": {},
   "source": [
    "ну так себе разброс  в 314000"
   ]
  },
  {
   "cell_type": "markdown",
   "metadata": {},
   "source": [
    "### Признаки, отобранные моеделью"
   ]
  },
  {
   "cell_type": "code",
   "execution_count": 34,
   "metadata": {},
   "outputs": [
    {
     "data": {
      "text/plain": [
       "enginePower            26.240065\n",
       "productionDate         18.728183\n",
       "mileage                15.300073\n",
       "engineDisplacement     13.365421\n",
       "brand                  10.172462\n",
       "Привод                  5.018099\n",
       "model_name              2.939721\n",
       "fuelType                2.423767\n",
       "bodyType                1.902101\n",
       "Владельцы               1.823259\n",
       "vehicleTransmission     1.173234\n",
       "color                   0.609905\n",
       "vendor                  0.138881\n",
       "numberOfDoors           0.117047\n",
       "ПТС                     0.042506\n",
       "Руль                    0.005277\n",
       "dtype: float64"
      ]
     },
     "execution_count": 34,
     "metadata": {},
     "output_type": "execute_result"
    }
   ],
   "source": [
    "pd.Series(model.get_feature_importance(), index=model.feature_names_).sort_values(ascending=False)"
   ]
  },
  {
   "cell_type": "markdown",
   "metadata": {},
   "source": [
    "## Сделаем сабмит в kaggle"
   ]
  },
  {
   "cell_type": "code",
   "execution_count": 35,
   "metadata": {},
   "outputs": [],
   "source": [
    "X_test = df[~df.is_train].drop('price', axis=1).loc[:, cat_cols+num_cols]"
   ]
  },
  {
   "cell_type": "code",
   "execution_count": 36,
   "metadata": {},
   "outputs": [],
   "source": [
    "def make_submit(model, X_test, submit_file, index=None):\n",
    "    pred = np.round(model.predict(X_test))\n",
    "    answer = pd.Series(pred, index=index, name='price')\n",
    "    answer.to_csv(submit_file, index_label='sell_id')\n",
    "    \n",
    "    "
   ]
  },
  {
   "cell_type": "code",
   "execution_count": 37,
   "metadata": {},
   "outputs": [],
   "source": [
    "make_submit(model, X_test, submit_file='predict.csv', index=df[~df.is_train].sell_id)"
   ]
  },
  {
   "cell_type": "markdown",
   "metadata": {},
   "source": [
    "Ну так себе результат, 22% ошибки. Но есть над чем поработать."
   ]
  },
  {
   "cell_type": "markdown",
   "metadata": {},
   "source": [
    "# Выводы\n",
    "\n",
    "* У нас получилось построить простую модель, которая более-менее предсказывает цену на автомобили\n",
    "* Использовали CatBoost с дефолтными настройками\n",
    "* Самыми топовыми признаками модели стали: enginePower, productionDate, mileage. Что впринципе логично\n",
    "\n",
    "# Дальнейшие шаги\n",
    "\n",
    "* Будем работать с добавлением новых признаков\n",
    "* Будем использовать и настраивать другие модели"
   ]
  },
  {
   "cell_type": "code",
   "execution_count": null,
   "metadata": {},
   "outputs": [],
   "source": []
  }
 ],
 "metadata": {
  "kernelspec": {
   "display_name": "Python 3",
   "language": "python",
   "name": "python3"
  },
  "language_info": {
   "codemirror_mode": {
    "name": "ipython",
    "version": 3
   },
   "file_extension": ".py",
   "mimetype": "text/x-python",
   "name": "python",
   "nbconvert_exporter": "python",
   "pygments_lexer": "ipython3",
   "version": "3.8.5"
  },
  "toc": {
   "base_numbering": 1,
   "nav_menu": {},
   "number_sections": true,
   "sideBar": true,
   "skip_h1_title": false,
   "title_cell": "Table of Contents",
   "title_sidebar": "Contents",
   "toc_cell": false,
   "toc_position": {
    "height": "calc(100% - 180px)",
    "left": "10px",
    "top": "150px",
    "width": "426.667px"
   },
   "toc_section_display": true,
   "toc_window_display": true
  },
  "varInspector": {
   "cols": {
    "lenName": 16,
    "lenType": 16,
    "lenVar": 40
   },
   "kernels_config": {
    "python": {
     "delete_cmd_postfix": "",
     "delete_cmd_prefix": "del ",
     "library": "var_list.py",
     "varRefreshCmd": "print(var_dic_list())"
    },
    "r": {
     "delete_cmd_postfix": ") ",
     "delete_cmd_prefix": "rm(",
     "library": "var_list.r",
     "varRefreshCmd": "cat(var_dic_list()) "
    }
   },
   "types_to_exclude": [
    "module",
    "function",
    "builtin_function_or_method",
    "instance",
    "_Feature"
   ],
   "window_display": false
  }
 },
 "nbformat": 4,
 "nbformat_minor": 4
}
