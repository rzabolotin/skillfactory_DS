{
 "cells": [
  {
   "cell_type": "markdown",
   "metadata": {},
   "source": [
    "# Часть 4. Feature engiering\n",
    "\n",
    "Из прошлой части у нас есть подготовленный набор данных, на котором мы построили простую модель.  \n",
    "В этой части попробуем добавить новые фичи для обучения."
   ]
  },
  {
   "cell_type": "code",
   "execution_count": 1,
   "metadata": {},
   "outputs": [],
   "source": [
    "import json\n",
    "import pickle\n",
    "from functools import partial\n",
    "\n",
    "import numpy as np\n",
    "import pandas as pd\n",
    "import seaborn as sns\n",
    "import matplotlib.pyplot as plt\n",
    "\n",
    "from sklearn.model_selection import KFold, cross_val_score, train_test_split\n",
    "from sklearn.metrics import make_scorer\n",
    "from sklearn.ensemble import RandomForestRegressor\n",
    "from sklearn.preprocessing import StandardScaler\n",
    "from sklearn.linear_model import Lasso\n",
    "from sklearn.feature_extraction.text import CountVectorizer, TfidfVectorizer\n",
    "from nltk.corpus import stopwords\n",
    "from scipy.sparse import hstack"
   ]
  },
  {
   "cell_type": "markdown",
   "metadata": {},
   "source": [
    "Сделаем настройки ноутбука"
   ]
  },
  {
   "cell_type": "code",
   "execution_count": 2,
   "metadata": {},
   "outputs": [],
   "source": [
    "pd.options.display.float_format = '{:,.2f}'.format\n",
    "plt.rcParams['figure.figsize'] = 12, 8\n",
    "RANDOM_STATE=43"
   ]
  },
  {
   "cell_type": "markdown",
   "metadata": {},
   "source": [
    "## Прочитаем набор полученный на предыдущем шаге"
   ]
  },
  {
   "cell_type": "code",
   "execution_count": 3,
   "metadata": {},
   "outputs": [
    {
     "name": "stdout",
     "output_type": "stream",
     "text": [
      "df.shape=(70896, 34)\n"
     ]
    },
    {
     "name": "stderr",
     "output_type": "stream",
     "text": [
      "C:\\Soft\\anaconda\\lib\\site-packages\\IPython\\core\\interactiveshell.py:3146: DtypeWarning: Columns (20) have mixed types.Specify dtype option on import or set low_memory=False.\n",
      "  has_raised = await self.run_ast_nodes(code_ast.body, cell_name,\n"
     ]
    }
   ],
   "source": [
    "df = pd.read_csv('data1.csv')\n",
    "print(f\"{df.shape=}\")"
   ]
  },
  {
   "cell_type": "markdown",
   "metadata": {},
   "source": [
    "## Определим функции для дальнейшего анализа\n",
    "\n",
    "* `fit_and_score_model` - оценивает переданнух модель на кросс валидации, и выводит среднее значение метрики `mape`\n",
    "* `make_submit` - делает предсказание модели на тестовых данныхЪ и сохраняет их в файл `predict.csv`\n",
    "* `prepare_data` - подгаталивает тренировочный и тестовый набор (на основании переданного списка колонок)"
   ]
  },
  {
   "cell_type": "code",
   "execution_count": 4,
   "metadata": {},
   "outputs": [],
   "source": [
    "def mape(y_true, y_pred):\n",
    "    \"\"\"оценка MEAN ABSOLUTE PERCENTAGE ERROR, которая используется в соревновании\"\"\"\n",
    "    return np.mean(np.abs((y_true - y_pred) / y_true)) * 100\n",
    "\n",
    "    \n",
    "def fit_and_score_model(model, X, y):\n",
    "    \"\"\"Оцениваем модель и данные на трех фолдах. Выводим средюю оценку, и оценки на фолдах\"\"\"\n",
    "    \n",
    "    kf = KFold(n_splits=3, shuffle=True, random_state=RANDOM_STATE)\n",
    "    cv_results = cross_val_score(\n",
    "        model, X, y, cv=kf, n_jobs=-1, scoring=make_scorer(mape))\n",
    "    \n",
    "    model.fit(X_train,y)\n",
    "    train_score = mape(y, model.predict(X_train))\n",
    "    \n",
    "    print(\"#\"*100)\n",
    "    print(model)\n",
    "    print(f\"train shape {X.shape}\")\n",
    "    print(f\"{cat_cols=}\")\n",
    "    print(f\"{num_cols=}\")\n",
    "    print(\"#\"*100)\n",
    "    print(f\"Train result: {train_score}\")\n",
    "    print(f'CV result: {np.mean(cv_results)} ({cv_results})')\n",
    "    print(\"#\"*100)\n",
    "\n",
    "\n",
    "def make_submit_file(model, X_test, file_name='predict.csv'):\n",
    "    \"\"\"запишем предсказание модели в файл, готовый к отправке на kaggle\"\"\"\n",
    "    pred = np.round(model.predict(X_test))\n",
    "    answer = pd.Series(pred, index=df[~df.is_train].sell_id, name='price')\n",
    "    answer.to_csv(file_name, index_label='sell_id')\n",
    "\n",
    "\n",
    "def prepare_data(categorical_columns: list, numerical_columns: list):\n",
    "    \"\"\"Вытащим требуемые данные из глобальной переменной df\n",
    "    к категориальным применим dummy кодирование\n",
    "    к числовым Шкалирование\"\"\"\n",
    "    X = df.loc[:, categorical_columns+numerical_columns+['is_train']]\n",
    "\n",
    "    X = pd.get_dummies(X, columns=categorical_columns)\n",
    "    X[numerical_columns] = StandardScaler().fit_transform(X[numerical_columns])\n",
    "    \n",
    "    X_train = X[X.is_train == 1].drop('is_train', axis=1)\n",
    "    X_test = X[X.is_train == 0].drop('is_train', axis=1)\n",
    "\n",
    "    y = df[df.is_train].price\n",
    "\n",
    "    return X_train, X_test, y"
   ]
  },
  {
   "cell_type": "markdown",
   "metadata": {},
   "source": [
    "# Попробуем модель случайный лес"
   ]
  },
  {
   "cell_type": "markdown",
   "metadata": {},
   "source": [
    "Попробуем модель случайный лес на имеющихся данных, и будем ее считать как начальный бейзлайн для дальнейшей работы с данными  \n",
    "Случайный лес достаточно универсальная модель, которая к тому же показывает важность наших фич"
   ]
  },
  {
   "cell_type": "code",
   "execution_count": 5,
   "metadata": {},
   "outputs": [],
   "source": [
    "cat_cols = ['bodyType', 'brand', 'fuelType', 'color', 'model_name',\n",
    "            'vehicleTransmission', 'vendor', 'ПТС', 'Владельцы', 'Привод', 'Руль']\n",
    "num_cols = ['productionDate', 'numberOfDoors',\n",
    "            'engineDisplacement', 'mileage', ]"
   ]
  },
  {
   "cell_type": "code",
   "execution_count": 6,
   "metadata": {},
   "outputs": [],
   "source": [
    "X_train, X_test, y = prepare_data(cat_cols, num_cols)"
   ]
  },
  {
   "cell_type": "code",
   "execution_count": 7,
   "metadata": {},
   "outputs": [],
   "source": [
    "model = RandomForestRegressor(100, random_state=RANDOM_STATE)"
   ]
  },
  {
   "cell_type": "code",
   "execution_count": null,
   "metadata": {},
   "outputs": [],
   "source": [
    "%%time\n",
    "fit_and_score_model(model, X_train, y)"
   ]
  },
  {
   "cell_type": "markdown",
   "metadata": {},
   "source": [
    "Неплохие начальные результаты.  \n",
    "Посмотрим на важные признаки модели."
   ]
  },
  {
   "cell_type": "code",
   "execution_count": 17,
   "metadata": {},
   "outputs": [
    {
     "data": {
      "text/plain": [
       "mileage                              0.36\n",
       "engineDisplacement                   0.31\n",
       "productionDate                       0.08\n",
       "model_name_G-КЛАСС AMG               0.04\n",
       "model_name_MAYBACH S-КЛАСС           0.03\n",
       "brand_MERCEDES                       0.03\n",
       "vehicleTransmission_автоматическая   0.02\n",
       "model_name_SLR MCLAREN               0.01\n",
       "Привод_передний                      0.01\n",
       "Привод_задний                        0.01\n",
       "Привод_полный                        0.01\n",
       "model_name_G-КЛАСС                   0.01\n",
       "vendor_EUROPEAN                      0.01\n",
       "vehicleTransmission_механическая     0.01\n",
       "model_name_GLE                       0.01\n",
       "vendor_JAPANESE                      0.00\n",
       "bodyType_минивэн                     0.00\n",
       "model_name_W188                      0.00\n",
       "model_name_V-КЛАСС                   0.00\n",
       "Владельцы_1 владелец                 0.00\n",
       "dtype: float64"
      ]
     },
     "execution_count": 17,
     "metadata": {},
     "output_type": "execute_result"
    }
   ],
   "source": [
    "pd.Series(model.feature_importances_,\n",
    "          index=X_train.columns).sort_values(ascending=False).iloc[:20]"
   ]
  },
  {
   "cell_type": "markdown",
   "metadata": {},
   "source": [
    "в тесте обнуружились пропуски, пока уберем таким костылем"
   ]
  },
  {
   "cell_type": "code",
   "execution_count": 18,
   "metadata": {},
   "outputs": [],
   "source": [
    "X_test.engineDisplacement.fillna(df.engineDisplacement.mean(), inplace=True)"
   ]
  },
  {
   "cell_type": "code",
   "execution_count": 19,
   "metadata": {},
   "outputs": [],
   "source": [
    "make_submit_file(model, X_test, \"1_baseline_random_forest_100.csv\")"
   ]
  },
  {
   "cell_type": "markdown",
   "metadata": {},
   "source": [
    "**RandomForestRegressor(random_state=43)**  \n",
    "CV mean_result: 14.63  \n",
    "train mape 5.86  \n",
    "kaggle submit 13.86826"
   ]
  },
  {
   "cell_type": "markdown",
   "metadata": {},
   "source": [
    "# Сделаем небольшой EDA"
   ]
  },
  {
   "cell_type": "markdown",
   "metadata": {},
   "source": [
    "Давайте исследуем наши данные еще раз, и попрбуем добавить новые фичи.  \n",
    "План такой:  \n",
    "* Посмотреть корреляцию данных\n",
    "* Посмотреть пропуски если получиться и заполнить их\n",
    "* Анализировать колонки"
   ]
  },
  {
   "cell_type": "markdown",
   "metadata": {},
   "source": [
    "## Ищем корреляцию"
   ]
  },
  {
   "cell_type": "code",
   "execution_count": 7,
   "metadata": {},
   "outputs": [
    {
     "data": {
      "image/png": "[encoded data removed]",
      "text/plain": [
       "<Figure size 864x576 with 2 Axes>"
      ]
     },
     "metadata": {
      "needs_background": "light"
     },
     "output_type": "display_data"
    }
   ],
   "source": [
    "sns.heatmap(df.corr());"
   ]
  },
  {
   "cell_type": "markdown",
   "metadata": {},
   "source": [
    "Выводы по диаграмме корреляции:  \n",
    "- production_date коррелирует с model_date - оставляем ону колонку\n",
    "- bp engine dicplacement коррелирует с engine power - оставляем одну колонку\n",
    "- mileage отрицательно коррелрует с modelDate, productionDate и price"
   ]
  },
  {
   "cell_type": "markdown",
   "metadata": {},
   "source": [
    "## Исследуем пропуски"
   ]
  },
  {
   "cell_type": "code",
   "execution_count": 8,
   "metadata": {},
   "outputs": [
    {
     "data": {
      "text/plain": [
       "bodyType                    0\n",
       "brand                       0\n",
       "car_url                     0\n",
       "color                       0\n",
       "complectation_dict      28268\n",
       "description              1000\n",
       "engineDisplacement         55\n",
       "enginePower                 0\n",
       "equipment_dict           9996\n",
       "fuelType                    0\n",
       "image                       0\n",
       "mileage                     0\n",
       "modelDate                   0\n",
       "model_info                  0\n",
       "model_name                  0\n",
       "name                        0\n",
       "numberOfDoors               0\n",
       "parsing_unixtime            0\n",
       "priceCurrency               0\n",
       "productionDate              0\n",
       "sell_id                     0\n",
       "super_gen                   0\n",
       "vehicleConfiguration        0\n",
       "vehicleTransmission         0\n",
       "vendor                      0\n",
       "Владельцы                   0\n",
       "Владение                49577\n",
       "ПТС                         0\n",
       "Привод                      0\n",
       "Руль                        0\n",
       "Состояние                   0\n",
       "Таможня                     0\n",
       "is_train                    0\n",
       "price                       0\n",
       "dtype: int64"
      ]
     },
     "execution_count": 8,
     "metadata": {},
     "output_type": "execute_result"
    }
   ],
   "source": [
    "df.isna().sum()"
   ]
  },
  {
   "cell_type": "markdown",
   "metadata": {},
   "source": [
    "**Выводы:**  \n",
    "\n",
    "* `complectation_dict`, `description`, `equipment_dict` - это поля, из которых мы будем получать доп.сведения (если успеем) пока пропуски в этих полях не используем (как и сами поля)  \n",
    "\n",
    "* `engineDisplacement` надо заполнить, уже вылезло это в первой модели  \n",
    "\n",
    "* `Владение` - пока не используем, но нужно будет поработать с этим полем отом"
   ]
  },
  {
   "cell_type": "markdown",
   "metadata": {},
   "source": [
    "### Заполним пропуск engineDisplacement"
   ]
  },
  {
   "cell_type": "markdown",
   "metadata": {},
   "source": [
    "посмотрим, какой тип топлива у незаполненных машин"
   ]
  },
  {
   "cell_type": "code",
   "execution_count": 9,
   "metadata": {},
   "outputs": [
    {
     "data": {
      "text/plain": [
       "электро    55\n",
       "Name: fuelType, dtype: int64"
      ]
     },
     "execution_count": 9,
     "metadata": {},
     "output_type": "execute_result"
    }
   ],
   "source": [
    "df[df.engineDisplacement.isna()].fuelType.value_counts()"
   ]
  },
  {
   "cell_type": "markdown",
   "metadata": {},
   "source": [
    "а у электро всегда ставят 0 объем"
   ]
  },
  {
   "cell_type": "code",
   "execution_count": 10,
   "metadata": {},
   "outputs": [
    {
     "data": {
      "text/plain": [
       "0.00    59\n",
       "Name: engineDisplacement, dtype: int64"
      ]
     },
     "execution_count": 10,
     "metadata": {},
     "output_type": "execute_result"
    }
   ],
   "source": [
    "df[df.fuelType=='электро'].engineDisplacement.value_counts()"
   ]
  },
  {
   "cell_type": "code",
   "execution_count": 11,
   "metadata": {},
   "outputs": [],
   "source": [
    "df.loc[df.fuelType=='электро','engineDisplacement'] = df.loc[df.fuelType=='электро','engineDisplacement'].fillna(0)"
   ]
  },
  {
   "cell_type": "markdown",
   "metadata": {},
   "source": [
    "## price"
   ]
  },
  {
   "cell_type": "markdown",
   "metadata": {},
   "source": [
    "Целевая колонка распределена лог-нормально.  \n",
    "Возможно стоит ее логарифмировать в будующем.  \n",
    "Но пока оставим это как есть. Может быть потом будет использовать"
   ]
  },
  {
   "cell_type": "code",
   "execution_count": 12,
   "metadata": {},
   "outputs": [
    {
     "data": {
      "image/png": "[encoded data removed]",
      "text/plain": [
       "<Figure size 1080x576 with 2 Axes>"
      ]
     },
     "metadata": {
      "needs_background": "light"
     },
     "output_type": "display_data"
    }
   ],
   "source": [
    "figure, (ax1, ax2) = plt.subplots(1, 2, figsize=(15, 8))\n",
    "ax1.hist(df[df.is_train==1].price)\n",
    "ax2.hist(np.log(df[df.is_train==1].price))\n",
    "figure.suptitle('Распределение цен (исходное и в логарифмированной шкале)')\n",
    "plt.show()"
   ]
  },
  {
   "cell_type": "code",
   "execution_count": 19,
   "metadata": {},
   "outputs": [],
   "source": [
    "df[\"price_log\"] = np.log(df[df.is_train==1].price)"
   ]
  },
  {
   "cell_type": "markdown",
   "metadata": {},
   "source": [
    "## bodyType"
   ]
  },
  {
   "cell_type": "markdown",
   "metadata": {},
   "source": [
    "в колонке 25 значений, очень сильно по ним варьируется цена  \n",
    "возможно стоит объединить все в более крупную схему (внедорожники все вместе, седаны, хетчбеки) - нужно проверить идею"
   ]
  },
  {
   "cell_type": "code",
   "execution_count": 13,
   "metadata": {},
   "outputs": [
    {
     "data": {
      "text/plain": [
       "внедорожник 5 дв.          28277\n",
       "седан                      24621\n",
       "лифтбек                     4924\n",
       "хэтчбек 5 дв.               3884\n",
       "универсал 5 дв.             2490\n",
       "минивэн                     1754\n",
       "купе                        1578\n",
       "компактвэн                   928\n",
       "хэтчбек 3 дв.                855\n",
       "пикап двойная кабина         569\n",
       "внедорожник 3 дв.            248\n",
       "купе-хардтоп                 217\n",
       "кабриолет                    170\n",
       "родстер                      150\n",
       "фургон                       144\n",
       "микровэн                      22\n",
       "седан-хардтоп                 15\n",
       "седан 2 дв.                   12\n",
       "пикап одинарная кабина        11\n",
       "лимузин                        9\n",
       "пикап полуторная кабина        7\n",
       "тарга                          4\n",
       "внедорожник открытый           4\n",
       "фастбек                        2\n",
       "универсал 3 дв.1               1\n",
       "Name: bodyType, dtype: int64"
      ]
     },
     "execution_count": 13,
     "metadata": {},
     "output_type": "execute_result"
    }
   ],
   "source": [
    "df.bodyType.value_counts()"
   ]
  },
  {
   "cell_type": "code",
   "execution_count": 14,
   "metadata": {},
   "outputs": [
    {
     "data": {
      "text/html": [
       "<div>\n",
       "<style scoped>\n",
       "    .dataframe tbody tr th:only-of-type {\n",
       "        vertical-align: middle;\n",
       "    }\n",
       "\n",
       "    .dataframe tbody tr th {\n",
       "        vertical-align: top;\n",
       "    }\n",
       "\n",
       "    .dataframe thead th {\n",
       "        text-align: right;\n",
       "    }\n",
       "</style>\n",
       "<table border=\"1\" class=\"dataframe\">\n",
       "  <thead>\n",
       "    <tr style=\"text-align: right;\">\n",
       "      <th></th>\n",
       "      <th></th>\n",
       "      <th>count</th>\n",
       "      <th>min</th>\n",
       "      <th>mean</th>\n",
       "      <th>max</th>\n",
       "    </tr>\n",
       "    <tr>\n",
       "      <th>bodyType</th>\n",
       "      <th>is_train</th>\n",
       "      <th></th>\n",
       "      <th></th>\n",
       "      <th></th>\n",
       "      <th></th>\n",
       "    </tr>\n",
       "  </thead>\n",
       "  <tbody>\n",
       "    <tr>\n",
       "      <th rowspan=\"2\" valign=\"top\">внедорожник 3 дв.</th>\n",
       "      <th>False</th>\n",
       "      <td>115</td>\n",
       "      <td>0</td>\n",
       "      <td>0.00</td>\n",
       "      <td>0</td>\n",
       "    </tr>\n",
       "    <tr>\n",
       "      <th>True</th>\n",
       "      <td>133</td>\n",
       "      <td>100000</td>\n",
       "      <td>455,878.29</td>\n",
       "      <td>3500000</td>\n",
       "    </tr>\n",
       "    <tr>\n",
       "      <th rowspan=\"2\" valign=\"top\">внедорожник 5 дв.</th>\n",
       "      <th>False</th>\n",
       "      <td>12228</td>\n",
       "      <td>0</td>\n",
       "      <td>0.00</td>\n",
       "      <td>0</td>\n",
       "    </tr>\n",
       "    <tr>\n",
       "      <th>True</th>\n",
       "      <td>16049</td>\n",
       "      <td>79000</td>\n",
       "      <td>2,458,984.44</td>\n",
       "      <td>29300000</td>\n",
       "    </tr>\n",
       "    <tr>\n",
       "      <th rowspan=\"2\" valign=\"top\">внедорожник открытый</th>\n",
       "      <th>False</th>\n",
       "      <td>3</td>\n",
       "      <td>0</td>\n",
       "      <td>0.00</td>\n",
       "      <td>0</td>\n",
       "    </tr>\n",
       "    <tr>\n",
       "      <th>True</th>\n",
       "      <td>1</td>\n",
       "      <td>15000000</td>\n",
       "      <td>15,000,000.00</td>\n",
       "      <td>15000000</td>\n",
       "    </tr>\n",
       "    <tr>\n",
       "      <th rowspan=\"2\" valign=\"top\">кабриолет</th>\n",
       "      <th>False</th>\n",
       "      <td>90</td>\n",
       "      <td>0</td>\n",
       "      <td>0.00</td>\n",
       "      <td>0</td>\n",
       "    </tr>\n",
       "    <tr>\n",
       "      <th>True</th>\n",
       "      <td>80</td>\n",
       "      <td>470000</td>\n",
       "      <td>2,016,779.79</td>\n",
       "      <td>14781200</td>\n",
       "    </tr>\n",
       "    <tr>\n",
       "      <th rowspan=\"2\" valign=\"top\">компактвэн</th>\n",
       "      <th>False</th>\n",
       "      <td>489</td>\n",
       "      <td>0</td>\n",
       "      <td>0.00</td>\n",
       "      <td>0</td>\n",
       "    </tr>\n",
       "    <tr>\n",
       "      <th>True</th>\n",
       "      <td>439</td>\n",
       "      <td>80000</td>\n",
       "      <td>574,575.83</td>\n",
       "      <td>2233100</td>\n",
       "    </tr>\n",
       "    <tr>\n",
       "      <th rowspan=\"2\" valign=\"top\">купе</th>\n",
       "      <th>False</th>\n",
       "      <td>824</td>\n",
       "      <td>0</td>\n",
       "      <td>0.00</td>\n",
       "      <td>0</td>\n",
       "    </tr>\n",
       "    <tr>\n",
       "      <th>True</th>\n",
       "      <td>754</td>\n",
       "      <td>70000</td>\n",
       "      <td>2,226,653.66</td>\n",
       "      <td>72000000</td>\n",
       "    </tr>\n",
       "    <tr>\n",
       "      <th rowspan=\"2\" valign=\"top\">купе-хардтоп</th>\n",
       "      <th>False</th>\n",
       "      <td>158</td>\n",
       "      <td>0</td>\n",
       "      <td>0.00</td>\n",
       "      <td>0</td>\n",
       "    </tr>\n",
       "    <tr>\n",
       "      <th>True</th>\n",
       "      <td>59</td>\n",
       "      <td>230000</td>\n",
       "      <td>1,479,630.51</td>\n",
       "      <td>5200000</td>\n",
       "    </tr>\n",
       "    <tr>\n",
       "      <th rowspan=\"2\" valign=\"top\">лимузин</th>\n",
       "      <th>False</th>\n",
       "      <td>6</td>\n",
       "      <td>0</td>\n",
       "      <td>0.00</td>\n",
       "      <td>0</td>\n",
       "    </tr>\n",
       "    <tr>\n",
       "      <th>True</th>\n",
       "      <td>3</td>\n",
       "      <td>3500000</td>\n",
       "      <td>5,496,666.67</td>\n",
       "      <td>8000000</td>\n",
       "    </tr>\n",
       "    <tr>\n",
       "      <th rowspan=\"2\" valign=\"top\">лифтбек</th>\n",
       "      <th>False</th>\n",
       "      <td>2232</td>\n",
       "      <td>0</td>\n",
       "      <td>0.00</td>\n",
       "      <td>0</td>\n",
       "    </tr>\n",
       "    <tr>\n",
       "      <th>True</th>\n",
       "      <td>2692</td>\n",
       "      <td>27000</td>\n",
       "      <td>979,420.04</td>\n",
       "      <td>16650000</td>\n",
       "    </tr>\n",
       "    <tr>\n",
       "      <th rowspan=\"2\" valign=\"top\">микровэн</th>\n",
       "      <th>False</th>\n",
       "      <td>7</td>\n",
       "      <td>0</td>\n",
       "      <td>0.00</td>\n",
       "      <td>0</td>\n",
       "    </tr>\n",
       "    <tr>\n",
       "      <th>True</th>\n",
       "      <td>15</td>\n",
       "      <td>140000</td>\n",
       "      <td>359,266.67</td>\n",
       "      <td>950000</td>\n",
       "    </tr>\n",
       "    <tr>\n",
       "      <th rowspan=\"2\" valign=\"top\">минивэн</th>\n",
       "      <th>False</th>\n",
       "      <td>995</td>\n",
       "      <td>0</td>\n",
       "      <td>0.00</td>\n",
       "      <td>0</td>\n",
       "    </tr>\n",
       "    <tr>\n",
       "      <th>True</th>\n",
       "      <td>759</td>\n",
       "      <td>60000</td>\n",
       "      <td>2,238,321.49</td>\n",
       "      <td>25500000</td>\n",
       "    </tr>\n",
       "    <tr>\n",
       "      <th rowspan=\"2\" valign=\"top\">пикап двойная кабина</th>\n",
       "      <th>False</th>\n",
       "      <td>280</td>\n",
       "      <td>0</td>\n",
       "      <td>0.00</td>\n",
       "      <td>0</td>\n",
       "    </tr>\n",
       "    <tr>\n",
       "      <th>True</th>\n",
       "      <td>289</td>\n",
       "      <td>110000</td>\n",
       "      <td>1,458,609.65</td>\n",
       "      <td>12850000</td>\n",
       "    </tr>\n",
       "    <tr>\n",
       "      <th rowspan=\"2\" valign=\"top\">пикап одинарная кабина</th>\n",
       "      <th>False</th>\n",
       "      <td>5</td>\n",
       "      <td>0</td>\n",
       "      <td>0.00</td>\n",
       "      <td>0</td>\n",
       "    </tr>\n",
       "    <tr>\n",
       "      <th>True</th>\n",
       "      <td>6</td>\n",
       "      <td>160000</td>\n",
       "      <td>1,784,166.67</td>\n",
       "      <td>4400000</td>\n",
       "    </tr>\n",
       "    <tr>\n",
       "      <th rowspan=\"2\" valign=\"top\">пикап полуторная кабина</th>\n",
       "      <th>False</th>\n",
       "      <td>5</td>\n",
       "      <td>0</td>\n",
       "      <td>0.00</td>\n",
       "      <td>0</td>\n",
       "    </tr>\n",
       "    <tr>\n",
       "      <th>True</th>\n",
       "      <td>2</td>\n",
       "      <td>399999</td>\n",
       "      <td>2,549,999.50</td>\n",
       "      <td>4700000</td>\n",
       "    </tr>\n",
       "    <tr>\n",
       "      <th rowspan=\"2\" valign=\"top\">родстер</th>\n",
       "      <th>False</th>\n",
       "      <td>99</td>\n",
       "      <td>0</td>\n",
       "      <td>0.00</td>\n",
       "      <td>0</td>\n",
       "    </tr>\n",
       "    <tr>\n",
       "      <th>True</th>\n",
       "      <td>51</td>\n",
       "      <td>295000</td>\n",
       "      <td>2,202,460.47</td>\n",
       "      <td>22500000</td>\n",
       "    </tr>\n",
       "    <tr>\n",
       "      <th rowspan=\"2\" valign=\"top\">седан</th>\n",
       "      <th>False</th>\n",
       "      <td>13147</td>\n",
       "      <td>0</td>\n",
       "      <td>0.00</td>\n",
       "      <td>0</td>\n",
       "    </tr>\n",
       "    <tr>\n",
       "      <th>True</th>\n",
       "      <td>11474</td>\n",
       "      <td>20000</td>\n",
       "      <td>1,420,625.03</td>\n",
       "      <td>58997576</td>\n",
       "    </tr>\n",
       "    <tr>\n",
       "      <th rowspan=\"2\" valign=\"top\">седан 2 дв.</th>\n",
       "      <th>False</th>\n",
       "      <td>6</td>\n",
       "      <td>0</td>\n",
       "      <td>0.00</td>\n",
       "      <td>0</td>\n",
       "    </tr>\n",
       "    <tr>\n",
       "      <th>True</th>\n",
       "      <td>6</td>\n",
       "      <td>110000</td>\n",
       "      <td>1,058,333.33</td>\n",
       "      <td>2500000</td>\n",
       "    </tr>\n",
       "    <tr>\n",
       "      <th rowspan=\"2\" valign=\"top\">седан-хардтоп</th>\n",
       "      <th>False</th>\n",
       "      <td>12</td>\n",
       "      <td>0</td>\n",
       "      <td>0.00</td>\n",
       "      <td>0</td>\n",
       "    </tr>\n",
       "    <tr>\n",
       "      <th>True</th>\n",
       "      <td>3</td>\n",
       "      <td>80000</td>\n",
       "      <td>200,000.00</td>\n",
       "      <td>370000</td>\n",
       "    </tr>\n",
       "    <tr>\n",
       "      <th rowspan=\"2\" valign=\"top\">тарга</th>\n",
       "      <th>False</th>\n",
       "      <td>2</td>\n",
       "      <td>0</td>\n",
       "      <td>0.00</td>\n",
       "      <td>0</td>\n",
       "    </tr>\n",
       "    <tr>\n",
       "      <th>True</th>\n",
       "      <td>2</td>\n",
       "      <td>120000</td>\n",
       "      <td>260,000.00</td>\n",
       "      <td>400000</td>\n",
       "    </tr>\n",
       "    <tr>\n",
       "      <th>универсал 3 дв.1</th>\n",
       "      <th>True</th>\n",
       "      <td>1</td>\n",
       "      <td>200000</td>\n",
       "      <td>200,000.00</td>\n",
       "      <td>200000</td>\n",
       "    </tr>\n",
       "    <tr>\n",
       "      <th rowspan=\"2\" valign=\"top\">универсал 5 дв.</th>\n",
       "      <th>False</th>\n",
       "      <td>1276</td>\n",
       "      <td>0</td>\n",
       "      <td>0.00</td>\n",
       "      <td>0</td>\n",
       "    </tr>\n",
       "    <tr>\n",
       "      <th>True</th>\n",
       "      <td>1214</td>\n",
       "      <td>20000</td>\n",
       "      <td>893,912.74</td>\n",
       "      <td>6449000</td>\n",
       "    </tr>\n",
       "    <tr>\n",
       "      <th rowspan=\"2\" valign=\"top\">фастбек</th>\n",
       "      <th>False</th>\n",
       "      <td>1</td>\n",
       "      <td>0</td>\n",
       "      <td>0.00</td>\n",
       "      <td>0</td>\n",
       "    </tr>\n",
       "    <tr>\n",
       "      <th>True</th>\n",
       "      <td>1</td>\n",
       "      <td>598000</td>\n",
       "      <td>598,000.00</td>\n",
       "      <td>598000</td>\n",
       "    </tr>\n",
       "    <tr>\n",
       "      <th rowspan=\"2\" valign=\"top\">фургон</th>\n",
       "      <th>False</th>\n",
       "      <td>97</td>\n",
       "      <td>0</td>\n",
       "      <td>0.00</td>\n",
       "      <td>0</td>\n",
       "    </tr>\n",
       "    <tr>\n",
       "      <th>True</th>\n",
       "      <td>47</td>\n",
       "      <td>130000</td>\n",
       "      <td>674,102.02</td>\n",
       "      <td>2616600</td>\n",
       "    </tr>\n",
       "    <tr>\n",
       "      <th rowspan=\"2\" valign=\"top\">хэтчбек 3 дв.</th>\n",
       "      <th>False</th>\n",
       "      <td>485</td>\n",
       "      <td>0</td>\n",
       "      <td>0.00</td>\n",
       "      <td>0</td>\n",
       "    </tr>\n",
       "    <tr>\n",
       "      <th>True</th>\n",
       "      <td>370</td>\n",
       "      <td>30000</td>\n",
       "      <td>412,978.25</td>\n",
       "      <td>2900000</td>\n",
       "    </tr>\n",
       "    <tr>\n",
       "      <th rowspan=\"2\" valign=\"top\">хэтчбек 5 дв.</th>\n",
       "      <th>False</th>\n",
       "      <td>2124</td>\n",
       "      <td>0</td>\n",
       "      <td>0.00</td>\n",
       "      <td>0</td>\n",
       "    </tr>\n",
       "    <tr>\n",
       "      <th>True</th>\n",
       "      <td>1760</td>\n",
       "      <td>23000</td>\n",
       "      <td>550,573.39</td>\n",
       "      <td>6710400</td>\n",
       "    </tr>\n",
       "  </tbody>\n",
       "</table>\n",
       "</div>"
      ],
      "text/plain": [
       "                                  count       min          mean       max\n",
       "bodyType                is_train                                         \n",
       "внедорожник 3 дв.       False       115         0          0.00         0\n",
       "                        True        133    100000    455,878.29   3500000\n",
       "внедорожник 5 дв.       False     12228         0          0.00         0\n",
       "                        True      16049     79000  2,458,984.44  29300000\n",
       "внедорожник открытый    False         3         0          0.00         0\n",
       "                        True          1  15000000 15,000,000.00  15000000\n",
       "кабриолет               False        90         0          0.00         0\n",
       "                        True         80    470000  2,016,779.79  14781200\n",
       "компактвэн              False       489         0          0.00         0\n",
       "                        True        439     80000    574,575.83   2233100\n",
       "купе                    False       824         0          0.00         0\n",
       "                        True        754     70000  2,226,653.66  72000000\n",
       "купе-хардтоп            False       158         0          0.00         0\n",
       "                        True         59    230000  1,479,630.51   5200000\n",
       "лимузин                 False         6         0          0.00         0\n",
       "                        True          3   3500000  5,496,666.67   8000000\n",
       "лифтбек                 False      2232         0          0.00         0\n",
       "                        True       2692     27000    979,420.04  16650000\n",
       "микровэн                False         7         0          0.00         0\n",
       "                        True         15    140000    359,266.67    950000\n",
       "минивэн                 False       995         0          0.00         0\n",
       "                        True        759     60000  2,238,321.49  25500000\n",
       "пикап двойная кабина    False       280         0          0.00         0\n",
       "                        True        289    110000  1,458,609.65  12850000\n",
       "пикап одинарная кабина  False         5         0          0.00         0\n",
       "                        True          6    160000  1,784,166.67   4400000\n",
       "пикап полуторная кабина False         5         0          0.00         0\n",
       "                        True          2    399999  2,549,999.50   4700000\n",
       "родстер                 False        99         0          0.00         0\n",
       "                        True         51    295000  2,202,460.47  22500000\n",
       "седан                   False     13147         0          0.00         0\n",
       "                        True      11474     20000  1,420,625.03  58997576\n",
       "седан 2 дв.             False         6         0          0.00         0\n",
       "                        True          6    110000  1,058,333.33   2500000\n",
       "седан-хардтоп           False        12         0          0.00         0\n",
       "                        True          3     80000    200,000.00    370000\n",
       "тарга                   False         2         0          0.00         0\n",
       "                        True          2    120000    260,000.00    400000\n",
       "универсал 3 дв.1        True          1    200000    200,000.00    200000\n",
       "универсал 5 дв.         False      1276         0          0.00         0\n",
       "                        True       1214     20000    893,912.74   6449000\n",
       "фастбек                 False         1         0          0.00         0\n",
       "                        True          1    598000    598,000.00    598000\n",
       "фургон                  False        97         0          0.00         0\n",
       "                        True         47    130000    674,102.02   2616600\n",
       "хэтчбек 3 дв.           False       485         0          0.00         0\n",
       "                        True        370     30000    412,978.25   2900000\n",
       "хэтчбек 5 дв.           False      2124         0          0.00         0\n",
       "                        True       1760     23000    550,573.39   6710400"
      ]
     },
     "execution_count": 14,
     "metadata": {},
     "output_type": "execute_result"
    }
   ],
   "source": [
    "df.groupby(['bodyType', 'is_train'])['price'].agg(\n",
    "    ['count', 'min', 'mean', 'max'])"
   ]
  },
  {
   "cell_type": "code",
   "execution_count": 15,
   "metadata": {},
   "outputs": [],
   "source": [
    "bodyTypes = {\n",
    "    'внедорожник открытый':'внедорожник',\n",
    "    'внедорожник 5 дв.':'внедорожник',\n",
    "    'седан':'седан',\n",
    "    'лифтбек':'хэтчбек',\n",
    "    'хэтчбек 5 дв.':'хэтчбек',\n",
    "    'универсал 5 дв.':'универсал',\n",
    "    'минивэн':'минивэн',\n",
    "    'купе':'купе',\n",
    "    'компактвэн':'минивэн',\n",
    "    'хэтчбек 3 дв.':'хэтчбек',\n",
    "    'пикап двойная кабина':'пикап',\n",
    "    'внедорожник 3 дв.':'внедорожник',\n",
    "    'купе-хардтоп':'купе',\n",
    "    'кабриолет':'кабриолет',\n",
    "    'родстер':'родстер',\n",
    "    'фургон':'фургон',\n",
    "    'микровэн':'минивэн',\n",
    "    'седан-хардтоп':'седан',\n",
    "    'седан 2 дв.':'седан',\n",
    "    'пикап одинарная кабина':'пикап',\n",
    "    'лимузин':'лимузин',\n",
    "    'пикап полуторная кабина':'пикап',\n",
    "    'внедорожник открытый':'внедорожник',\n",
    "    'тарга':'родстер',\n",
    "    'фастбек':'хэтчбек',\n",
    "    'универсал 3 дв.1':'универсал',\n",
    "\n",
    "}\n",
    "df['bodyType_cut'] = df.bodyType.map(bodyTypes)\n"
   ]
  },
  {
   "cell_type": "code",
   "execution_count": 16,
   "metadata": {},
   "outputs": [
    {
     "data": {
      "text/html": [
       "<div>\n",
       "<style scoped>\n",
       "    .dataframe tbody tr th:only-of-type {\n",
       "        vertical-align: middle;\n",
       "    }\n",
       "\n",
       "    .dataframe tbody tr th {\n",
       "        vertical-align: top;\n",
       "    }\n",
       "\n",
       "    .dataframe thead th {\n",
       "        text-align: right;\n",
       "    }\n",
       "</style>\n",
       "<table border=\"1\" class=\"dataframe\">\n",
       "  <thead>\n",
       "    <tr style=\"text-align: right;\">\n",
       "      <th></th>\n",
       "      <th></th>\n",
       "      <th>count</th>\n",
       "      <th>min</th>\n",
       "      <th>mean</th>\n",
       "      <th>max</th>\n",
       "    </tr>\n",
       "    <tr>\n",
       "      <th>bodyType_cut</th>\n",
       "      <th>is_train</th>\n",
       "      <th></th>\n",
       "      <th></th>\n",
       "      <th></th>\n",
       "      <th></th>\n",
       "    </tr>\n",
       "  </thead>\n",
       "  <tbody>\n",
       "    <tr>\n",
       "      <th rowspan=\"2\" valign=\"top\">внедорожник</th>\n",
       "      <th>False</th>\n",
       "      <td>12346</td>\n",
       "      <td>0</td>\n",
       "      <td>0.00</td>\n",
       "      <td>0</td>\n",
       "    </tr>\n",
       "    <tr>\n",
       "      <th>True</th>\n",
       "      <td>16183</td>\n",
       "      <td>79000</td>\n",
       "      <td>2,443,296.86</td>\n",
       "      <td>29300000</td>\n",
       "    </tr>\n",
       "    <tr>\n",
       "      <th rowspan=\"2\" valign=\"top\">кабриолет</th>\n",
       "      <th>False</th>\n",
       "      <td>90</td>\n",
       "      <td>0</td>\n",
       "      <td>0.00</td>\n",
       "      <td>0</td>\n",
       "    </tr>\n",
       "    <tr>\n",
       "      <th>True</th>\n",
       "      <td>80</td>\n",
       "      <td>470000</td>\n",
       "      <td>2,016,779.79</td>\n",
       "      <td>14781200</td>\n",
       "    </tr>\n",
       "    <tr>\n",
       "      <th rowspan=\"2\" valign=\"top\">купе</th>\n",
       "      <th>False</th>\n",
       "      <td>982</td>\n",
       "      <td>0</td>\n",
       "      <td>0.00</td>\n",
       "      <td>0</td>\n",
       "    </tr>\n",
       "    <tr>\n",
       "      <th>True</th>\n",
       "      <td>813</td>\n",
       "      <td>70000</td>\n",
       "      <td>2,172,441.64</td>\n",
       "      <td>72000000</td>\n",
       "    </tr>\n",
       "    <tr>\n",
       "      <th rowspan=\"2\" valign=\"top\">лимузин</th>\n",
       "      <th>False</th>\n",
       "      <td>6</td>\n",
       "      <td>0</td>\n",
       "      <td>0.00</td>\n",
       "      <td>0</td>\n",
       "    </tr>\n",
       "    <tr>\n",
       "      <th>True</th>\n",
       "      <td>3</td>\n",
       "      <td>3500000</td>\n",
       "      <td>5,496,666.67</td>\n",
       "      <td>8000000</td>\n",
       "    </tr>\n",
       "    <tr>\n",
       "      <th rowspan=\"2\" valign=\"top\">минивэн</th>\n",
       "      <th>False</th>\n",
       "      <td>1491</td>\n",
       "      <td>0</td>\n",
       "      <td>0.00</td>\n",
       "      <td>0</td>\n",
       "    </tr>\n",
       "    <tr>\n",
       "      <th>True</th>\n",
       "      <td>1213</td>\n",
       "      <td>60000</td>\n",
       "      <td>1,612,954.49</td>\n",
       "      <td>25500000</td>\n",
       "    </tr>\n",
       "    <tr>\n",
       "      <th rowspan=\"2\" valign=\"top\">пикап</th>\n",
       "      <th>False</th>\n",
       "      <td>290</td>\n",
       "      <td>0</td>\n",
       "      <td>0.00</td>\n",
       "      <td>0</td>\n",
       "    </tr>\n",
       "    <tr>\n",
       "      <th>True</th>\n",
       "      <td>297</td>\n",
       "      <td>110000</td>\n",
       "      <td>1,472,535.98</td>\n",
       "      <td>12850000</td>\n",
       "    </tr>\n",
       "    <tr>\n",
       "      <th rowspan=\"2\" valign=\"top\">родстер</th>\n",
       "      <th>False</th>\n",
       "      <td>101</td>\n",
       "      <td>0</td>\n",
       "      <td>0.00</td>\n",
       "      <td>0</td>\n",
       "    </tr>\n",
       "    <tr>\n",
       "      <th>True</th>\n",
       "      <td>53</td>\n",
       "      <td>120000</td>\n",
       "      <td>2,129,160.08</td>\n",
       "      <td>22500000</td>\n",
       "    </tr>\n",
       "    <tr>\n",
       "      <th rowspan=\"2\" valign=\"top\">седан</th>\n",
       "      <th>False</th>\n",
       "      <td>13165</td>\n",
       "      <td>0</td>\n",
       "      <td>0.00</td>\n",
       "      <td>0</td>\n",
       "    </tr>\n",
       "    <tr>\n",
       "      <th>True</th>\n",
       "      <td>11483</td>\n",
       "      <td>20000</td>\n",
       "      <td>1,420,116.83</td>\n",
       "      <td>58997576</td>\n",
       "    </tr>\n",
       "    <tr>\n",
       "      <th rowspan=\"2\" valign=\"top\">универсал</th>\n",
       "      <th>False</th>\n",
       "      <td>1276</td>\n",
       "      <td>0</td>\n",
       "      <td>0.00</td>\n",
       "      <td>0</td>\n",
       "    </tr>\n",
       "    <tr>\n",
       "      <th>True</th>\n",
       "      <td>1215</td>\n",
       "      <td>20000</td>\n",
       "      <td>893,341.61</td>\n",
       "      <td>6449000</td>\n",
       "    </tr>\n",
       "    <tr>\n",
       "      <th rowspan=\"2\" valign=\"top\">фургон</th>\n",
       "      <th>False</th>\n",
       "      <td>97</td>\n",
       "      <td>0</td>\n",
       "      <td>0.00</td>\n",
       "      <td>0</td>\n",
       "    </tr>\n",
       "    <tr>\n",
       "      <th>True</th>\n",
       "      <td>47</td>\n",
       "      <td>130000</td>\n",
       "      <td>674,102.02</td>\n",
       "      <td>2616600</td>\n",
       "    </tr>\n",
       "    <tr>\n",
       "      <th rowspan=\"2\" valign=\"top\">хэтчбек</th>\n",
       "      <th>False</th>\n",
       "      <td>4842</td>\n",
       "      <td>0</td>\n",
       "      <td>0.00</td>\n",
       "      <td>0</td>\n",
       "    </tr>\n",
       "    <tr>\n",
       "      <th>True</th>\n",
       "      <td>4823</td>\n",
       "      <td>23000</td>\n",
       "      <td>779,392.05</td>\n",
       "      <td>16650000</td>\n",
       "    </tr>\n",
       "  </tbody>\n",
       "</table>\n",
       "</div>"
      ],
      "text/plain": [
       "                       count      min         mean       max\n",
       "bodyType_cut is_train                                       \n",
       "внедорожник  False     12346        0         0.00         0\n",
       "             True      16183    79000 2,443,296.86  29300000\n",
       "кабриолет    False        90        0         0.00         0\n",
       "             True         80   470000 2,016,779.79  14781200\n",
       "купе         False       982        0         0.00         0\n",
       "             True        813    70000 2,172,441.64  72000000\n",
       "лимузин      False         6        0         0.00         0\n",
       "             True          3  3500000 5,496,666.67   8000000\n",
       "минивэн      False      1491        0         0.00         0\n",
       "             True       1213    60000 1,612,954.49  25500000\n",
       "пикап        False       290        0         0.00         0\n",
       "             True        297   110000 1,472,535.98  12850000\n",
       "родстер      False       101        0         0.00         0\n",
       "             True         53   120000 2,129,160.08  22500000\n",
       "седан        False     13165        0         0.00         0\n",
       "             True      11483    20000 1,420,116.83  58997576\n",
       "универсал    False      1276        0         0.00         0\n",
       "             True       1215    20000   893,341.61   6449000\n",
       "фургон       False        97        0         0.00         0\n",
       "             True         47   130000   674,102.02   2616600\n",
       "хэтчбек      False      4842        0         0.00         0\n",
       "             True       4823    23000   779,392.05  16650000"
      ]
     },
     "execution_count": 16,
     "metadata": {},
     "output_type": "execute_result"
    }
   ],
   "source": [
    "df.groupby(['bodyType_cut', 'is_train'])['price'].agg(\n",
    "    ['count', 'min', 'mean', 'max'])"
   ]
  },
  {
   "cell_type": "markdown",
   "metadata": {},
   "source": [
    "Объединили машины в новый классификатор из 11 классов.  \n",
    "Попробуем потом как он покажет себя в модели."
   ]
  },
  {
   "cell_type": "markdown",
   "metadata": {},
   "source": [
    "## enginePower"
   ]
  },
  {
   "cell_type": "markdown",
   "metadata": {},
   "source": [
    "Т.к. поля engine power и engine displacement - очень скоррелированы то нужно выбрать одно.  \n",
    "у поля engine power есть преимущество, оно не равно 0 для электрокаров  \n",
    "и расрпделение лог-нормально, можно прологарифмировать его"
   ]
  },
  {
   "cell_type": "code",
   "execution_count": 12,
   "metadata": {},
   "outputs": [
    {
     "data": {
      "image/png": "[encoded data removed]",
      "text/plain": [
       "<Figure size 1080x576 with 2 Axes>"
      ]
     },
     "metadata": {
      "needs_background": "light"
     },
     "output_type": "display_data"
    }
   ],
   "source": [
    "figure, (ax1, ax2) = plt.subplots(1, 2, figsize=(15, 8))\n",
    "ax1.hist(df.enginePower)\n",
    "ax2.hist(np.log(df.enginePower))\n",
    "figure.suptitle('Распределение мощности двигателя (исходное и в логарифмированной шкале)')\n",
    "plt.show()"
   ]
  },
  {
   "cell_type": "code",
   "execution_count": 28,
   "metadata": {},
   "outputs": [],
   "source": [
    "df['enginePower_log'] = np.log(df.enginePower)"
   ]
  },
  {
   "cell_type": "markdown",
   "metadata": {},
   "source": [
    "## mileage"
   ]
  },
  {
   "cell_type": "markdown",
   "metadata": {},
   "source": [
    "Поле конечно очень сильно влияет на цену авто.  \n",
    "Отдельной категорией идут автомобили без пробега - выделим их отдельно  \n",
    "и прологорифмируем колонку"
   ]
  },
  {
   "cell_type": "code",
   "execution_count": 14,
   "metadata": {},
   "outputs": [
    {
     "data": {
      "image/png": "[encoded data removed]",
      "text/plain": [
       "<Figure size 1080x576 with 2 Axes>"
      ]
     },
     "metadata": {
      "needs_background": "light"
     },
     "output_type": "display_data"
    }
   ],
   "source": [
    "figure, (ax1, ax2) = plt.subplots(1, 2, figsize=(15, 8))\n",
    "ax1.hist(df.mileage)\n",
    "ax2.hist(np.log(df.mileage+1))\n",
    "figure.suptitle('Распределение пробега (исходное и в логарифмированной шкале)')\n",
    "plt.show()"
   ]
  },
  {
   "cell_type": "code",
   "execution_count": 30,
   "metadata": {},
   "outputs": [],
   "source": [
    "df['mileage_is_0'] = (df.mileage == 0)\n",
    "df['mileage_log'] = np.log(df.mileage+1)"
   ]
  },
  {
   "cell_type": "markdown",
   "metadata": {},
   "source": [
    "## Оформим все в одну функцию\n",
    "чтобы удобней было переиспользовать ноутбук позже"
   ]
  },
  {
   "cell_type": "code",
   "execution_count": 6,
   "metadata": {},
   "outputs": [],
   "source": [
    "def feature_enginering_version1(df: pd.DataFrame):\n",
    "    \"\"\"запишем сюда все преобразования которые делали в этом разделе ноутбука\n",
    "    1) заполнили пропуски в поле engineDisplacement для электрокаров\n",
    "    2) сделали колонку логарифм цены\n",
    "    3) сделали свернутую колонки тип кузова bodyType_cut\n",
    "    4) сделали признак enginePower_log - логарифм от мощности двигателя\n",
    "    5) сделали признак пробег равен 0 mileage_is_0\n",
    "    6) сделали признак логарифм от пробега\"\"\"\n",
    "    \n",
    "    df.loc[df.fuelType == 'электро',\n",
    "           'engineDisplacement'] = df.loc[df.fuelType == 'электро',\n",
    "                                          'engineDisplacement'].fillna(0)\n",
    "\n",
    "    df[\"price_log\"] = np.log(df[df.is_train==1].price)\n",
    "    \n",
    "    bodyTypes = {\n",
    "        'внедорожник открытый': 'внедорожник',\n",
    "        'внедорожник 5 дв.': 'внедорожник',\n",
    "        'седан': 'седан',\n",
    "        'лифтбек': 'хэтчбек',\n",
    "        'хэтчбек 5 дв.': 'хэтчбек',\n",
    "        'универсал 5 дв.': 'универсал',\n",
    "        'минивэн': 'минивэн',\n",
    "        'купе': 'купе',\n",
    "        'компактвэн': 'минивэн',\n",
    "        'хэтчбек 3 дв.': 'хэтчбек',\n",
    "        'пикап двойная кабина': 'пикап',\n",
    "        'внедорожник 3 дв.': 'внедорожник',\n",
    "        'купе-хардтоп': 'купе',\n",
    "        'кабриолет': 'кабриолет',\n",
    "        'родстер': 'родстер',\n",
    "        'фургон': 'фургон',\n",
    "        'микровэн': 'минивэн',\n",
    "        'седан-хардтоп': 'седан',\n",
    "        'седан 2 дв.': 'седан',\n",
    "        'пикап одинарная кабина': 'пикап',\n",
    "        'лимузин': 'лимузин',\n",
    "        'пикап полуторная кабина': 'пикап',\n",
    "        'внедорожник открытый': 'внедорожник',\n",
    "        'тарга': 'родстер',\n",
    "        'фастбек': 'хэтчбек',\n",
    "        'универсал 3 дв.1': 'универсал',\n",
    "    }\n",
    "    df['bodyType_cut'] = df.bodyType.map(bodyTypes)\n",
    "\n",
    "    df['enginePower_log'] = np.log(df.enginePower)\n",
    "\n",
    "    df['mileage_is_0'] = (df.mileage == 0)\n",
    "    df['mileage_log'] = np.log(df.mileage + 1)"
   ]
  },
  {
   "cell_type": "code",
   "execution_count": 7,
   "metadata": {},
   "outputs": [],
   "source": [
    "feature_enginering_version1(df)"
   ]
  },
  {
   "cell_type": "markdown",
   "metadata": {},
   "source": [
    "## Попробуем новые признаки в предсказании"
   ]
  },
  {
   "cell_type": "code",
   "execution_count": 32,
   "metadata": {},
   "outputs": [],
   "source": [
    "cat_cols = ['bodyType', 'brand', 'fuelType', 'color', 'model_name',\n",
    "            'vehicleTransmission', 'vendor', 'ПТС', 'Владельцы', 'Привод', 'Руль']\n",
    "num_cols = ['productionDate', 'numberOfDoors',\n",
    "            'engineDisplacement', 'mileage', ]"
   ]
  },
  {
   "cell_type": "code",
   "execution_count": 10,
   "metadata": {},
   "outputs": [],
   "source": [
    "model = RandomForestRegressor(100, random_state=RANDOM_STATE)"
   ]
  },
  {
   "cell_type": "markdown",
   "metadata": {},
   "source": [
    "### price_log"
   ]
  },
  {
   "cell_type": "code",
   "execution_count": 13,
   "metadata": {},
   "outputs": [],
   "source": [
    "X_train, X_test, y = prepare_data(cat_cols, num_cols)\n",
    "y_log = df[df.is_train].price_log\n",
    "\n",
    "X_train, X_val, y_train, y_val, y_log_train, y_log_val = train_test_split(\n",
    "    X_train, y, y_log, test_size=0.3, shuffle=True, random_state=RANDOM_STATE)"
   ]
  },
  {
   "cell_type": "code",
   "execution_count": 14,
   "metadata": {},
   "outputs": [
    {
     "name": "stdout",
     "output_type": "stream",
     "text": [
      "MAPE: 13.604938740548983\n",
      "Wall time: 1min 22s\n"
     ]
    }
   ],
   "source": [
    "%%time\n",
    "model.fit(X_train, y_train)\n",
    "pred = model.predict(X_val)\n",
    "score = mape(pred, y_val)\n",
    "print(f\"MAPE: {score}\")"
   ]
  },
  {
   "cell_type": "code",
   "execution_count": 15,
   "metadata": {},
   "outputs": [
    {
     "name": "stdout",
     "output_type": "stream",
     "text": [
      "MAPE (+log price): 14.418258095834686\n",
      "Wall time: 1min 17s\n"
     ]
    }
   ],
   "source": [
    "%%time\n",
    "model.fit(X_train, y_log_train)\n",
    "pred = np.exp(model.predict(X_val))\n",
    "score = mape(pred, np.exp(y_log_val))\n",
    "print(f\"MAPE (+log price): {score}\")"
   ]
  },
  {
   "cell_type": "code",
   "execution_count": 33,
   "metadata": {},
   "outputs": [],
   "source": [
    "X_train, X_test, y = prepare_data(cat_cols, num_cols)"
   ]
  },
  {
   "cell_type": "code",
   "execution_count": 34,
   "metadata": {},
   "outputs": [
    {
     "name": "stdout",
     "output_type": "stream",
     "text": [
      "####################################################################################################\n",
      "RandomForestRegressor(random_state=43)\n",
      "train shape (36210, 812)\n",
      "####################################################################################################\n",
      "Train result: 5.856917872579963\n",
      "CV result: 14.62884728522331 ([14.62107618 14.9227222  14.34274348])\n",
      "####################################################################################################\n",
      "Wall time: 3min 29s\n"
     ]
    }
   ],
   "source": [
    "%%time\n",
    "fit_and_score_model(model, X_train, y)"
   ]
  },
  {
   "cell_type": "markdown",
   "metadata": {},
   "source": [
    "Видим что логарифмирование цены только ухудщило нашу модель, поэтому не будем использовать.  \n",
    "Хотя проверяли просто на отложенной выборке. Но наодной и той же выборкевариант без логарифмирования показал почти на 1% лучше результат.  \n",
    "\n",
    "Еще интересно что результат на отложенной выборке оказался значительно лучше результата на кросвалидации (на всех трех фолдах)."
   ]
  },
  {
   "cell_type": "markdown",
   "metadata": {},
   "source": [
    "### bodyType_cut"
   ]
  },
  {
   "cell_type": "code",
   "execution_count": 24,
   "metadata": {},
   "outputs": [],
   "source": [
    "cat_cols = ['bodyType_cut', 'brand', 'fuelType', 'color', 'model_name',\n",
    "            'vehicleTransmission', 'vendor', 'ПТС', 'Владельцы', 'Привод', 'Руль']\n",
    "num_cols = ['productionDate', 'numberOfDoors',\n",
    "            'engineDisplacement', 'mileage', ]"
   ]
  },
  {
   "cell_type": "code",
   "execution_count": 25,
   "metadata": {},
   "outputs": [],
   "source": [
    "X_train, X_test, y = prepare_data(cat_cols, num_cols)"
   ]
  },
  {
   "cell_type": "code",
   "execution_count": 26,
   "metadata": {},
   "outputs": [
    {
     "name": "stdout",
     "output_type": "stream",
     "text": [
      "####################################################################################################\n",
      "RandomForestRegressor(random_state=43)\n",
      "train shape (36210, 798)\n",
      "####################################################################################################\n",
      "Train result: 5.842052653104446\n",
      "CV result: 14.666090067331032 ([14.69846837 14.93388031 14.36592152])\n",
      "####################################################################################################\n",
      "Wall time: 3min 24s\n"
     ]
    }
   ],
   "source": [
    "%%time\n",
    "fit_and_score_model(model, X_train, y)\n"
   ]
  },
  {
   "cell_type": "code",
   "execution_count": 27,
   "metadata": {},
   "outputs": [],
   "source": [
    "cat_cols = ['bodyType_cut', 'bodyType', 'brand', 'fuelType', 'color', 'model_name',\n",
    "            'vehicleTransmission', 'vendor', 'ПТС', 'Владельцы', 'Привод', 'Руль']\n",
    "num_cols = ['productionDate', 'numberOfDoors',\n",
    "            'engineDisplacement', 'mileage', ]"
   ]
  },
  {
   "cell_type": "code",
   "execution_count": 28,
   "metadata": {},
   "outputs": [],
   "source": [
    "X_train, X_test, y = prepare_data(cat_cols, num_cols)"
   ]
  },
  {
   "cell_type": "code",
   "execution_count": 29,
   "metadata": {},
   "outputs": [
    {
     "name": "stdout",
     "output_type": "stream",
     "text": [
      "####################################################################################################\n",
      "RandomForestRegressor(random_state=43)\n",
      "train shape (36210, 823)\n",
      "####################################################################################################\n",
      "Train result: 5.831004862140472\n",
      "CV result: 14.649151237479687 ([14.64214966 14.93764742 14.36765664])\n",
      "####################################################################################################\n",
      "Wall time: 3min 23s\n"
     ]
    }
   ],
   "source": [
    "%%time\n",
    "fit_and_score_model(model, X_train, y)"
   ]
  },
  {
   "cell_type": "markdown",
   "metadata": {},
   "source": [
    "Испльзование признака **bodyType_cut** не принесло пользы:   \n",
    "- ни в варианте использование вместо bodyType   \n",
    "- ни в впаринте использование вместе с bodyType   \n",
    "\n",
    "Результат ухудшился оба раза   "
   ]
  },
  {
   "cell_type": "markdown",
   "metadata": {},
   "source": [
    "### enginePower"
   ]
  },
  {
   "cell_type": "code",
   "execution_count": 16,
   "metadata": {},
   "outputs": [],
   "source": [
    "cat_cols = ['bodyType', 'brand', 'fuelType', 'color', 'model_name',\n",
    "            'vehicleTransmission', 'vendor', 'ПТС', 'Владельцы', 'Привод', 'Руль']\n",
    "num_cols = ['productionDate', 'numberOfDoors',\n",
    "            'enginePower_log', 'mileage', ]\n",
    "\n",
    "X_train, X_test, y = prepare_data(cat_cols, num_cols)"
   ]
  },
  {
   "cell_type": "code",
   "execution_count": 17,
   "metadata": {},
   "outputs": [
    {
     "name": "stdout",
     "output_type": "stream",
     "text": [
      "####################################################################################################\n",
      "RandomForestRegressor(random_state=43)\n",
      "train shape (36210, 812)\n",
      "cat_cols=['bodyType', 'brand', 'fuelType', 'color', 'model_name', 'vehicleTransmission', 'vendor', 'ПТС', 'Владельцы', 'Привод', 'Руль']\n",
      "num_cols=['productionDate', 'numberOfDoors', 'enginePower_log', 'mileage']\n",
      "####################################################################################################\n",
      "Train result: 5.5776517016253475\n",
      "CV result: 14.114852945022472 ([14.00237657 14.47699244 13.86518982])\n",
      "####################################################################################################\n",
      "Wall time: 3min 45s\n"
     ]
    }
   ],
   "source": [
    "%%time\n",
    "fit_and_score_model(model, X_train, y)"
   ]
  },
  {
   "cell_type": "markdown",
   "metadata": {},
   "source": [
    "Показатель **enginePower_log** помогает лучше нам предсказывать."
   ]
  },
  {
   "cell_type": "markdown",
   "metadata": {},
   "source": [
    "### milleage"
   ]
  },
  {
   "cell_type": "code",
   "execution_count": 7,
   "metadata": {},
   "outputs": [],
   "source": [
    "cat_cols = ['bodyType', 'brand', 'fuelType', 'color', 'model_name',\n",
    "            'vehicleTransmission', 'vendor', 'ПТС', 'Владельцы', 'Привод', 'Руль']\n",
    "num_cols = ['productionDate', 'numberOfDoors',\n",
    "            'enginePower_log', 'mileage_log', ]\n",
    "\n",
    "X_train, X_test, y = prepare_data(cat_cols, num_cols)"
   ]
  },
  {
   "cell_type": "code",
   "execution_count": 11,
   "metadata": {},
   "outputs": [
    {
     "name": "stdout",
     "output_type": "stream",
     "text": [
      "####################################################################################################\n",
      "RandomForestRegressor(random_state=43)\n",
      "train shape (36210, 814)\n",
      "cat_cols=['bodyType', 'brand', 'fuelType', 'color', 'model_name', 'vehicleTransmission', 'vendor', 'ПТС', 'Владельцы', 'Привод', 'Руль', 'mileage_is_0']\n",
      "num_cols=['productionDate', 'numberOfDoors', 'enginePower_log', 'mileage_log']\n",
      "####################################################################################################\n",
      "Train result: 5.571616747005929\n",
      "CV result: 14.10274449012581 ([13.99268869 14.4649319  13.85061288])\n",
      "####################################################################################################\n",
      "Wall time: 3min 43s\n"
     ]
    }
   ],
   "source": [
    "%%time\n",
    "fit_and_score_model(model, X_train, y)"
   ]
  },
  {
   "cell_type": "markdown",
   "metadata": {},
   "source": [
    "Показатель **mileage_log** тоже немножко улучшил нашу модель"
   ]
  },
  {
   "cell_type": "markdown",
   "metadata": {},
   "source": [
    "### milleage_is_0"
   ]
  },
  {
   "cell_type": "code",
   "execution_count": 12,
   "metadata": {},
   "outputs": [],
   "source": [
    "cat_cols = ['bodyType', 'brand', 'fuelType', 'color', 'model_name',\n",
    "            'vehicleTransmission', 'vendor', 'ПТС', 'Владельцы', 'Привод', 'Руль', 'mileage_is_0']\n",
    "num_cols = ['productionDate', 'numberOfDoors',\n",
    "            'enginePower_log', 'mileage_log', ]\n",
    "\n",
    "X_train, X_test, y = prepare_data(cat_cols, num_cols)"
   ]
  },
  {
   "cell_type": "code",
   "execution_count": 13,
   "metadata": {},
   "outputs": [
    {
     "name": "stdout",
     "output_type": "stream",
     "text": [
      "####################################################################################################\n",
      "RandomForestRegressor(random_state=43)\n",
      "train shape (36210, 814)\n",
      "cat_cols=['bodyType', 'brand', 'fuelType', 'color', 'model_name', 'vehicleTransmission', 'vendor', 'ПТС', 'Владельцы', 'Привод', 'Руль', 'mileage_is_0']\n",
      "num_cols=['productionDate', 'numberOfDoors', 'enginePower_log', 'mileage_log']\n",
      "####################################################################################################\n",
      "Train result: 5.571616747005929\n",
      "CV result: 14.10274449012581 ([13.99268869 14.4649319  13.85061288])\n",
      "####################################################################################################\n",
      "Wall time: 3min 43s\n"
     ]
    }
   ],
   "source": [
    "%%time\n",
    "fit_and_score_model(model, X_train, y)"
   ]
  },
  {
   "cell_type": "code",
   "execution_count": 14,
   "metadata": {},
   "outputs": [],
   "source": [
    "cat_cols = ['bodyType', 'brand', 'fuelType', 'color', 'model_name',\n",
    "            'vehicleTransmission', 'vendor', 'ПТС', 'Владельцы', 'Привод', 'Руль', ]\n",
    "num_cols = ['productionDate', 'numberOfDoors',\n",
    "            'enginePower_log', 'mileage_log', 'mileage_is_0']\n",
    "\n",
    "X_train, X_test, y = prepare_data(cat_cols, num_cols)"
   ]
  },
  {
   "cell_type": "code",
   "execution_count": 15,
   "metadata": {},
   "outputs": [
    {
     "name": "stdout",
     "output_type": "stream",
     "text": [
      "####################################################################################################\n",
      "RandomForestRegressor(random_state=43)\n",
      "train shape (36210, 813)\n",
      "cat_cols=['bodyType', 'brand', 'fuelType', 'color', 'model_name', 'vehicleTransmission', 'vendor', 'ПТС', 'Владельцы', 'Привод', 'Руль']\n",
      "num_cols=['productionDate', 'numberOfDoors', 'enginePower_log', 'mileage_log', 'mileage_is_0']\n",
      "####################################################################################################\n",
      "Train result: 5.56687832682076\n",
      "CV result: 14.105340374949934 ([13.98890007 14.50594714 13.82117391])\n",
      "####################################################################################################\n",
      "Wall time: 3min 31s\n"
     ]
    }
   ],
   "source": [
    "%%time\n",
    "fit_and_score_model(model, X_train, y)"
   ]
  },
  {
   "cell_type": "markdown",
   "metadata": {},
   "source": [
    "Показатель **mieage_is_0** никак не помог. Хотя может быть для других видов моделей (линейной) он бы был полезен."
   ]
  },
  {
   "cell_type": "markdown",
   "metadata": {},
   "source": [
    "# Исследуем данные дальше"
   ]
  },
  {
   "cell_type": "markdown",
   "metadata": {},
   "source": [
    "## Линейная регрессия"
   ]
  },
  {
   "cell_type": "markdown",
   "metadata": {},
   "source": [
    "Сделаем модель Лассо регрессии, чтобы посмотреть какие коэффицинты обнуляться"
   ]
  },
  {
   "cell_type": "code",
   "execution_count": 21,
   "metadata": {},
   "outputs": [],
   "source": [
    "model = Lasso(alpha=3)"
   ]
  },
  {
   "cell_type": "code",
   "execution_count": 25,
   "metadata": {},
   "outputs": [],
   "source": [
    "cat_cols = ['bodyType', 'brand', 'fuelType', 'color', 'model_name',\n",
    "            'vehicleTransmission', 'vendor', 'ПТС', 'Владельцы', 'Привод', 'Руль', 'mileage_is_0']\n",
    "num_cols = ['productionDate', 'numberOfDoors',\n",
    "            'enginePower_log', 'mileage_log', ]\n",
    "\n",
    "X_train, X_test, y = prepare_data(cat_cols, num_cols)"
   ]
  },
  {
   "cell_type": "code",
   "execution_count": 26,
   "metadata": {},
   "outputs": [
    {
     "name": "stderr",
     "output_type": "stream",
     "text": [
      "C:\\Soft\\anaconda\\lib\\site-packages\\sklearn\\linear_model\\_coordinate_descent.py:529: ConvergenceWarning: Objective did not converge. You might want to increase the number of iterations. Duality gap: 1.8098870816394256e+16, tolerance: 19939787947380.223\n",
      "  model = cd_fast.enet_coordinate_descent(\n"
     ]
    },
    {
     "name": "stdout",
     "output_type": "stream",
     "text": [
      "####################################################################################################\n",
      "Lasso(alpha=3)\n",
      "train shape (36210, 814)\n",
      "cat_cols=['bodyType', 'brand', 'fuelType', 'color', 'model_name', 'vehicleTransmission', 'vendor', 'ПТС', 'Владельцы', 'Привод', 'Руль', 'mileage_is_0']\n",
      "num_cols=['productionDate', 'numberOfDoors', 'enginePower_log', 'mileage_log']\n",
      "####################################################################################################\n",
      "Train result: 60.18703438972369\n",
      "CV result: 62.339911666038255 ([63.33971648 63.90626578 59.77375273])\n",
      "####################################################################################################\n",
      "Wall time: 1min 41s\n"
     ]
    }
   ],
   "source": [
    "%%time\n",
    "fit_and_score_model(model, X_train, y)"
   ]
  },
  {
   "cell_type": "code",
   "execution_count": 28,
   "metadata": {},
   "outputs": [
    {
     "name": "stdout",
     "output_type": "stream",
     "text": [
      "(814,)\n"
     ]
    },
    {
     "data": {
      "text/plain": [
       "array(['bodyType_пикап полуторная кабина', 'bodyType_тарга',\n",
       "       'color_бежевый', 'color_коричневый', 'color_пурпурный',\n",
       "       'color_серебристый', 'model_name_02', 'model_name_100_SERIES',\n",
       "       'model_name_120', 'model_name_140', 'model_name_190_SL',\n",
       "       'model_name_1ER', 'model_name_200SX', 'model_name_240_SERIES',\n",
       "       'model_name_2ACTIVETOURER', 'model_name_2ER',\n",
       "       'model_name_2GRANDTOURER', 'model_name_3ER', 'model_name_4',\n",
       "       'model_name_5ER', 'model_name_6ER', 'model_name_7ER',\n",
       "       'model_name_8ER', 'model_name_A4_ALLROAD', 'model_name_ACTY',\n",
       "       'model_name_ALLROAD', 'model_name_ALMERA_CLASSIC',\n",
       "       'model_name_ALMERA_TINO', 'model_name_AMG_GLC_COUPE',\n",
       "       'model_name_AMG_GT', 'model_name_ARTEON', 'model_name_ASPIRE',\n",
       "       'model_name_AVALON', 'model_name_AVENSIS_VERSO', 'model_name_AYGO',\n",
       "       'model_name_A_KLASSE', 'model_name_A_KLASSE_AMG',\n",
       "       'model_name_BASSARA', 'model_name_BLUEBIRD_SYLPHY',\n",
       "       'model_name_B_KLASSE', 'model_name_CAMRY_SOLARA',\n",
       "       'model_name_CARAVAN_COACH', 'model_name_CARINA ED',\n",
       "       'model_name_CARINA_E', 'model_name_CARINA_ED',\n",
       "       'model_name_CAVALIER', 'model_name_CIVIC_FERIO',\n",
       "       'model_name_CIVIC_TYPE_R', 'model_name_CLA_KLASSE',\n",
       "       'model_name_CLA_KLASSE_AMG', 'model_name_CLC_KLASSE',\n",
       "       'model_name_CLIPPER', 'model_name_CLK_KLASSE',\n",
       "       'model_name_CLS_KLASSE', 'model_name_CLS_KLASSE_AMG',\n",
       "       'model_name_CL_KLASSE', 'model_name_CL_KLASSE_AMG',\n",
       "       'model_name_COROLLA_II', 'model_name_COROLLA_LEVIN',\n",
       "       'model_name_COROLLA_RUMION', 'model_name_COROLLA_SPACIO',\n",
       "       'model_name_COROLLA_VERSO', 'model_name_CORONA_EXIV',\n",
       "       'model_name_CROWN_MAJESTA', 'model_name_CR_V', 'model_name_CR_X',\n",
       "       'model_name_CR_Z', 'model_name_CUBE', 'model_name_C_HR',\n",
       "       'model_name_C_KLASSE', 'model_name_C_KLASSE_AMG',\n",
       "       'model_name_DAYZ_ROOX', 'model_name_DELICA_D2',\n",
       "       'model_name_DELICA_D_5', 'model_name_DIAMANTE', 'model_name_DUET',\n",
       "       'model_name_ECLIPSE_CROSS', 'model_name_EK_WAGON', 'model_name_ES',\n",
       "       'model_name_E_KLASSE', 'model_name_E_KLASSE_AMG',\n",
       "       'model_name_E_TRON', 'model_name_FABIA_RS',\n",
       "       'model_name_FAIRLADY_Z', 'model_name_FJ_CRUISER',\n",
       "       'model_name_FR_V', 'model_name_FTO', 'model_name_G35',\n",
       "       'model_name_GAIA', 'model_name_GLA_CLASS',\n",
       "       'model_name_GLA_CLASS_AMG', 'model_name_GLB_KLASSE',\n",
       "       'model_name_GLC AMG', 'model_name_GLC_COUPE',\n",
       "       'model_name_GLC_KLASSE', 'model_name_GLC_KLASSE_AMG',\n",
       "       'model_name_GLE_KLASSE', 'model_name_GLE_KLASSE_AMG',\n",
       "       'model_name_GLE_KLASSE_COUPE', 'model_name_GLE_KLASSE_COUPE_AMG',\n",
       "       'model_name_GLK_KLASSE', 'model_name_GLS_KLASSE',\n",
       "       'model_name_GLS_KLASSE_AMG', 'model_name_GL_KLASSE',\n",
       "       'model_name_GL_KLASSE_AMG', 'model_name_GOLF_GTI',\n",
       "       'model_name_GOLF_PLUS', 'model_name_GOLF_R', 'model_name_GOLF_R32',\n",
       "       'model_name_GRAND HIACE', 'model_name_GRAND_HIACE',\n",
       "       'model_name_GRANVIA', 'model_name_GT_R', 'model_name_G_KLASSE',\n",
       "       'model_name_G_KLASSE_AMG', 'model_name_HILUX_SURF',\n",
       "       'model_name_HR_V', 'model_name_IST', 'model_name_I_MIEV',\n",
       "       'model_name_JUKE_NISMO', 'model_name_JX', 'model_name_KIX',\n",
       "       'model_name_LAFESTA', 'model_name_LANCER RALLIART',\n",
       "       'model_name_LANCER_EVOLUTION', 'model_name_LANCER_RALLIART',\n",
       "       'model_name_LAND_CRUISER', 'model_name_LAND_CRUISER_PRADO',\n",
       "       'model_name_LARGO', 'model_name_LITE_ACE', 'model_name_M1',\n",
       "       'model_name_MARK_II', 'model_name_MARK_X', 'model_name_MARK_X_ZIO',\n",
       "       'model_name_MASTER_ACE_SURF', 'model_name_MAYBACH_GLS',\n",
       "       'model_name_MEGA_CRUISER', 'model_name_MINICA',\n",
       "       'model_name_MOBILIO_SPIKE', 'model_name_MONTERO_SPORT',\n",
       "       'model_name_MR-S', 'model_name_MR_S', 'model_name_M_KLASSE',\n",
       "       'model_name_M_KLASSE_AMG', 'model_name_NADIA', 'model_name_NAVARA',\n",
       "       'model_name_N_BOX', 'model_name_N_WGN', 'model_name_OCTAVIA_RS',\n",
       "       'model_name_ODYSSEY_NA', 'model_name_PAJERO_IO',\n",
       "       'model_name_PAJERO_MINI', 'model_name_PAJERO_PININ',\n",
       "       'model_name_PAJERO_SPORT', 'model_name_PASEO',\n",
       "       'model_name_PASSAT_CC', 'model_name_PLATZ', 'model_name_POLO_GTI',\n",
       "       'model_name_PORTE', 'model_name_PRESEA', 'model_name_PREVIA',\n",
       "       'model_name_PRIUS V (+)', 'model_name_PRIUSPLUS',\n",
       "       'model_name_PRIUS_ALPHA', 'model_name_PROGRES',\n",
       "       'model_name_QASHQAI_PLUS_2', 'model_name_RACTIS',\n",
       "       'model_name_RAV_4', 'model_name_RNESSA', 'model_name_RS 3',\n",
       "       'model_name_RS3', 'model_name_RS4', 'model_name_RS5',\n",
       "       'model_name_RS6', 'model_name_RS7', 'model_name_RSQ3',\n",
       "       'model_name_RUSH', 'model_name_RVR', 'model_name_R_KLASSE',\n",
       "       'model_name_S-MX', 'model_name_S60_CROSS_COUNTRY',\n",
       "       'model_name_SABER', 'model_name_SCEPTER_SEDAN', 'model_name_SIGMA',\n",
       "       'model_name_SLC_KLASSE', 'model_name_SLK_KLASSE',\n",
       "       'model_name_SLR_KLASSE', 'model_name_SLS_AMG',\n",
       "       'model_name_SL_KLASSE', 'model_name_SL_KLASSE_AMG',\n",
       "       'model_name_SPACE_GEAR', 'model_name_SPACE_RUNNER',\n",
       "       'model_name_SPACE_STAR', 'model_name_SPACE_WAGON',\n",
       "       'model_name_SPRINTER_CARIB', 'model_name_SPRINTER_MARINO',\n",
       "       'model_name_SPRINTER_TRUENO', 'model_name_STEPWAGON',\n",
       "       'model_name_S_CLASS_MAYBACH', 'model_name_S_KLASSE',\n",
       "       'model_name_S_KLASSE_AMG', 'model_name_TARO',\n",
       "       'model_name_TERRANO REGULUS', 'model_name_TERRANO_REGULUS',\n",
       "       'model_name_TOWN_ACE', 'model_name_TT_RS', 'model_name_TYPE_1',\n",
       "       'model_name_URVAN', 'model_name_V40_CC',\n",
       "       'model_name_V60_CROSS_COUNTRY', 'model_name_V90',\n",
       "       'model_name_V90_CROSS_COUNTRY', 'model_name_VANEO',\n",
       "       'model_name_VEROSSA', 'model_name_VERSO-S', 'model_name_VERSO_S',\n",
       "       'model_name_VIGOR', 'model_name_VISTA', 'model_name_V_KLASSE',\n",
       "       'model_name_W136', 'model_name_W186', 'model_name_W201',\n",
       "       'model_name_WILL', 'model_name_WILL_CYPHA', 'model_name_X3_M',\n",
       "       'model_name_X4_M', 'model_name_X5', 'model_name_X5_M',\n",
       "       'model_name_X6_M', 'model_name_X_KLASSE', 'model_name_X_TRAIL',\n",
       "       'model_name_YARIS_VERSO', 'model_name_Z3 M', 'model_name_Z3M',\n",
       "       'vendor_JAPANESE', 'ПТС_Оригинал'], dtype=object)"
      ]
     },
     "execution_count": 28,
     "metadata": {},
     "output_type": "execute_result"
    }
   ],
   "source": [
    "coefs = pd.Series(model.coef_, index=X_train.columns)\n",
    "print(coefs.shape)\n",
    "coefs[coefs==0].index.values"
   ]
  },
  {
   "cell_type": "markdown",
   "metadata": {},
   "source": [
    "Линейная регрессия конечно очень плохо справилась, но зато можно посмотреть какие коэффициенты она обнулала.\n",
    "Lasso регрессия обнулила 814 коэффициентов, в основном это dummy колонки по `model_name`"
   ]
  },
  {
   "cell_type": "markdown",
   "metadata": {},
   "source": [
    "## model_name"
   ]
  },
  {
   "cell_type": "markdown",
   "metadata": {},
   "source": [
    "В текущем наборе мы эту колонку сделали dummy колонкой и наша Lasso модель обнулила много коэффициентов по ней  \n",
    "наверное стоит сделать ограничение на эту колонку, чтобы не засорять модель 733 новыми колонками  \n",
    "определим, сколько моделей стоит учитывать  \n",
    "\n",
    "увидел что в колонке есть значение с пробелами и с подчеркиваниями (наверное в тесте и в трейне разные парсеры) - исправим это  \n",
    "думаю 50 моделей - нормальное число, как раз только 50 моделей встерчаются более 500 раз, остальные меньше"
   ]
  },
  {
   "cell_type": "code",
   "execution_count": 29,
   "metadata": {},
   "outputs": [],
   "source": [
    "df.model_name = df.model_name.str.replace(' ', '_')"
   ]
  },
  {
   "cell_type": "code",
   "execution_count": 30,
   "metadata": {},
   "outputs": [
    {
     "data": {
      "text/plain": [
       "S_KLASSE        549\n",
       "GLE             536\n",
       "YETI            529\n",
       "FABIA           515\n",
       "RAV4            515\n",
       "SUPERB          514\n",
       "PAJERO_SPORT    487\n",
       "CR-V            466\n",
       "JUKE            452\n",
       "RAV_4           447\n",
       "A3              446\n",
       "MURANO          433\n",
       "KODIAQ          428\n",
       "C_KLASSE        428\n",
       "A5              426\n",
       "S80             416\n",
       "LX              413\n",
       "A8              413\n",
       "ASX             404\n",
       "X1              396\n",
       "Name: model_name, dtype: int64"
      ]
     },
     "execution_count": 30,
     "metadata": {},
     "output_type": "execute_result"
    }
   ],
   "source": [
    "df.model_name.value_counts()[40:60]"
   ]
  },
  {
   "cell_type": "code",
   "execution_count": 31,
   "metadata": {},
   "outputs": [],
   "source": [
    "top_models = df.model_name.value_counts()[:50].index\n",
    "df['model_name_cut'] = df.model_name\n",
    "df.loc[~df.model_name.isin(top_models), 'model_name_cut'] = 'RARE_MODEL'"
   ]
  },
  {
   "cell_type": "code",
   "execution_count": 32,
   "metadata": {},
   "outputs": [
    {
     "data": {
      "text/plain": [
       "RARE_MODEL            28037\n",
       "OCTAVIA                2835\n",
       "OUTLANDER              1604\n",
       "LANCER                 1544\n",
       "POLO                   1457\n",
       "A6                     1360\n",
       "PASSAT                 1317\n",
       "QASHQAI                1315\n",
       "CAMRY                  1314\n",
       "A4                     1265\n",
       "X5                     1213\n",
       "TIGUAN                 1122\n",
       "5ER                    1026\n",
       "RAPID                  1021\n",
       "XC90                    958\n",
       "LAND_CRUISER            955\n",
       "TOUAREG                 877\n",
       "XC60                    860\n",
       "CIVIC                   828\n",
       "COROLLA                 828\n",
       "X-TRAIL                 818\n",
       "E_KLASSE                809\n",
       "ALMERA                  786\n",
       "3ER                     752\n",
       "RX                      721\n",
       "3_СЕРИИ                 720\n",
       "LAND_CRUISER_PRADO      716\n",
       "ACCORD                  698\n",
       "GOLF                    686\n",
       "JETTA                   658\n",
       "FX                      655\n",
       "X_TRAIL                 654\n",
       "E-КЛАСС                 652\n",
       "Q5                      645\n",
       "5_СЕРИИ                 631\n",
       "PAJERO                  628\n",
       "Q7                      603\n",
       "X6                      592\n",
       "TEANA                   581\n",
       "S60                     577\n",
       "X3                      568\n",
       "S_KLASSE                549\n",
       "GLE                     536\n",
       "YETI                    529\n",
       "FABIA                   515\n",
       "RAV4                    515\n",
       "SUPERB                  514\n",
       "PAJERO_SPORT            487\n",
       "CR-V                    466\n",
       "JUKE                    452\n",
       "RAV_4                   447\n",
       "Name: model_name_cut, dtype: int64"
      ]
     },
     "execution_count": 32,
     "metadata": {},
     "output_type": "execute_result"
    }
   ],
   "source": [
    "df.model_name_cut.value_counts()"
   ]
  },
  {
   "cell_type": "markdown",
   "metadata": {},
   "source": [
    "## model_date & production_date"
   ]
  },
  {
   "cell_type": "markdown",
   "metadata": {},
   "source": [
    "Распределение почти одинаковое.   \n",
    "А что если добавить колонку разницу этих дат  \n",
    "Ну и по корреляции уже поняли что нужно использовать только одну из этих колонок"
   ]
  },
  {
   "cell_type": "code",
   "execution_count": 5,
   "metadata": {},
   "outputs": [
    {
     "data": {
      "image/png": "[encoded data removed]",
      "text/plain": [
       "<Figure size 1080x576 with 2 Axes>"
      ]
     },
     "metadata": {
      "needs_background": "light"
     },
     "output_type": "display_data"
    }
   ],
   "source": [
    "figure, (ax1, ax2) = plt.subplots(1, 2, figsize=(15, 8))\n",
    "ax1.hist(df.modelDate)\n",
    "ax2.hist(df.productionDate)\n",
    "figure.suptitle('Распределение года модели, и года выпуска самой машины')\n",
    "plt.show()"
   ]
  },
  {
   "cell_type": "code",
   "execution_count": 17,
   "metadata": {},
   "outputs": [],
   "source": [
    "df['diff_date_model_production'] = df.productionDate-df.modelDate\n",
    "df['diff_date_model_production_log'] = np.log(df.diff_date_model_production-np.min(df.diff_date_model_production)+1)"
   ]
  },
  {
   "cell_type": "code",
   "execution_count": 19,
   "metadata": {},
   "outputs": [
    {
     "data": {
      "image/png": "[encoded data removed]",
      "text/plain": [
       "<Figure size 1080x576 with 2 Axes>"
      ]
     },
     "metadata": {
      "needs_background": "light"
     },
     "output_type": "display_data"
    }
   ],
   "source": [
    "figure, (ax1, ax2) = plt.subplots(1, 2, figsize=(15, 8))\n",
    "ax1.hist(df.diff_date_model_production)\n",
    "ax2.hist(df.diff_date_model_production_log)\n",
    "figure.suptitle('Разница года производства и года выпуска модели + логарифм')\n",
    "plt.show();"
   ]
  },
  {
   "cell_type": "markdown",
   "metadata": {},
   "source": [
    "## Владельцы"
   ]
  },
  {
   "cell_type": "markdown",
   "metadata": {},
   "source": [
    "заменим категориальную переменну числом, ведь это ординальная ,3 владельца болье чем 2 и 2 больше чем 1  \n",
    "но что ставить когда неизвестно! если пробег 0, то и владельцев 0  \n",
    "а если пробег больше 0 то ставим 2 владельца - как среднее в нашей выборке  \n"
   ]
  },
  {
   "cell_type": "code",
   "execution_count": 33,
   "metadata": {},
   "outputs": [
    {
     "data": {
      "text/plain": [
       "3 или более    29078\n",
       "1 владелец     18197\n",
       "2 владельца    17001\n",
       "Неизвестно      6620\n",
       "Name: Владельцы, dtype: int64"
      ]
     },
     "execution_count": 33,
     "metadata": {},
     "output_type": "execute_result"
    }
   ],
   "source": [
    "df['Владельцы'].value_counts()"
   ]
  },
  {
   "cell_type": "code",
   "execution_count": 34,
   "metadata": {},
   "outputs": [
    {
     "data": {
      "text/plain": [
       "array(['3 или более', '1\\xa0владелец', '2\\xa0владельца', 'Неизвестно'],\n",
       "      dtype=object)"
      ]
     },
     "execution_count": 34,
     "metadata": {},
     "output_type": "execute_result"
    }
   ],
   "source": [
    "df['Владельцы'].unique()"
   ]
  },
  {
   "cell_type": "code",
   "execution_count": 35,
   "metadata": {},
   "outputs": [
    {
     "data": {
      "text/plain": [
       "0         6616\n",
       "130000       1\n",
       "160000       1\n",
       "119000       1\n",
       "280000       1\n",
       "Name: mileage, dtype: int64"
      ]
     },
     "execution_count": 35,
     "metadata": {},
     "output_type": "execute_result"
    }
   ],
   "source": [
    "df[df['Владельцы'] == 'Неизвестно'].mileage.value_counts()"
   ]
  },
  {
   "cell_type": "code",
   "execution_count": 36,
   "metadata": {},
   "outputs": [],
   "source": [
    "mask = (df['Владельцы'] == 'Неизвестно') & (df.mileage == 0)\n",
    "df.loc[mask, 'Владельцы'] = \"Новая машина\"\n",
    "mask = (df['Владельцы'] == 'Неизвестно') & (df.mileage != 0)\n",
    "df.loc[mask, 'Владельцы'] = \"2\\xa0владельца\""
   ]
  },
  {
   "cell_type": "code",
   "execution_count": 37,
   "metadata": {},
   "outputs": [
    {
     "data": {
      "text/plain": [
       "3 или более     29078\n",
       "1 владелец      18197\n",
       "2 владельца     17005\n",
       "Новая машина     6616\n",
       "Name: Владельцы, dtype: int64"
      ]
     },
     "execution_count": 37,
     "metadata": {},
     "output_type": "execute_result"
    }
   ],
   "source": [
    "df['Владельцы'].value_counts()"
   ]
  },
  {
   "cell_type": "code",
   "execution_count": 38,
   "metadata": {},
   "outputs": [
    {
     "data": {
      "text/plain": [
       "array(['3 или более', '1\\xa0владелец', '2\\xa0владельца', 'Новая машина'],\n",
       "      dtype=object)"
      ]
     },
     "execution_count": 38,
     "metadata": {},
     "output_type": "execute_result"
    }
   ],
   "source": [
    "df['Владельцы'].unique()"
   ]
  },
  {
   "cell_type": "code",
   "execution_count": 39,
   "metadata": {},
   "outputs": [],
   "source": [
    "owners_map = {\n",
    "    'Новая машина':0,\n",
    "    '1\\xa0владелец':1,\n",
    "    '2\\xa0владельца':2,\n",
    "    '3 или более':3    \n",
    "}\n",
    "df['owners'] = df['Владельцы'].map(owners_map)"
   ]
  },
  {
   "cell_type": "code",
   "execution_count": 40,
   "metadata": {},
   "outputs": [
    {
     "data": {
      "image/png": "[encoded data removed]",
      "text/plain": [
       "<Figure size 864x576 with 1 Axes>"
      ]
     },
     "metadata": {
      "needs_background": "light"
     },
     "output_type": "display_data"
    }
   ],
   "source": [
    "df.owners.hist();\n",
    "plt.title('Распределение машин по количеству владельцев');"
   ]
  },
  {
   "cell_type": "markdown",
   "metadata": {},
   "source": [
    "## Владение"
   ]
  },
  {
   "cell_type": "markdown",
   "metadata": {},
   "source": [
    "много пропущенных значений, больше половины набора данных  \n",
    "сделаем колонку что срок владения укзаан, и больше ничего не будем делать  "
   ]
  },
  {
   "cell_type": "code",
   "execution_count": 41,
   "metadata": {},
   "outputs": [
    {
     "name": "stdout",
     "output_type": "stream",
     "text": [
      "процент пропущенных значений: 0.699291920559693\n"
     ]
    }
   ],
   "source": [
    "print(f\"процент пропущенных значений: {df['Владение'].isna().sum() / df.shape[0]}\")"
   ]
  },
  {
   "cell_type": "code",
   "execution_count": 42,
   "metadata": {},
   "outputs": [
    {
     "data": {
      "text/plain": [
       "1 год и 10 месяцев             209\n",
       "2 года                         197\n",
       "1 год                          194\n",
       "1 год и 1 месяц                193\n",
       "1 год и 2 месяца               187\n",
       "                              ... \n",
       "{'year': 1994, 'month': 6}       1\n",
       "23 года и 9 месяцев              1\n",
       "24 года и 2 месяца               1\n",
       "18 лет и 10 месяцев              1\n",
       "{'year': 2004, 'month': 10}      1\n",
       "Name: Владение, Length: 538, dtype: int64"
      ]
     },
     "execution_count": 42,
     "metadata": {},
     "output_type": "execute_result"
    }
   ],
   "source": [
    "df['Владение'].value_counts()"
   ]
  },
  {
   "cell_type": "code",
   "execution_count": 43,
   "metadata": {},
   "outputs": [],
   "source": [
    "df['own_time_is_na'] = df['Владение'].isna()"
   ]
  },
  {
   "cell_type": "markdown",
   "metadata": {},
   "source": [
    "## Оформим все в одну функцию"
   ]
  },
  {
   "cell_type": "code",
   "execution_count": 8,
   "metadata": {},
   "outputs": [],
   "source": [
    "def feature_enginering_version2(df: pd.DataFrame):\n",
    "    \"\"\"запишем сюда все преобразования которые делали в этом разделе ноутбука\n",
    "    1) В колонке model_name_cut все редкие модели (не в ТОП 50) заменяем на RARE_MODEL\n",
    "    2) добавляем колонки diff_date_model_production и diff_date_model_production_log\n",
    "    3) добавляем порядковую колонку owners\n",
    "    4) добавляем колонку own_time_is_na\"\"\"\n",
    "    \n",
    "    df.model_name = df.model_name.str.replace(' ', '_')\n",
    "    \n",
    "    df['model_name_cut_50'] = df.model_name\n",
    "    top_models = df.model_name.value_counts()[:50].index\n",
    "    df.loc[~df.model_name.isin(top_models), 'model_name_cut_50'] = 'RARE_MODEL'\n",
    "    \n",
    "    df['model_name_cut_450'] = df.model_name\n",
    "    top_models = df.model_name.value_counts()[:450].index\n",
    "    df.loc[~df.model_name.isin(top_models), 'model_name_cut_450'] = 'RARE_MODEL'\n",
    "    \n",
    "    df['diff_date_model_production'] = df.productionDate-df.modelDate\n",
    "    df['diff_date_model_production_log'] = np.log(df.diff_date_model_production-np.min(df.diff_date_model_production)+1)\n",
    "    \n",
    "    mask = (df['Владельцы'] == 'Неизвестно') & (df.mileage == 0)\n",
    "    df.loc[mask, 'Владельцы'] = \"Новая машина\"\n",
    "    mask = (df['Владельцы'] == 'Неизвестно') & (df.mileage != 0)\n",
    "    df.loc[mask, 'Владельцы'] = \"2\\xa0владельца\"\n",
    "    \n",
    "    owners_map = {\n",
    "        'Новая машина':0,\n",
    "        '1\\xa0владелец':1,\n",
    "        '2\\xa0владельца':2,\n",
    "        '3 или более':3    \n",
    "    }\n",
    "    df['owners'] = df['Владельцы'].map(owners_map)\n",
    "    \n",
    "    df['own_time_is_na'] = df['Владение'].isna()"
   ]
  },
  {
   "cell_type": "code",
   "execution_count": 9,
   "metadata": {},
   "outputs": [],
   "source": [
    "feature_enginering_version2(df)"
   ]
  },
  {
   "cell_type": "markdown",
   "metadata": {},
   "source": [
    "## Попробуем новые признаки в предсказании"
   ]
  },
  {
   "cell_type": "code",
   "execution_count": 50,
   "metadata": {},
   "outputs": [],
   "source": [
    "cat_cols = ['bodyType', 'brand', 'fuelType', 'color', 'model_name',\n",
    "            'vehicleTransmission', 'vendor', 'ПТС', 'Владельцы', 'Привод', 'Руль']\n",
    "num_cols = ['productionDate', 'numberOfDoors',\n",
    "            'enginePower_log', 'mileage_log', ]\n",
    "\n",
    "\n",
    "X_train, X_test, y = prepare_data(cat_cols, num_cols)"
   ]
  },
  {
   "cell_type": "code",
   "execution_count": 15,
   "metadata": {},
   "outputs": [],
   "source": [
    "model = RandomForestRegressor(100, random_state=RANDOM_STATE)"
   ]
  },
  {
   "cell_type": "code",
   "execution_count": 52,
   "metadata": {},
   "outputs": [
    {
     "name": "stdout",
     "output_type": "stream",
     "text": [
      "####################################################################################################\n",
      "RandomForestRegressor(random_state=43)\n",
      "train shape (36210, 744)\n",
      "cat_cols=['bodyType', 'brand', 'fuelType', 'color', 'model_name', 'vehicleTransmission', 'vendor', 'ПТС', 'Владельцы', 'Привод', 'Руль']\n",
      "num_cols=['productionDate', 'numberOfDoors', 'enginePower_log', 'mileage_log']\n",
      "####################################################################################################\n",
      "Train result: 5.573685792860849\n",
      "CV result: 14.092390584403361 ([13.98608792 14.4967602  13.79432364])\n",
      "####################################################################################################\n",
      "Wall time: 3min 42s\n"
     ]
    }
   ],
   "source": [
    "%%time\n",
    "fit_and_score_model(model, X_train, y)"
   ]
  },
  {
   "cell_type": "markdown",
   "metadata": {},
   "source": [
    "Очистка поля **model_name** помогла. Это уже улучшило нашу модель на 0.01 и уменьшило количество колонок на 40."
   ]
  },
  {
   "cell_type": "markdown",
   "metadata": {},
   "source": [
    "### model_name_cut"
   ]
  },
  {
   "cell_type": "code",
   "execution_count": 24,
   "metadata": {},
   "outputs": [],
   "source": [
    "cat_cols = ['bodyType', 'brand', 'fuelType', 'color', 'model_name_cut_50',\n",
    "            'vehicleTransmission', 'vendor', 'ПТС', 'Владельцы', 'Привод', 'Руль']\n",
    "num_cols = ['productionDate', 'numberOfDoors',\n",
    "            'enginePower_log', 'mileage_log', ]\n",
    "\n",
    "\n",
    "X_train, X_test, y = prepare_data(cat_cols, num_cols)"
   ]
  },
  {
   "cell_type": "code",
   "execution_count": 25,
   "metadata": {},
   "outputs": [
    {
     "name": "stdout",
     "output_type": "stream",
     "text": [
      "####################################################################################################\n",
      "RandomForestRegressor(random_state=43)\n",
      "train shape (36210, 130)\n",
      "cat_cols=['bodyType', 'brand', 'fuelType', 'color', 'model_name_cut_50', 'vehicleTransmission', 'vendor', 'ПТС', 'Владельцы', 'Привод', 'Руль']\n",
      "num_cols=['productionDate', 'numberOfDoors', 'enginePower_log', 'mileage_log']\n",
      "####################################################################################################\n",
      "Train result: 5.969417669066359\n",
      "CV result: 15.205308348229726 ([15.12644352 15.56449013 14.92499139])\n",
      "####################################################################################################\n",
      "Wall time: 1min 26s\n"
     ]
    }
   ],
   "source": [
    "%%time\n",
    "fit_and_score_model(model, X_train, y)"
   ]
  },
  {
   "cell_type": "markdown",
   "metadata": {},
   "source": [
    "Точность сильно упала, но зато в два раза уменьшилось время обучения, и число признаков сократилось до 130.  \n",
    "Но за скоростью мы не гонимся, поэтому этот признак не используем.  \n",
    "\n",
    "Может взять больше моделей, 450 а не 50 ..."
   ]
  },
  {
   "cell_type": "code",
   "execution_count": 57,
   "metadata": {},
   "outputs": [],
   "source": [
    "df.model_name = df.model_name.str.replace(' ', '_')\n",
    "top_models = df.model_name.value_counts()[:450].index\n",
    "df['model_name_cut'] = df.model_name\n",
    "df.loc[~df.model_name.isin(top_models), 'model_name_cut'] = 'RARE_MODEL'\n",
    "\n"
   ]
  },
  {
   "cell_type": "code",
   "execution_count": 26,
   "metadata": {},
   "outputs": [],
   "source": [
    "cat_cols = ['bodyType', 'brand', 'fuelType', 'color', 'model_name_cut_450',\n",
    "            'vehicleTransmission', 'vendor', 'ПТС', 'Владельцы', 'Привод', 'Руль']\n",
    "num_cols = ['productionDate', 'numberOfDoors',\n",
    "            'enginePower_log', 'mileage_log', ]\n",
    "\n",
    "\n",
    "X_train, X_test, y = prepare_data(cat_cols, num_cols)"
   ]
  },
  {
   "cell_type": "code",
   "execution_count": 27,
   "metadata": {},
   "outputs": [
    {
     "name": "stdout",
     "output_type": "stream",
     "text": [
      "####################################################################################################\n",
      "RandomForestRegressor(random_state=43)\n",
      "train shape (36210, 530)\n",
      "cat_cols=['bodyType', 'brand', 'fuelType', 'color', 'model_name_cut_450', 'vehicleTransmission', 'vendor', 'ПТС', 'Владельцы', 'Привод', 'Руль']\n",
      "num_cols=['productionDate', 'numberOfDoors', 'enginePower_log', 'mileage_log']\n",
      "####################################################################################################\n",
      "Train result: 5.631875243356286\n",
      "CV result: 14.352788226369746 ([14.06591381 14.70679025 14.28566062])\n",
      "####################################################################################################\n",
      "Wall time: 2min 52s\n"
     ]
    }
   ],
   "source": [
    "%%time\n",
    "fit_and_score_model(model, X_train, y)"
   ]
  },
  {
   "cell_type": "markdown",
   "metadata": {},
   "source": [
    "В результате поле **model_name_cut** не дало никакого прироста в точности прогноза, поэтому его не испльзуем."
   ]
  },
  {
   "cell_type": "markdown",
   "metadata": {},
   "source": [
    "### diff_date"
   ]
  },
  {
   "cell_type": "code",
   "execution_count": 28,
   "metadata": {},
   "outputs": [],
   "source": [
    "cat_cols = ['bodyType', 'brand', 'fuelType', 'color', 'model_name',\n",
    "            'vehicleTransmission', 'vendor', 'ПТС', 'Владельцы', 'Привод', 'Руль']\n",
    "num_cols = ['productionDate', 'numberOfDoors',\n",
    "            'enginePower_log', 'mileage_log', 'diff_date_model_production_log']\n",
    "\n",
    "\n",
    "X_train, X_test, y = prepare_data(cat_cols, num_cols)"
   ]
  },
  {
   "cell_type": "code",
   "execution_count": 29,
   "metadata": {},
   "outputs": [
    {
     "name": "stdout",
     "output_type": "stream",
     "text": [
      "####################################################################################################\n",
      "RandomForestRegressor(random_state=43)\n",
      "train shape (36210, 745)\n",
      "cat_cols=['bodyType', 'brand', 'fuelType', 'color', 'model_name', 'vehicleTransmission', 'vendor', 'ПТС', 'Владельцы', 'Привод', 'Руль']\n",
      "num_cols=['productionDate', 'numberOfDoors', 'enginePower_log', 'mileage_log', 'diff_date_model_production_log']\n",
      "####################################################################################################\n",
      "Train result: 5.55774193832088\n",
      "CV result: 14.041206371628798 ([13.89005779 14.3894928  13.84406852])\n",
      "####################################################################################################\n",
      "Wall time: 3min 54s\n"
     ]
    }
   ],
   "source": [
    "%%time\n",
    "fit_and_score_model(model, X_train, y)"
   ]
  },
  {
   "cell_type": "markdown",
   "metadata": {},
   "source": [
    "Показатель **diff_date** годный. Он хорошо улучшил нашу модель. Берем его."
   ]
  },
  {
   "cell_type": "markdown",
   "metadata": {},
   "source": [
    "### owners"
   ]
  },
  {
   "cell_type": "code",
   "execution_count": 31,
   "metadata": {},
   "outputs": [],
   "source": [
    "cat_cols = ['bodyType', 'brand', 'fuelType', 'color', 'model_name',\n",
    "            'vehicleTransmission', 'vendor', 'ПТС', 'Владельцы', 'Привод', 'Руль']\n",
    "num_cols = ['productionDate', 'numberOfDoors',\n",
    "            'enginePower_log', 'mileage_log', 'diff_date_model_production_log', 'owners']\n",
    "\n",
    "\n",
    "X_train, X_test, y = prepare_data(cat_cols, num_cols)"
   ]
  },
  {
   "cell_type": "code",
   "execution_count": 32,
   "metadata": {},
   "outputs": [
    {
     "name": "stdout",
     "output_type": "stream",
     "text": [
      "####################################################################################################\n",
      "RandomForestRegressor(random_state=43)\n",
      "train shape (36210, 746)\n",
      "cat_cols=['bodyType', 'brand', 'fuelType', 'color', 'model_name', 'vehicleTransmission', 'vendor', 'ПТС', 'Владельцы', 'Привод', 'Руль']\n",
      "num_cols=['productionDate', 'numberOfDoors', 'enginePower_log', 'mileage_log', 'diff_date_model_production_log', 'owners']\n",
      "####################################################################################################\n",
      "Train result: 5.5564692160094085\n",
      "CV result: 14.027312138856653 ([13.84501638 14.35060777 13.88631227])\n",
      "####################################################################################################\n",
      "Wall time: 3min 34s\n"
     ]
    }
   ],
   "source": [
    "%%time\n",
    "fit_and_score_model(model, X_train, y)"
   ]
  },
  {
   "cell_type": "markdown",
   "metadata": {},
   "source": [
    "Отлично, **owners** еще немного улучшили предсказание.  \n",
    "Берем этот признак!"
   ]
  },
  {
   "cell_type": "markdown",
   "metadata": {},
   "source": [
    "### own_time_is_na"
   ]
  },
  {
   "cell_type": "code",
   "execution_count": 33,
   "metadata": {},
   "outputs": [],
   "source": [
    "cat_cols = ['bodyType', 'brand', 'fuelType', 'color', 'model_name',\n",
    "            'vehicleTransmission', 'vendor', 'ПТС', 'Владельцы', 'Привод', 'Руль']\n",
    "num_cols = ['productionDate', 'numberOfDoors',\n",
    "            'enginePower_log', 'mileage_log', 'diff_date_model_production_log', 'owners', 'own_time_is_na']\n",
    "\n",
    "\n",
    "X_train, X_test, y = prepare_data(cat_cols, num_cols)"
   ]
  },
  {
   "cell_type": "code",
   "execution_count": 34,
   "metadata": {},
   "outputs": [
    {
     "name": "stdout",
     "output_type": "stream",
     "text": [
      "####################################################################################################\n",
      "RandomForestRegressor(random_state=43)\n",
      "train shape (36210, 747)\n",
      "cat_cols=['bodyType', 'brand', 'fuelType', 'color', 'model_name', 'vehicleTransmission', 'vendor', 'ПТС', 'Владельцы', 'Привод', 'Руль']\n",
      "num_cols=['productionDate', 'numberOfDoors', 'enginePower_log', 'mileage_log', 'diff_date_model_production_log', 'owners', 'own_time_is_na']\n",
      "####################################################################################################\n",
      "Train result: 5.546883394630141\n",
      "CV result: 14.058894697319205 ([13.89439214 14.38828568 13.89400627])\n",
      "####################################################################################################\n",
      "Wall time: 3min 48s\n"
     ]
    }
   ],
   "source": [
    "%%time\n",
    "fit_and_score_model(model, X_train, y)"
   ]
  },
  {
   "cell_type": "markdown",
   "metadata": {},
   "source": [
    "Признак **own_time_is_na** не помог"
   ]
  },
  {
   "cell_type": "markdown",
   "metadata": {},
   "source": [
    "## Выводы после feature enginering"
   ]
  },
  {
   "cell_type": "markdown",
   "metadata": {},
   "source": [
    "- price_log - плохо\n",
    "- bodyType_cut - плохо\n",
    "- engine_power_log - **хорошо**\n",
    "- mileage_log - **хорошо**\n",
    "- mileage_is_0 - плохо\n",
    "- model_name_cut - плохо\n",
    "- diff_date_model_production - **хорошо**\n",
    "- owners - *хорошо*\n",
    "- own_time_is_na - плохо"
   ]
  },
  {
   "cell_type": "code",
   "execution_count": 11,
   "metadata": {},
   "outputs": [],
   "source": [
    "cat_cols = ['bodyType', 'brand', 'fuelType', 'color', 'model_name',\n",
    "            'vehicleTransmission', 'vendor', 'ПТС', 'Владельцы', 'Привод', 'Руль']\n",
    "num_cols = ['productionDate', 'numberOfDoors',\n",
    "            'enginePower_log', 'mileage_log', 'diff_date_model_production_log', 'owners']\n",
    "\n",
    "\n",
    "X_train, X_test, y = prepare_data(cat_cols, num_cols)"
   ]
  },
  {
   "cell_type": "markdown",
   "metadata": {},
   "source": [
    "# Генерируем новые фичи из дополнительных колонок"
   ]
  },
  {
   "cell_type": "markdown",
   "metadata": {},
   "source": [
    "Есть 5 дополнительных полей, из которых можно генерировать новые фичи, но нужно их анализировать"
   ]
  },
  {
   "cell_type": "code",
   "execution_count": 11,
   "metadata": {},
   "outputs": [
    {
     "data": {
      "text/html": [
       "<div>\n",
       "<style scoped>\n",
       "    .dataframe tbody tr th:only-of-type {\n",
       "        vertical-align: middle;\n",
       "    }\n",
       "\n",
       "    .dataframe tbody tr th {\n",
       "        vertical-align: top;\n",
       "    }\n",
       "\n",
       "    .dataframe thead th {\n",
       "        text-align: right;\n",
       "    }\n",
       "</style>\n",
       "<table border=\"1\" class=\"dataframe\">\n",
       "  <thead>\n",
       "    <tr style=\"text-align: right;\">\n",
       "      <th></th>\n",
       "      <th>description</th>\n",
       "      <th>complectation_dict</th>\n",
       "      <th>equipment_dict</th>\n",
       "      <th>model_info</th>\n",
       "      <th>super_gen</th>\n",
       "    </tr>\n",
       "  </thead>\n",
       "  <tbody>\n",
       "    <tr>\n",
       "      <th>0</th>\n",
       "      <td>Все автомобили, представленные в продаже, прох...</td>\n",
       "      <td>NaN</td>\n",
       "      <td>{\"engine-proof\":true,\"tinted-glass\":true,\"airb...</td>\n",
       "      <td>{\"code\":\"OCTAVIA\",\"name\":\"Octavia\",\"ru_name\":\"...</td>\n",
       "      <td>{\"id\":\"10373605\",\"displacement\":1197,\"engine_t...</td>\n",
       "    </tr>\n",
       "    <tr>\n",
       "      <th>1</th>\n",
       "      <td>ЛОТ: 01217195\\nАвтопрага Север\\nДанный автомоб...</td>\n",
       "      <td>NaN</td>\n",
       "      <td>{\"cruise-control\":true,\"asr\":true,\"esp\":true,\"...</td>\n",
       "      <td>{\"code\":\"OCTAVIA\",\"name\":\"Octavia\",\"ru_name\":\"...</td>\n",
       "      <td>{\"id\":\"20913311\",\"displacement\":1598,\"engine_t...</td>\n",
       "    </tr>\n",
       "    <tr>\n",
       "      <th>2</th>\n",
       "      <td>Все автомобили, представленные в продаже, прох...</td>\n",
       "      <td>{\"id\":\"20026336\",\"name\":\"Ambition\",\"available_...</td>\n",
       "      <td>{\"cruise-control\":true,\"tinted-glass\":true,\"es...</td>\n",
       "      <td>{\"code\":\"SUPERB\",\"name\":\"Superb\",\"ru_name\":\"Су...</td>\n",
       "      <td>{\"id\":\"20026323\",\"nameplate\":\"DSG\",\"displaceme...</td>\n",
       "    </tr>\n",
       "    <tr>\n",
       "      <th>3</th>\n",
       "      <td>КОМПЛЕКТ ЗИМНЕЙ (ЛЕТНЕЙ) РЕЗИНЫ ПО СЕЗОНУ В ПО...</td>\n",
       "      <td>{\"id\":\"20803582\",\"name\":\"Ambition\",\"available_...</td>\n",
       "      <td>{\"cruise-control\":true,\"roller-blind-for-rear-...</td>\n",
       "      <td>{\"code\":\"OCTAVIA\",\"name\":\"Octavia\",\"ru_name\":\"...</td>\n",
       "      <td>{\"id\":\"20105521\",\"displacement\":1598,\"engine_t...</td>\n",
       "    </tr>\n",
       "    <tr>\n",
       "      <th>4</th>\n",
       "      <td>ЛОТ: 01220889\\nАвтопрага Север\\n\\nВы можете по...</td>\n",
       "      <td>NaN</td>\n",
       "      <td>{\"cruise-control\":true,\"asr\":true,\"esp\":true,\"...</td>\n",
       "      <td>{\"code\":\"OCTAVIA\",\"name\":\"Octavia\",\"ru_name\":\"...</td>\n",
       "      <td>{\"id\":\"4561004\",\"displacement\":1798,\"engine_ty...</td>\n",
       "    </tr>\n",
       "  </tbody>\n",
       "</table>\n",
       "</div>"
      ],
      "text/plain": [
       "                                         description  \\\n",
       "0  Все автомобили, представленные в продаже, прох...   \n",
       "1  ЛОТ: 01217195\\nАвтопрага Север\\nДанный автомоб...   \n",
       "2  Все автомобили, представленные в продаже, прох...   \n",
       "3  КОМПЛЕКТ ЗИМНЕЙ (ЛЕТНЕЙ) РЕЗИНЫ ПО СЕЗОНУ В ПО...   \n",
       "4  ЛОТ: 01220889\\nАвтопрага Север\\n\\nВы можете по...   \n",
       "\n",
       "                                  complectation_dict  \\\n",
       "0                                                NaN   \n",
       "1                                                NaN   \n",
       "2  {\"id\":\"20026336\",\"name\":\"Ambition\",\"available_...   \n",
       "3  {\"id\":\"20803582\",\"name\":\"Ambition\",\"available_...   \n",
       "4                                                NaN   \n",
       "\n",
       "                                      equipment_dict  \\\n",
       "0  {\"engine-proof\":true,\"tinted-glass\":true,\"airb...   \n",
       "1  {\"cruise-control\":true,\"asr\":true,\"esp\":true,\"...   \n",
       "2  {\"cruise-control\":true,\"tinted-glass\":true,\"es...   \n",
       "3  {\"cruise-control\":true,\"roller-blind-for-rear-...   \n",
       "4  {\"cruise-control\":true,\"asr\":true,\"esp\":true,\"...   \n",
       "\n",
       "                                          model_info  \\\n",
       "0  {\"code\":\"OCTAVIA\",\"name\":\"Octavia\",\"ru_name\":\"...   \n",
       "1  {\"code\":\"OCTAVIA\",\"name\":\"Octavia\",\"ru_name\":\"...   \n",
       "2  {\"code\":\"SUPERB\",\"name\":\"Superb\",\"ru_name\":\"Су...   \n",
       "3  {\"code\":\"OCTAVIA\",\"name\":\"Octavia\",\"ru_name\":\"...   \n",
       "4  {\"code\":\"OCTAVIA\",\"name\":\"Octavia\",\"ru_name\":\"...   \n",
       "\n",
       "                                           super_gen  \n",
       "0  {\"id\":\"10373605\",\"displacement\":1197,\"engine_t...  \n",
       "1  {\"id\":\"20913311\",\"displacement\":1598,\"engine_t...  \n",
       "2  {\"id\":\"20026323\",\"nameplate\":\"DSG\",\"displaceme...  \n",
       "3  {\"id\":\"20105521\",\"displacement\":1598,\"engine_t...  \n",
       "4  {\"id\":\"4561004\",\"displacement\":1798,\"engine_ty...  "
      ]
     },
     "execution_count": 11,
     "metadata": {},
     "output_type": "execute_result"
    }
   ],
   "source": [
    "df[['description','complectation_dict','equipment_dict','model_info','super_gen']].head()"
   ]
  },
  {
   "cell_type": "markdown",
   "metadata": {},
   "source": [
    "## equipment_dict"
   ]
  },
  {
   "cell_type": "code",
   "execution_count": 12,
   "metadata": {
    "scrolled": true
   },
   "outputs": [
    {
     "data": {
      "text/plain": [
       "array([[\"{'engine-proof': True, 'alloy-wheel-disks': True, '16-inch-wheels': True, 'ptf': True, 'eco-leather': True, 'airbag-driver': True, 'aux': True, 'electro-window-front': True, 'body-mouldings': True, 'ashtray-and-cigarette-lighter': True, 'passenger-seat-updown': True, 'airbag-passenger': True, 'front-centre-armrest': True, 'condition': True, 'front-seats-heat': True, 'roof-rails': True, 'seat-transformation': True, 'wheel-leather': True, 'light-interior': True, 'lock': True, '12v-socket': True, 'third-rear-headrest': True, 'drl': True}\",\n",
       "        True]], dtype=object)"
      ]
     },
     "execution_count": 12,
     "metadata": {},
     "output_type": "execute_result"
    }
   ],
   "source": [
    "df[['equipment_dict','is_train']].sample().values"
   ]
  },
  {
   "cell_type": "markdown",
   "metadata": {},
   "source": [
    "В поле содержится json или python dict (я в трейне так спарсил).\n",
    "В этом объекте содержится значений опций присутствующих у авто. если значения нет, то и опция у машины не указана\n",
    "Можно из каждой опции сделать отдельную колонку бинарную.\n",
    "правда есть проблема, если вообще у колонки не указаны опции вообще, то и эта конкретная не известно есть или нет.\n",
    "Возможно имеет смысле ввести 3 значения: опция есть, опции указаны и этой опции нет, опции вообще не указаны. Но я это делать не буду.\n",
    "И так в наборе очень много колонок получается, и очень долго тренирутся модель.\n",
    "\n"
   ]
  },
  {
   "cell_type": "markdown",
   "metadata": {},
   "source": [
    "###  Сделаем функции которые создают бинарный dataframe из колонок json"
   ]
  },
  {
   "cell_type": "code",
   "execution_count": 12,
   "metadata": {},
   "outputs": [],
   "source": [
    "def parse_dict_column(row, column_name):\n",
    "    \"\"\"Функция парсит значение в ячейке.\n",
    "    Если это train строка то применяет функцию eval\n",
    "    Если это test - то загружает методом json.loads\n",
    "    Возвращает dict полученный из строкового представления.\n",
    "    Или возвращает None если значение не указано, или словарь пустой\"\"\"\n",
    "    if row[column_name] is np.nan:\n",
    "        value = None\n",
    "    elif row.is_train:\n",
    "        value = eval(row[column_name])\n",
    "    else:\n",
    "        value = json.loads(row[column_name])\n",
    "    \n",
    "    return value if value else None\n",
    "\n",
    "def create_dataframe_from_json_column(column_name):\n",
    "    \"\"\"Создает датафрейм из колонки, в которой храняться json(dict) параметров автомобиля \"\"\"\n",
    "    series_ = df.apply(partial(parse_dict_column, column_name=column_name), axis=1)\n",
    "    dataframe_ = series_.apply(pd.Series)\n",
    "    return dataframe_"
   ]
  },
  {
   "cell_type": "markdown",
   "metadata": {},
   "source": [
    "### Работаем с колонкой"
   ]
  },
  {
   "cell_type": "code",
   "execution_count": 14,
   "metadata": {},
   "outputs": [],
   "source": [
    "equipment_dataframe = create_dataframe_from_json_column('equipment_dict')\n",
    "equipment_dataframe.fillna(False, inplace=True)"
   ]
  },
  {
   "cell_type": "code",
   "execution_count": 15,
   "metadata": {
    "scrolled": true
   },
   "outputs": [
    {
     "data": {
      "text/html": [
       "<div>\n",
       "<style scoped>\n",
       "    .dataframe tbody tr th:only-of-type {\n",
       "        vertical-align: middle;\n",
       "    }\n",
       "\n",
       "    .dataframe tbody tr th {\n",
       "        vertical-align: top;\n",
       "    }\n",
       "\n",
       "    .dataframe thead th {\n",
       "        text-align: right;\n",
       "    }\n",
       "</style>\n",
       "<table border=\"1\" class=\"dataframe\">\n",
       "  <thead>\n",
       "    <tr style=\"text-align: right;\">\n",
       "      <th></th>\n",
       "      <th>engine-proof</th>\n",
       "      <th>tinted-glass</th>\n",
       "      <th>airbag-driver</th>\n",
       "      <th>aux</th>\n",
       "      <th>isofix</th>\n",
       "      <th>electro-window-front</th>\n",
       "      <th>ashtray-and-cigarette-lighter</th>\n",
       "      <th>airbag-passenger</th>\n",
       "      <th>computer</th>\n",
       "      <th>high-beam-assist</th>\n",
       "      <th>...</th>\n",
       "      <th>61U</th>\n",
       "      <th>PRG</th>\n",
       "      <th>597</th>\n",
       "      <th>3S1</th>\n",
       "      <th>CJ4</th>\n",
       "      <th>239</th>\n",
       "      <th>3PB</th>\n",
       "      <th>313</th>\n",
       "      <th>42D</th>\n",
       "      <th>PRA</th>\n",
       "    </tr>\n",
       "  </thead>\n",
       "  <tbody>\n",
       "    <tr>\n",
       "      <th>0</th>\n",
       "      <td>True</td>\n",
       "      <td>True</td>\n",
       "      <td>True</td>\n",
       "      <td>True</td>\n",
       "      <td>True</td>\n",
       "      <td>True</td>\n",
       "      <td>True</td>\n",
       "      <td>True</td>\n",
       "      <td>True</td>\n",
       "      <td>True</td>\n",
       "      <td>...</td>\n",
       "      <td>False</td>\n",
       "      <td>False</td>\n",
       "      <td>False</td>\n",
       "      <td>False</td>\n",
       "      <td>False</td>\n",
       "      <td>False</td>\n",
       "      <td>False</td>\n",
       "      <td>False</td>\n",
       "      <td>False</td>\n",
       "      <td>False</td>\n",
       "    </tr>\n",
       "    <tr>\n",
       "      <th>1</th>\n",
       "      <td>False</td>\n",
       "      <td>False</td>\n",
       "      <td>True</td>\n",
       "      <td>False</td>\n",
       "      <td>True</td>\n",
       "      <td>False</td>\n",
       "      <td>False</td>\n",
       "      <td>True</td>\n",
       "      <td>True</td>\n",
       "      <td>False</td>\n",
       "      <td>...</td>\n",
       "      <td>False</td>\n",
       "      <td>False</td>\n",
       "      <td>False</td>\n",
       "      <td>False</td>\n",
       "      <td>False</td>\n",
       "      <td>False</td>\n",
       "      <td>False</td>\n",
       "      <td>False</td>\n",
       "      <td>False</td>\n",
       "      <td>False</td>\n",
       "    </tr>\n",
       "    <tr>\n",
       "      <th>2</th>\n",
       "      <td>True</td>\n",
       "      <td>True</td>\n",
       "      <td>True</td>\n",
       "      <td>True</td>\n",
       "      <td>True</td>\n",
       "      <td>True</td>\n",
       "      <td>True</td>\n",
       "      <td>True</td>\n",
       "      <td>True</td>\n",
       "      <td>False</td>\n",
       "      <td>...</td>\n",
       "      <td>False</td>\n",
       "      <td>False</td>\n",
       "      <td>False</td>\n",
       "      <td>False</td>\n",
       "      <td>False</td>\n",
       "      <td>False</td>\n",
       "      <td>False</td>\n",
       "      <td>False</td>\n",
       "      <td>False</td>\n",
       "      <td>False</td>\n",
       "    </tr>\n",
       "    <tr>\n",
       "      <th>3</th>\n",
       "      <td>True</td>\n",
       "      <td>True</td>\n",
       "      <td>True</td>\n",
       "      <td>True</td>\n",
       "      <td>True</td>\n",
       "      <td>True</td>\n",
       "      <td>True</td>\n",
       "      <td>True</td>\n",
       "      <td>True</td>\n",
       "      <td>True</td>\n",
       "      <td>...</td>\n",
       "      <td>False</td>\n",
       "      <td>False</td>\n",
       "      <td>False</td>\n",
       "      <td>False</td>\n",
       "      <td>False</td>\n",
       "      <td>False</td>\n",
       "      <td>False</td>\n",
       "      <td>False</td>\n",
       "      <td>False</td>\n",
       "      <td>False</td>\n",
       "    </tr>\n",
       "    <tr>\n",
       "      <th>4</th>\n",
       "      <td>False</td>\n",
       "      <td>False</td>\n",
       "      <td>True</td>\n",
       "      <td>False</td>\n",
       "      <td>True</td>\n",
       "      <td>False</td>\n",
       "      <td>False</td>\n",
       "      <td>True</td>\n",
       "      <td>True</td>\n",
       "      <td>False</td>\n",
       "      <td>...</td>\n",
       "      <td>False</td>\n",
       "      <td>False</td>\n",
       "      <td>False</td>\n",
       "      <td>False</td>\n",
       "      <td>False</td>\n",
       "      <td>False</td>\n",
       "      <td>False</td>\n",
       "      <td>False</td>\n",
       "      <td>False</td>\n",
       "      <td>False</td>\n",
       "    </tr>\n",
       "  </tbody>\n",
       "</table>\n",
       "<p>5 rows × 324 columns</p>\n",
       "</div>"
      ],
      "text/plain": [
       "   engine-proof  tinted-glass  airbag-driver    aux  isofix  \\\n",
       "0          True          True           True   True    True   \n",
       "1         False         False           True  False    True   \n",
       "2          True          True           True   True    True   \n",
       "3          True          True           True   True    True   \n",
       "4         False         False           True  False    True   \n",
       "\n",
       "   electro-window-front  ashtray-and-cigarette-lighter  airbag-passenger  \\\n",
       "0                  True                           True              True   \n",
       "1                 False                          False              True   \n",
       "2                  True                           True              True   \n",
       "3                  True                           True              True   \n",
       "4                 False                          False              True   \n",
       "\n",
       "   computer  high-beam-assist  ...    61U    PRG    597    3S1    CJ4    239  \\\n",
       "0      True              True  ...  False  False  False  False  False  False   \n",
       "1      True             False  ...  False  False  False  False  False  False   \n",
       "2      True             False  ...  False  False  False  False  False  False   \n",
       "3      True              True  ...  False  False  False  False  False  False   \n",
       "4      True             False  ...  False  False  False  False  False  False   \n",
       "\n",
       "     3PB    313    42D    PRA  \n",
       "0  False  False  False  False  \n",
       "1  False  False  False  False  \n",
       "2  False  False  False  False  \n",
       "3  False  False  False  False  \n",
       "4  False  False  False  False  \n",
       "\n",
       "[5 rows x 324 columns]"
      ]
     },
     "execution_count": 15,
     "metadata": {},
     "output_type": "execute_result"
    }
   ],
   "source": [
    "equipment_dataframe.head()"
   ]
  },
  {
   "cell_type": "markdown",
   "metadata": {},
   "source": [
    "Получили большой набор из бинарных колонок, попробуем добавить его так к нашему набору, и попробовать прогнозировать на нем"
   ]
  },
  {
   "cell_type": "code",
   "execution_count": 15,
   "metadata": {},
   "outputs": [],
   "source": [
    "df_origin = df.copy() # сохраним оригинальный df чтобы переделывать далее"
   ]
  },
  {
   "cell_type": "code",
   "execution_count": 17,
   "metadata": {},
   "outputs": [],
   "source": [
    "df = pd.concat([df_origin, equipment_dataframe], axis=1)"
   ]
  },
  {
   "cell_type": "markdown",
   "metadata": {},
   "source": [
    "### Пробуем новые признаки в предсказании"
   ]
  },
  {
   "cell_type": "code",
   "execution_count": 18,
   "metadata": {},
   "outputs": [],
   "source": [
    "cat_cols = ['bodyType', 'brand', 'fuelType', 'color', 'model_name',\n",
    "            'vehicleTransmission', 'vendor', 'ПТС', 'Владельцы', 'Привод', 'Руль'] \n",
    "num_cols = ['productionDate', 'numberOfDoors',\n",
    "            'enginePower_log', 'mileage_log', 'diff_date_model_production'] + list(equipment_dataframe.columns.values)\n",
    "\n",
    "X_train, X_test, y = prepare_data(cat_cols, num_cols)"
   ]
  },
  {
   "cell_type": "code",
   "execution_count": 19,
   "metadata": {},
   "outputs": [],
   "source": [
    "model = RandomForestRegressor(100, random_state=RANDOM_STATE)"
   ]
  },
  {
   "cell_type": "code",
   "execution_count": 20,
   "metadata": {},
   "outputs": [
    {
     "name": "stdout",
     "output_type": "stream",
     "text": [
      "####################################################################################################\n",
      "RandomForestRegressor(random_state=43)\n",
      "train shape (36210, 1069)\n",
      "cat_cols=['bodyType', 'brand', 'fuelType', 'color', 'model_name', 'vehicleTransmission', 'vendor', 'ПТС', 'Владельцы', 'Привод', 'Руль']\n",
      "num_cols=['productionDate', 'numberOfDoors', 'enginePower_log', 'mileage_log', 'diff_date_model_production', 'engine-proof', 'tinted-glass', 'airbag-driver', 'aux', 'isofix', 'electro-window-front', 'ashtray-and-cigarette-lighter', 'airbag-passenger', 'computer', 'high-beam-assist', 'seat-transformation', 'isofix-front', 'wheel-power', 'alarm', 'lock', 'door-sill-panel', 'fabric-seats', 'electro-mirrors', 'airbag-rear-side', 'electro-window-back', 'steel-wheels', 'ptf', '16-inch-wheels', 'rain-sensor', 'airbag-side', 'audiosystem-cd', 'dark-interior', 'cooling-box', 'condition', 'abs', 'power-child-locks-rear-doors', 'front-seats-heat', 'wheel-configuration2', 'wheel-configuration1', '12v-socket', 'park-assist-r', 'cruise-control', 'asr', 'esp', 'usb', 'light-sensor', 'drl', 'alloy-wheel-disks', 'tyre-pressure', 'mirrors-heat', 'driver-seat-updown', 'wheel-heat', 'bluetooth', 'immo', 'windscreen-heat', 'climate-control-2', 'adaptive-light', 'multi-wheel', 'xenon', 'heated-wash-system', 'front-centre-armrest', 'body-mouldings', 'combo-interior', 'rear-seats-heat', 'knee-airbag', 'hcc', 'airbag-curtain', 'light-cleaner', 'leather-gear-stick', 'wheel-leather', 'auto-mirrors', 'third-rear-headrest', 'roller-blind-for-rear-window', 'spare-wheel', 'navigation', 'folding-front-passenger-seat', 'programmed-block-heater', 'passenger-seat-updown', 'sport-seats', 'front-seat-support', '18-inch-wheels', 'volume-sensor', 'hatch', 'music-super', 'automatic-lighting-control', 'paint-metallic', 'climate-control-1', 'roof-rails', '17-inch-wheels', 'sport-pedals', 'gbo', 'park-assist-f', 'feedback-alarm', 'passenger-seat-electric', 'leather', 'electro-trunk', 'driver-seat-memory', 'keyless-entry', 'rear-camera', 'led-lights', '15-inch-wheels', 'audiosystem-tv', 'seats-7', 'auto-park', 'apple-carplay', 'decorative-interior-lighting', 'bas', 'servo', 'reduce-spare-wheel', 'glonass', 'drowsy-driver-alert-system', 'android-auto', 'start-button', 'blind-spot', 'voice-recognition', 'remote-engine-start', 'electronic-gage-panel', 'auto-cruise', 'seat-memory', 'windcleaner-heat', 'audiopreparation', 'folding-tables-rear', 'panorama-roof', 'front-seats-heat-vent', 'start-stop-function', '360-camera', 'light-interior', 'steering-wheel-gear-shift-paddles', 'drive-mode-sys', 'collision-prevention-assist', 'driver-seat-electric', 'alcantara', 'multizone-climate-control', '19-inch-wheels', 'third-row-seats', 'projection-display', '13-inch-wheels', '14-inch-wheels', '220v-socket', 'traffic-sign-recognition', 'night-vision', 'lane-keeping-assist', 'airbrush', 'seats-5', 'driver-seat-support', 'seats-2', 'vsm', 'dha', 'velvet-seats', 'sport-suspension', 'black-roof', 'roller-blinds-for-rear-side-windows', 'turnbuckle', 'eco-leather', 'wireless-charger', 'e-adjustment-wheel', 'seats-4', 'armored', 'activ-suspension', 'electro-rear-seat', 'massage-seats', 'easy-trunk-opening', 'adj-pedals', 'ya-auto', 'PW1', '8T6', 'PL2', '9S6', '9P5', 'RAB', 'PN0', 'PB0', 'entertainment-system-for-rear-seat-passengers', 'rear-seat-heat-vent', 'power-latching-doors', 'seats-heat', 'immobiliser-not-standard', 'parktronik', 'laser-lights', 'halogen', 'air-suspension', 'electro-window-all', 'airbag-2', 'front-camera', 'passenger-seat-manual', 'driver-seat-manual', 'climate-control', 'wheel-memory', 'advanced-frontlighting-system', 'wheel-configuration3', 'audiosystem', '20-inch-wheels', '21-inch-wheels', 'laminated-safety-glass', 'body-kit', '22-inch-wheels', 'seats-6', '6XE', 'PX2', '3L5', '6NQ', 'PNQ', '9R1', 'KA2', '4D3', 'airbag-6', 'seats-8', '12-inch-wheels', 'electro-seat', 'passenger-seat-memory', 'airbag-4', '27-inch-wheels', 'climate-control-3', '25-inch-wheels', '23-inch-wheels', '235', '242', '246', '249', '270', '274', '351', '364', '367', '431', '448', '475', '500', '501', '513', '551', '670', '728', '772', '776', '807', '810', '824', '871', '873', '881', '882', '883', '889', '927', '989', 'U09', '51U', 'H06', 'U22', 'DZ9', 'P17', 'B63', 'RVR', '14U', 'R66', 'P29', '03B', 'P31', '16U', 'P44', 'R01', 'B16', '17U', 'L5C', 'seats-9', 'WVA', 'S7N', 'E0P', '24-inch-wheels', '2C5', '1N1', '7AA', '9AB', 'UI4', '6XD', '3B3', '7B2', '9S3', '4I2', '3NZ', '4UC', '4UE', '4A3', '4R2', '4R3', '6R1', '9T1', '3Q6', '218', '632', '345', '440', '840', '301', '608', '531', 'PCG', '9VS', '7X5', '7Y4', '234', '401', '443', '872', '8RM', 'PRD', '6XF', 'N4M', '4X4', '6E3', 'U25', 'PCH', 'PQ5', '3FB', 'PQ9', '228', '540', '357', '61U', 'PRG', '597', '3S1', 'CJ4', '239', '3PB', '313', '42D', 'PRA']\n",
      "####################################################################################################\n",
      "Train result: 5.011247824827544\n",
      "CV result: 13.840025926083293 ([13.70150676 14.26352844 13.55504258])\n",
      "####################################################################################################\n",
      "Wall time: 7min 48s\n"
     ]
    }
   ],
   "source": [
    "%%time\n",
    "fit_and_score_model(model, X_train, y)"
   ]
  },
  {
   "cell_type": "markdown",
   "metadata": {},
   "source": [
    "фичи новые принесли пользу, без них лучшим результатом были 14.03  \n",
    "но уж очень долго тренируется с таким количеством фич тренировка\n",
    "посмотрим те, что принесли пользу и возмем только несколько из них  \n",
    "т.к на тренировки модели на 2000 деревьев я буду очень долго ждать"
   ]
  },
  {
   "cell_type": "markdown",
   "metadata": {},
   "source": [
    "### Возьмем только ТОПовые фичи"
   ]
  },
  {
   "cell_type": "code",
   "execution_count": 21,
   "metadata": {},
   "outputs": [],
   "source": [
    "def get_top_features(model, train_columns, filter_columns, num_top_features):\n",
    "    top_features_ = pd.Series(model.feature_importances_,\n",
    "          index=train_columns).sort_values(ascending=False).index\n",
    "    top_features_ = top_features_[top_features_.isin(filter_columns)]\n",
    "    top_features_ = filter_columns[:num_top_features]\n",
    "    return list(top_features_)"
   ]
  },
  {
   "cell_type": "code",
   "execution_count": 22,
   "metadata": {},
   "outputs": [
    {
     "data": {
      "text/plain": [
       "['engine-proof',\n",
       " 'tinted-glass',\n",
       " 'airbag-driver',\n",
       " 'aux',\n",
       " 'isofix',\n",
       " 'electro-window-front',\n",
       " 'ashtray-and-cigarette-lighter',\n",
       " 'airbag-passenger',\n",
       " 'computer',\n",
       " 'high-beam-assist']"
      ]
     },
     "execution_count": 22,
     "metadata": {},
     "output_type": "execute_result"
    }
   ],
   "source": [
    "get_top_features(model, X_train.columns, equipment_dataframe.columns, 10)"
   ]
  },
  {
   "cell_type": "code",
   "execution_count": 27,
   "metadata": {},
   "outputs": [],
   "source": [
    "top_faetures = get_top_features(model, X_train.columns, equipment_dataframe.columns, 100)"
   ]
  },
  {
   "cell_type": "code",
   "execution_count": 24,
   "metadata": {},
   "outputs": [],
   "source": [
    "cat_cols = ['bodyType', 'brand', 'fuelType', 'color', 'model_name',\n",
    "            'vehicleTransmission', 'vendor', 'ПТС', 'Владельцы', 'Привод', 'Руль'] \n",
    "num_cols = ['productionDate', 'numberOfDoors',\n",
    "            'enginePower_log', 'mileage_log', 'diff_date_model_production'] + top_faetures\n",
    "\n",
    "X_train, X_test, y = prepare_data(cat_cols, num_cols)"
   ]
  },
  {
   "cell_type": "code",
   "execution_count": 25,
   "metadata": {},
   "outputs": [
    {
     "name": "stdout",
     "output_type": "stream",
     "text": [
      "####################################################################################################\n",
      "RandomForestRegressor(random_state=43)\n",
      "train shape (36210, 845)\n",
      "cat_cols=['bodyType', 'brand', 'fuelType', 'color', 'model_name', 'vehicleTransmission', 'vendor', 'ПТС', 'Владельцы', 'Привод', 'Руль']\n",
      "num_cols=['productionDate', 'numberOfDoors', 'enginePower_log', 'mileage_log', 'diff_date_model_production', 'engine-proof', 'tinted-glass', 'airbag-driver', 'aux', 'isofix', 'electro-window-front', 'ashtray-and-cigarette-lighter', 'airbag-passenger', 'computer', 'high-beam-assist', 'seat-transformation', 'isofix-front', 'wheel-power', 'alarm', 'lock', 'door-sill-panel', 'fabric-seats', 'electro-mirrors', 'airbag-rear-side', 'electro-window-back', 'steel-wheels', 'ptf', '16-inch-wheels', 'rain-sensor', 'airbag-side', 'audiosystem-cd', 'dark-interior', 'cooling-box', 'condition', 'abs', 'power-child-locks-rear-doors', 'front-seats-heat', 'wheel-configuration2', 'wheel-configuration1', '12v-socket', 'park-assist-r', 'cruise-control', 'asr', 'esp', 'usb', 'light-sensor', 'drl', 'alloy-wheel-disks', 'tyre-pressure', 'mirrors-heat', 'driver-seat-updown', 'wheel-heat', 'bluetooth', 'immo', 'windscreen-heat', 'climate-control-2', 'adaptive-light', 'multi-wheel', 'xenon', 'heated-wash-system', 'front-centre-armrest', 'body-mouldings', 'combo-interior', 'rear-seats-heat', 'knee-airbag', 'hcc', 'airbag-curtain', 'light-cleaner', 'leather-gear-stick', 'wheel-leather', 'auto-mirrors', 'third-rear-headrest', 'roller-blind-for-rear-window', 'spare-wheel', 'navigation', 'folding-front-passenger-seat', 'programmed-block-heater', 'passenger-seat-updown', 'sport-seats', 'front-seat-support', '18-inch-wheels', 'volume-sensor', 'hatch', 'music-super', 'automatic-lighting-control', 'paint-metallic', 'climate-control-1', 'roof-rails', '17-inch-wheels', 'sport-pedals', 'gbo', 'park-assist-f', 'feedback-alarm', 'passenger-seat-electric', 'leather', 'electro-trunk', 'driver-seat-memory', 'keyless-entry', 'rear-camera', 'led-lights', '15-inch-wheels', 'audiosystem-tv', 'seats-7', 'auto-park', 'apple-carplay']\n",
      "####################################################################################################\n",
      "Train result: 5.023091729535029\n",
      "CV result: 13.852101218903607 ([13.70320693 14.28365299 13.56944373])\n",
      "####################################################################################################\n",
      "Wall time: 5min 49s\n"
     ]
    }
   ],
   "source": [
    "%%time\n",
    "fit_and_score_model(model, X_train, y)"
   ]
  },
  {
   "cell_type": "code",
   "execution_count": 26,
   "metadata": {},
   "outputs": [],
   "source": [
    "df = df_origin"
   ]
  },
  {
   "cell_type": "code",
   "execution_count": 27,
   "metadata": {},
   "outputs": [],
   "source": [
    "make_submit_file(model, X_test, \"2_features_from_equipment_dict_random_forest_100.csv\")"
   ]
  },
  {
   "cell_type": "markdown",
   "metadata": {},
   "source": [
    "Результат в лидерборде: **12.99**"
   ]
  },
  {
   "cell_type": "markdown",
   "metadata": {},
   "source": [
    "## complectation_dict"
   ]
  },
  {
   "cell_type": "code",
   "execution_count": 32,
   "metadata": {},
   "outputs": [],
   "source": [
    "complectation_dataframe = create_dataframe_from_json_column('complectation_dict')"
   ]
  },
  {
   "cell_type": "code",
   "execution_count": 34,
   "metadata": {},
   "outputs": [
    {
     "data": {
      "text/html": [
       "<div>\n",
       "<style scoped>\n",
       "    .dataframe tbody tr th:only-of-type {\n",
       "        vertical-align: middle;\n",
       "    }\n",
       "\n",
       "    .dataframe tbody tr th {\n",
       "        vertical-align: top;\n",
       "    }\n",
       "\n",
       "    .dataframe thead th {\n",
       "        text-align: right;\n",
       "    }\n",
       "</style>\n",
       "<table border=\"1\" class=\"dataframe\">\n",
       "  <thead>\n",
       "    <tr style=\"text-align: right;\">\n",
       "      <th></th>\n",
       "      <th>id</th>\n",
       "      <th>name</th>\n",
       "      <th>available_options</th>\n",
       "      <th>vendor_colors</th>\n",
       "    </tr>\n",
       "  </thead>\n",
       "  <tbody>\n",
       "    <tr>\n",
       "      <th>0</th>\n",
       "      <td>NaN</td>\n",
       "      <td>NaN</td>\n",
       "      <td>NaN</td>\n",
       "      <td>NaN</td>\n",
       "    </tr>\n",
       "    <tr>\n",
       "      <th>1</th>\n",
       "      <td>NaN</td>\n",
       "      <td>NaN</td>\n",
       "      <td>NaN</td>\n",
       "      <td>NaN</td>\n",
       "    </tr>\n",
       "    <tr>\n",
       "      <th>2</th>\n",
       "      <td>20026336</td>\n",
       "      <td>Ambition</td>\n",
       "      <td>[heated-wash-system, airbag-passenger, lock, d...</td>\n",
       "      <td>NaN</td>\n",
       "    </tr>\n",
       "    <tr>\n",
       "      <th>3</th>\n",
       "      <td>20803582</td>\n",
       "      <td>Ambition</td>\n",
       "      <td>[heated-wash-system, airbag-passenger, lock, e...</td>\n",
       "      <td>[{'body_color_id': 20625189, 'mark_color_id': ...</td>\n",
       "    </tr>\n",
       "    <tr>\n",
       "      <th>4</th>\n",
       "      <td>NaN</td>\n",
       "      <td>NaN</td>\n",
       "      <td>NaN</td>\n",
       "      <td>NaN</td>\n",
       "    </tr>\n",
       "  </tbody>\n",
       "</table>\n",
       "</div>"
      ],
      "text/plain": [
       "         id      name                                  available_options  \\\n",
       "0       NaN       NaN                                                NaN   \n",
       "1       NaN       NaN                                                NaN   \n",
       "2  20026336  Ambition  [heated-wash-system, airbag-passenger, lock, d...   \n",
       "3  20803582  Ambition  [heated-wash-system, airbag-passenger, lock, e...   \n",
       "4       NaN       NaN                                                NaN   \n",
       "\n",
       "                                       vendor_colors  \n",
       "0                                                NaN  \n",
       "1                                                NaN  \n",
       "2                                                NaN  \n",
       "3  [{'body_color_id': 20625189, 'mark_color_id': ...  \n",
       "4                                                NaN  "
      ]
     },
     "execution_count": 34,
     "metadata": {},
     "output_type": "execute_result"
    }
   ],
   "source": [
    "complectation_dataframe.head()"
   ]
  },
  {
   "cell_type": "code",
   "execution_count": 39,
   "metadata": {},
   "outputs": [
    {
     "data": {
      "text/plain": [
       "id                  0.40\n",
       "name                0.73\n",
       "available_options   0.74\n",
       "vendor_colors       0.84\n",
       "dtype: float64"
      ]
     },
     "execution_count": 39,
     "metadata": {},
     "output_type": "execute_result"
    }
   ],
   "source": [
    "complectation_dataframe.isna().sum()/complectation_dataframe.shape[0]"
   ]
  },
  {
   "cell_type": "markdown",
   "metadata": {},
   "source": [
    "Очень много пропусков, поэтому я не думаю что стоит брать из этой информации какие-то новые фичи"
   ]
  },
  {
   "cell_type": "markdown",
   "metadata": {},
   "source": [
    "## model_info"
   ]
  },
  {
   "cell_type": "code",
   "execution_count": 40,
   "metadata": {},
   "outputs": [],
   "source": [
    "model_dataframe = create_dataframe_from_json_column('model_info')"
   ]
  },
  {
   "cell_type": "code",
   "execution_count": 43,
   "metadata": {},
   "outputs": [
    {
     "data": {
      "text/html": [
       "<div>\n",
       "<style scoped>\n",
       "    .dataframe tbody tr th:only-of-type {\n",
       "        vertical-align: middle;\n",
       "    }\n",
       "\n",
       "    .dataframe tbody tr th {\n",
       "        vertical-align: top;\n",
       "    }\n",
       "\n",
       "    .dataframe thead th {\n",
       "        text-align: right;\n",
       "    }\n",
       "</style>\n",
       "<table border=\"1\" class=\"dataframe\">\n",
       "  <thead>\n",
       "    <tr style=\"text-align: right;\">\n",
       "      <th></th>\n",
       "      <th>code</th>\n",
       "      <th>name</th>\n",
       "      <th>ru_name</th>\n",
       "      <th>morphology</th>\n",
       "      <th>nameplate</th>\n",
       "    </tr>\n",
       "  </thead>\n",
       "  <tbody>\n",
       "    <tr>\n",
       "      <th>57958</th>\n",
       "      <td>CLA_KLASSE</td>\n",
       "      <td>CLA</td>\n",
       "      <td>ЦЛА-класс</td>\n",
       "      <td>{}</td>\n",
       "      <td>{'code': '9264600', 'name': '250', 'semantic_u...</td>\n",
       "    </tr>\n",
       "    <tr>\n",
       "      <th>61406</th>\n",
       "      <td>GL_KLASSE</td>\n",
       "      <td>GL-Класс</td>\n",
       "      <td>GL-класс</td>\n",
       "      <td>{}</td>\n",
       "      <td>{'code': '9264835', 'name': '350', 'semantic_u...</td>\n",
       "    </tr>\n",
       "    <tr>\n",
       "      <th>44695</th>\n",
       "      <td>MURANO</td>\n",
       "      <td>Murano</td>\n",
       "      <td>Мурано</td>\n",
       "      <td>{}</td>\n",
       "      <td>{'code': '', 'name': '', 'semantic_url': ''}</td>\n",
       "    </tr>\n",
       "    <tr>\n",
       "      <th>54486</th>\n",
       "      <td>TOUAREG</td>\n",
       "      <td>Touareg</td>\n",
       "      <td>Туарег</td>\n",
       "      <td>{}</td>\n",
       "      <td>{'code': '', 'name': '', 'semantic_url': ''}</td>\n",
       "    </tr>\n",
       "    <tr>\n",
       "      <th>14443</th>\n",
       "      <td>ALMERA</td>\n",
       "      <td>Almera</td>\n",
       "      <td>Альмера</td>\n",
       "      <td>{}</td>\n",
       "      <td>{'code': '', 'name': '', 'semantic_url': ''}</td>\n",
       "    </tr>\n",
       "    <tr>\n",
       "      <th>63374</th>\n",
       "      <td>LANCER</td>\n",
       "      <td>Lancer</td>\n",
       "      <td>Лансер</td>\n",
       "      <td>{}</td>\n",
       "      <td>{'code': '', 'name': '', 'semantic_url': ''}</td>\n",
       "    </tr>\n",
       "    <tr>\n",
       "      <th>19544</th>\n",
       "      <td>HIGHLANDER</td>\n",
       "      <td>Highlander</td>\n",
       "      <td>Хайлендер</td>\n",
       "      <td>{}</td>\n",
       "      <td>{'code': '', 'name': '', 'semantic_url': ''}</td>\n",
       "    </tr>\n",
       "    <tr>\n",
       "      <th>1641</th>\n",
       "      <td>OCTAVIA</td>\n",
       "      <td>Octavia</td>\n",
       "      <td>Октавия</td>\n",
       "      <td>{'gender': 'FEMININE'}</td>\n",
       "      <td>{'code': '', 'name': '', 'semantic_url': ''}</td>\n",
       "    </tr>\n",
       "    <tr>\n",
       "      <th>21839</th>\n",
       "      <td>COROLLA</td>\n",
       "      <td>Corolla</td>\n",
       "      <td>Королла</td>\n",
       "      <td>{'gender': 'FEMININE'}</td>\n",
       "      <td>{'code': '', 'name': '', 'semantic_url': ''}</td>\n",
       "    </tr>\n",
       "    <tr>\n",
       "      <th>23166</th>\n",
       "      <td>PASSAT_CC</td>\n",
       "      <td>Passat CC</td>\n",
       "      <td>Пассат СС</td>\n",
       "      <td>{}</td>\n",
       "      <td>{'code': '', 'name': '', 'semantic_url': ''}</td>\n",
       "    </tr>\n",
       "  </tbody>\n",
       "</table>\n",
       "</div>"
      ],
      "text/plain": [
       "             code        name    ru_name              morphology  \\\n",
       "57958  CLA_KLASSE         CLA  ЦЛА-класс                      {}   \n",
       "61406   GL_KLASSE    GL-Класс   GL-класс                      {}   \n",
       "44695      MURANO      Murano     Мурано                      {}   \n",
       "54486     TOUAREG     Touareg     Туарег                      {}   \n",
       "14443      ALMERA      Almera    Альмера                      {}   \n",
       "63374      LANCER      Lancer     Лансер                      {}   \n",
       "19544  HIGHLANDER  Highlander  Хайлендер                      {}   \n",
       "1641      OCTAVIA     Octavia    Октавия  {'gender': 'FEMININE'}   \n",
       "21839     COROLLA     Corolla    Королла  {'gender': 'FEMININE'}   \n",
       "23166   PASSAT_CC   Passat CC  Пассат СС                      {}   \n",
       "\n",
       "                                               nameplate  \n",
       "57958  {'code': '9264600', 'name': '250', 'semantic_u...  \n",
       "61406  {'code': '9264835', 'name': '350', 'semantic_u...  \n",
       "44695       {'code': '', 'name': '', 'semantic_url': ''}  \n",
       "54486       {'code': '', 'name': '', 'semantic_url': ''}  \n",
       "14443       {'code': '', 'name': '', 'semantic_url': ''}  \n",
       "63374       {'code': '', 'name': '', 'semantic_url': ''}  \n",
       "19544       {'code': '', 'name': '', 'semantic_url': ''}  \n",
       "1641        {'code': '', 'name': '', 'semantic_url': ''}  \n",
       "21839       {'code': '', 'name': '', 'semantic_url': ''}  \n",
       "23166       {'code': '', 'name': '', 'semantic_url': ''}  "
      ]
     },
     "execution_count": 43,
     "metadata": {},
     "output_type": "execute_result"
    }
   ],
   "source": [
    "model_dataframe.sample(10)"
   ]
  },
  {
   "cell_type": "markdown",
   "metadata": {},
   "source": [
    "Информация не кажется полезной.  \n",
    "Не будем ее использовать тоже"
   ]
  },
  {
   "cell_type": "markdown",
   "metadata": {},
   "source": [
    "## super_gen"
   ]
  },
  {
   "cell_type": "code",
   "execution_count": 48,
   "metadata": {},
   "outputs": [],
   "source": [
    "gen_dataframe = create_dataframe_from_json_column('super_gen')"
   ]
  },
  {
   "cell_type": "code",
   "execution_count": 50,
   "metadata": {},
   "outputs": [
    {
     "data": {
      "text/html": [
       "<div>\n",
       "<style scoped>\n",
       "    .dataframe tbody tr th:only-of-type {\n",
       "        vertical-align: middle;\n",
       "    }\n",
       "\n",
       "    .dataframe tbody tr th {\n",
       "        vertical-align: top;\n",
       "    }\n",
       "\n",
       "    .dataframe thead th {\n",
       "        text-align: right;\n",
       "    }\n",
       "</style>\n",
       "<table border=\"1\" class=\"dataframe\">\n",
       "  <thead>\n",
       "    <tr style=\"text-align: right;\">\n",
       "      <th></th>\n",
       "      <th>id</th>\n",
       "      <th>displacement</th>\n",
       "      <th>engine_type</th>\n",
       "      <th>gear_type</th>\n",
       "      <th>transmission</th>\n",
       "      <th>power</th>\n",
       "      <th>power_kvt</th>\n",
       "      <th>human_name</th>\n",
       "      <th>acceleration</th>\n",
       "      <th>clearance_min</th>\n",
       "      <th>fuel_rate</th>\n",
       "      <th>nameplate</th>\n",
       "      <th>clearance_max</th>\n",
       "      <th>name</th>\n",
       "      <th>ru_name</th>\n",
       "      <th>year_from</th>\n",
       "      <th>year_to</th>\n",
       "      <th>price_segment</th>\n",
       "    </tr>\n",
       "  </thead>\n",
       "  <tbody>\n",
       "    <tr>\n",
       "      <th>29262</th>\n",
       "      <td>20158772</td>\n",
       "      <td>2,993.00</td>\n",
       "      <td>DIESEL</td>\n",
       "      <td>ALL_WHEEL_DRIVE</td>\n",
       "      <td>AUTOMATIC</td>\n",
       "      <td>249.00</td>\n",
       "      <td>183.00</td>\n",
       "      <td>30d 3.0d AT (249 л.с.) 4WD</td>\n",
       "      <td>6.70</td>\n",
       "      <td>212.00</td>\n",
       "      <td>6.00</td>\n",
       "      <td>30d</td>\n",
       "      <td>nan</td>\n",
       "      <td>30d</td>\n",
       "      <td>NaN</td>\n",
       "      <td>nan</td>\n",
       "      <td>nan</td>\n",
       "      <td>NaN</td>\n",
       "    </tr>\n",
       "    <tr>\n",
       "      <th>22396</th>\n",
       "      <td>20494803</td>\n",
       "      <td>1,598.00</td>\n",
       "      <td>GASOLINE</td>\n",
       "      <td>FORWARD_CONTROL</td>\n",
       "      <td>ROBOT</td>\n",
       "      <td>124.00</td>\n",
       "      <td>91.00</td>\n",
       "      <td>1.6 AMT (124 л.с.)</td>\n",
       "      <td>12.10</td>\n",
       "      <td>150.00</td>\n",
       "      <td>6.90</td>\n",
       "      <td>NaN</td>\n",
       "      <td>nan</td>\n",
       "      <td>NaN</td>\n",
       "      <td>NaN</td>\n",
       "      <td>nan</td>\n",
       "      <td>nan</td>\n",
       "      <td>NaN</td>\n",
       "    </tr>\n",
       "    <tr>\n",
       "      <th>16901</th>\n",
       "      <td>8333074</td>\n",
       "      <td>2,987.00</td>\n",
       "      <td>DIESEL</td>\n",
       "      <td>ALL_WHEEL_DRIVE</td>\n",
       "      <td>AUTOMATIC</td>\n",
       "      <td>211.00</td>\n",
       "      <td>155.00</td>\n",
       "      <td>350 CDI BlueTEC 3.0d AT (211 л.с.) 4WD</td>\n",
       "      <td>9.10</td>\n",
       "      <td>205.00</td>\n",
       "      <td>11.20</td>\n",
       "      <td>350 CDI BlueTEC</td>\n",
       "      <td>nan</td>\n",
       "      <td>350</td>\n",
       "      <td>NaN</td>\n",
       "      <td>nan</td>\n",
       "      <td>nan</td>\n",
       "      <td>NaN</td>\n",
       "    </tr>\n",
       "    <tr>\n",
       "      <th>49314</th>\n",
       "      <td>9259583</td>\n",
       "      <td>nan</td>\n",
       "      <td>NaN</td>\n",
       "      <td>NaN</td>\n",
       "      <td>NaN</td>\n",
       "      <td>nan</td>\n",
       "      <td>nan</td>\n",
       "      <td>NaN</td>\n",
       "      <td>nan</td>\n",
       "      <td>nan</td>\n",
       "      <td>nan</td>\n",
       "      <td>NaN</td>\n",
       "      <td>nan</td>\n",
       "      <td>IV (W212, S212, C207) Рестайлинг</td>\n",
       "      <td>4 (W212, S212, C207) Рестайлинг</td>\n",
       "      <td>2,013.00</td>\n",
       "      <td>2,016.00</td>\n",
       "      <td>PREMIUM</td>\n",
       "    </tr>\n",
       "    <tr>\n",
       "      <th>27304</th>\n",
       "      <td>20501398</td>\n",
       "      <td>1,968.00</td>\n",
       "      <td>DIESEL</td>\n",
       "      <td>ALL_WHEEL_DRIVE</td>\n",
       "      <td>MECHANICAL</td>\n",
       "      <td>140.00</td>\n",
       "      <td>103.00</td>\n",
       "      <td>2.0d MT (140 л.с.) 4WD</td>\n",
       "      <td>10.80</td>\n",
       "      <td>200.00</td>\n",
       "      <td>6.70</td>\n",
       "      <td>NaN</td>\n",
       "      <td>nan</td>\n",
       "      <td>NaN</td>\n",
       "      <td>NaN</td>\n",
       "      <td>nan</td>\n",
       "      <td>nan</td>\n",
       "      <td>NaN</td>\n",
       "    </tr>\n",
       "    <tr>\n",
       "      <th>44155</th>\n",
       "      <td>3493042</td>\n",
       "      <td>nan</td>\n",
       "      <td>NaN</td>\n",
       "      <td>NaN</td>\n",
       "      <td>NaN</td>\n",
       "      <td>nan</td>\n",
       "      <td>nan</td>\n",
       "      <td>NaN</td>\n",
       "      <td>nan</td>\n",
       "      <td>nan</td>\n",
       "      <td>nan</td>\n",
       "      <td>NaN</td>\n",
       "      <td>nan</td>\n",
       "      <td>I</td>\n",
       "      <td>1</td>\n",
       "      <td>1,998.00</td>\n",
       "      <td>2,003.00</td>\n",
       "      <td>PREMIUM</td>\n",
       "    </tr>\n",
       "    <tr>\n",
       "      <th>38858</th>\n",
       "      <td>7770222</td>\n",
       "      <td>nan</td>\n",
       "      <td>NaN</td>\n",
       "      <td>NaN</td>\n",
       "      <td>NaN</td>\n",
       "      <td>nan</td>\n",
       "      <td>nan</td>\n",
       "      <td>NaN</td>\n",
       "      <td>nan</td>\n",
       "      <td>nan</td>\n",
       "      <td>nan</td>\n",
       "      <td>NaN</td>\n",
       "      <td>nan</td>\n",
       "      <td>IX Рестайлинг</td>\n",
       "      <td>NaN</td>\n",
       "      <td>2,005.00</td>\n",
       "      <td>2,010.00</td>\n",
       "      <td>MEDIUM</td>\n",
       "    </tr>\n",
       "    <tr>\n",
       "      <th>49605</th>\n",
       "      <td>20089956</td>\n",
       "      <td>nan</td>\n",
       "      <td>NaN</td>\n",
       "      <td>NaN</td>\n",
       "      <td>NaN</td>\n",
       "      <td>nan</td>\n",
       "      <td>nan</td>\n",
       "      <td>NaN</td>\n",
       "      <td>nan</td>\n",
       "      <td>nan</td>\n",
       "      <td>nan</td>\n",
       "      <td>NaN</td>\n",
       "      <td>nan</td>\n",
       "      <td>IV (W205)</td>\n",
       "      <td>4 (W205)</td>\n",
       "      <td>2,014.00</td>\n",
       "      <td>2,018.00</td>\n",
       "      <td>PREMIUM</td>\n",
       "    </tr>\n",
       "    <tr>\n",
       "      <th>27940</th>\n",
       "      <td>6283500</td>\n",
       "      <td>1,798.00</td>\n",
       "      <td>GASOLINE</td>\n",
       "      <td>FORWARD_CONTROL</td>\n",
       "      <td>VARIATOR</td>\n",
       "      <td>140.00</td>\n",
       "      <td>103.00</td>\n",
       "      <td>1.8 CVT (140 л.с.)</td>\n",
       "      <td>13.10</td>\n",
       "      <td>195.00</td>\n",
       "      <td>7.60</td>\n",
       "      <td>NaN</td>\n",
       "      <td>nan</td>\n",
       "      <td>NaN</td>\n",
       "      <td>NaN</td>\n",
       "      <td>nan</td>\n",
       "      <td>nan</td>\n",
       "      <td>NaN</td>\n",
       "    </tr>\n",
       "    <tr>\n",
       "      <th>39663</th>\n",
       "      <td>20898195</td>\n",
       "      <td>nan</td>\n",
       "      <td>NaN</td>\n",
       "      <td>NaN</td>\n",
       "      <td>NaN</td>\n",
       "      <td>nan</td>\n",
       "      <td>nan</td>\n",
       "      <td>NaN</td>\n",
       "      <td>nan</td>\n",
       "      <td>nan</td>\n",
       "      <td>nan</td>\n",
       "      <td>NaN</td>\n",
       "      <td>nan</td>\n",
       "      <td>III (A7) Рестайлинг</td>\n",
       "      <td>3 Рестайлинг</td>\n",
       "      <td>2,017.00</td>\n",
       "      <td>nan</td>\n",
       "      <td>MEDIUM</td>\n",
       "    </tr>\n",
       "  </tbody>\n",
       "</table>\n",
       "</div>"
      ],
      "text/plain": [
       "             id  displacement engine_type        gear_type transmission  \\\n",
       "29262  20158772      2,993.00      DIESEL  ALL_WHEEL_DRIVE    AUTOMATIC   \n",
       "22396  20494803      1,598.00    GASOLINE  FORWARD_CONTROL        ROBOT   \n",
       "16901   8333074      2,987.00      DIESEL  ALL_WHEEL_DRIVE    AUTOMATIC   \n",
       "49314   9259583           nan         NaN              NaN          NaN   \n",
       "27304  20501398      1,968.00      DIESEL  ALL_WHEEL_DRIVE   MECHANICAL   \n",
       "44155   3493042           nan         NaN              NaN          NaN   \n",
       "38858   7770222           nan         NaN              NaN          NaN   \n",
       "49605  20089956           nan         NaN              NaN          NaN   \n",
       "27940   6283500      1,798.00    GASOLINE  FORWARD_CONTROL     VARIATOR   \n",
       "39663  20898195           nan         NaN              NaN          NaN   \n",
       "\n",
       "       power  power_kvt                              human_name  acceleration  \\\n",
       "29262 249.00     183.00              30d 3.0d AT (249 л.с.) 4WD          6.70   \n",
       "22396 124.00      91.00                      1.6 AMT (124 л.с.)         12.10   \n",
       "16901 211.00     155.00  350 CDI BlueTEC 3.0d AT (211 л.с.) 4WD          9.10   \n",
       "49314    nan        nan                                     NaN           nan   \n",
       "27304 140.00     103.00                  2.0d MT (140 л.с.) 4WD         10.80   \n",
       "44155    nan        nan                                     NaN           nan   \n",
       "38858    nan        nan                                     NaN           nan   \n",
       "49605    nan        nan                                     NaN           nan   \n",
       "27940 140.00     103.00                      1.8 CVT (140 л.с.)         13.10   \n",
       "39663    nan        nan                                     NaN           nan   \n",
       "\n",
       "       clearance_min  fuel_rate        nameplate  clearance_max  \\\n",
       "29262         212.00       6.00              30d            nan   \n",
       "22396         150.00       6.90              NaN            nan   \n",
       "16901         205.00      11.20  350 CDI BlueTEC            nan   \n",
       "49314            nan        nan              NaN            nan   \n",
       "27304         200.00       6.70              NaN            nan   \n",
       "44155            nan        nan              NaN            nan   \n",
       "38858            nan        nan              NaN            nan   \n",
       "49605            nan        nan              NaN            nan   \n",
       "27940         195.00       7.60              NaN            nan   \n",
       "39663            nan        nan              NaN            nan   \n",
       "\n",
       "                                   name                          ru_name  \\\n",
       "29262                               30d                              NaN   \n",
       "22396                               NaN                              NaN   \n",
       "16901                               350                              NaN   \n",
       "49314  IV (W212, S212, C207) Рестайлинг  4 (W212, S212, C207) Рестайлинг   \n",
       "27304                               NaN                              NaN   \n",
       "44155                                 I                                1   \n",
       "38858                     IX Рестайлинг                              NaN   \n",
       "49605                         IV (W205)                         4 (W205)   \n",
       "27940                               NaN                              NaN   \n",
       "39663               III (A7) Рестайлинг                     3 Рестайлинг   \n",
       "\n",
       "       year_from  year_to price_segment  \n",
       "29262        nan      nan           NaN  \n",
       "22396        nan      nan           NaN  \n",
       "16901        nan      nan           NaN  \n",
       "49314   2,013.00 2,016.00       PREMIUM  \n",
       "27304        nan      nan           NaN  \n",
       "44155   1,998.00 2,003.00       PREMIUM  \n",
       "38858   2,005.00 2,010.00        MEDIUM  \n",
       "49605   2,014.00 2,018.00       PREMIUM  \n",
       "27940        nan      nan           NaN  \n",
       "39663   2,017.00      nan        MEDIUM  "
      ]
     },
     "execution_count": 50,
     "metadata": {},
     "output_type": "execute_result"
    }
   ],
   "source": [
    "gen_dataframe.sample(10)"
   ]
  },
  {
   "cell_type": "code",
   "execution_count": 57,
   "metadata": {},
   "outputs": [
    {
     "data": {
      "text/plain": [
       "id                   0\n",
       "displacement     36210\n",
       "engine_type      36210\n",
       "gear_type        36210\n",
       "transmission     36210\n",
       "power            36210\n",
       "power_kvt        36210\n",
       "human_name       36210\n",
       "acceleration     38155\n",
       "clearance_min    37161\n",
       "fuel_rate        39686\n",
       "nameplate        60190\n",
       "clearance_max    70300\n",
       "name             25492\n",
       "ru_name          37555\n",
       "year_from        34686\n",
       "year_to          43739\n",
       "price_segment    34686\n",
       "dtype: int64"
      ]
     },
     "execution_count": 57,
     "metadata": {},
     "output_type": "execute_result"
    }
   ],
   "source": [
    "gen_dataframe.isna().sum()"
   ]
  },
  {
   "cell_type": "code",
   "execution_count": 60,
   "metadata": {},
   "outputs": [
    {
     "data": {
      "text/html": [
       "<div>\n",
       "<style scoped>\n",
       "    .dataframe tbody tr th:only-of-type {\n",
       "        vertical-align: middle;\n",
       "    }\n",
       "\n",
       "    .dataframe tbody tr th {\n",
       "        vertical-align: top;\n",
       "    }\n",
       "\n",
       "    .dataframe thead th {\n",
       "        text-align: right;\n",
       "    }\n",
       "</style>\n",
       "<table border=\"1\" class=\"dataframe\">\n",
       "  <thead>\n",
       "    <tr style=\"text-align: right;\">\n",
       "      <th></th>\n",
       "      <th>id</th>\n",
       "      <th>displacement</th>\n",
       "      <th>engine_type</th>\n",
       "      <th>gear_type</th>\n",
       "      <th>transmission</th>\n",
       "      <th>power</th>\n",
       "      <th>power_kvt</th>\n",
       "      <th>human_name</th>\n",
       "      <th>acceleration</th>\n",
       "      <th>clearance_min</th>\n",
       "      <th>fuel_rate</th>\n",
       "      <th>nameplate</th>\n",
       "      <th>clearance_max</th>\n",
       "      <th>name</th>\n",
       "      <th>ru_name</th>\n",
       "      <th>year_from</th>\n",
       "      <th>year_to</th>\n",
       "      <th>price_segment</th>\n",
       "    </tr>\n",
       "  </thead>\n",
       "  <tbody>\n",
       "    <tr>\n",
       "      <th>0</th>\n",
       "      <td>10373605</td>\n",
       "      <td>1,197.00</td>\n",
       "      <td>GASOLINE</td>\n",
       "      <td>FORWARD_CONTROL</td>\n",
       "      <td>ROBOT</td>\n",
       "      <td>105.00</td>\n",
       "      <td>77.00</td>\n",
       "      <td>1.2 AMT (105 л.с.)</td>\n",
       "      <td>10.50</td>\n",
       "      <td>155.00</td>\n",
       "      <td>5.00</td>\n",
       "      <td>NaN</td>\n",
       "      <td>nan</td>\n",
       "      <td>NaN</td>\n",
       "      <td>NaN</td>\n",
       "      <td>nan</td>\n",
       "      <td>nan</td>\n",
       "      <td>NaN</td>\n",
       "    </tr>\n",
       "    <tr>\n",
       "      <th>1</th>\n",
       "      <td>20913311</td>\n",
       "      <td>1,598.00</td>\n",
       "      <td>GASOLINE</td>\n",
       "      <td>FORWARD_CONTROL</td>\n",
       "      <td>MECHANICAL</td>\n",
       "      <td>110.00</td>\n",
       "      <td>81.00</td>\n",
       "      <td>1.6 MT (110 л.с.)</td>\n",
       "      <td>10.80</td>\n",
       "      <td>156.00</td>\n",
       "      <td>6.40</td>\n",
       "      <td>NaN</td>\n",
       "      <td>nan</td>\n",
       "      <td>NaN</td>\n",
       "      <td>NaN</td>\n",
       "      <td>nan</td>\n",
       "      <td>nan</td>\n",
       "      <td>NaN</td>\n",
       "    </tr>\n",
       "    <tr>\n",
       "      <th>2</th>\n",
       "      <td>20026323</td>\n",
       "      <td>1,798.00</td>\n",
       "      <td>GASOLINE</td>\n",
       "      <td>FORWARD_CONTROL</td>\n",
       "      <td>ROBOT</td>\n",
       "      <td>152.00</td>\n",
       "      <td>112.00</td>\n",
       "      <td>DSG 1.8 AMT (152 л.с.)</td>\n",
       "      <td>8.70</td>\n",
       "      <td>139.00</td>\n",
       "      <td>7.10</td>\n",
       "      <td>DSG</td>\n",
       "      <td>158.00</td>\n",
       "      <td>NaN</td>\n",
       "      <td>NaN</td>\n",
       "      <td>nan</td>\n",
       "      <td>nan</td>\n",
       "      <td>NaN</td>\n",
       "    </tr>\n",
       "    <tr>\n",
       "      <th>3</th>\n",
       "      <td>20105521</td>\n",
       "      <td>1,598.00</td>\n",
       "      <td>GASOLINE</td>\n",
       "      <td>FORWARD_CONTROL</td>\n",
       "      <td>AUTOMATIC</td>\n",
       "      <td>110.00</td>\n",
       "      <td>81.00</td>\n",
       "      <td>1.6 AT (110 л.с.)</td>\n",
       "      <td>12.20</td>\n",
       "      <td>155.00</td>\n",
       "      <td>6.70</td>\n",
       "      <td>NaN</td>\n",
       "      <td>nan</td>\n",
       "      <td>NaN</td>\n",
       "      <td>NaN</td>\n",
       "      <td>nan</td>\n",
       "      <td>nan</td>\n",
       "      <td>NaN</td>\n",
       "    </tr>\n",
       "    <tr>\n",
       "      <th>4</th>\n",
       "      <td>4561004</td>\n",
       "      <td>1,798.00</td>\n",
       "      <td>GASOLINE</td>\n",
       "      <td>FORWARD_CONTROL</td>\n",
       "      <td>AUTOMATIC</td>\n",
       "      <td>152.00</td>\n",
       "      <td>112.00</td>\n",
       "      <td>1.8 AT (152 л.с.)</td>\n",
       "      <td>8.80</td>\n",
       "      <td>164.00</td>\n",
       "      <td>7.70</td>\n",
       "      <td>NaN</td>\n",
       "      <td>nan</td>\n",
       "      <td>NaN</td>\n",
       "      <td>NaN</td>\n",
       "      <td>nan</td>\n",
       "      <td>nan</td>\n",
       "      <td>NaN</td>\n",
       "    </tr>\n",
       "    <tr>\n",
       "      <th>...</th>\n",
       "      <td>...</td>\n",
       "      <td>...</td>\n",
       "      <td>...</td>\n",
       "      <td>...</td>\n",
       "      <td>...</td>\n",
       "      <td>...</td>\n",
       "      <td>...</td>\n",
       "      <td>...</td>\n",
       "      <td>...</td>\n",
       "      <td>...</td>\n",
       "      <td>...</td>\n",
       "      <td>...</td>\n",
       "      <td>...</td>\n",
       "      <td>...</td>\n",
       "      <td>...</td>\n",
       "      <td>...</td>\n",
       "      <td>...</td>\n",
       "      <td>...</td>\n",
       "    </tr>\n",
       "    <tr>\n",
       "      <th>70891</th>\n",
       "      <td>20183736</td>\n",
       "      <td>nan</td>\n",
       "      <td>NaN</td>\n",
       "      <td>NaN</td>\n",
       "      <td>NaN</td>\n",
       "      <td>nan</td>\n",
       "      <td>nan</td>\n",
       "      <td>NaN</td>\n",
       "      <td>nan</td>\n",
       "      <td>nan</td>\n",
       "      <td>nan</td>\n",
       "      <td>NaN</td>\n",
       "      <td>nan</td>\n",
       "      <td>I (4G) Рестайлинг</td>\n",
       "      <td>1 (4G) Рестайлинг</td>\n",
       "      <td>2,014.00</td>\n",
       "      <td>2,018.00</td>\n",
       "      <td>PREMIUM</td>\n",
       "    </tr>\n",
       "    <tr>\n",
       "      <th>70892</th>\n",
       "      <td>21210593</td>\n",
       "      <td>nan</td>\n",
       "      <td>NaN</td>\n",
       "      <td>NaN</td>\n",
       "      <td>NaN</td>\n",
       "      <td>nan</td>\n",
       "      <td>nan</td>\n",
       "      <td>NaN</td>\n",
       "      <td>nan</td>\n",
       "      <td>nan</td>\n",
       "      <td>nan</td>\n",
       "      <td>NaN</td>\n",
       "      <td>nan</td>\n",
       "      <td>V (C8)</td>\n",
       "      <td>5 (С8)</td>\n",
       "      <td>2,018.00</td>\n",
       "      <td>nan</td>\n",
       "      <td>PREMIUM</td>\n",
       "    </tr>\n",
       "    <tr>\n",
       "      <th>70893</th>\n",
       "      <td>6457121</td>\n",
       "      <td>nan</td>\n",
       "      <td>NaN</td>\n",
       "      <td>NaN</td>\n",
       "      <td>NaN</td>\n",
       "      <td>nan</td>\n",
       "      <td>nan</td>\n",
       "      <td>NaN</td>\n",
       "      <td>nan</td>\n",
       "      <td>nan</td>\n",
       "      <td>nan</td>\n",
       "      <td>NaN</td>\n",
       "      <td>nan</td>\n",
       "      <td>I (4G)</td>\n",
       "      <td>1 (4G)</td>\n",
       "      <td>2,010.00</td>\n",
       "      <td>2,014.00</td>\n",
       "      <td>PREMIUM</td>\n",
       "    </tr>\n",
       "    <tr>\n",
       "      <th>70894</th>\n",
       "      <td>7754720</td>\n",
       "      <td>nan</td>\n",
       "      <td>NaN</td>\n",
       "      <td>NaN</td>\n",
       "      <td>NaN</td>\n",
       "      <td>nan</td>\n",
       "      <td>nan</td>\n",
       "      <td>NaN</td>\n",
       "      <td>nan</td>\n",
       "      <td>nan</td>\n",
       "      <td>nan</td>\n",
       "      <td>NaN</td>\n",
       "      <td>nan</td>\n",
       "      <td>IV (B8) Рестайлинг</td>\n",
       "      <td>4 (B8) Рестайлинг</td>\n",
       "      <td>2,011.00</td>\n",
       "      <td>2,016.00</td>\n",
       "      <td>PREMIUM</td>\n",
       "    </tr>\n",
       "    <tr>\n",
       "      <th>70895</th>\n",
       "      <td>20012920</td>\n",
       "      <td>nan</td>\n",
       "      <td>NaN</td>\n",
       "      <td>NaN</td>\n",
       "      <td>NaN</td>\n",
       "      <td>nan</td>\n",
       "      <td>nan</td>\n",
       "      <td>NaN</td>\n",
       "      <td>nan</td>\n",
       "      <td>nan</td>\n",
       "      <td>nan</td>\n",
       "      <td>NaN</td>\n",
       "      <td>nan</td>\n",
       "      <td>II Рестайлинг</td>\n",
       "      <td>2 Рестайлинг</td>\n",
       "      <td>2,013.00</td>\n",
       "      <td>2,016.00</td>\n",
       "      <td>PREMIUM</td>\n",
       "    </tr>\n",
       "  </tbody>\n",
       "</table>\n",
       "<p>70896 rows × 18 columns</p>\n",
       "</div>"
      ],
      "text/plain": [
       "             id  displacement engine_type        gear_type transmission  \\\n",
       "0      10373605      1,197.00    GASOLINE  FORWARD_CONTROL        ROBOT   \n",
       "1      20913311      1,598.00    GASOLINE  FORWARD_CONTROL   MECHANICAL   \n",
       "2      20026323      1,798.00    GASOLINE  FORWARD_CONTROL        ROBOT   \n",
       "3      20105521      1,598.00    GASOLINE  FORWARD_CONTROL    AUTOMATIC   \n",
       "4       4561004      1,798.00    GASOLINE  FORWARD_CONTROL    AUTOMATIC   \n",
       "...         ...           ...         ...              ...          ...   \n",
       "70891  20183736           nan         NaN              NaN          NaN   \n",
       "70892  21210593           nan         NaN              NaN          NaN   \n",
       "70893   6457121           nan         NaN              NaN          NaN   \n",
       "70894   7754720           nan         NaN              NaN          NaN   \n",
       "70895  20012920           nan         NaN              NaN          NaN   \n",
       "\n",
       "       power  power_kvt              human_name  acceleration  clearance_min  \\\n",
       "0     105.00      77.00      1.2 AMT (105 л.с.)         10.50         155.00   \n",
       "1     110.00      81.00       1.6 MT (110 л.с.)         10.80         156.00   \n",
       "2     152.00     112.00  DSG 1.8 AMT (152 л.с.)          8.70         139.00   \n",
       "3     110.00      81.00       1.6 AT (110 л.с.)         12.20         155.00   \n",
       "4     152.00     112.00       1.8 AT (152 л.с.)          8.80         164.00   \n",
       "...      ...        ...                     ...           ...            ...   \n",
       "70891    nan        nan                     NaN           nan            nan   \n",
       "70892    nan        nan                     NaN           nan            nan   \n",
       "70893    nan        nan                     NaN           nan            nan   \n",
       "70894    nan        nan                     NaN           nan            nan   \n",
       "70895    nan        nan                     NaN           nan            nan   \n",
       "\n",
       "       fuel_rate nameplate  clearance_max                name  \\\n",
       "0           5.00       NaN            nan                 NaN   \n",
       "1           6.40       NaN            nan                 NaN   \n",
       "2           7.10       DSG         158.00                 NaN   \n",
       "3           6.70       NaN            nan                 NaN   \n",
       "4           7.70       NaN            nan                 NaN   \n",
       "...          ...       ...            ...                 ...   \n",
       "70891        nan       NaN            nan   I (4G) Рестайлинг   \n",
       "70892        nan       NaN            nan              V (C8)   \n",
       "70893        nan       NaN            nan              I (4G)   \n",
       "70894        nan       NaN            nan  IV (B8) Рестайлинг   \n",
       "70895        nan       NaN            nan       II Рестайлинг   \n",
       "\n",
       "                 ru_name  year_from  year_to price_segment  \n",
       "0                    NaN        nan      nan           NaN  \n",
       "1                    NaN        nan      nan           NaN  \n",
       "2                    NaN        nan      nan           NaN  \n",
       "3                    NaN        nan      nan           NaN  \n",
       "4                    NaN        nan      nan           NaN  \n",
       "...                  ...        ...      ...           ...  \n",
       "70891  1 (4G) Рестайлинг   2,014.00 2,018.00       PREMIUM  \n",
       "70892             5 (С8)   2,018.00      nan       PREMIUM  \n",
       "70893             1 (4G)   2,010.00 2,014.00       PREMIUM  \n",
       "70894  4 (B8) Рестайлинг   2,011.00 2,016.00       PREMIUM  \n",
       "70895       2 Рестайлинг   2,013.00 2,016.00       PREMIUM  \n",
       "\n",
       "[70896 rows x 18 columns]"
      ]
     },
     "execution_count": 60,
     "metadata": {},
     "output_type": "execute_result"
    }
   ],
   "source": [
    "gen_dataframe"
   ]
  },
  {
   "cell_type": "markdown",
   "metadata": {},
   "source": [
    "Интересно, в тренировочном наборе это поле не заполнено полностью. Поэтому нет возможности исползовать это поле.  \n",
    "Но можно доработать парсер, чтобы это поле собиралось с сайте.\n"
   ]
  },
  {
   "cell_type": "markdown",
   "metadata": {},
   "source": [
    "## Оформим все в функции"
   ]
  },
  {
   "cell_type": "code",
   "execution_count": 10,
   "metadata": {},
   "outputs": [],
   "source": [
    "def parse_dict_column(row, column_name):\n",
    "    \"\"\"Функция парсит значение в ячейке.\n",
    "    Если это train строка то применяет функцию eval\n",
    "    Если это test - то загружает методом json.loads\n",
    "    Возвращает dict полученный из строкового представления.\n",
    "    Или возвращает None если значение не указано, или словарь пустой\"\"\"\n",
    "    if row[column_name] is np.nan:\n",
    "        value = None\n",
    "    elif row.is_train:\n",
    "        value = eval(row[column_name])\n",
    "    else:\n",
    "        value = json.loads(row[column_name])\n",
    "    \n",
    "    return value if value else None\n",
    "\n",
    "def create_dataframe_from_json_column(df, column_name):\n",
    "    \"\"\"Создает датафрейм из колонки, в которой храняться json(dict) параметров автомобиля \"\"\"\n",
    "    series_ = df.apply(partial(parse_dict_column, column_name=column_name), axis=1)\n",
    "    dataframe_ = series_.apply(pd.Series)\n",
    "    return dataframe_\n",
    "\n",
    "def get_top100_equipment_features():\n",
    "    return [\n",
    "        'engine-proof', 'tinted-glass', 'airbag-driver', 'aux', 'isofix',\n",
    "        'electro-window-front', 'ashtray-and-cigarette-lighter',\n",
    "        'airbag-passenger', 'computer', 'high-beam-assist', 'seat-transformation',\n",
    "        'isofix-front', 'wheel-power', 'alarm', 'lock', 'door-sill-panel',\n",
    "        'fabric-seats', 'electro-mirrors', 'airbag-rear-side',\n",
    "        'electro-window-back', 'steel-wheels', 'ptf', '16-inch-wheels',\n",
    "        'rain-sensor', 'airbag-side', 'audiosystem-cd', 'dark-interior',\n",
    "        'cooling-box', 'condition', 'abs', 'power-child-locks-rear-doors',\n",
    "        'front-seats-heat', 'wheel-configuration2', 'wheel-configuration1',\n",
    "        '12v-socket', 'park-assist-r', 'cruise-control', 'asr', 'esp', 'usb',\n",
    "        'light-sensor', 'drl', 'alloy-wheel-disks', 'tyre-pressure',\n",
    "        'mirrors-heat', 'driver-seat-updown', 'wheel-heat', 'bluetooth', 'immo',\n",
    "        'windscreen-heat', 'climate-control-2', 'adaptive-light', 'multi-wheel',\n",
    "        'xenon', 'heated-wash-system', 'front-centre-armrest', 'body-mouldings',\n",
    "        'combo-interior', 'rear-seats-heat', 'knee-airbag', 'hcc',\n",
    "        'airbag-curtain', 'light-cleaner', 'leather-gear-stick', 'wheel-leather',\n",
    "        'auto-mirrors', 'third-rear-headrest', 'roller-blind-for-rear-window',\n",
    "        'spare-wheel', 'navigation', 'folding-front-passenger-seat',\n",
    "        'programmed-block-heater', 'passenger-seat-updown', 'sport-seats',\n",
    "        'front-seat-support', '18-inch-wheels', 'volume-sensor', 'hatch',\n",
    "        'music-super', 'automatic-lighting-control', 'paint-metallic',\n",
    "        'climate-control-1', 'roof-rails', '17-inch-wheels', 'sport-pedals', 'gbo',\n",
    "        'park-assist-f', 'feedback-alarm', 'passenger-seat-electric', 'leather',\n",
    "        'electro-trunk', 'driver-seat-memory', 'keyless-entry', 'rear-camera',\n",
    "        'led-lights', '15-inch-wheels', 'audiosystem-tv', 'seats-7', 'auto-park',\n",
    "        'apple-carplay'\n",
    "    ]\n",
    "\n",
    "def feature_enginering_add_equipment_features(df):\n",
    "    \"\"\"Сгенерируем новые фичи из колонки equipment_dict, возмьмем не все а ТОП 100 признаков\"\"\"\n",
    "    \n",
    "    equipment_dataframe = create_dataframe_from_json_column(df, 'equipment_dict')\n",
    "    equipment_dataframe.fillna(False, inplace=True)\n",
    "    \n",
    "    return pd.concat([df, equipment_dataframe[get_top100_equipment_features()]],\n",
    "          axis=1)"
   ]
  },
  {
   "cell_type": "code",
   "execution_count": 11,
   "metadata": {},
   "outputs": [
    {
     "name": "stdout",
     "output_type": "stream",
     "text": [
      "Wall time: 1min 33s\n"
     ]
    }
   ],
   "source": [
    "%%time\n",
    "df = feature_enginering_add_equipment_features(df)"
   ]
  },
  {
   "cell_type": "code",
   "execution_count": 12,
   "metadata": {},
   "outputs": [],
   "source": [
    "cat_cols = ['bodyType', 'brand', 'fuelType', 'color', 'model_name',\n",
    "            'vehicleTransmission', 'vendor', 'ПТС', 'Владельцы', 'Привод', 'Руль'] \n",
    "num_cols = ['productionDate', 'numberOfDoors',\n",
    "            'enginePower_log', 'mileage_log', 'diff_date_model_production'] + get_top100_equipment_features()"
   ]
  },
  {
   "cell_type": "markdown",
   "metadata": {},
   "source": [
    "## Выводы"
   ]
  },
  {
   "cell_type": "markdown",
   "metadata": {},
   "source": [
    "Пользу смогли извлечь только из колонки **equipment dict**  \n",
    "Еще может быть могла бы помочь колонка `super_gen`, но ее плохо спарсили для трейн набора, поэтому ее не используем."
   ]
  },
  {
   "cell_type": "markdown",
   "metadata": {},
   "source": [
    "# Генерация колонок из текстового описания объявления"
   ]
  },
  {
   "cell_type": "markdown",
   "metadata": {},
   "source": [
    "`description` текстовое поле. И нужно обрабатывать его, и вытащить из него ряд фичей\n",
    "Известные методы:\n",
    "- удалить знаки препинания и стоп слова\n",
    "- bag of words\n",
    "- tf/idf"
   ]
  },
  {
   "cell_type": "code",
   "execution_count": 4,
   "metadata": {},
   "outputs": [
    {
     "data": {
      "text/plain": [
       "0        Все автомобили, представленные в продаже, прох...\n",
       "1        ЛОТ: 01217195\\nАвтопрага Север\\nДанный автомоб...\n",
       "2        Все автомобили, представленные в продаже, прох...\n",
       "3        КОМПЛЕКТ ЗИМНЕЙ (ЛЕТНЕЙ) РЕЗИНЫ ПО СЕЗОНУ В ПО...\n",
       "4        ЛОТ: 01220889\\nАвтопрага Север\\n\\nВы можете по...\n",
       "                               ...                        \n",
       "70891       Машина идеальном состоянии не бити не крашеный\n",
       "70892    Мы ждем Вашего звонка, чтобы предложить лучшие...\n",
       "70893    Продаётся идеальный автомобиль, весь в родном ...\n",
       "70894    Масло не ест. Мотор после ремонта ( пробег пос...\n",
       "70895    Автомобиль приобретался у официального дилера ...\n",
       "Name: description, Length: 70896, dtype: object"
      ]
     },
     "execution_count": 4,
     "metadata": {},
     "output_type": "execute_result"
    }
   ],
   "source": [
    "df.description"
   ]
  },
  {
   "cell_type": "markdown",
   "metadata": {},
   "source": [
    "## Удалим знаки препинания и стоп слова"
   ]
  },
  {
   "cell_type": "code",
   "execution_count": 14,
   "metadata": {},
   "outputs": [],
   "source": [
    "def remove_uppercase_and_punctuation(serie: pd.Series):\n",
    "    \"\"\"Переводит текстовую колонку в нижний регистр и удаляет знаки препинания\"\"\"\n",
    "    punct = '!\"#$%&\\'()*+,-./:;<=>?@[\\\\]^_`{}~'   # `|` is not present here\n",
    "    transtab = str.maketrans(dict.fromkeys(punct, ''))\n",
    "    \n",
    "    serie = serie.str.lower().str.replace(\"|\",\"\").fillna('')\n",
    "    return pd.Series('|'.join(serie.tolist()).translate(transtab).split('|'))"
   ]
  },
  {
   "cell_type": "code",
   "execution_count": 15,
   "metadata": {},
   "outputs": [],
   "source": [
    "df.description = remove_uppercase_and_punctuation(df.description)"
   ]
  },
  {
   "cell_type": "markdown",
   "metadata": {},
   "source": [
    "## Мешок слов"
   ]
  },
  {
   "cell_type": "markdown",
   "metadata": {},
   "source": [
    "Попробуем делать подсчет кадого слова в описании."
   ]
  },
  {
   "cell_type": "code",
   "execution_count": 16,
   "metadata": {},
   "outputs": [
    {
     "name": "stdout",
     "output_type": "stream",
     "text": [
      "Wall time: 9.5 s\n"
     ]
    }
   ],
   "source": [
    "%%time\n",
    "count = CountVectorizer(stop_words=stopwords.words(\"russian\"))\n",
    "bag_of_words = count.fit_transform(df.description)"
   ]
  },
  {
   "cell_type": "code",
   "execution_count": 18,
   "metadata": {},
   "outputs": [
    {
     "data": {
      "text/plain": [
       "<70896x141152 sparse matrix of type '<class 'numpy.int64'>'\n",
       "\twith 5661663 stored elements in Compressed Sparse Row format>"
      ]
     },
     "execution_count": 18,
     "metadata": {},
     "output_type": "execute_result"
    }
   ],
   "source": [
    "bag_of_words"
   ]
  },
  {
   "cell_type": "markdown",
   "metadata": {},
   "source": [
    "Теперь нужно объединить наш исходный набор данных и \"мешок слов\".  \n",
    "Преобразуем его в `SparseDataFrame` и передадим функции `prepare_data`"
   ]
  },
  {
   "cell_type": "markdown",
   "metadata": {},
   "source": [
    "## Пробуем предсказать что-то с помощью мешка слов"
   ]
  },
  {
   "cell_type": "markdown",
   "metadata": {},
   "source": [
    "Преобразуем данные из прошлого этапа \"вручную\", без использования функции"
   ]
  },
  {
   "cell_type": "code",
   "execution_count": 18,
   "metadata": {},
   "outputs": [],
   "source": [
    "X = df.loc[:, cat_cols+num_cols+['is_train']]\n",
    "\n",
    "X = pd.get_dummies(X, columns=cat_cols)\n",
    "\n",
    "X[num_cols] = StandardScaler().fit_transform(X[num_cols])\n"
   ]
  },
  {
   "cell_type": "code",
   "execution_count": 22,
   "metadata": {},
   "outputs": [],
   "source": [
    "sparse_df = hstack(\n",
    "    [X.values.astype('float'), \n",
    "     bag_of_words\n",
    "    ]).tocsr()"
   ]
  },
  {
   "cell_type": "code",
   "execution_count": 23,
   "metadata": {},
   "outputs": [],
   "source": [
    "X_train = sparse_df[df.is_train == 1]\n",
    "X_test = sparse_df[df.is_train == 0]\n",
    "y = df.price[df.is_train == 1]"
   ]
  },
  {
   "cell_type": "markdown",
   "metadata": {},
   "source": [
    "Будем делать проверку просто на отложеной выборке (чтобы не ждать слишком долго)"
   ]
  },
  {
   "cell_type": "code",
   "execution_count": 24,
   "metadata": {},
   "outputs": [],
   "source": [
    "X_train, X_val, y_train, y_val = train_test_split(\n",
    "    X_train, y, test_size=0.3, shuffle=True, random_state=RANDOM_STATE)"
   ]
  },
  {
   "cell_type": "code",
   "execution_count": 28,
   "metadata": {},
   "outputs": [
    {
     "data": {
      "text/plain": [
       "(25347, 141998)"
      ]
     },
     "execution_count": 28,
     "metadata": {},
     "output_type": "execute_result"
    }
   ],
   "source": [
    "X_train.shape"
   ]
  },
  {
   "cell_type": "markdown",
   "metadata": {},
   "source": [
    "Модель **RandomForestRegressor** тренировалась больше двух часов, и я решил ее не использовать"
   ]
  },
  {
   "cell_type": "code",
   "execution_count": 25,
   "metadata": {},
   "outputs": [],
   "source": [
    "#model = RandomForestRegressor(n_estimators=100, random_state=RANDOM_STATE)\n",
    "model = Lasso()"
   ]
  },
  {
   "cell_type": "code",
   "execution_count": 26,
   "metadata": {},
   "outputs": [
    {
     "name": "stdout",
     "output_type": "stream",
     "text": [
      "Wall time: 1h 11min 37s\n"
     ]
    },
    {
     "name": "stderr",
     "output_type": "stream",
     "text": [
      "C:\\Soft\\anaconda\\lib\\site-packages\\sklearn\\linear_model\\_coordinate_descent.py:512: ConvergenceWarning: Objective did not converge. You might want to increase the number of iterations. Duality gap: 607110820598534.8, tolerance: 13191435323833.654\n",
      "  model = cd_fast.sparse_enet_coordinate_descent(\n"
     ]
    },
    {
     "data": {
      "text/plain": [
       "Lasso()"
      ]
     },
     "execution_count": 26,
     "metadata": {},
     "output_type": "execute_result"
    }
   ],
   "source": [
    "%%time\n",
    "model.fit(X_train, y_train)"
   ]
  },
  {
   "cell_type": "code",
   "execution_count": 27,
   "metadata": {},
   "outputs": [
    {
     "name": "stdout",
     "output_type": "stream",
     "text": [
      "MAPE: 585.1864120524156\n"
     ]
    }
   ],
   "source": [
    "pred = model.predict(X_val)\n",
    "score = mape(pred, y_val)\n",
    "print(f\"MAPE: {score}\")\n"
   ]
  },
  {
   "cell_type": "markdown",
   "metadata": {},
   "source": [
    "Ну вобщем можно сказать что влоб применить данные из текстового описания не получилось.  \n",
    "Модель тренируется ну очень долго, и показала очень плохой результат.  \n",
    "\n",
    "Знаю, что есть способ вытащить выжные фичи из описания, но пока у меня не получилось."
   ]
  },
  {
   "cell_type": "markdown",
   "metadata": {},
   "source": [
    "## TF-IDF"
   ]
  },
  {
   "cell_type": "code",
   "execution_count": 29,
   "metadata": {},
   "outputs": [
    {
     "name": "stdout",
     "output_type": "stream",
     "text": [
      "Wall time: 10.5 s\n"
     ]
    }
   ],
   "source": [
    "%%time\n",
    "count = TfidfVectorizer(stop_words=stopwords.words(\"russian\"))\n",
    "tf_idf = count.fit_transform(df.description)"
   ]
  },
  {
   "cell_type": "code",
   "execution_count": 30,
   "metadata": {},
   "outputs": [
    {
     "data": {
      "text/plain": [
       "(70896, 141152)"
      ]
     },
     "execution_count": 30,
     "metadata": {},
     "output_type": "execute_result"
    }
   ],
   "source": [
    "tf_idf.shape"
   ]
  },
  {
   "cell_type": "markdown",
   "metadata": {},
   "source": [
    "## Выводы"
   ]
  },
  {
   "cell_type": "markdown",
   "metadata": {},
   "source": [
    "У меня не получилос использовать данные из колонким `description`. С ними модель очень долго считает, и применение их просто так как мешок слов не дало хорошего резултата.\n",
    "\n",
    "Я пропускаю эту колонку."
   ]
  },
  {
   "cell_type": "markdown",
   "metadata": {},
   "source": [
    "# Выводы"
   ]
  },
  {
   "cell_type": "markdown",
   "metadata": {},
   "source": [
    "В результате этого этапа мы добавили новые признаки в модель.  \n",
    "Эти признаки улучшили качество предсказания на 1%.  \n",
    "\n",
    "Засабмитим еще раз на kaggle."
   ]
  },
  {
   "cell_type": "code",
   "execution_count": 13,
   "metadata": {},
   "outputs": [],
   "source": [
    "cat_cols = ['bodyType', 'brand', 'fuelType', 'color', 'model_name',\n",
    "            'vehicleTransmission', 'vendor', 'ПТС', 'Владельцы', 'Привод', 'Руль'] \n",
    "num_cols = ['productionDate', 'numberOfDoors',\n",
    "            'enginePower_log', 'mileage_log', 'diff_date_model_production'] + get_top100_equipment_features()"
   ]
  },
  {
   "cell_type": "code",
   "execution_count": 14,
   "metadata": {},
   "outputs": [],
   "source": [
    "X_train, X_test, y = prepare_data(cat_cols, num_cols)"
   ]
  },
  {
   "cell_type": "code",
   "execution_count": 15,
   "metadata": {},
   "outputs": [],
   "source": [
    "model = RandomForestRegressor(100, random_state=RANDOM_STATE)"
   ]
  },
  {
   "cell_type": "code",
   "execution_count": 16,
   "metadata": {},
   "outputs": [
    {
     "name": "stdout",
     "output_type": "stream",
     "text": [
      "####################################################################################################\n",
      "RandomForestRegressor(random_state=43)\n",
      "train shape (36210, 845)\n",
      "cat_cols=['bodyType', 'brand', 'fuelType', 'color', 'model_name', 'vehicleTransmission', 'vendor', 'ПТС', 'Владельцы', 'Привод', 'Руль']\n",
      "num_cols=['productionDate', 'numberOfDoors', 'enginePower_log', 'mileage_log', 'diff_date_model_production', 'engine-proof', 'tinted-glass', 'airbag-driver', 'aux', 'isofix', 'electro-window-front', 'ashtray-and-cigarette-lighter', 'airbag-passenger', 'computer', 'high-beam-assist', 'seat-transformation', 'isofix-front', 'wheel-power', 'alarm', 'lock', 'door-sill-panel', 'fabric-seats', 'electro-mirrors', 'airbag-rear-side', 'electro-window-back', 'steel-wheels', 'ptf', '16-inch-wheels', 'rain-sensor', 'airbag-side', 'audiosystem-cd', 'dark-interior', 'cooling-box', 'condition', 'abs', 'power-child-locks-rear-doors', 'front-seats-heat', 'wheel-configuration2', 'wheel-configuration1', '12v-socket', 'park-assist-r', 'cruise-control', 'asr', 'esp', 'usb', 'light-sensor', 'drl', 'alloy-wheel-disks', 'tyre-pressure', 'mirrors-heat', 'driver-seat-updown', 'wheel-heat', 'bluetooth', 'immo', 'windscreen-heat', 'climate-control-2', 'adaptive-light', 'multi-wheel', 'xenon', 'heated-wash-system', 'front-centre-armrest', 'body-mouldings', 'combo-interior', 'rear-seats-heat', 'knee-airbag', 'hcc', 'airbag-curtain', 'light-cleaner', 'leather-gear-stick', 'wheel-leather', 'auto-mirrors', 'third-rear-headrest', 'roller-blind-for-rear-window', 'spare-wheel', 'navigation', 'folding-front-passenger-seat', 'programmed-block-heater', 'passenger-seat-updown', 'sport-seats', 'front-seat-support', '18-inch-wheels', 'volume-sensor', 'hatch', 'music-super', 'automatic-lighting-control', 'paint-metallic', 'climate-control-1', 'roof-rails', '17-inch-wheels', 'sport-pedals', 'gbo', 'park-assist-f', 'feedback-alarm', 'passenger-seat-electric', 'leather', 'electro-trunk', 'driver-seat-memory', 'keyless-entry', 'rear-camera', 'led-lights', '15-inch-wheels', 'audiosystem-tv', 'seats-7', 'auto-park', 'apple-carplay']\n",
      "####################################################################################################\n",
      "Train result: 5.023091729535029\n",
      "CV result: 13.852101218903607 ([13.70320693 14.28365299 13.56944373])\n",
      "####################################################################################################\n",
      "Wall time: 10min 56s\n"
     ]
    }
   ],
   "source": [
    "%%time\n",
    "fit_and_score_model(model, X_train, y)"
   ]
  },
  {
   "cell_type": "code",
   "execution_count": 17,
   "metadata": {},
   "outputs": [],
   "source": [
    "make_submit_file(model, X_test, \"3_predict_after_feature_enginering.csv\")"
   ]
  },
  {
   "cell_type": "markdown",
   "metadata": {},
   "source": [
    "**RandomForestRegressor(random_state=43)**  \n",
    "CV mean_result: 13.85  \n",
    "train mape 5.02  \n",
    "kaggle submit 12.99"
   ]
  },
  {
   "cell_type": "markdown",
   "metadata": {},
   "source": [
    "В результате работы мы смогли сгенерировать новые фичи и улучшить качество нашей модели.  \n"
   ]
  },
  {
   "cell_type": "markdown",
   "metadata": {},
   "source": [
    "# Сохраним данные, для следующего ноутбука"
   ]
  },
  {
   "cell_type": "code",
   "execution_count": 18,
   "metadata": {},
   "outputs": [],
   "source": [
    "df.to_csv('data2.csv')"
   ]
  },
  {
   "cell_type": "markdown",
   "metadata": {},
   "source": [
    "# В следующем этапе"
   ]
  },
  {
   "cell_type": "markdown",
   "metadata": {},
   "source": [
    "- Попробовать другие модели на этом наборе данных (xgboost, catboost)\n",
    "- Настраивать параметры моделей\n",
    "- Стекинг, Ансамбли"
   ]
  },
  {
   "cell_type": "code",
   "execution_count": null,
   "metadata": {},
   "outputs": [],
   "source": []
  }
 ],
 "metadata": {
  "kernelspec": {
   "display_name": "Python 3",
   "language": "python",
   "name": "python3"
  },
  "language_info": {
   "codemirror_mode": {
    "name": "ipython",
    "version": 3
   },
   "file_extension": ".py",
   "mimetype": "text/x-python",
   "name": "python",
   "nbconvert_exporter": "python",
   "pygments_lexer": "ipython3",
   "version": "3.8.5"
  },
  "toc": {
   "base_numbering": 1,
   "nav_menu": {},
   "number_sections": true,
   "sideBar": true,
   "skip_h1_title": false,
   "title_cell": "Table of Contents",
   "title_sidebar": "Contents",
   "toc_cell": false,
   "toc_position": {
    "height": "calc(100% - 180px)",
    "left": "10px",
    "top": "150px",
    "width": "383.976px"
   },
   "toc_section_display": true,
   "toc_window_display": true
  },
  "varInspector": {
   "cols": {
    "lenName": 16,
    "lenType": 16,
    "lenVar": 40
   },
   "kernels_config": {
    "python": {
     "delete_cmd_postfix": "",
     "delete_cmd_prefix": "del ",
     "library": "var_list.py",
     "varRefreshCmd": "print(var_dic_list())"
    },
    "r": {
     "delete_cmd_postfix": ") ",
     "delete_cmd_prefix": "rm(",
     "library": "var_list.r",
     "varRefreshCmd": "cat(var_dic_list()) "
    }
   },
   "position": {
    "height": "481px",
    "left": "1561px",
    "right": "20px",
    "top": "119px",
    "width": "339px"
   },
   "types_to_exclude": [
    "module",
    "function",
    "builtin_function_or_method",
    "instance",
    "_Feature"
   ],
   "window_display": false
  }
 },
 "nbformat": 4,
 "nbformat_minor": 4
}
