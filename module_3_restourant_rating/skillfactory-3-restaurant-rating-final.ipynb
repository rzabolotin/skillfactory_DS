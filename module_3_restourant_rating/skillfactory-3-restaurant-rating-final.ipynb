{
 "cells": [
  {
   "cell_type": "markdown",
   "metadata": {
    "papermill": {
     "duration": 0.017398,
     "end_time": "2020-08-12T06:23:11.412067",
     "exception": false,
     "start_time": "2020-08-12T06:23:11.394669",
     "status": "completed"
    },
    "tags": []
   },
   "source": [
    "## [SF-DST] Restaurant Rating prediction.\n",
    "Предскажите рейтинг ресторана по версии TripAdvisor"
   ]
  },
  {
   "cell_type": "code",
   "execution_count": 1,
   "metadata": {
    "_cell_guid": "b1076dfc-b9ad-4769-8c92-a6c4dae69d19",
    "_uuid": "8f2839f25d086af736a60e9eeb907d3b93b6e0e5",
    "execution": {
     "iopub.execute_input": "2020-08-12T06:23:11.450284Z",
     "iopub.status.busy": "2020-08-12T06:23:11.449501Z",
     "iopub.status.idle": "2020-08-12T06:23:13.327451Z",
     "shell.execute_reply": "2020-08-12T06:23:13.326612Z"
    },
    "papermill": {
     "duration": 1.899856,
     "end_time": "2020-08-12T06:23:13.327584",
     "exception": false,
     "start_time": "2020-08-12T06:23:11.427728",
     "status": "completed"
    },
    "tags": []
   },
   "outputs": [],
   "source": [
    "from collections import Counter\n",
    "import os\n",
    "import json\n",
    "\n",
    "import pandas as pd\n",
    "import numpy as np\n",
    "import matplotlib.pyplot as plt\n",
    "import seaborn as sns\n",
    "\n",
    "\n",
    "from sklearn.model_selection import train_test_split\n",
    "from sklearn.ensemble import RandomForestRegressor\n",
    "from sklearn import metrics\n",
    "from sklearn.preprocessing import MinMaxScaler"
   ]
  },
  {
   "cell_type": "code",
   "execution_count": 2,
   "metadata": {
    "_cell_guid": "79c7e3d0-c299-4dcb-8224-4455121ee9b0",
    "_uuid": "d629ff2d2480ee46fbb7e2d37f6b5fab8052498a",
    "execution": {
     "iopub.execute_input": "2020-08-12T06:23:13.361819Z",
     "iopub.status.busy": "2020-08-12T06:23:13.360677Z",
     "iopub.status.idle": "2020-08-12T06:23:16.580808Z",
     "shell.execute_reply": "2020-08-12T06:23:16.580042Z"
    },
    "papermill": {
     "duration": 3.239506,
     "end_time": "2020-08-12T06:23:16.580949",
     "exception": false,
     "start_time": "2020-08-12T06:23:13.341443",
     "status": "completed"
    },
    "tags": []
   },
   "outputs": [],
   "source": [
    "RANDOM_SEED = 13\n",
    "!pip freeze > requirements.txt"
   ]
  },
  {
   "cell_type": "code",
   "execution_count": 3,
   "metadata": {
    "execution": {
     "iopub.execute_input": "2020-08-12T06:23:16.617744Z",
     "iopub.status.busy": "2020-08-12T06:23:16.616757Z",
     "iopub.status.idle": "2020-08-12T06:23:16.621490Z",
     "shell.execute_reply": "2020-08-12T06:23:16.620526Z"
    },
    "papermill": {
     "duration": 0.026457,
     "end_time": "2020-08-12T06:23:16.621660",
     "exception": false,
     "start_time": "2020-08-12T06:23:16.595203",
     "status": "completed"
    },
    "tags": []
   },
   "outputs": [
    {
     "name": "stdout",
     "output_type": "stream",
     "text": [
      "/kaggle/input/sf-dst-restaurant-rating/kaggle_task.csv\n",
      "/kaggle/input/sf-dst-restaurant-rating/main_task.csv\n",
      "/kaggle/input/sf-dst-restaurant-rating/sample_submission.csv\n"
     ]
    }
   ],
   "source": [
    "for dirname, _, filenames in os.walk('/kaggle/input'):\n",
    "    for filename in filenames:\n",
    "        print(os.path.join(dirname, filename))"
   ]
  },
  {
   "cell_type": "code",
   "execution_count": 4,
   "metadata": {
    "execution": {
     "iopub.execute_input": "2020-08-12T06:23:16.663474Z",
     "iopub.status.busy": "2020-08-12T06:23:16.662478Z",
     "iopub.status.idle": "2020-08-12T06:23:17.196096Z",
     "shell.execute_reply": "2020-08-12T06:23:17.195251Z"
    },
    "papermill": {
     "duration": 0.556484,
     "end_time": "2020-08-12T06:23:17.196229",
     "exception": false,
     "start_time": "2020-08-12T06:23:16.639745",
     "status": "completed"
    },
    "tags": []
   },
   "outputs": [],
   "source": [
    "DATA_DIR = '/kaggle/input/sf-dst-restaurant-rating/'\n",
    "df_train = pd.read_csv(DATA_DIR+'/main_task.csv')\n",
    "df_test = pd.read_csv(DATA_DIR+'kaggle_task.csv')\n",
    "sample_submission = pd.read_csv(DATA_DIR+'/sample_submission.csv')"
   ]
  },
  {
   "cell_type": "code",
   "execution_count": 5,
   "metadata": {
    "execution": {
     "iopub.execute_input": "2020-08-12T06:23:17.240535Z",
     "iopub.status.busy": "2020-08-12T06:23:17.239503Z",
     "iopub.status.idle": "2020-08-12T06:23:17.300364Z",
     "shell.execute_reply": "2020-08-12T06:23:17.299248Z"
    },
    "papermill": {
     "duration": 0.089827,
     "end_time": "2020-08-12T06:23:17.300580",
     "exception": false,
     "start_time": "2020-08-12T06:23:17.210753",
     "status": "completed"
    },
    "tags": []
   },
   "outputs": [],
   "source": [
    "df_test['Rating'] = 0\n",
    "df_test['sample'] = 0\n",
    "df_train['sample'] = 1\n",
    "\n",
    "df = pd.concat([\n",
    "    df_train,\n",
    "    df_test\n",
    "]).reset_index(drop=True)\n",
    "\n",
    "df.columns = [\n",
    "    'rest_id', 'city', 'cuisine', 'ranking', 'rating', 'price_range', 'num_reviews', 'reviews', 'url_ta', 'id_ta', 'sample'\n",
    "]"
   ]
  },
  {
   "cell_type": "markdown",
   "metadata": {
    "papermill": {
     "duration": 0.014052,
     "end_time": "2020-08-12T06:23:17.328849",
     "exception": false,
     "start_time": "2020-08-12T06:23:17.314797",
     "status": "completed"
    },
    "tags": []
   },
   "source": [
    "# Обзор датасета"
   ]
  },
  {
   "cell_type": "code",
   "execution_count": 6,
   "metadata": {
    "execution": {
     "iopub.execute_input": "2020-08-12T06:23:17.377149Z",
     "iopub.status.busy": "2020-08-12T06:23:17.376316Z",
     "iopub.status.idle": "2020-08-12T06:23:17.390983Z",
     "shell.execute_reply": "2020-08-12T06:23:17.390211Z"
    },
    "papermill": {
     "duration": 0.047959,
     "end_time": "2020-08-12T06:23:17.391115",
     "exception": false,
     "start_time": "2020-08-12T06:23:17.343156",
     "status": "completed"
    },
    "tags": []
   },
   "outputs": [
    {
     "name": "stdout",
     "output_type": "stream",
     "text": [
      "В объединенном наборе данных 50000 строк и 11 колонок\n"
     ]
    },
    {
     "data": {
      "text/html": [
       "<div>\n",
       "<style scoped>\n",
       "    .dataframe tbody tr th:only-of-type {\n",
       "        vertical-align: middle;\n",
       "    }\n",
       "\n",
       "    .dataframe tbody tr th {\n",
       "        vertical-align: top;\n",
       "    }\n",
       "\n",
       "    .dataframe thead th {\n",
       "        text-align: right;\n",
       "    }\n",
       "</style>\n",
       "<table border=\"1\" class=\"dataframe\">\n",
       "  <thead>\n",
       "    <tr style=\"text-align: right;\">\n",
       "      <th></th>\n",
       "      <th>rest_id</th>\n",
       "      <th>city</th>\n",
       "      <th>cuisine</th>\n",
       "      <th>ranking</th>\n",
       "      <th>rating</th>\n",
       "      <th>price_range</th>\n",
       "      <th>num_reviews</th>\n",
       "      <th>reviews</th>\n",
       "      <th>url_ta</th>\n",
       "      <th>id_ta</th>\n",
       "      <th>sample</th>\n",
       "    </tr>\n",
       "  </thead>\n",
       "  <tbody>\n",
       "    <tr>\n",
       "      <th>0</th>\n",
       "      <td>id_5569</td>\n",
       "      <td>Paris</td>\n",
       "      <td>['European', 'French', 'International']</td>\n",
       "      <td>5570.0</td>\n",
       "      <td>3.5</td>\n",
       "      <td>$$ - $$$</td>\n",
       "      <td>194.0</td>\n",
       "      <td>[['Good food at your doorstep', 'A good hotel ...</td>\n",
       "      <td>/Restaurant_Review-g187147-d1912643-Reviews-R_...</td>\n",
       "      <td>d1912643</td>\n",
       "      <td>1</td>\n",
       "    </tr>\n",
       "    <tr>\n",
       "      <th>1</th>\n",
       "      <td>id_1535</td>\n",
       "      <td>Stockholm</td>\n",
       "      <td>NaN</td>\n",
       "      <td>1537.0</td>\n",
       "      <td>4.0</td>\n",
       "      <td>NaN</td>\n",
       "      <td>10.0</td>\n",
       "      <td>[['Unique cuisine', 'Delicious Nepalese food']...</td>\n",
       "      <td>/Restaurant_Review-g189852-d7992032-Reviews-Bu...</td>\n",
       "      <td>d7992032</td>\n",
       "      <td>1</td>\n",
       "    </tr>\n",
       "    <tr>\n",
       "      <th>2</th>\n",
       "      <td>id_352</td>\n",
       "      <td>London</td>\n",
       "      <td>['Japanese', 'Sushi', 'Asian', 'Grill', 'Veget...</td>\n",
       "      <td>353.0</td>\n",
       "      <td>4.5</td>\n",
       "      <td>$$$$</td>\n",
       "      <td>688.0</td>\n",
       "      <td>[['Catch up with friends', 'Not exceptional'],...</td>\n",
       "      <td>/Restaurant_Review-g186338-d8632781-Reviews-RO...</td>\n",
       "      <td>d8632781</td>\n",
       "      <td>1</td>\n",
       "    </tr>\n",
       "  </tbody>\n",
       "</table>\n",
       "</div>"
      ],
      "text/plain": [
       "   rest_id       city                                            cuisine  \\\n",
       "0  id_5569      Paris            ['European', 'French', 'International']   \n",
       "1  id_1535  Stockholm                                                NaN   \n",
       "2   id_352     London  ['Japanese', 'Sushi', 'Asian', 'Grill', 'Veget...   \n",
       "\n",
       "   ranking  rating price_range  num_reviews  \\\n",
       "0   5570.0     3.5    $$ - $$$        194.0   \n",
       "1   1537.0     4.0         NaN         10.0   \n",
       "2    353.0     4.5        $$$$        688.0   \n",
       "\n",
       "                                             reviews  \\\n",
       "0  [['Good food at your doorstep', 'A good hotel ...   \n",
       "1  [['Unique cuisine', 'Delicious Nepalese food']...   \n",
       "2  [['Catch up with friends', 'Not exceptional'],...   \n",
       "\n",
       "                                              url_ta     id_ta  sample  \n",
       "0  /Restaurant_Review-g187147-d1912643-Reviews-R_...  d1912643       1  \n",
       "1  /Restaurant_Review-g189852-d7992032-Reviews-Bu...  d7992032       1  \n",
       "2  /Restaurant_Review-g186338-d8632781-Reviews-RO...  d8632781       1  "
      ]
     },
     "execution_count": 6,
     "metadata": {},
     "output_type": "execute_result"
    }
   ],
   "source": [
    "print(\"В объединенном наборе данных\", df.shape[0], \"строк и\", df.shape[1], \"колонок\")\n",
    "df.head(3)"
   ]
  },
  {
   "cell_type": "code",
   "execution_count": 7,
   "metadata": {
    "execution": {
     "iopub.execute_input": "2020-08-12T06:23:17.442062Z",
     "iopub.status.busy": "2020-08-12T06:23:17.441077Z",
     "iopub.status.idle": "2020-08-12T06:23:17.471816Z",
     "shell.execute_reply": "2020-08-12T06:23:17.472559Z"
    },
    "papermill": {
     "duration": 0.067315,
     "end_time": "2020-08-12T06:23:17.472731",
     "exception": false,
     "start_time": "2020-08-12T06:23:17.405416",
     "status": "completed"
    },
    "tags": []
   },
   "outputs": [
    {
     "data": {
      "text/plain": [
       "rest_id            0\n",
       "city               0\n",
       "cuisine        11590\n",
       "ranking            0\n",
       "rating             0\n",
       "price_range    17361\n",
       "num_reviews     3200\n",
       "reviews            2\n",
       "url_ta             0\n",
       "id_ta              0\n",
       "sample             0\n",
       "dtype: int64"
      ]
     },
     "execution_count": 7,
     "metadata": {},
     "output_type": "execute_result"
    }
   ],
   "source": [
    "df.isna().sum()"
   ]
  },
  {
   "cell_type": "markdown",
   "metadata": {
    "papermill": {
     "duration": 0.014445,
     "end_time": "2020-08-12T06:23:17.501959",
     "exception": false,
     "start_time": "2020-08-12T06:23:17.487514",
     "status": "completed"
    },
    "tags": []
   },
   "source": [
    "# Анализируем колонки"
   ]
  },
  {
   "cell_type": "markdown",
   "metadata": {
    "papermill": {
     "duration": 0.014439,
     "end_time": "2020-08-12T06:23:17.531086",
     "exception": false,
     "start_time": "2020-08-12T06:23:17.516647",
     "status": "completed"
    },
    "tags": []
   },
   "source": [
    "## rating"
   ]
  },
  {
   "cell_type": "code",
   "execution_count": 8,
   "metadata": {
    "execution": {
     "iopub.execute_input": "2020-08-12T06:23:17.567163Z",
     "iopub.status.busy": "2020-08-12T06:23:17.566352Z",
     "iopub.status.idle": "2020-08-12T06:23:17.888527Z",
     "shell.execute_reply": "2020-08-12T06:23:17.887902Z"
    },
    "papermill": {
     "duration": 0.342982,
     "end_time": "2020-08-12T06:23:17.888673",
     "exception": false,
     "start_time": "2020-08-12T06:23:17.545691",
     "status": "completed"
    },
    "tags": []
   },
   "outputs": [
    {
     "data": {
      "image/png": "[encoded data removed]",
      "text/plain": [
       "<Figure size 432x288 with 1 Axes>"
      ]
     },
     "metadata": {
      "needs_background": "light"
     },
     "output_type": "display_data"
    }
   ],
   "source": [
    "df[df['sample']==1].rating.hist();"
   ]
  },
  {
   "cell_type": "markdown",
   "metadata": {
    "papermill": {
     "duration": 0.014999,
     "end_time": "2020-08-12T06:23:17.918920",
     "exception": false,
     "start_time": "2020-08-12T06:23:17.903921",
     "status": "completed"
    },
    "tags": []
   },
   "source": [
    "## rest_id"
   ]
  },
  {
   "cell_type": "code",
   "execution_count": 9,
   "metadata": {
    "execution": {
     "iopub.execute_input": "2020-08-12T06:23:17.960519Z",
     "iopub.status.busy": "2020-08-12T06:23:17.959744Z",
     "iopub.status.idle": "2020-08-12T06:23:17.974300Z",
     "shell.execute_reply": "2020-08-12T06:23:17.975456Z"
    },
    "papermill": {
     "duration": 0.04164,
     "end_time": "2020-08-12T06:23:17.975687",
     "exception": false,
     "start_time": "2020-08-12T06:23:17.934047",
     "status": "completed"
    },
    "tags": []
   },
   "outputs": [
    {
     "name": "stdout",
     "output_type": "stream",
     "text": [
      "уникальный ресторанов 13094\n",
      "среди тестовых строк уникальных ресторанов  10000\n",
      "всего строк 50000\n"
     ]
    }
   ],
   "source": [
    "print('уникальный ресторанов', df.rest_id.nunique())\n",
    "print('среди тестовых строк уникальных ресторанов ', df[df['sample'] == 0].rest_id.nunique())\n",
    "print('всего строк', df.shape[0])"
   ]
  },
  {
   "cell_type": "markdown",
   "metadata": {
    "papermill": {
     "duration": 0.014991,
     "end_time": "2020-08-12T06:23:18.006485",
     "exception": false,
     "start_time": "2020-08-12T06:23:17.991494",
     "status": "completed"
    },
    "tags": []
   },
   "source": [
    "получается что rest_id это не уникальный номер ресторана, а может быть это номер сети, тогда это можно использовать как признак  \n",
    "сделаем из него таблицу dummy колонок"
   ]
  },
  {
   "cell_type": "code",
   "execution_count": 10,
   "metadata": {
    "execution": {
     "iopub.execute_input": "2020-08-12T06:23:18.048059Z",
     "iopub.status.busy": "2020-08-12T06:23:18.047286Z",
     "iopub.status.idle": "2020-08-12T06:23:21.126714Z",
     "shell.execute_reply": "2020-08-12T06:23:21.125928Z"
    },
    "papermill": {
     "duration": 3.105089,
     "end_time": "2020-08-12T06:23:21.126870",
     "exception": false,
     "start_time": "2020-08-12T06:23:18.021781",
     "status": "completed"
    },
    "tags": []
   },
   "outputs": [
    {
     "name": "stdout",
     "output_type": "stream",
     "text": [
      "(50000, 13094)\n"
     ]
    }
   ],
   "source": [
    "rest_id_dummy = pd.get_dummies(df[['rest_id']], prefix=\"rest_id_\")\n",
    "print(rest_id_dummy.shape)"
   ]
  },
  {
   "cell_type": "markdown",
   "metadata": {
    "papermill": {
     "duration": 0.015075,
     "end_time": "2020-08-12T06:23:21.158084",
     "exception": false,
     "start_time": "2020-08-12T06:23:21.143009",
     "status": "completed"
    },
    "tags": []
   },
   "source": [
    "## city"
   ]
  },
  {
   "cell_type": "code",
   "execution_count": 11,
   "metadata": {
    "execution": {
     "iopub.execute_input": "2020-08-12T06:23:21.199236Z",
     "iopub.status.busy": "2020-08-12T06:23:21.198282Z",
     "iopub.status.idle": "2020-08-12T06:23:21.221626Z",
     "shell.execute_reply": "2020-08-12T06:23:21.222156Z"
    },
    "papermill": {
     "duration": 0.048782,
     "end_time": "2020-08-12T06:23:21.222334",
     "exception": false,
     "start_time": "2020-08-12T06:23:21.173552",
     "status": "completed"
    },
    "tags": []
   },
   "outputs": [
    {
     "name": "stdout",
     "output_type": "stream",
     "text": [
      "всего городов 31\n"
     ]
    },
    {
     "data": {
      "text/plain": [
       "London       7193\n",
       "Paris        6108\n",
       "Madrid       3813\n",
       "Barcelona    3395\n",
       "Berlin       2705\n",
       "Milan        2694\n",
       "Rome         2589\n",
       "Prague       1816\n",
       "Lisbon       1647\n",
       "Vienna       1443\n",
       "Name: city, dtype: int64"
      ]
     },
     "execution_count": 11,
     "metadata": {},
     "output_type": "execute_result"
    }
   ],
   "source": [
    "print(\"всего городов\", df.city.nunique())\n",
    "df.city.value_counts()[:10]"
   ]
  },
  {
   "cell_type": "markdown",
   "metadata": {
    "papermill": {
     "duration": 0.015411,
     "end_time": "2020-08-12T06:23:21.253888",
     "exception": false,
     "start_time": "2020-08-12T06:23:21.238477",
     "status": "completed"
    },
    "tags": []
   },
   "source": [
    "Сделаем dummy колонки по каждому городу"
   ]
  },
  {
   "cell_type": "code",
   "execution_count": 12,
   "metadata": {
    "execution": {
     "iopub.execute_input": "2020-08-12T06:23:21.295697Z",
     "iopub.status.busy": "2020-08-12T06:23:21.294576Z",
     "iopub.status.idle": "2020-08-12T06:23:21.304034Z",
     "shell.execute_reply": "2020-08-12T06:23:21.303347Z"
    },
    "papermill": {
     "duration": 0.034719,
     "end_time": "2020-08-12T06:23:21.304168",
     "exception": false,
     "start_time": "2020-08-12T06:23:21.269449",
     "status": "completed"
    },
    "tags": []
   },
   "outputs": [
    {
     "name": "stdout",
     "output_type": "stream",
     "text": [
      "(50000, 31)\n"
     ]
    }
   ],
   "source": [
    "city_dummies = pd.get_dummies(df.city, prefix=\"city_\")\n",
    "print(city_dummies.shape)"
   ]
  },
  {
   "cell_type": "markdown",
   "metadata": {
    "papermill": {
     "duration": 0.015535,
     "end_time": "2020-08-12T06:23:21.335432",
     "exception": false,
     "start_time": "2020-08-12T06:23:21.319897",
     "status": "completed"
    },
    "tags": []
   },
   "source": [
    "## cuisine"
   ]
  },
  {
   "cell_type": "code",
   "execution_count": 13,
   "metadata": {
    "execution": {
     "iopub.execute_input": "2020-08-12T06:23:21.375179Z",
     "iopub.status.busy": "2020-08-12T06:23:21.374061Z",
     "iopub.status.idle": "2020-08-12T06:23:21.378643Z",
     "shell.execute_reply": "2020-08-12T06:23:21.377869Z"
    },
    "papermill": {
     "duration": 0.027457,
     "end_time": "2020-08-12T06:23:21.378773",
     "exception": false,
     "start_time": "2020-08-12T06:23:21.351316",
     "status": "completed"
    },
    "tags": []
   },
   "outputs": [
    {
     "data": {
      "text/plain": [
       "0              ['European', 'French', 'International']\n",
       "1                                                  NaN\n",
       "2    ['Japanese', 'Sushi', 'Asian', 'Grill', 'Veget...\n",
       "Name: cuisine, dtype: object"
      ]
     },
     "execution_count": 13,
     "metadata": {},
     "output_type": "execute_result"
    }
   ],
   "source": [
    "df.cuisine.head(3)"
   ]
  },
  {
   "cell_type": "code",
   "execution_count": 14,
   "metadata": {
    "execution": {
     "iopub.execute_input": "2020-08-12T06:23:21.423906Z",
     "iopub.status.busy": "2020-08-12T06:23:21.422966Z",
     "iopub.status.idle": "2020-08-12T06:23:21.426680Z",
     "shell.execute_reply": "2020-08-12T06:23:21.426016Z"
    },
    "papermill": {
     "duration": 0.031986,
     "end_time": "2020-08-12T06:23:21.426813",
     "exception": false,
     "start_time": "2020-08-12T06:23:21.394827",
     "status": "completed"
    },
    "tags": []
   },
   "outputs": [],
   "source": [
    "df.cuisine.fillna(\"['Other']\", inplace=True)"
   ]
  },
  {
   "cell_type": "code",
   "execution_count": 15,
   "metadata": {
    "execution": {
     "iopub.execute_input": "2020-08-12T06:23:21.469188Z",
     "iopub.status.busy": "2020-08-12T06:23:21.468191Z",
     "iopub.status.idle": "2020-08-12T06:23:21.471718Z",
     "shell.execute_reply": "2020-08-12T06:23:21.472480Z"
    },
    "papermill": {
     "duration": 0.029663,
     "end_time": "2020-08-12T06:23:21.472691",
     "exception": false,
     "start_time": "2020-08-12T06:23:21.443028",
     "status": "completed"
    },
    "tags": []
   },
   "outputs": [
    {
     "name": "stdout",
     "output_type": "stream",
     "text": [
      "тест ['European', 'French', 'International']\n"
     ]
    }
   ],
   "source": [
    "def get_clean_list_of_cuisines(entry_node):\n",
    "    \"\"\"\n",
    "    Функция из строки вида: ['European', 'French', 'International']\n",
    "    делает list\n",
    "    \"\"\"\n",
    "    if entry_node is np.nan:\n",
    "        return entry_node\n",
    "    entry_node = entry_node[1:-1]\n",
    "    return [x.strip()[1:-1] for x in entry_node.split(',')]\n",
    "\n",
    "\n",
    "test_row = \"['European', 'French', 'International']\"\n",
    "print(\"тест\", get_clean_list_of_cuisines(test_row))"
   ]
  },
  {
   "cell_type": "code",
   "execution_count": 16,
   "metadata": {
    "execution": {
     "iopub.execute_input": "2020-08-12T06:23:21.512111Z",
     "iopub.status.busy": "2020-08-12T06:23:21.511066Z",
     "iopub.status.idle": "2020-08-12T06:23:21.751554Z",
     "shell.execute_reply": "2020-08-12T06:23:21.752126Z"
    },
    "papermill": {
     "duration": 0.262455,
     "end_time": "2020-08-12T06:23:21.752304",
     "exception": false,
     "start_time": "2020-08-12T06:23:21.489849",
     "status": "completed"
    },
    "tags": []
   },
   "outputs": [],
   "source": [
    "df.cuisine = df.cuisine.apply(\n",
    "    get_clean_list_of_cuisines\n",
    ")"
   ]
  },
  {
   "cell_type": "code",
   "execution_count": 17,
   "metadata": {
    "execution": {
     "iopub.execute_input": "2020-08-12T06:23:21.812157Z",
     "iopub.status.busy": "2020-08-12T06:23:21.801773Z",
     "iopub.status.idle": "2020-08-12T06:23:36.742160Z",
     "shell.execute_reply": "2020-08-12T06:23:36.741348Z"
    },
    "papermill": {
     "duration": 14.973466,
     "end_time": "2020-08-12T06:23:36.742302",
     "exception": false,
     "start_time": "2020-08-12T06:23:21.768836",
     "status": "completed"
    },
    "tags": []
   },
   "outputs": [],
   "source": [
    "stacked_cuisines = df.cuisine.apply(pd.Series).stack()"
   ]
  },
  {
   "cell_type": "code",
   "execution_count": 18,
   "metadata": {
    "execution": {
     "iopub.execute_input": "2020-08-12T06:23:36.828663Z",
     "iopub.status.busy": "2020-08-12T06:23:36.825188Z",
     "iopub.status.idle": "2020-08-12T06:23:36.833159Z",
     "shell.execute_reply": "2020-08-12T06:23:36.832536Z"
    },
    "papermill": {
     "duration": 0.074453,
     "end_time": "2020-08-12T06:23:36.833298",
     "exception": false,
     "start_time": "2020-08-12T06:23:36.758845",
     "status": "completed"
    },
    "tags": []
   },
   "outputs": [
    {
     "data": {
      "text/plain": [
       "Vegetarian Friendly    14021\n",
       "European               12561\n",
       "Other                  11590\n",
       "Mediterranean           7820\n",
       "Italian                 7433\n",
       "Vegan Options           5684\n",
       "Gluten Free Options     5185\n",
       "Bar                     4094\n",
       "French                  3970\n",
       "Asian                   3786\n",
       "dtype: int64"
      ]
     },
     "execution_count": 18,
     "metadata": {},
     "output_type": "execute_result"
    }
   ],
   "source": [
    "stacked_cuisines.value_counts()[:10]"
   ]
  },
  {
   "cell_type": "markdown",
   "metadata": {
    "papermill": {
     "duration": 0.016425,
     "end_time": "2020-08-12T06:23:36.866551",
     "exception": false,
     "start_time": "2020-08-12T06:23:36.850126",
     "status": "completed"
    },
    "tags": []
   },
   "source": [
    "Итого у нас есть 126 видов кухонь, включая na значение, которые мы заменили на Other  \n",
    "Самое распространенное меню - вегетарианское"
   ]
  },
  {
   "cell_type": "code",
   "execution_count": 19,
   "metadata": {
    "execution": {
     "iopub.execute_input": "2020-08-12T06:23:36.947513Z",
     "iopub.status.busy": "2020-08-12T06:23:36.945912Z",
     "iopub.status.idle": "2020-08-12T06:23:37.225253Z",
     "shell.execute_reply": "2020-08-12T06:23:37.225859Z"
    },
    "papermill": {
     "duration": 0.341488,
     "end_time": "2020-08-12T06:23:37.226027",
     "exception": false,
     "start_time": "2020-08-12T06:23:36.884539",
     "status": "completed"
    },
    "tags": []
   },
   "outputs": [
    {
     "name": "stdout",
     "output_type": "stream",
     "text": [
      "Vegetarian Friendly 4.130708731790151\n",
      "European 4.048210735586481\n",
      "Other 3.9465151351933643\n",
      "Mediterranean 4.071530986139876\n",
      "Italian 4.028923541247485\n",
      "Vegan Options 4.2225813642443155\n",
      "Gluten Free Options 4.1893994651106246\n",
      "Bar 3.9525326053988477\n",
      "French 4.0227272727272725\n",
      "Asian 3.982896047824643\n"
     ]
    }
   ],
   "source": [
    "for cuis in stacked_cuisines.value_counts().index[:10]:\n",
    "    mask = df.cuisine.apply(lambda x: cuis in x)\n",
    "    print(cuis, df.loc[mask & df['sample'] == 1].rating.mean())"
   ]
  },
  {
   "cell_type": "markdown",
   "metadata": {
    "papermill": {
     "duration": 0.016079,
     "end_time": "2020-08-12T06:23:37.258842",
     "exception": false,
     "start_time": "2020-08-12T06:23:37.242763",
     "status": "completed"
    },
    "tags": []
   },
   "source": [
    "Различия среднего по видам кухни есть, но я бы не сказал что уж очень сильное, и скорее это шум.  \n",
    "Сделаем также dummy колонки по видам кухонь"
   ]
  },
  {
   "cell_type": "code",
   "execution_count": 20,
   "metadata": {
    "execution": {
     "iopub.execute_input": "2020-08-12T06:23:37.302284Z",
     "iopub.status.busy": "2020-08-12T06:23:37.301473Z",
     "iopub.status.idle": "2020-08-12T06:23:37.786969Z",
     "shell.execute_reply": "2020-08-12T06:23:37.785937Z"
    },
    "papermill": {
     "duration": 0.511622,
     "end_time": "2020-08-12T06:23:37.787193",
     "exception": false,
     "start_time": "2020-08-12T06:23:37.275571",
     "status": "completed"
    },
    "tags": []
   },
   "outputs": [],
   "source": [
    "cuisine_dummy = pd.get_dummies(stacked_cuisines, prefix=\"cuisine_\").sum(level=0)"
   ]
  },
  {
   "cell_type": "markdown",
   "metadata": {
    "papermill": {
     "duration": 0.016643,
     "end_time": "2020-08-12T06:23:37.825288",
     "exception": false,
     "start_time": "2020-08-12T06:23:37.808645",
     "status": "completed"
    },
    "tags": []
   },
   "source": [
    "## ranking"
   ]
  },
  {
   "cell_type": "code",
   "execution_count": 21,
   "metadata": {
    "execution": {
     "iopub.execute_input": "2020-08-12T06:23:37.872136Z",
     "iopub.status.busy": "2020-08-12T06:23:37.864949Z",
     "iopub.status.idle": "2020-08-12T06:23:38.253860Z",
     "shell.execute_reply": "2020-08-12T06:23:38.253040Z"
    },
    "papermill": {
     "duration": 0.411877,
     "end_time": "2020-08-12T06:23:38.253996",
     "exception": false,
     "start_time": "2020-08-12T06:23:37.842119",
     "status": "completed"
    },
    "tags": []
   },
   "outputs": [
    {
     "data": {
      "image/png": "[encoded data removed]",
      "text/plain": [
       "<Figure size 720x504 with 1 Axes>"
      ]
     },
     "metadata": {
      "needs_background": "light"
     },
     "output_type": "display_data"
    }
   ],
   "source": [
    "plt.rcParams['figure.figsize'] = (10,7)\n",
    "df_train['Ranking'].hist(bins=100);"
   ]
  },
  {
   "cell_type": "code",
   "execution_count": 22,
   "metadata": {
    "execution": {
     "iopub.execute_input": "2020-08-12T06:23:38.312822Z",
     "iopub.status.busy": "2020-08-12T06:23:38.299911Z",
     "iopub.status.idle": "2020-08-12T06:23:40.601469Z",
     "shell.execute_reply": "2020-08-12T06:23:40.600708Z"
    },
    "papermill": {
     "duration": 2.330556,
     "end_time": "2020-08-12T06:23:40.601597",
     "exception": false,
     "start_time": "2020-08-12T06:23:38.271041",
     "status": "completed"
    },
    "tags": []
   },
   "outputs": [
    {
     "data": {
      "image/png": "[encoded data removed]",
      "text/plain": [
       "<Figure size 720x504 with 1 Axes>"
      ]
     },
     "metadata": {
      "needs_background": "light"
     },
     "output_type": "display_data"
    }
   ],
   "source": [
    "# посмотрим на топ 10 городов\n",
    "for x in (df_train['City'].value_counts())[0:10].index:\n",
    "    df_train['Ranking'][df_train['City'] == x].hist(bins=100)\n",
    "plt.show()"
   ]
  },
  {
   "cell_type": "markdown",
   "metadata": {
    "papermill": {
     "duration": 0.017073,
     "end_time": "2020-08-12T06:23:40.636600",
     "exception": false,
     "start_time": "2020-08-12T06:23:40.619527",
     "status": "completed"
    },
    "tags": []
   },
   "source": [
    "Чем больше в городе ресторанов, тем больше значений ranking в нем.  \n",
    "Сделаем нормализацию признака внутри каждого города"
   ]
  },
  {
   "cell_type": "code",
   "execution_count": 23,
   "metadata": {
    "execution": {
     "iopub.execute_input": "2020-08-12T06:23:40.685631Z",
     "iopub.status.busy": "2020-08-12T06:23:40.684804Z",
     "iopub.status.idle": "2020-08-12T06:23:40.820167Z",
     "shell.execute_reply": "2020-08-12T06:23:40.819311Z"
    },
    "papermill": {
     "duration": 0.165862,
     "end_time": "2020-08-12T06:23:40.820301",
     "exception": false,
     "start_time": "2020-08-12T06:23:40.654439",
     "status": "completed"
    },
    "tags": []
   },
   "outputs": [],
   "source": [
    "group_by_city_scalers = {}\n",
    "scaled_ranking_rows = []\n",
    "for name, rows in df.groupby('city').ranking:\n",
    "    city_scaler = MinMaxScaler()\n",
    "    scaled_rows = city_scaler.fit_transform(pd.DataFrame(rows))\n",
    "    scaled_ranking_rows.append(\n",
    "        pd.DataFrame(scaled_rows, index=rows.index)\n",
    "    )\n",
    "    group_by_city_scalers[name] = city_scaler\n",
    "df['ranking_skaled_by_city'] = pd.concat(scaled_ranking_rows, axis=0)"
   ]
  },
  {
   "cell_type": "markdown",
   "metadata": {
    "papermill": {
     "duration": 0.01729,
     "end_time": "2020-08-12T06:23:40.855283",
     "exception": false,
     "start_time": "2020-08-12T06:23:40.837993",
     "status": "completed"
    },
    "tags": []
   },
   "source": [
    "## price_range"
   ]
  },
  {
   "cell_type": "code",
   "execution_count": 24,
   "metadata": {
    "execution": {
     "iopub.execute_input": "2020-08-12T06:23:40.903770Z",
     "iopub.status.busy": "2020-08-12T06:23:40.901841Z",
     "iopub.status.idle": "2020-08-12T06:23:40.938209Z",
     "shell.execute_reply": "2020-08-12T06:23:40.937487Z"
    },
    "papermill": {
     "duration": 0.065005,
     "end_time": "2020-08-12T06:23:40.938360",
     "exception": false,
     "start_time": "2020-08-12T06:23:40.873355",
     "status": "completed"
    },
    "tags": []
   },
   "outputs": [],
   "source": [
    "price_values = {'$': 0, '$$ - $$$': 1, '$$$$': 2}\n",
    "df.price_range = df.price_range.replace(price_values)"
   ]
  },
  {
   "cell_type": "code",
   "execution_count": 25,
   "metadata": {
    "execution": {
     "iopub.execute_input": "2020-08-12T06:23:40.981005Z",
     "iopub.status.busy": "2020-08-12T06:23:40.980207Z",
     "iopub.status.idle": "2020-08-12T06:23:41.142149Z",
     "shell.execute_reply": "2020-08-12T06:23:41.141486Z"
    },
    "papermill": {
     "duration": 0.186315,
     "end_time": "2020-08-12T06:23:41.142278",
     "exception": false,
     "start_time": "2020-08-12T06:23:40.955963",
     "status": "completed"
    },
    "tags": []
   },
   "outputs": [
    {
     "data": {
      "image/png": "[encoded data removed]",
      "text/plain": [
       "<Figure size 720x504 with 1 Axes>"
      ]
     },
     "metadata": {
      "needs_background": "light"
     },
     "output_type": "display_data"
    }
   ],
   "source": [
    "df['price_range_is_na'] = df.price_range.isna().astype(int)\n",
    "df.price_range.fillna(df.price_range.median(), inplace=True)\n",
    "sns.countplot(df.price_range);"
   ]
  },
  {
   "cell_type": "markdown",
   "metadata": {
    "papermill": {
     "duration": 0.017388,
     "end_time": "2020-08-12T06:23:41.178880",
     "exception": false,
     "start_time": "2020-08-12T06:23:41.161492",
     "status": "completed"
    },
    "tags": []
   },
   "source": [
    "По этому признаку - он порядковый. заменим пропуски на среднее значение - 1  \n",
    "и добавим признак - price_range_is_na"
   ]
  },
  {
   "cell_type": "markdown",
   "metadata": {
    "papermill": {
     "duration": 0.017711,
     "end_time": "2020-08-12T06:23:41.214426",
     "exception": false,
     "start_time": "2020-08-12T06:23:41.196715",
     "status": "completed"
    },
    "tags": []
   },
   "source": [
    "## num_reviews"
   ]
  },
  {
   "cell_type": "code",
   "execution_count": 26,
   "metadata": {
    "execution": {
     "iopub.execute_input": "2020-08-12T06:23:41.258368Z",
     "iopub.status.busy": "2020-08-12T06:23:41.257370Z",
     "iopub.status.idle": "2020-08-12T06:23:41.262168Z",
     "shell.execute_reply": "2020-08-12T06:23:41.261421Z"
    },
    "papermill": {
     "duration": 0.030135,
     "end_time": "2020-08-12T06:23:41.262301",
     "exception": false,
     "start_time": "2020-08-12T06:23:41.232166",
     "status": "completed"
    },
    "tags": []
   },
   "outputs": [],
   "source": [
    "df['num_reviews_is_na'] = pd.isna(df['num_reviews']).astype('uint8')\n",
    "df.num_reviews.fillna(0, inplace=True)"
   ]
  },
  {
   "cell_type": "markdown",
   "metadata": {
    "papermill": {
     "duration": 0.017438,
     "end_time": "2020-08-12T06:23:41.297738",
     "exception": false,
     "start_time": "2020-08-12T06:23:41.280300",
     "status": "completed"
    },
    "tags": []
   },
   "source": [
    "Просто заполним пропуски 0, и вынесим пропуски в отдельный признак"
   ]
  },
  {
   "cell_type": "markdown",
   "metadata": {
    "papermill": {
     "duration": 0.071057,
     "end_time": "2020-08-12T06:23:41.386694",
     "exception": false,
     "start_time": "2020-08-12T06:23:41.315637",
     "status": "completed"
    },
    "tags": []
   },
   "source": [
    "## reviews"
   ]
  },
  {
   "cell_type": "code",
   "execution_count": 27,
   "metadata": {
    "execution": {
     "iopub.execute_input": "2020-08-12T06:23:41.428368Z",
     "iopub.status.busy": "2020-08-12T06:23:41.427352Z",
     "iopub.status.idle": "2020-08-12T06:23:41.434029Z",
     "shell.execute_reply": "2020-08-12T06:23:41.433251Z"
    },
    "papermill": {
     "duration": 0.029596,
     "end_time": "2020-08-12T06:23:41.434162",
     "exception": false,
     "start_time": "2020-08-12T06:23:41.404566",
     "status": "completed"
    },
    "tags": []
   },
   "outputs": [
    {
     "data": {
      "text/plain": [
       "\"[['Good food at your doorstep', 'A good hotel restaurant'], ['12/31/2017', '11/20/2017']]\""
      ]
     },
     "execution_count": 27,
     "metadata": {},
     "output_type": "execute_result"
    }
   ],
   "source": [
    "df.loc[0, 'reviews']"
   ]
  },
  {
   "cell_type": "markdown",
   "metadata": {
    "papermill": {
     "duration": 0.017771,
     "end_time": "2020-08-12T06:23:41.470132",
     "exception": false,
     "start_time": "2020-08-12T06:23:41.452361",
     "status": "completed"
    },
    "tags": []
   },
   "source": [
    "Колонка содержим 2 отзывы и 2 даты  \n",
    "Сделаем поиск ключевых плохих слов отдельными признаками, но сначала немножко преобразуем признак"
   ]
  },
  {
   "cell_type": "code",
   "execution_count": 28,
   "metadata": {
    "execution": {
     "iopub.execute_input": "2020-08-12T06:23:41.526724Z",
     "iopub.status.busy": "2020-08-12T06:23:41.517706Z",
     "iopub.status.idle": "2020-08-12T06:23:41.567719Z",
     "shell.execute_reply": "2020-08-12T06:23:41.567035Z"
    },
    "papermill": {
     "duration": 0.079743,
     "end_time": "2020-08-12T06:23:41.567871",
     "exception": false,
     "start_time": "2020-08-12T06:23:41.488128",
     "status": "completed"
    },
    "tags": []
   },
   "outputs": [],
   "source": [
    "df['reviews'] = df.reviews.str.lower()\n",
    "df['reviews'].fillna('', inplace=True)"
   ]
  },
  {
   "cell_type": "code",
   "execution_count": 29,
   "metadata": {
    "execution": {
     "iopub.execute_input": "2020-08-12T06:23:41.612938Z",
     "iopub.status.busy": "2020-08-12T06:23:41.611975Z",
     "iopub.status.idle": "2020-08-12T06:23:41.615213Z",
     "shell.execute_reply": "2020-08-12T06:23:41.614492Z"
    },
    "papermill": {
     "duration": 0.029106,
     "end_time": "2020-08-12T06:23:41.615340",
     "exception": false,
     "start_time": "2020-08-12T06:23:41.586234",
     "status": "completed"
    },
    "tags": []
   },
   "outputs": [],
   "source": [
    "def get_reviews(entry_node):\n",
    "    if entry_node is np.nan:\n",
    "        return entry_node\n",
    "    entry_node = entry_node[1:-1]\n",
    "    return [x.strip().replace('[','').replace(']','').replace(\"'\",\"\").split(',') for x in entry_node.split('],')]"
   ]
  },
  {
   "cell_type": "code",
   "execution_count": 30,
   "metadata": {
    "execution": {
     "iopub.execute_input": "2020-08-12T06:23:41.659077Z",
     "iopub.status.busy": "2020-08-12T06:23:41.657978Z",
     "iopub.status.idle": "2020-08-12T06:23:41.661798Z",
     "shell.execute_reply": "2020-08-12T06:23:41.661069Z"
    },
    "papermill": {
     "duration": 0.02814,
     "end_time": "2020-08-12T06:23:41.661945",
     "exception": false,
     "start_time": "2020-08-12T06:23:41.633805",
     "status": "completed"
    },
    "tags": []
   },
   "outputs": [],
   "source": [
    "word_good_markers = ['great','excelent', 'best', 'delicious']\n",
    "word_bad_markers = ['poor','worse','weird', 'disappointing', 'annoying', 'don\\'t']"
   ]
  },
  {
   "cell_type": "code",
   "execution_count": 31,
   "metadata": {
    "execution": {
     "iopub.execute_input": "2020-08-12T06:23:41.723321Z",
     "iopub.status.busy": "2020-08-12T06:23:41.713505Z",
     "iopub.status.idle": "2020-08-12T06:23:42.031626Z",
     "shell.execute_reply": "2020-08-12T06:23:42.030876Z"
    },
    "papermill": {
     "duration": 0.34944,
     "end_time": "2020-08-12T06:23:42.031764",
     "exception": false,
     "start_time": "2020-08-12T06:23:41.682324",
     "status": "completed"
    },
    "tags": []
   },
   "outputs": [],
   "source": [
    "df['good_words'] = df.reviews.str.count('|'.join(word_good_markers))\n",
    "df['bad_words'] = df.reviews.str.count('|'.join(word_bad_markers))"
   ]
  },
  {
   "cell_type": "code",
   "execution_count": 32,
   "metadata": {
    "execution": {
     "iopub.execute_input": "2020-08-12T06:23:42.078308Z",
     "iopub.status.busy": "2020-08-12T06:23:42.077523Z",
     "iopub.status.idle": "2020-08-12T06:23:42.394251Z",
     "shell.execute_reply": "2020-08-12T06:23:42.393494Z"
    },
    "papermill": {
     "duration": 0.343265,
     "end_time": "2020-08-12T06:23:42.394377",
     "exception": false,
     "start_time": "2020-08-12T06:23:42.051112",
     "status": "completed"
    },
    "tags": []
   },
   "outputs": [
    {
     "data": {
      "image/png": "[encoded data removed]",
      "text/plain": [
       "<Figure size 720x504 with 1 Axes>"
      ]
     },
     "metadata": {
      "needs_background": "light"
     },
     "output_type": "display_data"
    }
   ],
   "source": [
    "sns.scatterplot(data=df[df['sample'] == 1], x='rating', y='good_words');"
   ]
  },
  {
   "cell_type": "code",
   "execution_count": 33,
   "metadata": {
    "execution": {
     "iopub.execute_input": "2020-08-12T06:23:42.438786Z",
     "iopub.status.busy": "2020-08-12T06:23:42.437974Z",
     "iopub.status.idle": "2020-08-12T06:23:42.744248Z",
     "shell.execute_reply": "2020-08-12T06:23:42.744855Z"
    },
    "papermill": {
     "duration": 0.331933,
     "end_time": "2020-08-12T06:23:42.745043",
     "exception": false,
     "start_time": "2020-08-12T06:23:42.413110",
     "status": "completed"
    },
    "tags": []
   },
   "outputs": [
    {
     "data": {
      "image/png": "[encoded data removed]",
      "text/plain": [
       "<Figure size 720x504 with 1 Axes>"
      ]
     },
     "metadata": {
      "needs_background": "light"
     },
     "output_type": "display_data"
    }
   ],
   "source": [
    "sns.scatterplot(data=df[df['sample'] == 1], x='rating', y='bad_words');"
   ]
  },
  {
   "cell_type": "markdown",
   "metadata": {
    "papermill": {
     "duration": 0.018347,
     "end_time": "2020-08-12T06:23:42.783275",
     "exception": false,
     "start_time": "2020-08-12T06:23:42.764928",
     "status": "completed"
    },
    "tags": []
   },
   "source": [
    "# Моделирование"
   ]
  },
  {
   "cell_type": "markdown",
   "metadata": {
    "papermill": {
     "duration": 0.018558,
     "end_time": "2020-08-12T06:23:42.820699",
     "exception": false,
     "start_time": "2020-08-12T06:23:42.802141",
     "status": "completed"
    },
    "tags": []
   },
   "source": [
    "## Собираем dataset"
   ]
  },
  {
   "cell_type": "code",
   "execution_count": 34,
   "metadata": {
    "execution": {
     "iopub.execute_input": "2020-08-12T06:23:42.880381Z",
     "iopub.status.busy": "2020-08-12T06:23:42.879221Z",
     "iopub.status.idle": "2020-08-12T06:23:43.298753Z",
     "shell.execute_reply": "2020-08-12T06:23:43.299364Z"
    },
    "papermill": {
     "duration": 0.455479,
     "end_time": "2020-08-12T06:23:43.299564",
     "exception": false,
     "start_time": "2020-08-12T06:23:42.844085",
     "status": "completed"
    },
    "tags": []
   },
   "outputs": [
    {
     "ename": "NameError",
     "evalue": "name 'X' is not defined",
     "output_type": "error",
     "traceback": [
      "\u001b[0;31m---------------------------------------------------------------------------\u001b[0m",
      "\u001b[0;31mNameError\u001b[0m                                 Traceback (most recent call last)",
      "\u001b[0;32m<ipython-input-34-79caffe717af>\u001b[0m in \u001b[0;36m<module>\u001b[0;34m\u001b[0m\n\u001b[1;32m      5\u001b[0m         \u001b[0mdf\u001b[0m\u001b[0;34m[\u001b[0m\u001b[0;34m[\u001b[0m\u001b[0;34m'ranking_skaled_by_city'\u001b[0m\u001b[0;34m,\u001b[0m \u001b[0;34m'price_range'\u001b[0m\u001b[0;34m,\u001b[0m \u001b[0;34m'price_range_is_na'\u001b[0m\u001b[0;34m,\u001b[0m \u001b[0;34m'num_reviews'\u001b[0m\u001b[0;34m,\u001b[0m \u001b[0;34m'num_reviews_is_na'\u001b[0m\u001b[0;34m,\u001b[0m \u001b[0;34m'good_words'\u001b[0m\u001b[0;34m,\u001b[0m\u001b[0;34m'bad_words'\u001b[0m\u001b[0;34m,\u001b[0m \u001b[0;34m'sample'\u001b[0m\u001b[0;34m,\u001b[0m \u001b[0;34m'rating'\u001b[0m\u001b[0;34m]\u001b[0m\u001b[0;34m]\u001b[0m\u001b[0;34m\u001b[0m\u001b[0;34m\u001b[0m\u001b[0m\n\u001b[1;32m      6\u001b[0m ], axis=1)\n\u001b[0;32m----> 7\u001b[0;31m \u001b[0mX\u001b[0m\u001b[0;34m.\u001b[0m\u001b[0mshape\u001b[0m\u001b[0;34m\u001b[0m\u001b[0;34m\u001b[0m\u001b[0m\n\u001b[0m",
      "\u001b[0;31mNameError\u001b[0m: name 'X' is not defined"
     ]
    }
   ],
   "source": [
    "united_df = pd.concat([\n",
    "        rest_id_dummy,\n",
    "        city_dummies,\n",
    "        cuisine_dummy,\n",
    "        df[['ranking_skaled_by_city', 'price_range', 'price_range_is_na', 'num_reviews', 'num_reviews_is_na', 'good_words','bad_words', 'sample', 'rating']]        \n",
    "], axis=1)\n",
    "X.shape"
   ]
  },
  {
   "cell_type": "markdown",
   "metadata": {
    "papermill": {
     "duration": 0.018736,
     "end_time": "2020-08-12T06:23:43.337468",
     "exception": false,
     "start_time": "2020-08-12T06:23:43.318732",
     "status": "completed"
    },
    "tags": []
   },
   "source": [
    "## Учебное моделирование"
   ]
  },
  {
   "cell_type": "code",
   "execution_count": 35,
   "metadata": {
    "execution": {
     "iopub.execute_input": "2020-08-12T06:23:43.388732Z",
     "iopub.status.busy": "2020-08-12T06:23:43.387945Z",
     "iopub.status.idle": "2020-08-12T06:37:32.205115Z",
     "shell.execute_reply": "2020-08-12T06:37:32.205961Z"
    },
    "papermill": {
     "duration": 828.849721,
     "end_time": "2020-08-12T06:37:32.206215",
     "exception": false,
     "start_time": "2020-08-12T06:23:43.356494",
     "status": "completed"
    },
    "tags": []
   },
   "outputs": [
    {
     "name": "stdout",
     "output_type": "stream",
     "text": [
      "MAE: 0.196433\n"
     ]
    }
   ],
   "source": [
    "X = united_df[united_df['sample'] == 1].drop(['rating','sample'], axis=1)\n",
    "y = united_df[united_df['sample'] == 1].rating\n",
    "\n",
    "X_train, X_test, y_train, y_test = train_test_split(X, y, test_size=0.25, random_state=RANDOM_SEED)\n",
    "\n",
    "# Создаём модель\n",
    "regr = RandomForestRegressor(n_estimators=100, random_state=RANDOM_SEED)\n",
    "\n",
    "# Обучаем модель на тестовом наборе данных\n",
    "regr.fit(X_train, y_train)\n",
    "\n",
    "# Используем обученную модель для предсказания рейтинга ресторанов в тестовой выборке.\n",
    "# Предсказанные значения записываем в переменную y_pred\n",
    "y_pred = regr.predict(X_test)\n",
    "\n",
    "print('MAE:', metrics.mean_absolute_error(y_test, y_pred))"
   ]
  },
  {
   "cell_type": "code",
   "execution_count": 36,
   "metadata": {
    "execution": {
     "iopub.execute_input": "2020-08-12T06:37:32.252600Z",
     "iopub.status.busy": "2020-08-12T06:37:32.251846Z",
     "iopub.status.idle": "2020-08-12T06:37:32.547762Z",
     "shell.execute_reply": "2020-08-12T06:37:32.547064Z"
    },
    "papermill": {
     "duration": 0.321791,
     "end_time": "2020-08-12T06:37:32.547903",
     "exception": false,
     "start_time": "2020-08-12T06:37:32.226112",
     "status": "completed"
    },
    "tags": []
   },
   "outputs": [
    {
     "data": {
      "text/plain": [
       "<matplotlib.axes._subplots.AxesSubplot at 0x7f9db1106e10>"
      ]
     },
     "execution_count": 36,
     "metadata": {},
     "output_type": "execute_result"
    },
    {
     "data": {
      "image/png": "[encoded data removed]",
      "text/plain": [
       "<Figure size 720x720 with 1 Axes>"
      ]
     },
     "metadata": {
      "needs_background": "light"
     },
     "output_type": "display_data"
    }
   ],
   "source": [
    "plt.rcParams['figure.figsize'] = (10,10)\n",
    "feat_importances = pd.Series(regr.feature_importances_, index=X_train.columns)\n",
    "feat_importances.nlargest(15).plot(kind='barh')"
   ]
  },
  {
   "cell_type": "markdown",
   "metadata": {
    "papermill": {
     "duration": 0.019495,
     "end_time": "2020-08-12T06:37:32.588253",
     "exception": false,
     "start_time": "2020-08-12T06:37:32.568758",
     "status": "completed"
    },
    "tags": []
   },
   "source": [
    "## Самбит"
   ]
  },
  {
   "cell_type": "code",
   "execution_count": 37,
   "metadata": {
    "execution": {
     "iopub.execute_input": "2020-08-12T06:37:32.635499Z",
     "iopub.status.busy": "2020-08-12T06:37:32.634722Z",
     "iopub.status.idle": "2020-08-12T06:56:13.945232Z",
     "shell.execute_reply": "2020-08-12T06:56:13.945854Z"
    },
    "papermill": {
     "duration": 1121.337958,
     "end_time": "2020-08-12T06:56:13.946087",
     "exception": false,
     "start_time": "2020-08-12T06:37:32.608129",
     "status": "completed"
    },
    "tags": []
   },
   "outputs": [
    {
     "data": {
      "text/plain": [
       "RandomForestRegressor(random_state=13)"
      ]
     },
     "execution_count": 37,
     "metadata": {},
     "output_type": "execute_result"
    }
   ],
   "source": [
    "X = united_df[united_df['sample'] == 1].drop(['rating','sample'], axis=1)\n",
    "y = united_df[united_df['sample'] == 1].rating\n",
    "regr.fit(X, y)"
   ]
  },
  {
   "cell_type": "code",
   "execution_count": 38,
   "metadata": {
    "execution": {
     "iopub.execute_input": "2020-08-12T06:56:13.994251Z",
     "iopub.status.busy": "2020-08-12T06:56:13.993105Z",
     "iopub.status.idle": "2020-08-12T06:56:15.864537Z",
     "shell.execute_reply": "2020-08-12T06:56:15.863862Z"
    },
    "papermill": {
     "duration": 1.898495,
     "end_time": "2020-08-12T06:56:15.864687",
     "exception": false,
     "start_time": "2020-08-12T06:56:13.966192",
     "status": "completed"
    },
    "tags": []
   },
   "outputs": [],
   "source": [
    "X = united_df[united_df['sample'] == 0].drop(['rating','sample'], axis=1)\n",
    "sample_submission['Rating'] = regr.predict(X)\n",
    "sample_submission.to_csv('submission.csv', index=False)"
   ]
  }
 ],
 "metadata": {
  "kernelspec": {
   "display_name": "Python 3",
   "language": "python",
   "name": "python3"
  },
  "language_info": {
   "codemirror_mode": {
    "name": "ipython",
    "version": 3
   },
   "file_extension": ".py",
   "mimetype": "text/x-python",
   "name": "python",
   "nbconvert_exporter": "python",
   "pygments_lexer": "ipython3",
   "version": "3.7.6"
  },
  "papermill": {
   "duration": 1990.108628,
   "end_time": "2020-08-12T06:56:15.993129",
   "environment_variables": {},
   "exception": null,
   "input_path": "__notebook__.ipynb",
   "output_path": "__notebook__.ipynb",
   "parameters": {},
   "start_time": "2020-08-12T06:23:05.884501",
   "version": "2.1.0"
  },
  "toc": {
   "base_numbering": 1,
   "nav_menu": {},
   "number_sections": true,
   "sideBar": true,
   "skip_h1_title": false,
   "title_cell": "Table of Contents",
   "title_sidebar": "Contents",
   "toc_cell": false,
   "toc_position": {},
   "toc_section_display": true,
   "toc_window_display": false
  },
  "varInspector": {
   "cols": {
    "lenName": 16,
    "lenType": 16,
    "lenVar": 40
   },
   "kernels_config": {
    "python": {
     "delete_cmd_postfix": "",
     "delete_cmd_prefix": "del ",
     "library": "var_list.py",
     "varRefreshCmd": "print(var_dic_list())"
    },
    "r": {
     "delete_cmd_postfix": ") ",
     "delete_cmd_prefix": "rm(",
     "library": "var_list.r",
     "varRefreshCmd": "cat(var_dic_list()) "
    }
   },
   "types_to_exclude": [
    "module",
    "function",
    "builtin_function_or_method",
    "instance",
    "_Feature"
   ],
   "window_display": false
  }
 },
 "nbformat": 4,
 "nbformat_minor": 4
}
