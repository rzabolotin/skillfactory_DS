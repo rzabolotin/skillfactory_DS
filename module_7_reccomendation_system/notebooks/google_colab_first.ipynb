{
  "nbformat": 4,
  "nbformat_minor": 0,
  "metadata": {
    "kernelspec": {
      "display_name": "Python 3",
      "language": "python",
      "name": "python3"
    },
    "language_info": {
      "codemirror_mode": {
        "name": "ipython",
        "version": 3
      },
      "file_extension": ".py",
      "mimetype": "text/x-python",
      "name": "python",
      "nbconvert_exporter": "python",
      "pygments_lexer": "ipython3",
      "version": "3.8.5"
    },
    "toc": {
      "base_numbering": 1,
      "nav_menu": {},
      "number_sections": true,
      "sideBar": true,
      "skip_h1_title": false,
      "title_cell": "Table of Contents",
      "title_sidebar": "Contents",
      "toc_cell": false,
      "toc_position": {},
      "toc_section_display": true,
      "toc_window_display": false
    },
    "varInspector": {
      "cols": {
        "lenName": 16,
        "lenType": 16,
        "lenVar": 40
      },
      "kernels_config": {
        "python": {
          "delete_cmd_postfix": "",
          "delete_cmd_prefix": "del ",
          "library": "var_list.py",
          "varRefreshCmd": "print(var_dic_list())"
        },
        "r": {
          "delete_cmd_postfix": ") ",
          "delete_cmd_prefix": "rm(",
          "library": "var_list.r",
          "varRefreshCmd": "cat(var_dic_list()) "
        }
      },
      "types_to_exclude": [
        "module",
        "function",
        "builtin_function_or_method",
        "instance",
        "_Feature"
      ],
      "window_display": false
    },
    "colab": {
      "name": "google_colab_first.ipynb",
      "provenance": [],
      "collapsed_sections": []
    }
  },
  "cells": [
    {
      "cell_type": "markdown",
      "metadata": {
        "id": "DyNMcwq31rhk"
      },
      "source": [
        "# Stating work on project\n",
        "\n",
        "##First part. \n",
        "\n",
        "Repeating work, shown in teacher's part"
      ]
    },
    {
      "cell_type": "code",
      "metadata": {
        "colab": {
          "base_uri": "https://localhost:8080/"
        },
        "id": "t0edHhfy1m7f",
        "outputId": "b2bcf6fd-794c-4042-ad3b-cb191f7c3173"
      },
      "source": [
        "!pip install lightfm nmslib"
      ],
      "execution_count": 1,
      "outputs": [
        {
          "output_type": "stream",
          "text": [
            "Collecting lightfm\n",
            "\u001b[?25l  Downloading https://files.pythonhosted.org/packages/5e/fe/8864d723daa8e5afc74080ce510c30f7ad52facf6a157d4b42dec83dfab4/lightfm-1.16.tar.gz (310kB)\n",
            "\u001b[K     |████████████████████████████████| 317kB 5.2MB/s \n",
            "\u001b[?25hCollecting nmslib\n",
            "\u001b[?25l  Downloading https://files.pythonhosted.org/packages/be/77/aebbd03a32488024d2ae2230b47a28f6fa83c887318e673fa5d3234f7772/nmslib-2.1.1-cp37-cp37m-manylinux2010_x86_64.whl (13.5MB)\n",
            "\u001b[K     |████████████████████████████████| 13.5MB 217kB/s \n",
            "\u001b[?25hRequirement already satisfied: numpy in /usr/local/lib/python3.7/dist-packages (from lightfm) (1.19.5)\n",
            "Requirement already satisfied: scipy>=0.17.0 in /usr/local/lib/python3.7/dist-packages (from lightfm) (1.4.1)\n",
            "Requirement already satisfied: requests in /usr/local/lib/python3.7/dist-packages (from lightfm) (2.23.0)\n",
            "Requirement already satisfied: scikit-learn in /usr/local/lib/python3.7/dist-packages (from lightfm) (0.22.2.post1)\n",
            "Requirement already satisfied: psutil in /usr/local/lib/python3.7/dist-packages (from nmslib) (5.4.8)\n",
            "Collecting pybind11<2.6.2\n",
            "\u001b[?25l  Downloading https://files.pythonhosted.org/packages/00/84/fc9dc13ee536ba5e6b8fd10ce368fea5b738fe394c3b296cde7c9b144a92/pybind11-2.6.1-py2.py3-none-any.whl (188kB)\n",
            "\u001b[K     |████████████████████████████████| 194kB 39.7MB/s \n",
            "\u001b[?25hRequirement already satisfied: certifi>=2017.4.17 in /usr/local/lib/python3.7/dist-packages (from requests->lightfm) (2021.5.30)\n",
            "Requirement already satisfied: chardet<4,>=3.0.2 in /usr/local/lib/python3.7/dist-packages (from requests->lightfm) (3.0.4)\n",
            "Requirement already satisfied: urllib3!=1.25.0,!=1.25.1,<1.26,>=1.21.1 in /usr/local/lib/python3.7/dist-packages (from requests->lightfm) (1.24.3)\n",
            "Requirement already satisfied: idna<3,>=2.5 in /usr/local/lib/python3.7/dist-packages (from requests->lightfm) (2.10)\n",
            "Requirement already satisfied: joblib>=0.11 in /usr/local/lib/python3.7/dist-packages (from scikit-learn->lightfm) (1.0.1)\n",
            "Building wheels for collected packages: lightfm\n",
            "  Building wheel for lightfm (setup.py) ... \u001b[?25l\u001b[?25hdone\n",
            "  Created wheel for lightfm: filename=lightfm-1.16-cp37-cp37m-linux_x86_64.whl size=706129 sha256=1e8736434237344a488666761c00fec804e40a9dbafb362b583039ee3f0936f0\n",
            "  Stored in directory: /root/.cache/pip/wheels/c6/64/d4/673c7277f71ac4c5ad4835b94708c01b653ef2d3aa78ef20aa\n",
            "Successfully built lightfm\n",
            "Installing collected packages: lightfm, pybind11, nmslib\n",
            "Successfully installed lightfm-1.16 nmslib-2.1.1 pybind11-2.6.1\n"
          ],
          "name": "stdout"
        }
      ]
    },
    {
      "cell_type": "code",
      "metadata": {
        "id": "jyaVg5sh1m7t"
      },
      "source": [
        "import numpy as np\n",
        "import pandas as pd\n",
        "import scipy.sparse as sparse\n",
        "from pathlib import Path\n",
        "import pickle"
      ],
      "execution_count": 40,
      "outputs": []
    },
    {
      "cell_type": "code",
      "metadata": {
        "id": "poz81Aya1m7t"
      },
      "source": [
        "from lightfm import LightFM\n",
        "from lightfm.cross_validation import random_train_test_split\n",
        "from lightfm.evaluation import precision_at_k, recall_at_k"
      ],
      "execution_count": 3,
      "outputs": []
    },
    {
      "cell_type": "markdown",
      "metadata": {
        "id": "RVVlVys52oUL"
      },
      "source": [
        "## Load and clean data"
      ]
    },
    {
      "cell_type": "code",
      "metadata": {
        "id": "bUwBW4HF1m7u"
      },
      "source": [
        "DATA_FOLDER = Path(\"data\")\n",
        "\n",
        "ratings = pd.read_csv(DATA_FOLDER/\"ratings.csv\")\n",
        "books = pd.read_csv(DATA_FOLDER/\"books.csv\")\n",
        "tags = pd.read_csv(DATA_FOLDER/\"tags_cleaned.csv\")\n",
        "book_tags = pd.read_csv(DATA_FOLDER/\"book_tags.csv\")\n"
      ],
      "execution_count": 28,
      "outputs": []
    },
    {
      "cell_type": "code",
      "metadata": {
        "colab": {
          "base_uri": "https://localhost:8080/",
          "height": 203
        },
        "id": "S25hii0_1m7v",
        "outputId": "f8c008f5-a472-40ed-8d3f-ae3ff22a5f12"
      },
      "source": [
        "tags.head()"
      ],
      "execution_count": 29,
      "outputs": [
        {
          "output_type": "execute_result",
          "data": {
            "text/html": [
              "<div>\n",
              "<style scoped>\n",
              "    .dataframe tbody tr th:only-of-type {\n",
              "        vertical-align: middle;\n",
              "    }\n",
              "\n",
              "    .dataframe tbody tr th {\n",
              "        vertical-align: top;\n",
              "    }\n",
              "\n",
              "    .dataframe thead th {\n",
              "        text-align: right;\n",
              "    }\n",
              "</style>\n",
              "<table border=\"1\" class=\"dataframe\">\n",
              "  <thead>\n",
              "    <tr style=\"text-align: right;\">\n",
              "      <th></th>\n",
              "      <th>tag_id</th>\n",
              "      <th>tag_name</th>\n",
              "    </tr>\n",
              "  </thead>\n",
              "  <tbody>\n",
              "    <tr>\n",
              "      <th>0</th>\n",
              "      <td>509</td>\n",
              "      <td>19th-century</td>\n",
              "    </tr>\n",
              "    <tr>\n",
              "      <th>1</th>\n",
              "      <td>923</td>\n",
              "      <td>20th-century</td>\n",
              "    </tr>\n",
              "    <tr>\n",
              "      <th>2</th>\n",
              "      <td>941</td>\n",
              "      <td>21st-century</td>\n",
              "    </tr>\n",
              "    <tr>\n",
              "      <th>3</th>\n",
              "      <td>1499</td>\n",
              "      <td>abuse</td>\n",
              "    </tr>\n",
              "    <tr>\n",
              "      <th>4</th>\n",
              "      <td>1540</td>\n",
              "      <td>action</td>\n",
              "    </tr>\n",
              "  </tbody>\n",
              "</table>\n",
              "</div>"
            ],
            "text/plain": [
              "   tag_id      tag_name\n",
              "0     509  19th-century\n",
              "1     923  20th-century\n",
              "2     941  21st-century\n",
              "3    1499         abuse\n",
              "4    1540        action"
            ]
          },
          "metadata": {
            "tags": []
          },
          "execution_count": 29
        }
      ]
    },
    {
      "cell_type": "code",
      "metadata": {
        "id": "HgtklrTo1m7v"
      },
      "source": [
        "mapper = dict(zip(books.goodreads_book_id,books.book_id))"
      ],
      "execution_count": 30,
      "outputs": []
    },
    {
      "cell_type": "code",
      "metadata": {
        "colab": {
          "base_uri": "https://localhost:8080/",
          "height": 417
        },
        "id": "tmaGiFd21m7w",
        "outputId": "ff8bc039-7b98-4348-9089-e81675ef2fbe"
      },
      "source": [
        "book_tags "
      ],
      "execution_count": 31,
      "outputs": [
        {
          "output_type": "execute_result",
          "data": {
            "text/html": [
              "<div>\n",
              "<style scoped>\n",
              "    .dataframe tbody tr th:only-of-type {\n",
              "        vertical-align: middle;\n",
              "    }\n",
              "\n",
              "    .dataframe tbody tr th {\n",
              "        vertical-align: top;\n",
              "    }\n",
              "\n",
              "    .dataframe thead th {\n",
              "        text-align: right;\n",
              "    }\n",
              "</style>\n",
              "<table border=\"1\" class=\"dataframe\">\n",
              "  <thead>\n",
              "    <tr style=\"text-align: right;\">\n",
              "      <th></th>\n",
              "      <th>goodreads_book_id</th>\n",
              "      <th>tag_id</th>\n",
              "      <th>count</th>\n",
              "    </tr>\n",
              "  </thead>\n",
              "  <tbody>\n",
              "    <tr>\n",
              "      <th>0</th>\n",
              "      <td>1</td>\n",
              "      <td>30574</td>\n",
              "      <td>167697</td>\n",
              "    </tr>\n",
              "    <tr>\n",
              "      <th>1</th>\n",
              "      <td>1</td>\n",
              "      <td>11305</td>\n",
              "      <td>37174</td>\n",
              "    </tr>\n",
              "    <tr>\n",
              "      <th>2</th>\n",
              "      <td>1</td>\n",
              "      <td>11557</td>\n",
              "      <td>34173</td>\n",
              "    </tr>\n",
              "    <tr>\n",
              "      <th>3</th>\n",
              "      <td>1</td>\n",
              "      <td>8717</td>\n",
              "      <td>12986</td>\n",
              "    </tr>\n",
              "    <tr>\n",
              "      <th>4</th>\n",
              "      <td>1</td>\n",
              "      <td>33114</td>\n",
              "      <td>12716</td>\n",
              "    </tr>\n",
              "    <tr>\n",
              "      <th>...</th>\n",
              "      <td>...</td>\n",
              "      <td>...</td>\n",
              "      <td>...</td>\n",
              "    </tr>\n",
              "    <tr>\n",
              "      <th>999907</th>\n",
              "      <td>33288638</td>\n",
              "      <td>21303</td>\n",
              "      <td>7</td>\n",
              "    </tr>\n",
              "    <tr>\n",
              "      <th>999908</th>\n",
              "      <td>33288638</td>\n",
              "      <td>17271</td>\n",
              "      <td>7</td>\n",
              "    </tr>\n",
              "    <tr>\n",
              "      <th>999909</th>\n",
              "      <td>33288638</td>\n",
              "      <td>1126</td>\n",
              "      <td>7</td>\n",
              "    </tr>\n",
              "    <tr>\n",
              "      <th>999910</th>\n",
              "      <td>33288638</td>\n",
              "      <td>11478</td>\n",
              "      <td>7</td>\n",
              "    </tr>\n",
              "    <tr>\n",
              "      <th>999911</th>\n",
              "      <td>33288638</td>\n",
              "      <td>27939</td>\n",
              "      <td>7</td>\n",
              "    </tr>\n",
              "  </tbody>\n",
              "</table>\n",
              "<p>999912 rows × 3 columns</p>\n",
              "</div>"
            ],
            "text/plain": [
              "        goodreads_book_id  tag_id   count\n",
              "0                       1   30574  167697\n",
              "1                       1   11305   37174\n",
              "2                       1   11557   34173\n",
              "3                       1    8717   12986\n",
              "4                       1   33114   12716\n",
              "...                   ...     ...     ...\n",
              "999907           33288638   21303       7\n",
              "999908           33288638   17271       7\n",
              "999909           33288638    1126       7\n",
              "999910           33288638   11478       7\n",
              "999911           33288638   27939       7\n",
              "\n",
              "[999912 rows x 3 columns]"
            ]
          },
          "metadata": {
            "tags": []
          },
          "execution_count": 31
        }
      ]
    },
    {
      "cell_type": "code",
      "metadata": {
        "id": "dpRg8YZa1m7x"
      },
      "source": [
        "book_tags = book_tags[book_tags.tag_id.isin(tags.tag_id)]"
      ],
      "execution_count": 32,
      "outputs": []
    },
    {
      "cell_type": "code",
      "metadata": {
        "colab": {
          "base_uri": "https://localhost:8080/"
        },
        "id": "qQSf8hGb1m7y",
        "outputId": "3656a266-d844-4223-c35a-7b2583bc6eb6"
      },
      "source": [
        "book_tags[\"id\"] = book_tags.goodreads_book_id.apply(lambda book_id: mapper[book_id])"
      ],
      "execution_count": 33,
      "outputs": [
        {
          "output_type": "stream",
          "text": [
            "/usr/local/lib/python3.7/dist-packages/ipykernel_launcher.py:1: SettingWithCopyWarning: \n",
            "A value is trying to be set on a copy of a slice from a DataFrame.\n",
            "Try using .loc[row_indexer,col_indexer] = value instead\n",
            "\n",
            "See the caveats in the documentation: https://pandas.pydata.org/pandas-docs/stable/user_guide/indexing.html#returning-a-view-versus-a-copy\n",
            "  \"\"\"Entry point for launching an IPython kernel.\n"
          ],
          "name": "stderr"
        }
      ]
    },
    {
      "cell_type": "code",
      "metadata": {
        "id": "Hv0SVPE327KK"
      },
      "source": [
        "ratings.dropna(inplace=True)"
      ],
      "execution_count": 34,
      "outputs": []
    },
    {
      "cell_type": "markdown",
      "metadata": {
        "id": "WI-K9DSj3DnC"
      },
      "source": [
        "## Creating sparse matrices"
      ]
    },
    {
      "cell_type": "code",
      "metadata": {
        "id": "ecRHRADE1m7z"
      },
      "source": [
        "ratings_coo = sparse.coo_matrix((ratings.rating, (ratings.user_id, ratings.book_id)))"
      ],
      "execution_count": 35,
      "outputs": []
    },
    {
      "cell_type": "code",
      "metadata": {
        "id": "-9kf-MBc1m7z"
      },
      "source": [
        "book_tags_coo = sparse.coo_matrix(([1]*len(book_tags), (book_tags.id, book_tags.tag_id)))"
      ],
      "execution_count": 36,
      "outputs": []
    },
    {
      "cell_type": "markdown",
      "metadata": {
        "id": "25sA3QG53tMx"
      },
      "source": [
        "# Training model"
      ]
    },
    {
      "cell_type": "code",
      "metadata": {
        "id": "Cy3KG10-1m70"
      },
      "source": [
        "#число потоков нашего процессора\n",
        "NUM_THREADS = 8 \n",
        "\n",
        "#число параметров вектора \n",
        "NUM_COMPONENTS = 30 \n",
        "\n",
        "#число эпох обучения\n",
        "NUM_EPOCHS = 10 "
      ],
      "execution_count": 37,
      "outputs": []
    },
    {
      "cell_type": "code",
      "metadata": {
        "colab": {
          "base_uri": "https://localhost:8080/"
        },
        "id": "9H7C2ZXA1m70",
        "outputId": "6fded020-a08f-4257-e9ee-a22a51979772"
      },
      "source": [
        "#Создаём модель\n",
        "model = LightFM(learning_rate=0.05, loss='warp', no_components=NUM_COMPONENTS)\n",
        " \n",
        "#Разбиваем наш датасет на обучающую и тестовую выборки\n",
        "train,test = random_train_test_split(ratings_coo, test_percentage=0.2, random_state=None)\n",
        "\n",
        "#Обучаем модель\n",
        "model = model.fit(train, epochs=NUM_EPOCHS, num_threads=NUM_THREADS,item_features =book_tags_coo, verbose=True)"
      ],
      "execution_count": 39,
      "outputs": [
        {
          "output_type": "stream",
          "text": [
            "Epoch: 100%|██████████| 10/10 [09:27<00:00, 56.74s/it]\n"
          ],
          "name": "stderr"
        }
      ]
    },
    {
      "cell_type": "code",
      "metadata": {
        "colab": {
          "base_uri": "https://localhost:8080/"
        },
        "id": "-8lMT5mg1m71",
        "outputId": "b4459e91-747e-49b5-be0f-a22aa3b4f46a"
      },
      "source": [
        "#Тестируем нашу модель\n",
        "prec_score = precision_at_k(\n",
        "                     model,\n",
        "                     test,\n",
        "                     num_threads=NUM_THREADS,\n",
        "                     k=10,\n",
        "                     item_features=book_tags_coo).mean()\n",
        " \n",
        "recall_at_k = recall_at_k(model,\n",
        "                     test,\n",
        "                     num_threads=NUM_THREADS,\n",
        "                     k=10,\n",
        "                     item_features=book_tags_coo).mean()\n",
        "\n",
        "print(recall_at_k,prec_score)"
      ],
      "execution_count": 43,
      "outputs": [
        {
          "output_type": "stream",
          "text": [
            "0.041151734593119146 0.07723892\n"
          ],
          "name": "stdout"
        }
      ]
    },
    {
      "cell_type": "code",
      "metadata": {
        "id": "HVTbVDSV1m71"
      },
      "source": [
        "with open(\"lightfm.model\",\"wb\") as f_model:\n",
        "  pickle.dump(model, f_model)"
      ],
      "execution_count": 44,
      "outputs": []
    },
    {
      "cell_type": "markdown",
      "metadata": {
        "id": "REzdMHHp_cWH"
      },
      "source": [
        "# Embadings"
      ]
    },
    {
      "cell_type": "code",
      "metadata": {
        "id": "fVQr2fYb5mej"
      },
      "source": [
        "# Достаём эбмеддинги\n",
        "\n",
        "item_biases, item_embeddings = model.get_item_representations(features=book_tags_coo)"
      ],
      "execution_count": 45,
      "outputs": []
    },
    {
      "cell_type": "code",
      "metadata": {
        "id": "x0iOg1H0_iry"
      },
      "source": [
        "import nmslib\n",
        " \n",
        "#Создаём наш граф для поиска\n",
        "nms_idx = nmslib.init(method='hnsw', space='cosinesimil')\n",
        " \n",
        "#Начинаем добавлять наши книги в граф\n",
        "nms_idx.addDataPointBatch(item_embeddings)\n",
        "nms_idx.createIndex(print_progress=True)"
      ],
      "execution_count": 46,
      "outputs": []
    },
    {
      "cell_type": "code",
      "metadata": {
        "id": "blaVkNyqAbpC"
      },
      "source": [
        "#Вспомогательная функция для поиска по графу\n",
        "def nearest_books_nms(book_id, index, n=10):\n",
        "    nn = index.knnQuery(item_embeddings[book_id], k=n)\n",
        "    return nn"
      ],
      "execution_count": 47,
      "outputs": []
    },
    {
      "cell_type": "code",
      "metadata": {
        "colab": {
          "base_uri": "https://localhost:8080/",
          "height": 151
        },
        "id": "QxMarunCAeQB",
        "outputId": "76f3b56c-1a83-4980-e456-95f04fade954"
      },
      "source": [
        "books[books.original_title.str.find('1984')>=0].head(2)"
      ],
      "execution_count": 48,
      "outputs": [
        {
          "output_type": "execute_result",
          "data": {
            "text/html": [
              "<div>\n",
              "<style scoped>\n",
              "    .dataframe tbody tr th:only-of-type {\n",
              "        vertical-align: middle;\n",
              "    }\n",
              "\n",
              "    .dataframe tbody tr th {\n",
              "        vertical-align: top;\n",
              "    }\n",
              "\n",
              "    .dataframe thead th {\n",
              "        text-align: right;\n",
              "    }\n",
              "</style>\n",
              "<table border=\"1\" class=\"dataframe\">\n",
              "  <thead>\n",
              "    <tr style=\"text-align: right;\">\n",
              "      <th></th>\n",
              "      <th>book_id</th>\n",
              "      <th>goodreads_book_id</th>\n",
              "      <th>best_book_id</th>\n",
              "      <th>work_id</th>\n",
              "      <th>books_count</th>\n",
              "      <th>isbn</th>\n",
              "      <th>isbn13</th>\n",
              "      <th>authors</th>\n",
              "      <th>original_publication_year</th>\n",
              "      <th>original_title</th>\n",
              "      <th>title</th>\n",
              "      <th>language_code</th>\n",
              "      <th>average_rating</th>\n",
              "      <th>ratings_count</th>\n",
              "      <th>work_ratings_count</th>\n",
              "      <th>work_text_reviews_count</th>\n",
              "      <th>ratings_1</th>\n",
              "      <th>ratings_2</th>\n",
              "      <th>ratings_3</th>\n",
              "      <th>ratings_4</th>\n",
              "      <th>ratings_5</th>\n",
              "      <th>image_url</th>\n",
              "      <th>small_image_url</th>\n",
              "    </tr>\n",
              "  </thead>\n",
              "  <tbody>\n",
              "    <tr>\n",
              "      <th>845</th>\n",
              "      <td>846</td>\n",
              "      <td>5472</td>\n",
              "      <td>5472</td>\n",
              "      <td>2966408</td>\n",
              "      <td>51</td>\n",
              "      <td>151010269</td>\n",
              "      <td>9.780151e+12</td>\n",
              "      <td>George Orwell, Christopher Hitchens</td>\n",
              "      <td>1950.0</td>\n",
              "      <td>Animal Farm &amp; 1984</td>\n",
              "      <td>Animal Farm / 1984</td>\n",
              "      <td>eng</td>\n",
              "      <td>4.26</td>\n",
              "      <td>116197</td>\n",
              "      <td>118761</td>\n",
              "      <td>1293</td>\n",
              "      <td>1212</td>\n",
              "      <td>3276</td>\n",
              "      <td>16511</td>\n",
              "      <td>40583</td>\n",
              "      <td>57179</td>\n",
              "      <td>https://images.gr-assets.com/books/1327959366m...</td>\n",
              "      <td>https://images.gr-assets.com/books/1327959366s...</td>\n",
              "    </tr>\n",
              "  </tbody>\n",
              "</table>\n",
              "</div>"
            ],
            "text/plain": [
              "     book_id  ...                                    small_image_url\n",
              "845      846  ...  https://images.gr-assets.com/books/1327959366s...\n",
              "\n",
              "[1 rows x 23 columns]"
            ]
          },
          "metadata": {
            "tags": []
          },
          "execution_count": 48
        }
      ]
    },
    {
      "cell_type": "code",
      "metadata": {
        "id": "eoWSi81cAiRt"
      },
      "source": [
        "nbm = nearest_books_nms(846,nms_idx)[0]"
      ],
      "execution_count": 49,
      "outputs": []
    },
    {
      "cell_type": "code",
      "metadata": {
        "colab": {
          "base_uri": "https://localhost:8080/",
          "height": 821
        },
        "id": "mEF0t0dECynK",
        "outputId": "c1b18da2-920e-4240-e1b8-94c67a18d649"
      },
      "source": [
        "books[books.book_id.isin(nbm)]"
      ],
      "execution_count": 50,
      "outputs": [
        {
          "output_type": "execute_result",
          "data": {
            "text/html": [
              "<div>\n",
              "<style scoped>\n",
              "    .dataframe tbody tr th:only-of-type {\n",
              "        vertical-align: middle;\n",
              "    }\n",
              "\n",
              "    .dataframe tbody tr th {\n",
              "        vertical-align: top;\n",
              "    }\n",
              "\n",
              "    .dataframe thead th {\n",
              "        text-align: right;\n",
              "    }\n",
              "</style>\n",
              "<table border=\"1\" class=\"dataframe\">\n",
              "  <thead>\n",
              "    <tr style=\"text-align: right;\">\n",
              "      <th></th>\n",
              "      <th>book_id</th>\n",
              "      <th>goodreads_book_id</th>\n",
              "      <th>best_book_id</th>\n",
              "      <th>work_id</th>\n",
              "      <th>books_count</th>\n",
              "      <th>isbn</th>\n",
              "      <th>isbn13</th>\n",
              "      <th>authors</th>\n",
              "      <th>original_publication_year</th>\n",
              "      <th>original_title</th>\n",
              "      <th>title</th>\n",
              "      <th>language_code</th>\n",
              "      <th>average_rating</th>\n",
              "      <th>ratings_count</th>\n",
              "      <th>work_ratings_count</th>\n",
              "      <th>work_text_reviews_count</th>\n",
              "      <th>ratings_1</th>\n",
              "      <th>ratings_2</th>\n",
              "      <th>ratings_3</th>\n",
              "      <th>ratings_4</th>\n",
              "      <th>ratings_5</th>\n",
              "      <th>image_url</th>\n",
              "      <th>small_image_url</th>\n",
              "    </tr>\n",
              "  </thead>\n",
              "  <tbody>\n",
              "    <tr>\n",
              "      <th>12</th>\n",
              "      <td>13</td>\n",
              "      <td>5470</td>\n",
              "      <td>5470</td>\n",
              "      <td>153313</td>\n",
              "      <td>995</td>\n",
              "      <td>451524934</td>\n",
              "      <td>9.780452e+12</td>\n",
              "      <td>George Orwell, Erich Fromm, Celâl Üster</td>\n",
              "      <td>1949.0</td>\n",
              "      <td>Nineteen Eighty-Four</td>\n",
              "      <td>1984</td>\n",
              "      <td>eng</td>\n",
              "      <td>4.14</td>\n",
              "      <td>1956832</td>\n",
              "      <td>2053394</td>\n",
              "      <td>45518</td>\n",
              "      <td>41845</td>\n",
              "      <td>86425</td>\n",
              "      <td>324874</td>\n",
              "      <td>692021</td>\n",
              "      <td>908229</td>\n",
              "      <td>https://images.gr-assets.com/books/1348990566m...</td>\n",
              "      <td>https://images.gr-assets.com/books/1348990566s...</td>\n",
              "    </tr>\n",
              "    <tr>\n",
              "      <th>13</th>\n",
              "      <td>14</td>\n",
              "      <td>7613</td>\n",
              "      <td>7613</td>\n",
              "      <td>2207778</td>\n",
              "      <td>896</td>\n",
              "      <td>452284244</td>\n",
              "      <td>9.780452e+12</td>\n",
              "      <td>George Orwell</td>\n",
              "      <td>1945.0</td>\n",
              "      <td>Animal Farm: A Fairy Story</td>\n",
              "      <td>Animal Farm</td>\n",
              "      <td>eng</td>\n",
              "      <td>3.87</td>\n",
              "      <td>1881700</td>\n",
              "      <td>1982987</td>\n",
              "      <td>35472</td>\n",
              "      <td>66854</td>\n",
              "      <td>135147</td>\n",
              "      <td>433432</td>\n",
              "      <td>698642</td>\n",
              "      <td>648912</td>\n",
              "      <td>https://images.gr-assets.com/books/1424037542m...</td>\n",
              "      <td>https://images.gr-assets.com/books/1424037542s...</td>\n",
              "    </tr>\n",
              "    <tr>\n",
              "      <th>47</th>\n",
              "      <td>48</td>\n",
              "      <td>4381</td>\n",
              "      <td>4381</td>\n",
              "      <td>1272463</td>\n",
              "      <td>507</td>\n",
              "      <td>307347974</td>\n",
              "      <td>9.780307e+12</td>\n",
              "      <td>Ray Bradbury</td>\n",
              "      <td>1953.0</td>\n",
              "      <td>Fahrenheit 451</td>\n",
              "      <td>Fahrenheit 451</td>\n",
              "      <td>spa</td>\n",
              "      <td>3.97</td>\n",
              "      <td>570498</td>\n",
              "      <td>1176240</td>\n",
              "      <td>30694</td>\n",
              "      <td>28366</td>\n",
              "      <td>64289</td>\n",
              "      <td>238242</td>\n",
              "      <td>426292</td>\n",
              "      <td>419051</td>\n",
              "      <td>https://images.gr-assets.com/books/1351643740m...</td>\n",
              "      <td>https://images.gr-assets.com/books/1351643740s...</td>\n",
              "    </tr>\n",
              "    <tr>\n",
              "      <th>54</th>\n",
              "      <td>55</td>\n",
              "      <td>5129</td>\n",
              "      <td>5129</td>\n",
              "      <td>3204877</td>\n",
              "      <td>515</td>\n",
              "      <td>60929871</td>\n",
              "      <td>9.780061e+12</td>\n",
              "      <td>Aldous Huxley</td>\n",
              "      <td>1932.0</td>\n",
              "      <td>Brave New World</td>\n",
              "      <td>Brave New World</td>\n",
              "      <td>eng</td>\n",
              "      <td>3.97</td>\n",
              "      <td>1022601</td>\n",
              "      <td>1079135</td>\n",
              "      <td>20095</td>\n",
              "      <td>26367</td>\n",
              "      <td>60328</td>\n",
              "      <td>219895</td>\n",
              "      <td>389379</td>\n",
              "      <td>383166</td>\n",
              "      <td>https://images.gr-assets.com/books/1487389574m...</td>\n",
              "      <td>https://images.gr-assets.com/books/1487389574s...</td>\n",
              "    </tr>\n",
              "    <tr>\n",
              "      <th>270</th>\n",
              "      <td>271</td>\n",
              "      <td>18373</td>\n",
              "      <td>18373</td>\n",
              "      <td>3337594</td>\n",
              "      <td>163</td>\n",
              "      <td>156030306</td>\n",
              "      <td>9.780156e+12</td>\n",
              "      <td>Daniel Keyes</td>\n",
              "      <td>1966.0</td>\n",
              "      <td>Flowers for Algernon</td>\n",
              "      <td>Flowers for Algernon</td>\n",
              "      <td>en-US</td>\n",
              "      <td>4.07</td>\n",
              "      <td>313044</td>\n",
              "      <td>336199</td>\n",
              "      <td>11328</td>\n",
              "      <td>4223</td>\n",
              "      <td>14882</td>\n",
              "      <td>65106</td>\n",
              "      <td>122462</td>\n",
              "      <td>129526</td>\n",
              "      <td>https://images.gr-assets.com/books/1367141311m...</td>\n",
              "      <td>https://images.gr-assets.com/books/1367141311s...</td>\n",
              "    </tr>\n",
              "    <tr>\n",
              "      <th>288</th>\n",
              "      <td>289</td>\n",
              "      <td>76620</td>\n",
              "      <td>76620</td>\n",
              "      <td>1357456</td>\n",
              "      <td>193</td>\n",
              "      <td>038039586X</td>\n",
              "      <td>9.780380e+12</td>\n",
              "      <td>Richard Adams</td>\n",
              "      <td>1972.0</td>\n",
              "      <td>Watership Down</td>\n",
              "      <td>Watership Down (Watership Down, #1)</td>\n",
              "      <td>eng</td>\n",
              "      <td>4.05</td>\n",
              "      <td>292426</td>\n",
              "      <td>308373</td>\n",
              "      <td>10399</td>\n",
              "      <td>9158</td>\n",
              "      <td>15767</td>\n",
              "      <td>52906</td>\n",
              "      <td>102093</td>\n",
              "      <td>128449</td>\n",
              "      <td>https://images.gr-assets.com/books/1405136931m...</td>\n",
              "      <td>https://images.gr-assets.com/books/1405136931s...</td>\n",
              "    </tr>\n",
              "    <tr>\n",
              "      <th>808</th>\n",
              "      <td>809</td>\n",
              "      <td>5479</td>\n",
              "      <td>5479</td>\n",
              "      <td>39947767</td>\n",
              "      <td>38</td>\n",
              "      <td>60776099</td>\n",
              "      <td>9.780061e+12</td>\n",
              "      <td>Aldous Huxley, Christopher Hitchens</td>\n",
              "      <td>1932.0</td>\n",
              "      <td>Brave New World/Brave New World Revisited</td>\n",
              "      <td>Brave New World / Brave New World Revisited</td>\n",
              "      <td>eng</td>\n",
              "      <td>4.16</td>\n",
              "      <td>108124</td>\n",
              "      <td>110115</td>\n",
              "      <td>1012</td>\n",
              "      <td>1215</td>\n",
              "      <td>3784</td>\n",
              "      <td>18335</td>\n",
              "      <td>39753</td>\n",
              "      <td>47028</td>\n",
              "      <td>https://images.gr-assets.com/books/1331315450m...</td>\n",
              "      <td>https://images.gr-assets.com/books/1331315450s...</td>\n",
              "    </tr>\n",
              "    <tr>\n",
              "      <th>845</th>\n",
              "      <td>846</td>\n",
              "      <td>5472</td>\n",
              "      <td>5472</td>\n",
              "      <td>2966408</td>\n",
              "      <td>51</td>\n",
              "      <td>151010269</td>\n",
              "      <td>9.780151e+12</td>\n",
              "      <td>George Orwell, Christopher Hitchens</td>\n",
              "      <td>1950.0</td>\n",
              "      <td>Animal Farm &amp; 1984</td>\n",
              "      <td>Animal Farm / 1984</td>\n",
              "      <td>eng</td>\n",
              "      <td>4.26</td>\n",
              "      <td>116197</td>\n",
              "      <td>118761</td>\n",
              "      <td>1293</td>\n",
              "      <td>1212</td>\n",
              "      <td>3276</td>\n",
              "      <td>16511</td>\n",
              "      <td>40583</td>\n",
              "      <td>57179</td>\n",
              "      <td>https://images.gr-assets.com/books/1327959366m...</td>\n",
              "      <td>https://images.gr-assets.com/books/1327959366s...</td>\n",
              "    </tr>\n",
              "    <tr>\n",
              "      <th>902</th>\n",
              "      <td>903</td>\n",
              "      <td>667</td>\n",
              "      <td>667</td>\n",
              "      <td>287946</td>\n",
              "      <td>460</td>\n",
              "      <td>452281253</td>\n",
              "      <td>9.780452e+12</td>\n",
              "      <td>Ayn Rand</td>\n",
              "      <td>1938.0</td>\n",
              "      <td>Anthem</td>\n",
              "      <td>Anthem</td>\n",
              "      <td>eng</td>\n",
              "      <td>3.62</td>\n",
              "      <td>95620</td>\n",
              "      <td>106766</td>\n",
              "      <td>7096</td>\n",
              "      <td>6095</td>\n",
              "      <td>10982</td>\n",
              "      <td>27984</td>\n",
              "      <td>34074</td>\n",
              "      <td>27631</td>\n",
              "      <td>https://s.gr-assets.com/assets/nophoto/book/11...</td>\n",
              "      <td>https://s.gr-assets.com/assets/nophoto/book/50...</td>\n",
              "    </tr>\n",
              "    <tr>\n",
              "      <th>8139</th>\n",
              "      <td>8140</td>\n",
              "      <td>5481</td>\n",
              "      <td>5481</td>\n",
              "      <td>16335101</td>\n",
              "      <td>80</td>\n",
              "      <td>60898526</td>\n",
              "      <td>9.780061e+12</td>\n",
              "      <td>Aldous Huxley</td>\n",
              "      <td>1958.0</td>\n",
              "      <td>Brave New World Revisited</td>\n",
              "      <td>Brave New World Revisited</td>\n",
              "      <td>en-US</td>\n",
              "      <td>3.93</td>\n",
              "      <td>11073</td>\n",
              "      <td>12286</td>\n",
              "      <td>714</td>\n",
              "      <td>231</td>\n",
              "      <td>691</td>\n",
              "      <td>2765</td>\n",
              "      <td>4567</td>\n",
              "      <td>4032</td>\n",
              "      <td>https://images.gr-assets.com/books/1410136964m...</td>\n",
              "      <td>https://images.gr-assets.com/books/1410136964s...</td>\n",
              "    </tr>\n",
              "  </tbody>\n",
              "</table>\n",
              "</div>"
            ],
            "text/plain": [
              "      book_id  ...                                    small_image_url\n",
              "12         13  ...  https://images.gr-assets.com/books/1348990566s...\n",
              "13         14  ...  https://images.gr-assets.com/books/1424037542s...\n",
              "47         48  ...  https://images.gr-assets.com/books/1351643740s...\n",
              "54         55  ...  https://images.gr-assets.com/books/1487389574s...\n",
              "270       271  ...  https://images.gr-assets.com/books/1367141311s...\n",
              "288       289  ...  https://images.gr-assets.com/books/1405136931s...\n",
              "808       809  ...  https://images.gr-assets.com/books/1331315450s...\n",
              "845       846  ...  https://images.gr-assets.com/books/1327959366s...\n",
              "902       903  ...  https://s.gr-assets.com/assets/nophoto/book/50...\n",
              "8139     8140  ...  https://images.gr-assets.com/books/1410136964s...\n",
              "\n",
              "[10 rows x 23 columns]"
            ]
          },
          "metadata": {
            "tags": []
          },
          "execution_count": 50
        }
      ]
    },
    {
      "cell_type": "markdown",
      "metadata": {
        "id": "ADfCsEkkDAeu"
      },
      "source": [
        "Найдите рекомендации для книги Thomas Harris, The Silence of the Lambs. Какие книги присутствуют в списке рекомендаций?"
      ]
    },
    {
      "cell_type": "code",
      "metadata": {
        "colab": {
          "base_uri": "https://localhost:8080/",
          "height": 202
        },
        "id": "uqwjsjNiC09h",
        "outputId": "f36b548f-da0b-439d-cf2b-079a6cc35aff"
      },
      "source": [
        "books[books.original_title.str.find('The Silence of the Lambs')>=0].head(2)"
      ],
      "execution_count": 52,
      "outputs": [
        {
          "output_type": "execute_result",
          "data": {
            "text/html": [
              "<div>\n",
              "<style scoped>\n",
              "    .dataframe tbody tr th:only-of-type {\n",
              "        vertical-align: middle;\n",
              "    }\n",
              "\n",
              "    .dataframe tbody tr th {\n",
              "        vertical-align: top;\n",
              "    }\n",
              "\n",
              "    .dataframe thead th {\n",
              "        text-align: right;\n",
              "    }\n",
              "</style>\n",
              "<table border=\"1\" class=\"dataframe\">\n",
              "  <thead>\n",
              "    <tr style=\"text-align: right;\">\n",
              "      <th></th>\n",
              "      <th>book_id</th>\n",
              "      <th>goodreads_book_id</th>\n",
              "      <th>best_book_id</th>\n",
              "      <th>work_id</th>\n",
              "      <th>books_count</th>\n",
              "      <th>isbn</th>\n",
              "      <th>isbn13</th>\n",
              "      <th>authors</th>\n",
              "      <th>original_publication_year</th>\n",
              "      <th>original_title</th>\n",
              "      <th>title</th>\n",
              "      <th>language_code</th>\n",
              "      <th>average_rating</th>\n",
              "      <th>ratings_count</th>\n",
              "      <th>work_ratings_count</th>\n",
              "      <th>work_text_reviews_count</th>\n",
              "      <th>ratings_1</th>\n",
              "      <th>ratings_2</th>\n",
              "      <th>ratings_3</th>\n",
              "      <th>ratings_4</th>\n",
              "      <th>ratings_5</th>\n",
              "      <th>image_url</th>\n",
              "      <th>small_image_url</th>\n",
              "    </tr>\n",
              "  </thead>\n",
              "  <tbody>\n",
              "    <tr>\n",
              "      <th>208</th>\n",
              "      <td>209</td>\n",
              "      <td>23807</td>\n",
              "      <td>23807</td>\n",
              "      <td>22533</td>\n",
              "      <td>187</td>\n",
              "      <td>99446782</td>\n",
              "      <td>9.780099e+12</td>\n",
              "      <td>Thomas Harris</td>\n",
              "      <td>1988.0</td>\n",
              "      <td>The Silence of the Lambs</td>\n",
              "      <td>The Silence of the Lambs  (Hannibal Lecter, #2)</td>\n",
              "      <td>eng</td>\n",
              "      <td>4.14</td>\n",
              "      <td>351107</td>\n",
              "      <td>366112</td>\n",
              "      <td>3866</td>\n",
              "      <td>10268</td>\n",
              "      <td>12845</td>\n",
              "      <td>55427</td>\n",
              "      <td>123652</td>\n",
              "      <td>163920</td>\n",
              "      <td>https://images.gr-assets.com/books/1390426249m...</td>\n",
              "      <td>https://images.gr-assets.com/books/1390426249s...</td>\n",
              "    </tr>\n",
              "  </tbody>\n",
              "</table>\n",
              "</div>"
            ],
            "text/plain": [
              "     book_id  ...                                    small_image_url\n",
              "208      209  ...  https://images.gr-assets.com/books/1390426249s...\n",
              "\n",
              "[1 rows x 23 columns]"
            ]
          },
          "metadata": {
            "tags": []
          },
          "execution_count": 52
        }
      ]
    },
    {
      "cell_type": "code",
      "metadata": {
        "id": "m_jUvYAIDDKq"
      },
      "source": [
        "nbm = nearest_books_nms(209,nms_idx)[0]"
      ],
      "execution_count": 54,
      "outputs": []
    },
    {
      "cell_type": "code",
      "metadata": {
        "colab": {
          "base_uri": "https://localhost:8080/",
          "height": 940
        },
        "id": "-eS0_fRiDJH6",
        "outputId": "235f6567-fbd1-4e2d-8fec-3ca5690b02fe"
      },
      "source": [
        "books[books.book_id.isin(nbm)]"
      ],
      "execution_count": 55,
      "outputs": [
        {
          "output_type": "execute_result",
          "data": {
            "text/html": [
              "<div>\n",
              "<style scoped>\n",
              "    .dataframe tbody tr th:only-of-type {\n",
              "        vertical-align: middle;\n",
              "    }\n",
              "\n",
              "    .dataframe tbody tr th {\n",
              "        vertical-align: top;\n",
              "    }\n",
              "\n",
              "    .dataframe thead th {\n",
              "        text-align: right;\n",
              "    }\n",
              "</style>\n",
              "<table border=\"1\" class=\"dataframe\">\n",
              "  <thead>\n",
              "    <tr style=\"text-align: right;\">\n",
              "      <th></th>\n",
              "      <th>book_id</th>\n",
              "      <th>goodreads_book_id</th>\n",
              "      <th>best_book_id</th>\n",
              "      <th>work_id</th>\n",
              "      <th>books_count</th>\n",
              "      <th>isbn</th>\n",
              "      <th>isbn13</th>\n",
              "      <th>authors</th>\n",
              "      <th>original_publication_year</th>\n",
              "      <th>original_title</th>\n",
              "      <th>title</th>\n",
              "      <th>language_code</th>\n",
              "      <th>average_rating</th>\n",
              "      <th>ratings_count</th>\n",
              "      <th>work_ratings_count</th>\n",
              "      <th>work_text_reviews_count</th>\n",
              "      <th>ratings_1</th>\n",
              "      <th>ratings_2</th>\n",
              "      <th>ratings_3</th>\n",
              "      <th>ratings_4</th>\n",
              "      <th>ratings_5</th>\n",
              "      <th>image_url</th>\n",
              "      <th>small_image_url</th>\n",
              "    </tr>\n",
              "  </thead>\n",
              "  <tbody>\n",
              "    <tr>\n",
              "      <th>208</th>\n",
              "      <td>209</td>\n",
              "      <td>23807</td>\n",
              "      <td>23807</td>\n",
              "      <td>22533</td>\n",
              "      <td>187</td>\n",
              "      <td>99446782</td>\n",
              "      <td>9.780099e+12</td>\n",
              "      <td>Thomas Harris</td>\n",
              "      <td>1988.0</td>\n",
              "      <td>The Silence of the Lambs</td>\n",
              "      <td>The Silence of the Lambs  (Hannibal Lecter, #2)</td>\n",
              "      <td>eng</td>\n",
              "      <td>4.14</td>\n",
              "      <td>351107</td>\n",
              "      <td>366112</td>\n",
              "      <td>3866</td>\n",
              "      <td>10268</td>\n",
              "      <td>12845</td>\n",
              "      <td>55427</td>\n",
              "      <td>123652</td>\n",
              "      <td>163920</td>\n",
              "      <td>https://images.gr-assets.com/books/1390426249m...</td>\n",
              "      <td>https://images.gr-assets.com/books/1390426249s...</td>\n",
              "    </tr>\n",
              "    <tr>\n",
              "      <th>273</th>\n",
              "      <td>274</td>\n",
              "      <td>22034</td>\n",
              "      <td>22034</td>\n",
              "      <td>266624</td>\n",
              "      <td>259</td>\n",
              "      <td>451205766</td>\n",
              "      <td>9.780451e+12</td>\n",
              "      <td>Mario Puzo, Robert Thompson, Peter Bart</td>\n",
              "      <td>1969.0</td>\n",
              "      <td>The Godfather</td>\n",
              "      <td>The Godfather</td>\n",
              "      <td>eng</td>\n",
              "      <td>4.36</td>\n",
              "      <td>256480</td>\n",
              "      <td>270386</td>\n",
              "      <td>5832</td>\n",
              "      <td>2930</td>\n",
              "      <td>5985</td>\n",
              "      <td>30009</td>\n",
              "      <td>83730</td>\n",
              "      <td>147732</td>\n",
              "      <td>https://images.gr-assets.com/books/1394988109m...</td>\n",
              "      <td>https://images.gr-assets.com/books/1394988109s...</td>\n",
              "    </tr>\n",
              "    <tr>\n",
              "      <th>430</th>\n",
              "      <td>431</td>\n",
              "      <td>28877</td>\n",
              "      <td>28877</td>\n",
              "      <td>925503</td>\n",
              "      <td>191</td>\n",
              "      <td>525945563</td>\n",
              "      <td>9.780526e+12</td>\n",
              "      <td>Thomas Harris</td>\n",
              "      <td>1981.0</td>\n",
              "      <td>Red Dragon</td>\n",
              "      <td>Red Dragon (Hannibal Lecter, #1)</td>\n",
              "      <td>eng</td>\n",
              "      <td>4.01</td>\n",
              "      <td>194013</td>\n",
              "      <td>205433</td>\n",
              "      <td>3309</td>\n",
              "      <td>3012</td>\n",
              "      <td>7790</td>\n",
              "      <td>43235</td>\n",
              "      <td>80662</td>\n",
              "      <td>70734</td>\n",
              "      <td>https://s.gr-assets.com/assets/nophoto/book/11...</td>\n",
              "      <td>https://s.gr-assets.com/assets/nophoto/book/50...</td>\n",
              "    </tr>\n",
              "    <tr>\n",
              "      <th>767</th>\n",
              "      <td>768</td>\n",
              "      <td>21686</td>\n",
              "      <td>21686</td>\n",
              "      <td>1234227</td>\n",
              "      <td>134</td>\n",
              "      <td>038073186X</td>\n",
              "      <td>9.780381e+12</td>\n",
              "      <td>Dennis Lehane</td>\n",
              "      <td>2003.0</td>\n",
              "      <td>Shutter Island</td>\n",
              "      <td>Shutter Island</td>\n",
              "      <td>eng</td>\n",
              "      <td>4.07</td>\n",
              "      <td>113718</td>\n",
              "      <td>124032</td>\n",
              "      <td>6990</td>\n",
              "      <td>1636</td>\n",
              "      <td>4727</td>\n",
              "      <td>22089</td>\n",
              "      <td>49875</td>\n",
              "      <td>45705</td>\n",
              "      <td>https://images.gr-assets.com/books/1329269081m...</td>\n",
              "      <td>https://images.gr-assets.com/books/1329269081s...</td>\n",
              "    </tr>\n",
              "    <tr>\n",
              "      <th>981</th>\n",
              "      <td>982</td>\n",
              "      <td>40024</td>\n",
              "      <td>40024</td>\n",
              "      <td>2266643</td>\n",
              "      <td>70</td>\n",
              "      <td>812976142</td>\n",
              "      <td>9.780813e+12</td>\n",
              "      <td>Caleb Carr</td>\n",
              "      <td>1994.0</td>\n",
              "      <td>The Alienist</td>\n",
              "      <td>The Alienist (Dr. Laszlo Kreizler, #1)</td>\n",
              "      <td>eng</td>\n",
              "      <td>4.05</td>\n",
              "      <td>96981</td>\n",
              "      <td>100908</td>\n",
              "      <td>4026</td>\n",
              "      <td>1798</td>\n",
              "      <td>4571</td>\n",
              "      <td>18715</td>\n",
              "      <td>37572</td>\n",
              "      <td>38252</td>\n",
              "      <td>https://s.gr-assets.com/assets/nophoto/book/11...</td>\n",
              "      <td>https://s.gr-assets.com/assets/nophoto/book/50...</td>\n",
              "    </tr>\n",
              "    <tr>\n",
              "      <th>1484</th>\n",
              "      <td>1485</td>\n",
              "      <td>21704</td>\n",
              "      <td>21704</td>\n",
              "      <td>434</td>\n",
              "      <td>93</td>\n",
              "      <td>446698873</td>\n",
              "      <td>9.780447e+12</td>\n",
              "      <td>James Ellroy</td>\n",
              "      <td>1987.0</td>\n",
              "      <td>The Black Dahlia</td>\n",
              "      <td>The Black Dahlia (L.A. Quartet, #1)</td>\n",
              "      <td>en-US</td>\n",
              "      <td>3.75</td>\n",
              "      <td>61412</td>\n",
              "      <td>65404</td>\n",
              "      <td>1944</td>\n",
              "      <td>1999</td>\n",
              "      <td>4999</td>\n",
              "      <td>17641</td>\n",
              "      <td>23340</td>\n",
              "      <td>17425</td>\n",
              "      <td>https://images.gr-assets.com/books/1387048173m...</td>\n",
              "      <td>https://images.gr-assets.com/books/1387048173s...</td>\n",
              "    </tr>\n",
              "    <tr>\n",
              "      <th>1801</th>\n",
              "      <td>1802</td>\n",
              "      <td>32418</td>\n",
              "      <td>32418</td>\n",
              "      <td>2992500</td>\n",
              "      <td>132</td>\n",
              "      <td>99297701</td>\n",
              "      <td>9.780099e+12</td>\n",
              "      <td>Thomas Harris</td>\n",
              "      <td>1999.0</td>\n",
              "      <td>Hannibal</td>\n",
              "      <td>Hannibal (Hannibal Lecter, #3)</td>\n",
              "      <td>eng</td>\n",
              "      <td>3.72</td>\n",
              "      <td>57569</td>\n",
              "      <td>63555</td>\n",
              "      <td>2098</td>\n",
              "      <td>2166</td>\n",
              "      <td>5811</td>\n",
              "      <td>17220</td>\n",
              "      <td>20844</td>\n",
              "      <td>17514</td>\n",
              "      <td>https://images.gr-assets.com/books/1327356556m...</td>\n",
              "      <td>https://images.gr-assets.com/books/1327356556s...</td>\n",
              "    </tr>\n",
              "    <tr>\n",
              "      <th>4421</th>\n",
              "      <td>4422</td>\n",
              "      <td>32416</td>\n",
              "      <td>32416</td>\n",
              "      <td>46673</td>\n",
              "      <td>94</td>\n",
              "      <td>385339410</td>\n",
              "      <td>9.780385e+12</td>\n",
              "      <td>Thomas Harris</td>\n",
              "      <td>2006.0</td>\n",
              "      <td>Hannibal Rising</td>\n",
              "      <td>Hannibal Rising (Hannibal Lecter, #4)</td>\n",
              "      <td>en-US</td>\n",
              "      <td>3.44</td>\n",
              "      <td>22767</td>\n",
              "      <td>25973</td>\n",
              "      <td>1317</td>\n",
              "      <td>1468</td>\n",
              "      <td>3733</td>\n",
              "      <td>8087</td>\n",
              "      <td>7174</td>\n",
              "      <td>5511</td>\n",
              "      <td>https://images.gr-assets.com/books/1394208690m...</td>\n",
              "      <td>https://images.gr-assets.com/books/1394208690s...</td>\n",
              "    </tr>\n",
              "    <tr>\n",
              "      <th>5312</th>\n",
              "      <td>5313</td>\n",
              "      <td>21727</td>\n",
              "      <td>21727</td>\n",
              "      <td>593515</td>\n",
              "      <td>46</td>\n",
              "      <td>307279952</td>\n",
              "      <td>9.780307e+12</td>\n",
              "      <td>Scott B. Smith</td>\n",
              "      <td>1993.0</td>\n",
              "      <td>A Simple Plan</td>\n",
              "      <td>A Simple Plan</td>\n",
              "      <td>NaN</td>\n",
              "      <td>3.91</td>\n",
              "      <td>18628</td>\n",
              "      <td>19650</td>\n",
              "      <td>986</td>\n",
              "      <td>478</td>\n",
              "      <td>1086</td>\n",
              "      <td>4239</td>\n",
              "      <td>7690</td>\n",
              "      <td>6157</td>\n",
              "      <td>https://s.gr-assets.com/assets/nophoto/book/11...</td>\n",
              "      <td>https://s.gr-assets.com/assets/nophoto/book/50...</td>\n",
              "    </tr>\n",
              "    <tr>\n",
              "      <th>9792</th>\n",
              "      <td>9793</td>\n",
              "      <td>15677</td>\n",
              "      <td>15677</td>\n",
              "      <td>1187279</td>\n",
              "      <td>77</td>\n",
              "      <td>393321983</td>\n",
              "      <td>9.780393e+12</td>\n",
              "      <td>Patricia Highsmith</td>\n",
              "      <td>1950.0</td>\n",
              "      <td>Strangers on a Train</td>\n",
              "      <td>Strangers on a Train</td>\n",
              "      <td>eng</td>\n",
              "      <td>3.82</td>\n",
              "      <td>9788</td>\n",
              "      <td>11500</td>\n",
              "      <td>1055</td>\n",
              "      <td>195</td>\n",
              "      <td>720</td>\n",
              "      <td>2843</td>\n",
              "      <td>4922</td>\n",
              "      <td>2820</td>\n",
              "      <td>https://images.gr-assets.com/books/1331234879m...</td>\n",
              "      <td>https://images.gr-assets.com/books/1331234879s...</td>\n",
              "    </tr>\n",
              "  </tbody>\n",
              "</table>\n",
              "</div>"
            ],
            "text/plain": [
              "      book_id  ...                                    small_image_url\n",
              "208       209  ...  https://images.gr-assets.com/books/1390426249s...\n",
              "273       274  ...  https://images.gr-assets.com/books/1394988109s...\n",
              "430       431  ...  https://s.gr-assets.com/assets/nophoto/book/50...\n",
              "767       768  ...  https://images.gr-assets.com/books/1329269081s...\n",
              "981       982  ...  https://s.gr-assets.com/assets/nophoto/book/50...\n",
              "1484     1485  ...  https://images.gr-assets.com/books/1387048173s...\n",
              "1801     1802  ...  https://images.gr-assets.com/books/1327356556s...\n",
              "4421     4422  ...  https://images.gr-assets.com/books/1394208690s...\n",
              "5312     5313  ...  https://s.gr-assets.com/assets/nophoto/book/50...\n",
              "9792     9793  ...  https://images.gr-assets.com/books/1331234879s...\n",
              "\n",
              "[10 rows x 23 columns]"
            ]
          },
          "metadata": {
            "tags": []
          },
          "execution_count": 55
        }
      ]
    },
    {
      "cell_type": "markdown",
      "metadata": {
        "id": "EX97fxGQDrxG"
      },
      "source": [
        "## Save embedings"
      ]
    },
    {
      "cell_type": "code",
      "metadata": {
        "colab": {
          "base_uri": "https://localhost:8080/"
        },
        "id": "BzxolDxxDNWh",
        "outputId": "4bf0f34a-37b0-4242-da64-286e777ee6d0"
      },
      "source": [
        "item_embeddings.shape"
      ],
      "execution_count": 58,
      "outputs": [
        {
          "output_type": "execute_result",
          "data": {
            "text/plain": [
              "(10001, 30)"
            ]
          },
          "metadata": {
            "tags": []
          },
          "execution_count": 58
        }
      ]
    },
    {
      "cell_type": "code",
      "metadata": {
        "id": "qct3WZ_2DrFE"
      },
      "source": [
        "with open(\"embeddings.pkl\", \"wb\") as f_embeddings:\n",
        "  pickle.dump(item_embeddings, f_embeddings, protocol=pickle.HIGHEST_PROTOCOL)"
      ],
      "execution_count": 61,
      "outputs": []
    },
    {
      "cell_type": "code",
      "metadata": {
        "id": "RbzEtOGKD6TR"
      },
      "source": [
        ""
      ],
      "execution_count": null,
      "outputs": []
    }
  ]
}